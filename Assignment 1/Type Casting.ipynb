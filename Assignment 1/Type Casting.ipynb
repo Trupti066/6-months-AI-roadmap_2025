{
 "cells": [
  {
   "cell_type": "markdown",
   "id": "397509dc-52e9-486b-97a9-83c8af1c4d6c",
   "metadata": {},
   "source": [
    "# Python Type Casting - converting one data type to another data type"
   ]
  },
  {
   "cell_type": "markdown",
   "id": "b440d3d9-2fd0-4b86-8df3-26753616a34a",
   "metadata": {},
   "source": [
    " # converting all other datatypes to \"Integer\""
   ]
  },
  {
   "cell_type": "code",
   "execution_count": 3,
   "id": "25b2e3d5-05a1-4ab5-8367-0f06463c6921",
   "metadata": {},
   "outputs": [
    {
     "data": {
      "text/plain": [
       "3"
      ]
     },
     "execution_count": 3,
     "metadata": {},
     "output_type": "execute_result"
    }
   ],
   "source": [
    "int(3.4)          # float datatype to integer "
   ]
  },
  {
   "cell_type": "code",
   "execution_count": 4,
   "id": "f77f6fa1-398f-4de9-af0e-db2eb1f01448",
   "metadata": {},
   "outputs": [
    {
     "ename": "TypeError",
     "evalue": "'float' object cannot be interpreted as an integer",
     "output_type": "error",
     "traceback": [
      "\u001b[1;31m---------------------------------------------------------------------------\u001b[0m",
      "\u001b[1;31mTypeError\u001b[0m                                 Traceback (most recent call last)",
      "Cell \u001b[1;32mIn[4], line 1\u001b[0m\n\u001b[1;32m----> 1\u001b[0m \u001b[38;5;28mint\u001b[39m(\u001b[38;5;241m3.4\u001b[39m,\u001b[38;5;241m7.8\u001b[39m)\n",
      "\u001b[1;31mTypeError\u001b[0m: 'float' object cannot be interpreted as an integer"
     ]
    }
   ],
   "source": [
    "int(3.4,7.8) #while castinf float data type to integer only one argument  can be passed"
   ]
  },
  {
   "cell_type": "code",
   "execution_count": 5,
   "id": "13540d34-1732-4e0e-b10f-220434dc57b8",
   "metadata": {},
   "outputs": [
    {
     "data": {
      "text/plain": [
       "1"
      ]
     },
     "execution_count": 5,
     "metadata": {},
     "output_type": "execute_result"
    }
   ],
   "source": [
    "int(True)          # Boolean to integer datatype "
   ]
  },
  {
   "cell_type": "code",
   "execution_count": 7,
   "id": "b5599be8-acd8-48fe-8104-26cc96d1d7af",
   "metadata": {},
   "outputs": [
    {
     "data": {
      "text/plain": [
       "3"
      ]
     },
     "execution_count": 7,
     "metadata": {},
     "output_type": "execute_result"
    }
   ],
   "source": [
    "True + True + True + False * True "
   ]
  },
  {
   "cell_type": "code",
   "execution_count": 8,
   "id": "6593acc9-ee8f-4b05-a348-f0ac9d3ec7c2",
   "metadata": {},
   "outputs": [
    {
     "ename": "TypeError",
     "evalue": "int() argument must be a string, a bytes-like object or a real number, not 'complex'",
     "output_type": "error",
     "traceback": [
      "\u001b[1;31m---------------------------------------------------------------------------\u001b[0m",
      "\u001b[1;31mTypeError\u001b[0m                                 Traceback (most recent call last)",
      "Cell \u001b[1;32mIn[8], line 1\u001b[0m\n\u001b[1;32m----> 1\u001b[0m \u001b[38;5;28mint\u001b[39m(\u001b[38;5;241m3\u001b[39m\u001b[38;5;241m+\u001b[39m\u001b[38;5;241m2\u001b[39mj)\n",
      "\u001b[1;31mTypeError\u001b[0m: int() argument must be a string, a bytes-like object or a real number, not 'complex'"
     ]
    }
   ],
   "source": [
    "int(3+2j)          # complex datatype to integer is not possible "
   ]
  },
  {
   "cell_type": "code",
   "execution_count": 10,
   "id": "60301d5b-84a8-42d4-8e40-cea062529c04",
   "metadata": {},
   "outputs": [
    {
     "ename": "ValueError",
     "evalue": "invalid literal for int() with base 10: 'Three'",
     "output_type": "error",
     "traceback": [
      "\u001b[1;31m---------------------------------------------------------------------------\u001b[0m",
      "\u001b[1;31mValueError\u001b[0m                                Traceback (most recent call last)",
      "Cell \u001b[1;32mIn[10], line 1\u001b[0m\n\u001b[1;32m----> 1\u001b[0m \u001b[38;5;28mint\u001b[39m(\u001b[38;5;124m'\u001b[39m\u001b[38;5;124mThree\u001b[39m\u001b[38;5;124m'\u001b[39m)\n",
      "\u001b[1;31mValueError\u001b[0m: invalid literal for int() with base 10: 'Three'"
     ]
    }
   ],
   "source": [
    "int('Three')            # string to integer cannot possible is it is return in text"
   ]
  },
  {
   "cell_type": "code",
   "execution_count": 11,
   "id": "5f9ef39a-026e-4d89-9c50-c55f6b948e84",
   "metadata": {},
   "outputs": [
    {
     "data": {
      "text/plain": [
       "10"
      ]
     },
     "execution_count": 11,
     "metadata": {},
     "output_type": "execute_result"
    }
   ],
   "source": [
    "int('10')                # string to integer can possible "
   ]
  },
  {
   "cell_type": "markdown",
   "id": "15af31c4-df17-4d1e-a1a4-b97ce48a50a0",
   "metadata": {},
   "source": [
    "# converting other data types to \"Float\""
   ]
  },
  {
   "cell_type": "code",
   "execution_count": 12,
   "id": "c6456af2-09fb-49c4-81c5-6e8177b9cc61",
   "metadata": {},
   "outputs": [
    {
     "data": {
      "text/plain": [
       "44.0"
      ]
     },
     "execution_count": 12,
     "metadata": {},
     "output_type": "execute_result"
    }
   ],
   "source": [
    "float(44)              # integer into float datatype"
   ]
  },
  {
   "cell_type": "code",
   "execution_count": 13,
   "id": "26a47fe1-c879-4033-a87a-363f0f106579",
   "metadata": {},
   "outputs": [
    {
     "data": {
      "text/plain": [
       "1.0"
      ]
     },
     "execution_count": 13,
     "metadata": {},
     "output_type": "execute_result"
    }
   ],
   "source": [
    "float(True)           # boolean into float datatype  "
   ]
  },
  {
   "cell_type": "code",
   "execution_count": 14,
   "id": "2e1f59eb-c7d3-491e-aad2-8f2b3ccf5a45",
   "metadata": {},
   "outputs": [
    {
     "data": {
      "text/plain": [
       "0.0"
      ]
     },
     "execution_count": 14,
     "metadata": {},
     "output_type": "execute_result"
    }
   ],
   "source": [
    "float(False)  "
   ]
  },
  {
   "cell_type": "code",
   "execution_count": 15,
   "id": "64238e98-da69-4571-8d33-c6f00c0f57e5",
   "metadata": {},
   "outputs": [
    {
     "ename": "NameError",
     "evalue": "name 'flaot' is not defined",
     "output_type": "error",
     "traceback": [
      "\u001b[1;31m---------------------------------------------------------------------------\u001b[0m",
      "\u001b[1;31mNameError\u001b[0m                                 Traceback (most recent call last)",
      "Cell \u001b[1;32mIn[15], line 1\u001b[0m\n\u001b[1;32m----> 1\u001b[0m flaot(\u001b[38;5;241m1\u001b[39m\u001b[38;5;241m+\u001b[39m\u001b[38;5;241m2\u001b[39m)\n",
      "\u001b[1;31mNameError\u001b[0m: name 'flaot' is not defined"
     ]
    }
   ],
   "source": [
    "flaot(1+2)       # float to string data type "
   ]
  },
  {
   "cell_type": "code",
   "execution_count": null,
   "id": "efaca056-626b-42ce-badb-e41559ef3945",
   "metadata": {},
   "outputs": [],
   "source": [
    "float('10')     # string to float data type "
   ]
  },
  {
   "cell_type": "code",
   "execution_count": 16,
   "id": "429af123-d7a5-4568-aab7-d3043830f8df",
   "metadata": {},
   "outputs": [
    {
     "ename": "ValueError",
     "evalue": "could not convert string to float: 'Ten'",
     "output_type": "error",
     "traceback": [
      "\u001b[1;31m---------------------------------------------------------------------------\u001b[0m",
      "\u001b[1;31mValueError\u001b[0m                                Traceback (most recent call last)",
      "Cell \u001b[1;32mIn[16], line 1\u001b[0m\n\u001b[1;32m----> 1\u001b[0m \u001b[38;5;28mfloat\u001b[39m(\u001b[38;5;124m'\u001b[39m\u001b[38;5;124mTen\u001b[39m\u001b[38;5;124m'\u001b[39m)\n",
      "\u001b[1;31mValueError\u001b[0m: could not convert string to float: 'Ten'"
     ]
    }
   ],
   "source": [
    "float('Ten')"
   ]
  },
  {
   "cell_type": "markdown",
   "id": "5b33e796-b1a5-4eb8-a21d-27bb1b253d31",
   "metadata": {},
   "source": [
    "# converting other datatypes to complex "
   ]
  },
  {
   "cell_type": "code",
   "execution_count": 17,
   "id": "9a251308-21d4-46b4-8b07-2398a4e1bf8c",
   "metadata": {},
   "outputs": [
    {
     "data": {
      "text/plain": [
       "(10+0j)"
      ]
     },
     "execution_count": 17,
     "metadata": {},
     "output_type": "execute_result"
    }
   ],
   "source": [
    "complex('10')      # converting into complex "
   ]
  },
  {
   "cell_type": "code",
   "execution_count": 19,
   "id": "a5a59ee2-839a-411a-9d63-f4224921bbf1",
   "metadata": {},
   "outputs": [
    {
     "data": {
      "text/plain": [
       "(10+20j)"
      ]
     },
     "execution_count": 19,
     "metadata": {},
     "output_type": "execute_result"
    }
   ],
   "source": [
    "complex(10,20)"
   ]
  },
  {
   "cell_type": "code",
   "execution_count": 21,
   "id": "e59a5f66-d0e9-4b82-be3b-4560773d5470",
   "metadata": {},
   "outputs": [
    {
     "ename": "TypeError",
     "evalue": "complex() takes at most 2 arguments (3 given)",
     "output_type": "error",
     "traceback": [
      "\u001b[1;31m---------------------------------------------------------------------------\u001b[0m",
      "\u001b[1;31mTypeError\u001b[0m                                 Traceback (most recent call last)",
      "Cell \u001b[1;32mIn[21], line 1\u001b[0m\n\u001b[1;32m----> 1\u001b[0m \u001b[38;5;28mcomplex\u001b[39m(\u001b[38;5;241m10\u001b[39m,\u001b[38;5;241m20\u001b[39m,\u001b[38;5;241m30\u001b[39m)\n",
      "\u001b[1;31mTypeError\u001b[0m: complex() takes at most 2 arguments (3 given)"
     ]
    }
   ],
   "source": [
    "complex(10,20,30)       # complex agrument is a+bj"
   ]
  },
  {
   "cell_type": "code",
   "execution_count": 23,
   "id": "6838ad5e-fdc7-42b8-8154-79273ff4491c",
   "metadata": {},
   "outputs": [
    {
     "name": "stdout",
     "output_type": "stream",
     "text": [
      "(3.4+0j)\n",
      "(3.4+34j)\n",
      "(20+0j)\n",
      "(1+0j)\n"
     ]
    }
   ],
   "source": [
    "print(complex(3.4))\n",
    "print(complex(3.4, 34))\n",
    "print(complex('20'))\n",
    "print(complex(True,False))"
   ]
  },
  {
   "cell_type": "markdown",
   "id": "c2969b03-e88a-475d-af1f-43275fc673f3",
   "metadata": {},
   "source": [
    "# converting other data type to Boolean "
   ]
  },
  {
   "cell_type": "code",
   "execution_count": 24,
   "id": "dc74f111-19b4-42f5-94b3-56d4435d4e37",
   "metadata": {},
   "outputs": [
    {
     "data": {
      "text/plain": [
       "False"
      ]
     },
     "execution_count": 24,
     "metadata": {},
     "output_type": "execute_result"
    }
   ],
   "source": [
    "bool(0)"
   ]
  },
  {
   "cell_type": "code",
   "execution_count": 25,
   "id": "7c5162db-fdba-4a44-bdca-01e8f0d5751a",
   "metadata": {},
   "outputs": [
    {
     "data": {
      "text/plain": [
       "True"
      ]
     },
     "execution_count": 25,
     "metadata": {},
     "output_type": "execute_result"
    }
   ],
   "source": [
    "bool(1)"
   ]
  },
  {
   "cell_type": "code",
   "execution_count": 26,
   "id": "fe073c63-ad06-4690-bba0-0370d2596a4f",
   "metadata": {},
   "outputs": [
    {
     "data": {
      "text/plain": [
       "False"
      ]
     },
     "execution_count": 26,
     "metadata": {},
     "output_type": "execute_result"
    }
   ],
   "source": [
    "bool()"
   ]
  },
  {
   "cell_type": "code",
   "execution_count": 28,
   "id": "28b7abd1-8dee-47cc-a815-e2f68a14a864",
   "metadata": {},
   "outputs": [
    {
     "data": {
      "text/plain": [
       "False"
      ]
     },
     "execution_count": 28,
     "metadata": {},
     "output_type": "execute_result"
    }
   ],
   "source": [
    "bool(0 + 0j)"
   ]
  },
  {
   "cell_type": "code",
   "execution_count": 29,
   "id": "2162c734-9550-4356-ad2c-3d64bbb72799",
   "metadata": {},
   "outputs": [
    {
     "data": {
      "text/plain": [
       "True"
      ]
     },
     "execution_count": 29,
     "metadata": {},
     "output_type": "execute_result"
    }
   ],
   "source": [
    "bool('29')"
   ]
  },
  {
   "cell_type": "code",
   "execution_count": 30,
   "id": "158c4a43-b632-492f-9bb6-9dac5f3eab18",
   "metadata": {},
   "outputs": [
    {
     "data": {
      "text/plain": [
       "True"
      ]
     },
     "execution_count": 30,
     "metadata": {},
     "output_type": "execute_result"
    }
   ],
   "source": [
    "bool('Three')"
   ]
  },
  {
   "cell_type": "code",
   "execution_count": 31,
   "id": "6f805a7b-839c-4d7a-a56d-22f887c82dc7",
   "metadata": {},
   "outputs": [
    {
     "data": {
      "text/plain": [
       "True"
      ]
     },
     "execution_count": 31,
     "metadata": {},
     "output_type": "execute_result"
    }
   ],
   "source": [
    "bool('Trupti')"
   ]
  },
  {
   "cell_type": "code",
   "execution_count": null,
   "id": "031dc427-560a-4a1a-9199-558b1aa07a86",
   "metadata": {},
   "outputs": [],
   "source": []
  },
  {
   "cell_type": "code",
   "execution_count": null,
   "id": "918d1b6c-b24d-4897-a10b-cec7c4b7f0a1",
   "metadata": {},
   "outputs": [],
   "source": []
  },
  {
   "cell_type": "code",
   "execution_count": null,
   "id": "6a74311b-8337-4e2e-8e1f-56e78c0a714c",
   "metadata": {},
   "outputs": [],
   "source": []
  }
 ],
 "metadata": {
  "kernelspec": {
   "display_name": "Python 3 (ipykernel)",
   "language": "python",
   "name": "python3"
  },
  "language_info": {
   "codemirror_mode": {
    "name": "ipython",
    "version": 3
   },
   "file_extension": ".py",
   "mimetype": "text/x-python",
   "name": "python",
   "nbconvert_exporter": "python",
   "pygments_lexer": "ipython3",
   "version": "3.12.7"
  }
 },
 "nbformat": 4,
 "nbformat_minor": 5
}

{
 "cells": [
  {
   "cell_type": "markdown",
   "id": "1d5358ac-6972-4553-9912-3d6935f1eb05",
   "metadata": {},
   "source": [
    "Arithmetic operators"
   ]
  },
  {
   "cell_type": "code",
   "execution_count": 13,
   "id": "11e18fdc-ac6d-4fd9-8c36-81cd39285aea",
   "metadata": {},
   "outputs": [
    {
     "data": {
      "text/plain": [
       "7"
      ]
     },
     "execution_count": 13,
     "metadata": {},
     "output_type": "execute_result"
    }
   ],
   "source": [
    "b = 7 # value 7 is assigned to b \n",
    "b"
   ]
  },
  {
   "cell_type": "code",
   "execution_count": 2,
   "id": "7dbca32e-9042-49c7-a601-5e52968befc8",
   "metadata": {},
   "outputs": [
    {
     "data": {
      "text/plain": [
       "54"
      ]
     },
     "execution_count": 2,
     "metadata": {},
     "output_type": "execute_result"
    }
   ],
   "source": [
    "24 + 30 # addition "
   ]
  },
  {
   "cell_type": "code",
   "execution_count": 3,
   "id": "c8a57f13-a12f-4b8d-bb4d-03dd74c03aa8",
   "metadata": {},
   "outputs": [
    {
     "data": {
      "text/plain": [
       "0"
      ]
     },
     "execution_count": 3,
     "metadata": {},
     "output_type": "execute_result"
    }
   ],
   "source": [
    "30 - 30 # subtraction "
   ]
  },
  {
   "cell_type": "code",
   "execution_count": 4,
   "id": "5dfb3943-d0e5-48aa-a6d3-06af71d8c5c3",
   "metadata": {},
   "outputs": [
    {
     "data": {
      "text/plain": [
       "81"
      ]
     },
     "execution_count": 4,
     "metadata": {},
     "output_type": "execute_result"
    }
   ],
   "source": [
    "9 * 9 # multiplication "
   ]
  },
  {
   "cell_type": "code",
   "execution_count": 5,
   "id": "3bafc730-f227-48ba-a9f2-7d95ece01e63",
   "metadata": {},
   "outputs": [
    {
     "data": {
      "text/plain": [
       "1.5"
      ]
     },
     "execution_count": 5,
     "metadata": {},
     "output_type": "execute_result"
    }
   ],
   "source": [
    "9 / 6 # float division "
   ]
  },
  {
   "cell_type": "code",
   "execution_count": 6,
   "id": "a15634c6-74ba-4c14-ab3c-76e4b860f7fb",
   "metadata": {},
   "outputs": [
    {
     "data": {
      "text/plain": [
       "1"
      ]
     },
     "execution_count": 6,
     "metadata": {},
     "output_type": "execute_result"
    }
   ],
   "source": [
    "20 // 20 # int division "
   ]
  },
  {
   "cell_type": "code",
   "execution_count": 7,
   "id": "f86fa231-79d4-474f-875c-457bab5440c3",
   "metadata": {},
   "outputs": [
    {
     "data": {
      "text/plain": [
       "8"
      ]
     },
     "execution_count": 7,
     "metadata": {},
     "output_type": "execute_result"
    }
   ],
   "source": [
    "2 ** 3 #exponential "
   ]
  },
  {
   "cell_type": "code",
   "execution_count": 8,
   "id": "21d5735e-ac25-4eaf-a625-1edc86ebf0d0",
   "metadata": {},
   "outputs": [
    {
     "data": {
      "text/plain": [
       "-5"
      ]
     },
     "execution_count": 8,
     "metadata": {},
     "output_type": "execute_result"
    }
   ],
   "source": [
    "3 * (6-9)+4"
   ]
  },
  {
   "cell_type": "code",
   "execution_count": 9,
   "id": "ad8aa4b9-5932-4a35-a10c-255155109c42",
   "metadata": {},
   "outputs": [
    {
     "data": {
      "text/plain": [
       "12"
      ]
     },
     "execution_count": 9,
     "metadata": {},
     "output_type": "execute_result"
    }
   ],
   "source": [
    "3 * 6-8+2"
   ]
  },
  {
   "cell_type": "code",
   "execution_count": 14,
   "id": "9971fc99-e2d7-431f-90b5-1a2608eb9678",
   "metadata": {},
   "outputs": [
    {
     "data": {
      "text/plain": [
       "0"
      ]
     },
     "execution_count": 14,
     "metadata": {},
     "output_type": "execute_result"
    }
   ],
   "source": [
    "8 % 8"
   ]
  },
  {
   "cell_type": "raw",
   "id": "3709cf04-d1ef-4502-aa44-7d53e252f94b",
   "metadata": {},
   "source": [
    "ASSIGNMENT OPERATOR \n"
   ]
  },
  {
   "cell_type": "code",
   "execution_count": 11,
   "id": "57191a7e-49c7-4049-8a8d-146c58c61a42",
   "metadata": {},
   "outputs": [
    {
     "data": {
      "text/plain": [
       "True"
      ]
     },
     "execution_count": 11,
     "metadata": {},
     "output_type": "execute_result"
    }
   ],
   "source": [
    "50 > 30"
   ]
  },
  {
   "cell_type": "code",
   "execution_count": 12,
   "id": "c586fb58-9fbf-418f-bc58-89d246839f74",
   "metadata": {},
   "outputs": [
    {
     "data": {
      "text/plain": [
       "False"
      ]
     },
     "execution_count": 12,
     "metadata": {},
     "output_type": "execute_result"
    }
   ],
   "source": [
    "33 < 10"
   ]
  },
  {
   "cell_type": "code",
   "execution_count": 13,
   "id": "05cbe39d-d184-42c2-b02f-67053e6ec11b",
   "metadata": {},
   "outputs": [
    {
     "data": {
      "text/plain": [
       "False"
      ]
     },
     "execution_count": 13,
     "metadata": {},
     "output_type": "execute_result"
    }
   ],
   "source": [
    "34 == 40"
   ]
  },
  {
   "cell_type": "code",
   "execution_count": 20,
   "id": "fa9122d7-1f30-40a8-beb6-16727c4c0bc4",
   "metadata": {},
   "outputs": [
    {
     "data": {
      "text/plain": [
       "7"
      ]
     },
     "execution_count": 20,
     "metadata": {},
     "output_type": "execute_result"
    }
   ],
   "source": [
    "a = 7 \n",
    "a"
   ]
  },
  {
   "cell_type": "code",
   "execution_count": 21,
   "id": "ae2241e0-7d60-40d4-a6c6-0970682eb460",
   "metadata": {},
   "outputs": [
    {
     "data": {
      "text/plain": [
       "9"
      ]
     },
     "execution_count": 21,
     "metadata": {},
     "output_type": "execute_result"
    }
   ],
   "source": [
    "a += 2\n",
    "a"
   ]
  },
  {
   "cell_type": "code",
   "execution_count": 22,
   "id": "07d9ff55-5365-4b1c-8bb4-47bab9aedb6c",
   "metadata": {},
   "outputs": [
    {
     "data": {
      "text/plain": [
       "7"
      ]
     },
     "execution_count": 22,
     "metadata": {},
     "output_type": "execute_result"
    }
   ],
   "source": [
    "a -= 2 # this is the assignment operator which does the opposite of the operator before that is this operator decrements the value on the left from the value assigned to the variable initially. As we can see the value of variable a is decremented from 20 to 18 and now from 18 to 16 because the same operator is executed twice.\n",
    "a"
   ]
  },
  {
   "cell_type": "code",
   "execution_count": 23,
   "id": "1322a4f4-5865-48b6-931f-38c93b56a995",
   "metadata": {},
   "outputs": [
    {
     "data": {
      "text/plain": [
       "5"
      ]
     },
     "execution_count": 23,
     "metadata": {},
     "output_type": "execute_result"
    }
   ],
   "source": [
    "a -= 2 \n",
    "a"
   ]
  },
  {
   "cell_type": "code",
   "execution_count": 24,
   "id": "79c357b5-5840-4ff0-a245-6528aeeec9ab",
   "metadata": {},
   "outputs": [
    {
     "data": {
      "text/plain": [
       "10"
      ]
     },
     "execution_count": 24,
     "metadata": {},
     "output_type": "execute_result"
    }
   ],
   "source": [
    "a *= 2 \n",
    "a"
   ]
  },
  {
   "cell_type": "code",
   "execution_count": 25,
   "id": "3149384a-7c11-4ba4-8c2f-fcf81d347b37",
   "metadata": {},
   "outputs": [
    {
     "data": {
      "text/plain": [
       "5.0"
      ]
     },
     "execution_count": 25,
     "metadata": {},
     "output_type": "execute_result"
    }
   ],
   "source": [
    "a /= 2\n",
    "a"
   ]
  },
  {
   "cell_type": "raw",
   "id": "251177ea-f70a-4aa5-92ea-17210cbd526d",
   "metadata": {},
   "source": []
  },
  {
   "cell_type": "code",
   "execution_count": 14,
   "id": "02ebbdd9-478f-470b-b7f6-78e03cf9878f",
   "metadata": {},
   "outputs": [
    {
     "ename": "SyntaxError",
     "evalue": "invalid syntax (3658844786.py, line 1)",
     "output_type": "error",
     "traceback": [
      "\u001b[1;36m  Cell \u001b[1;32mIn[14], line 1\u001b[1;36m\u001b[0m\n\u001b[1;33m    WELCOME TO JUPYTER NOTEBOOK\u001b[0m\n\u001b[1;37m            ^\u001b[0m\n\u001b[1;31mSyntaxError\u001b[0m\u001b[1;31m:\u001b[0m invalid syntax\n"
     ]
    }
   ],
   "source": [
    "WELCOME TO JUPYTER NOTEBOOK"
   ]
  },
  {
   "cell_type": "code",
   "execution_count": null,
   "id": "63b90dca-a723-435b-9785-17bece2c7dac",
   "metadata": {},
   "outputs": [],
   "source": []
  },
  {
   "cell_type": "code",
   "execution_count": 15,
   "id": "1e794100-ee52-41af-a437-9619d0de1479",
   "metadata": {},
   "outputs": [
    {
     "data": {
      "text/plain": [
       "'WELCOME TO JUPYTER NOTEBOOK'"
      ]
     },
     "execution_count": 15,
     "metadata": {},
     "output_type": "execute_result"
    }
   ],
   "source": [
    "'WELCOME TO JUPYTER NOTEBOOK'"
   ]
  },
  {
   "cell_type": "code",
   "execution_count": 16,
   "id": "c13a2c28-ff3e-48fa-9414-479e636dc417",
   "metadata": {},
   "outputs": [
    {
     "data": {
      "text/plain": [
       "'WELCOME TO JUPYTER NOTEBOOK'"
      ]
     },
     "execution_count": 16,
     "metadata": {},
     "output_type": "execute_result"
    }
   ],
   "source": [
    "\"WELCOME TO JUPYTER NOTEBOOK\""
   ]
  },
  {
   "cell_type": "code",
   "execution_count": 17,
   "id": "d3feb1f7-710d-44a0-94df-71ff03cf03cd",
   "metadata": {},
   "outputs": [
    {
     "data": {
      "text/plain": [
       "'WELCOME TO JUPYTER NOTEBOOK'"
      ]
     },
     "execution_count": 17,
     "metadata": {},
     "output_type": "execute_result"
    }
   ],
   "source": [
    "'''WELCOME TO JUPYTER NOTEBOOK'''"
   ]
  },
  {
   "cell_type": "code",
   "execution_count": 18,
   "id": "ce95e657-ad39-4b7e-a7fc-de348d108134",
   "metadata": {},
   "outputs": [
    {
     "ename": "NameError",
     "evalue": "name 'WELCOME' is not defined",
     "output_type": "error",
     "traceback": [
      "\u001b[1;31m---------------------------------------------------------------------------\u001b[0m",
      "\u001b[1;31mNameError\u001b[0m                                 Traceback (most recent call last)",
      "Cell \u001b[1;32mIn[18], line 1\u001b[0m\n\u001b[1;32m----> 1\u001b[0m WELCOME \n\u001b[0;32m      2\u001b[0m TO \n\u001b[0;32m      3\u001b[0m JUPYTER \n",
      "\u001b[1;31mNameError\u001b[0m: name 'WELCOME' is not defined"
     ]
    }
   ],
   "source": [
    "WELCOME \n",
    "TO \n",
    "JUPYTER \n",
    "NOTEBOOK"
   ]
  },
  {
   "cell_type": "code",
   "execution_count": 19,
   "id": "ad82fca8-ff55-4929-bdb4-14dd3fee3a26",
   "metadata": {},
   "outputs": [
    {
     "data": {
      "text/plain": [
       "'WELCOME \\nTO \\nJUPYTER \\nNOTEBOOK'"
      ]
     },
     "execution_count": 19,
     "metadata": {},
     "output_type": "execute_result"
    }
   ],
   "source": [
    "'''WELCOME \n",
    "TO \n",
    "JUPYTER \n",
    "NOTEBOOK'''"
   ]
  },
  {
   "cell_type": "code",
   "execution_count": 21,
   "id": "e375aaf5-8661-429e-a8ca-3db663d00ea7",
   "metadata": {},
   "outputs": [
    {
     "data": {
      "text/plain": [
       "8"
      ]
     },
     "execution_count": 21,
     "metadata": {},
     "output_type": "execute_result"
    }
   ],
   "source": [
    "V = 8\n",
    "V"
   ]
  },
  {
   "cell_type": "code",
   "execution_count": 22,
   "id": "3efcff3e-f419-44d5-9d9e-d3b348e1dce9",
   "metadata": {},
   "outputs": [
    {
     "ename": "NameError",
     "evalue": "name 'v' is not defined",
     "output_type": "error",
     "traceback": [
      "\u001b[1;31m---------------------------------------------------------------------------\u001b[0m",
      "\u001b[1;31mNameError\u001b[0m                                 Traceback (most recent call last)",
      "Cell \u001b[1;32mIn[22], line 1\u001b[0m\n\u001b[1;32m----> 1\u001b[0m \u001b[38;5;28mtype\u001b[39m(v)\n",
      "\u001b[1;31mNameError\u001b[0m: name 'v' is not defined"
     ]
    }
   ],
   "source": [
    "type(v)"
   ]
  },
  {
   "cell_type": "code",
   "execution_count": 24,
   "id": "70278708-0e01-4fcb-aaa6-a17c27998f6e",
   "metadata": {},
   "outputs": [
    {
     "data": {
      "text/plain": [
       "int"
      ]
     },
     "execution_count": 24,
     "metadata": {},
     "output_type": "execute_result"
    }
   ],
   "source": [
    "type(V)"
   ]
  },
  {
   "cell_type": "code",
   "execution_count": 25,
   "id": "13c58447-13ce-4077-96c1-fcbd24e717e4",
   "metadata": {},
   "outputs": [
    {
     "ename": "SyntaxError",
     "evalue": "cannot assign to literal here. Maybe you meant '==' instead of '='? (354060040.py, line 1)",
     "output_type": "error",
     "traceback": [
      "\u001b[1;36m  Cell \u001b[1;32mIn[25], line 1\u001b[1;36m\u001b[0m\n\u001b[1;33m    10 = v\u001b[0m\n\u001b[1;37m    ^\u001b[0m\n\u001b[1;31mSyntaxError\u001b[0m\u001b[1;31m:\u001b[0m cannot assign to literal here. Maybe you meant '==' instead of '='?\n"
     ]
    }
   ],
   "source": [
    "10 = v"
   ]
  },
  {
   "cell_type": "code",
   "execution_count": 26,
   "id": "3cabf186-d6f1-48f6-8465-6b222e7c4941",
   "metadata": {},
   "outputs": [
    {
     "ename": "SyntaxError",
     "evalue": "invalid decimal literal (23239747.py, line 1)",
     "output_type": "error",
     "traceback": [
      "\u001b[1;36m  Cell \u001b[1;32mIn[26], line 1\u001b[1;36m\u001b[0m\n\u001b[1;33m    2v = 20\u001b[0m\n\u001b[1;37m    ^\u001b[0m\n\u001b[1;31mSyntaxError\u001b[0m\u001b[1;31m:\u001b[0m invalid decimal literal\n"
     ]
    }
   ],
   "source": [
    "2v = 20"
   ]
  },
  {
   "cell_type": "code",
   "execution_count": 28,
   "id": "efcfeca7-3ab0-46b1-8040-ab18e143fb45",
   "metadata": {},
   "outputs": [
    {
     "data": {
      "text/plain": [
       "20"
      ]
     },
     "execution_count": 28,
     "metadata": {},
     "output_type": "execute_result"
    }
   ],
   "source": [
    "v2 = 20\n",
    "v2"
   ]
  },
  {
   "cell_type": "code",
   "execution_count": 29,
   "id": "8e48d2f7-3276-455b-8ebc-312fcd364f69",
   "metadata": {},
   "outputs": [
    {
     "data": {
      "text/plain": [
       "140735854685208"
      ]
     },
     "execution_count": 29,
     "metadata": {},
     "output_type": "execute_result"
    }
   ],
   "source": [
    "id(v2) # memory address "
   ]
  },
  {
   "cell_type": "code",
   "execution_count": 3,
   "id": "795bdfda-4436-4a49-9e33-29caea08cb87",
   "metadata": {},
   "outputs": [
    {
     "ename": "TypeError",
     "evalue": "'float' object is not callable",
     "output_type": "error",
     "traceback": [
      "\u001b[1;31m---------------------------------------------------------------------------\u001b[0m",
      "\u001b[1;31mTypeError\u001b[0m                                 Traceback (most recent call last)",
      "Cell \u001b[1;32mIn[3], line 2\u001b[0m\n\u001b[0;32m      1\u001b[0m a  \u001b[38;5;241m=\u001b[39m \u001b[38;5;241m3.22\u001b[39m \n\u001b[1;32m----> 2\u001b[0m \u001b[38;5;28mprint\u001b[39m(\u001b[38;5;28mtype\u001b[39m(a))\n",
      "\u001b[1;31mTypeError\u001b[0m: 'float' object is not callable"
     ]
    }
   ],
   "source": [
    "a  = 3.22 \n",
    "print(type(a))"
   ]
  },
  {
   "cell_type": "markdown",
   "id": "20c2cf98-873d-4ffd-b383-e84ad43a498f",
   "metadata": {},
   "source": [
    "VARIABLES "
   ]
  },
  {
   "cell_type": "code",
   "execution_count": 2,
   "id": "271e333f-9199-4759-acee-78d4105f67b0",
   "metadata": {},
   "outputs": [
    {
     "data": {
      "text/plain": [
       "8"
      ]
     },
     "execution_count": 2,
     "metadata": {},
     "output_type": "execute_result"
    }
   ],
   "source": [
    "v = 8\n",
    "v"
   ]
  },
  {
   "cell_type": "code",
   "execution_count": 3,
   "id": "289667f9-519a-4288-8a75-b05c1381c598",
   "metadata": {},
   "outputs": [
    {
     "data": {
      "text/plain": [
       "int"
      ]
     },
     "execution_count": 3,
     "metadata": {},
     "output_type": "execute_result"
    }
   ],
   "source": [
    "type(v)"
   ]
  },
  {
   "cell_type": "code",
   "execution_count": 4,
   "id": "aaa26d93-ad5f-46d1-ae6e-cdaa164b231f",
   "metadata": {},
   "outputs": [
    {
     "data": {
      "text/plain": [
       "140724150217368"
      ]
     },
     "execution_count": 4,
     "metadata": {},
     "output_type": "execute_result"
    }
   ],
   "source": [
    "id(v) # address of the variable "
   ]
  },
  {
   "cell_type": "code",
   "execution_count": 6,
   "id": "62038ef7-ea47-41fc-bb08-691cfcefbf8f",
   "metadata": {},
   "outputs": [
    {
     "ename": "SyntaxError",
     "evalue": "invalid decimal literal (117607633.py, line 1)",
     "output_type": "error",
     "traceback": [
      "\u001b[1;36m  Cell \u001b[1;32mIn[6], line 1\u001b[1;36m\u001b[0m\n\u001b[1;33m    1nit = 20\u001b[0m\n\u001b[1;37m    ^\u001b[0m\n\u001b[1;31mSyntaxError\u001b[0m\u001b[1;31m:\u001b[0m invalid decimal literal\n"
     ]
    }
   ],
   "source": [
    "1nit = 20 # variables never start with numbers \n",
    "1nit"
   ]
  },
  {
   "cell_type": "code",
   "execution_count": 7,
   "id": "a87b71b3-0f28-4d68-9218-7b60a84e8863",
   "metadata": {},
   "outputs": [
    {
     "data": {
      "text/plain": [
       "20"
      ]
     },
     "execution_count": 7,
     "metadata": {},
     "output_type": "execute_result"
    }
   ],
   "source": [
    "nit1 = 20\n",
    "nit1"
   ]
  },
  {
   "cell_type": "code",
   "execution_count": 11,
   "id": "33b9d91a-f70b-43b5-8c7a-77ade25fa2d2",
   "metadata": {},
   "outputs": [
    {
     "ename": "NameError",
     "evalue": "name 'NIT3' is not defined",
     "output_type": "error",
     "traceback": [
      "\u001b[1;31m---------------------------------------------------------------------------\u001b[0m",
      "\u001b[1;31mNameError\u001b[0m                                 Traceback (most recent call last)",
      "Cell \u001b[1;32mIn[11], line 2\u001b[0m\n\u001b[0;32m      1\u001b[0m nit3 \u001b[38;5;241m=\u001b[39m \u001b[38;5;241m33\u001b[39m\n\u001b[1;32m----> 2\u001b[0m NIT3\n",
      "\u001b[1;31mNameError\u001b[0m: name 'NIT3' is not defined"
     ]
    }
   ],
   "source": [
    "nit3 = 33\n",
    "NIT3"
   ]
  },
  {
   "cell_type": "code",
   "execution_count": 10,
   "id": "62f6486a-3f4d-4f0e-a297-1e9e14ea4bab",
   "metadata": {},
   "outputs": [
    {
     "data": {
      "text/plain": [
       "33"
      ]
     },
     "execution_count": 10,
     "metadata": {},
     "output_type": "execute_result"
    }
   ],
   "source": [
    "nit3"
   ]
  },
  {
   "cell_type": "code",
   "execution_count": 26,
   "id": "5100f40c-43af-4b73-b68c-200e175d384e",
   "metadata": {},
   "outputs": [
    {
     "ename": "SyntaxError",
     "evalue": "invalid syntax (3362841540.py, line 1)",
     "output_type": "error",
     "traceback": [
      "\u001b[1;36m  Cell \u001b[1;32mIn[26], line 1\u001b[1;36m\u001b[0m\n\u001b[1;33m    Trupti@ = 7 # a variable can never contain a special characharacter\u001b[0m\n\u001b[1;37m            ^\u001b[0m\n\u001b[1;31mSyntaxError\u001b[0m\u001b[1;31m:\u001b[0m invalid syntax\n"
     ]
    }
   ],
   "source": [
    "Trupti@ = 7 # a variable can never contain a special characharacter "
   ]
  },
  {
   "cell_type": "code",
   "execution_count": 8,
   "id": "65b6f1a5-3c93-438b-aed9-be6f4d8bc80c",
   "metadata": {},
   "outputs": [],
   "source": [
    "trup_ = 7# underscore \"_\" has the previlege it can be added to the variables."
   ]
  },
  {
   "cell_type": "code",
   "execution_count": 29,
   "id": "cfd05e56-ac7d-4929-b405-d350009ff128",
   "metadata": {},
   "outputs": [
    {
     "data": {
      "text/plain": [
       "['False',\n",
       " 'None',\n",
       " 'True',\n",
       " 'and',\n",
       " 'as',\n",
       " 'assert',\n",
       " 'async',\n",
       " 'await',\n",
       " 'break',\n",
       " 'class',\n",
       " 'continue',\n",
       " 'def',\n",
       " 'del',\n",
       " 'elif',\n",
       " 'else',\n",
       " 'except',\n",
       " 'finally',\n",
       " 'for',\n",
       " 'from',\n",
       " 'global',\n",
       " 'if',\n",
       " 'import',\n",
       " 'in',\n",
       " 'is',\n",
       " 'lambda',\n",
       " 'nonlocal',\n",
       " 'not',\n",
       " 'or',\n",
       " 'pass',\n",
       " 'raise',\n",
       " 'return',\n",
       " 'try',\n",
       " 'while',\n",
       " 'with',\n",
       " 'yield']"
      ]
     },
     "execution_count": 29,
     "metadata": {},
     "output_type": "execute_result"
    }
   ],
   "source": [
    "import keyword # a keyword can never be used as variable name.\n",
    "keyword.kwlist # below is list of keywords "
   ]
  },
  {
   "cell_type": "code",
   "execution_count": 30,
   "id": "0a553ea3-859d-4904-be9a-b8820044703c",
   "metadata": {},
   "outputs": [
    {
     "data": {
      "text/plain": [
       "35"
      ]
     },
     "execution_count": 30,
     "metadata": {},
     "output_type": "execute_result"
    }
   ],
   "source": [
    "len(keyword.kwlist) #len() is used to list the num of items in set/lists."
   ]
  },
  {
   "cell_type": "code",
   "execution_count": 31,
   "id": "8aa7eab1-d76c-44e3-ab16-6ee62baf9da1",
   "metadata": {},
   "outputs": [
    {
     "data": {
      "text/plain": [
       "'3.12.7 | packaged by Anaconda, Inc. | (main, Oct  4 2024, 13:17:27) [MSC v.1929 64 bit (AMD64)]'"
      ]
     },
     "execution_count": 31,
     "metadata": {},
     "output_type": "execute_result"
    }
   ],
   "source": [
    "import sys # it is used to check the system(sys)version\n",
    "sys.version"
   ]
  },
  {
   "cell_type": "raw",
   "id": "e1113079-5496-4fbe-a559-3f8ec73e3310",
   "metadata": {},
   "source": [
    "DATA TYPES "
   ]
  },
  {
   "cell_type": "code",
   "execution_count": 10,
   "id": "89a23814-81d4-42c1-8e12-fa58bf2c6028",
   "metadata": {},
   "outputs": [
    {
     "name": "stdout",
     "output_type": "stream",
     "text": [
      "28\n",
      "<class 'int'>\n"
     ]
    }
   ],
   "source": [
    "i = 28\n",
    "print(i)\n",
    "print(type(i))"
   ]
  },
  {
   "cell_type": "code",
   "execution_count": 12,
   "id": "497fd7bd-1d0b-4b5b-b8e6-341d3960ebc3",
   "metadata": {},
   "outputs": [
    {
     "name": "stdout",
     "output_type": "stream",
     "text": [
      "28.77\n",
      "<class 'float'>\n"
     ]
    }
   ],
   "source": [
    "f = 28.77\n",
    "print(f)\n",
    "print(type(f))"
   ]
  },
  {
   "cell_type": "code",
   "execution_count": null,
   "id": "ce5f53a6-eec4-452c-a4d7-dfd51b18cf06",
   "metadata": {},
   "outputs": [],
   "source": []
  },
  {
   "cell_type": "code",
   "execution_count": 13,
   "id": "d4e33011-f78d-42be-aca4-b66f3d8a350c",
   "metadata": {},
   "outputs": [
    {
     "name": "stdout",
     "output_type": "stream",
     "text": [
      "(28, 88)\n",
      "<class 'tuple'>\n"
     ]
    }
   ],
   "source": [
    "f = 28,88\n",
    "print(f)\n",
    "print(type(f))"
   ]
  },
  {
   "cell_type": "code",
   "execution_count": 14,
   "id": "e8de90a4-8463-4b56-9b01-5f984418515f",
   "metadata": {},
   "outputs": [],
   "source": [
    "a,b = 10,20"
   ]
  },
  {
   "cell_type": "code",
   "execution_count": 15,
   "id": "26ecc36c-f98d-4867-82fd-caa55bf00027",
   "metadata": {},
   "outputs": [
    {
     "data": {
      "text/plain": [
       "-10"
      ]
     },
     "execution_count": 15,
     "metadata": {},
     "output_type": "execute_result"
    }
   ],
   "source": [
    "c = a+b # to perform one operation print is not  requires , to print multi operations print is used\n",
    "d = a-b # only d value is printed, c is not printed . so we use the print function to print the all the variables \n",
    "c\n",
    "d"
   ]
  },
  {
   "cell_type": "code",
   "execution_count": 16,
   "id": "0e878af0-cd31-41db-bd5b-05489e6b6a57",
   "metadata": {},
   "outputs": [
    {
     "name": "stdout",
     "output_type": "stream",
     "text": [
      "30\n",
      "-10\n"
     ]
    }
   ],
   "source": [
    "c = a+b # by using the print function both the values c,d are printed \n",
    "d = a-b\n",
    "print(c)\n",
    "print(d)"
   ]
  },
  {
   "cell_type": "code",
   "execution_count": 18,
   "id": "65949589-1f89-446e-b537-6159dfd6039a",
   "metadata": {},
   "outputs": [
    {
     "data": {
      "text/plain": [
       "str"
      ]
     },
     "execution_count": 18,
     "metadata": {},
     "output_type": "execute_result"
    }
   ],
   "source": [
    "a = '9-4' #string \n",
    "type(a)"
   ]
  },
  {
   "cell_type": "code",
   "execution_count": 19,
   "id": "a1c1dc42-eef4-49ba-9f8f-2fb815cce860",
   "metadata": {},
   "outputs": [
    {
     "data": {
      "text/plain": [
       "complex"
      ]
     },
     "execution_count": 19,
     "metadata": {},
     "output_type": "execute_result"
    }
   ],
   "source": [
    "a = 1 + 2j # cpmplex data type\n",
    "type(a) "
   ]
  },
  {
   "cell_type": "code",
   "execution_count": 20,
   "id": "51aac531-6685-4b63-ac0c-055d13301439",
   "metadata": {},
   "outputs": [
    {
     "data": {
      "text/plain": [
       "bool"
      ]
     },
     "execution_count": 20,
     "metadata": {},
     "output_type": "execute_result"
    }
   ],
   "source": [
    "a = True # boolean \n",
    "type(a)"
   ]
  },
  {
   "cell_type": "code",
   "execution_count": 23,
   "id": "72d5dbd1-ffb0-47d0-b529-701563e60787",
   "metadata": {},
   "outputs": [
    {
     "name": "stdout",
     "output_type": "stream",
     "text": [
      "Welcome to the jupyter notebook\n"
     ]
    }
   ],
   "source": [
    "def hello():\n",
    "    print('Welcome to the jupyter notebook') # after semicolon we have to take 4 spaces \n",
    "hello()   \n",
    "          # hello() function without class is \"function\""
   ]
  },
  {
   "cell_type": "code",
   "execution_count": 25,
   "id": "e1099d9c-1a84-49ed-a503-a4c4d0320161",
   "metadata": {},
   "outputs": [
    {
     "name": "stdout",
     "output_type": "stream",
     "text": [
      "Welcome to the jupyter notebook\n"
     ]
    }
   ],
   "source": [
    "class nit:\n",
    "    def hello():\n",
    "        print('Welcome to the jupyter notebook') # after semicolon we have to take 4 spaces \n",
    "hello() # hello() functioin within class is method "
   ]
  },
  {
   "cell_type": "code",
   "execution_count": 26,
   "id": "789fbae4-94e8-4a57-8d3a-bd0b659f5a14",
   "metadata": {},
   "outputs": [],
   "source": [
    "i, f, s, b, c = 20, 3.6, 'trupti', True , 2+5j"
   ]
  },
  {
   "cell_type": "code",
   "execution_count": 27,
   "id": "dca784d2-a54f-4f8c-92b1-64bde9ac72f9",
   "metadata": {},
   "outputs": [
    {
     "name": "stdout",
     "output_type": "stream",
     "text": [
      "20\n",
      "3.6\n",
      "trupti\n",
      "True\n",
      "(2+5j)\n"
     ]
    }
   ],
   "source": [
    "print(i)\n",
    "print(f)\n",
    "print(s)\n",
    "print(b)\n",
    "print(c)"
   ]
  },
  {
   "cell_type": "code",
   "execution_count": 28,
   "id": "848eae5c-5a9f-4a6d-8257-e0916fea4772",
   "metadata": {},
   "outputs": [
    {
     "name": "stdout",
     "output_type": "stream",
     "text": [
      "<class 'int'>\n",
      "<class 'float'>\n",
      "<class 'str'>\n",
      "<class 'bool'>\n",
      "<class 'complex'>\n"
     ]
    }
   ],
   "source": [
    "print(type(i))\n",
    "print(type(f))\n",
    "print(type(s))\n",
    "print(type(b))\n",
    "print(type(c))"
   ]
  },
  {
   "cell_type": "code",
   "execution_count": null,
   "id": "24c950f1-4965-4c94-aac6-3b8370ab042d",
   "metadata": {},
   "outputs": [],
   "source": []
  }
 ],
 "metadata": {
  "kernelspec": {
   "display_name": "Python 3 (ipykernel)",
   "language": "python",
   "name": "python3"
  },
  "language_info": {
   "codemirror_mode": {
    "name": "ipython",
    "version": 3
   },
   "file_extension": ".py",
   "mimetype": "text/x-python",
   "name": "python",
   "nbconvert_exporter": "python",
   "pygments_lexer": "ipython3",
   "version": "3.12.7"
  }
 },
 "nbformat": 4,
 "nbformat_minor": 5
}

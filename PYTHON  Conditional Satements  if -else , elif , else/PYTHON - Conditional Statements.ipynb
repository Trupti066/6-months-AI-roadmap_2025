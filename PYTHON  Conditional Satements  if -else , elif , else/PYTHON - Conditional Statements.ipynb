{
 "cells": [
  {
   "cell_type": "markdown",
   "id": "41bdac6a-b077-4464-856e-2320fd325cbe",
   "metadata": {},
   "source": [
    "# Conditional Statements "
   ]
  },
  {
   "cell_type": "code",
   "execution_count": 1,
   "id": "90e7c077-cbf1-4d5b-8621-5515b9b27e46",
   "metadata": {},
   "outputs": [
    {
     "name": "stdout",
     "output_type": "stream",
     "text": [
      "Data Science\n"
     ]
    }
   ],
   "source": [
    "    if True:\n",
    "        print('Data Science')            "
   ]
  },
  {
   "cell_type": "code",
   "execution_count": 2,
   "id": "f668b854-5588-4ac1-b5d1-ed2819985609",
   "metadata": {},
   "outputs": [
    {
     "name": "stdout",
     "output_type": "stream",
     "text": [
      "bye for now\n"
     ]
    }
   ],
   "source": [
    "    if False:\n",
    "        print('Data Science')\n",
    "    print('bye for now')\n"
   ]
  },
  {
   "cell_type": "code",
   "execution_count": 3,
   "id": "23e792d1-31a4-4e30-9922-9b85e50df198",
   "metadata": {},
   "outputs": [
    {
     "name": "stdout",
     "output_type": "stream",
     "text": [
      "Data Science\n",
      "bye for now\n"
     ]
    }
   ],
   "source": [
    "    if True:\n",
    "        print('Data Science')\n",
    "    print('bye for now')"
   ]
  },
  {
   "cell_type": "code",
   "execution_count": 10,
   "id": "2b10ae14-927c-43e9-a93a-2a9f5478c1b5",
   "metadata": {},
   "outputs": [
    {
     "name": "stdout",
     "output_type": "stream",
     "text": [
      "Even number\n"
     ]
    }
   ],
   "source": [
    "    # code -1 : number is even or odd \n",
    "\n",
    "    x = 4\n",
    "    r = x % 2\n",
    "\n",
    "    if r == 0:\n",
    "        print('Even number')"
   ]
  },
  {
   "cell_type": "code",
   "execution_count": 11,
   "id": "264dd72c-77fe-47d1-9881-693875c5062a",
   "metadata": {},
   "outputs": [],
   "source": [
    "#code-1 : number is even or odd \n",
    "x = 5\n",
    "r = x % 2 \n",
    "\n",
    "if r == 0:\n",
    "    print('Even number')"
   ]
  },
  {
   "cell_type": "code",
   "execution_count": 13,
   "id": "ae6020ad-8bea-4595-9ecf-6658929194be",
   "metadata": {},
   "outputs": [
    {
     "name": "stdout",
     "output_type": "stream",
     "text": [
      "Old number\n"
     ]
    }
   ],
   "source": [
    "    x = 5\n",
    "    r = x % 2\n",
    "\n",
    "    if r == 0:\n",
    "        print('Even number')\n",
    "    else:    \n",
    "        print('Old number')"
   ]
  },
  {
   "cell_type": "code",
   "execution_count": 14,
   "id": "4abebce3-3faf-41bc-91c6-02487b818577",
   "metadata": {},
   "outputs": [
    {
     "name": "stdout",
     "output_type": "stream",
     "text": [
      "Even number\n"
     ]
    }
   ],
   "source": [
    "    x = 8\n",
    "    r = x % 2 \n",
    "\n",
    "    if r == 0:\n",
    "        print('Even number')\n",
    "    else:       \n",
    "        print('odd number')"
   ]
  },
  {
   "cell_type": "code",
   "execution_count": 15,
   "id": "1484f8de-38b9-4a0a-9997-b091320ae721",
   "metadata": {},
   "outputs": [
    {
     "name": "stdout",
     "output_type": "stream",
     "text": [
      "odd number\n"
     ]
    }
   ],
   "source": [
    "    x = 13\n",
    "    r = x % 2\n",
    "\n",
    "    if r == 0:\n",
    "        print('Even number')\n",
    "    if r == 1:\n",
    "        print('odd number')"
   ]
  },
  {
   "cell_type": "code",
   "execution_count": 18,
   "id": "687b6e4d-90f4-49f5-a61d-251e24d3272f",
   "metadata": {},
   "outputs": [
    {
     "name": "stdout",
     "output_type": "stream",
     "text": [
      "Even number\n"
     ]
    }
   ],
   "source": [
    "    x = 20\n",
    "    r = x % 2\n",
    "\n",
    "    if r == 0:\n",
    "        print('Even number')\n",
    "    if r == 1:\n",
    "        print('odd number')\n",
    "       "
   ]
  },
  {
   "cell_type": "code",
   "execution_count": 19,
   "id": "d069aae7-21fc-42de-8601-b77518c93abf",
   "metadata": {},
   "outputs": [
    {
     "name": "stdout",
     "output_type": "stream",
     "text": [
      "odd number\n"
     ]
    }
   ],
   "source": [
    "    x = 3 \n",
    "    r = x % 2\n",
    "\n",
    "    if r == 0:\n",
    "        print('Even number')\n",
    "        if x>5:\n",
    "            print('greater number')\n",
    "\n",
    "    else:\n",
    "        print('odd number')"
   ]
  },
  {
   "cell_type": "code",
   "execution_count": 20,
   "id": "652714d2-2392-4ade-bc9a-07233989a995",
   "metadata": {},
   "outputs": [
    {
     "name": "stdout",
     "output_type": "stream",
     "text": [
      "Even number\n"
     ]
    }
   ],
   "source": [
    "    x = 4 \n",
    "    r = x % 2\n",
    "\n",
    "    if r == 0:\n",
    "        print('Even number')\n",
    "        if x>5:\n",
    "            print('greater number')\n",
    "\n",
    "    else:\n",
    "        print('odd number')"
   ]
  },
  {
   "cell_type": "code",
   "execution_count": 21,
   "id": "8181bfac-311b-498f-8e3c-b800e91b03cb",
   "metadata": {},
   "outputs": [
    {
     "name": "stdout",
     "output_type": "stream",
     "text": [
      "Even number\n",
      "greater number\n"
     ]
    }
   ],
   "source": [
    "    x = 6\n",
    "    r = x % 2\n",
    "\n",
    "    if r == 0:                                #nested if statement \n",
    "        print('Even number')\n",
    "        if x>5:\n",
    "            print('greater number')\n",
    "\n",
    "    else:\n",
    "        print('odd number')"
   ]
  },
  {
   "cell_type": "code",
   "execution_count": 22,
   "id": "c75eb387-cef6-4927-a04d-89ce804cce1c",
   "metadata": {},
   "outputs": [
    {
     "name": "stdout",
     "output_type": "stream",
     "text": [
      "odd number\n"
     ]
    }
   ],
   "source": [
    "    x = 3 \n",
    "    r = x % 2\n",
    "\n",
    "    if r == 0:\n",
    "        print('Even number')\n",
    "        if x>5:\n",
    "            print('greater number')\n",
    "        else:\n",
    "            print('smaller number')\n",
    "\n",
    "    else:\n",
    "        print('odd number')"
   ]
  },
  {
   "cell_type": "code",
   "execution_count": 24,
   "id": "1233a18d-8d41-4265-aa17-b324a15bc005",
   "metadata": {},
   "outputs": [
    {
     "name": "stdout",
     "output_type": "stream",
     "text": [
      "Even number\n",
      "greater number\n"
     ]
    }
   ],
   "source": [
    "    x = 6\n",
    "    r = x % 2\n",
    "\n",
    "    if r == 0:\n",
    "        print('Even number')\n",
    "        if x>5:\n",
    "            print('greater number')\n",
    "        else:\n",
    "            print('smaller number')\n",
    "\n",
    "    else:\n",
    "        print('odd number')"
   ]
  },
  {
   "cell_type": "markdown",
   "id": "cdf8d82c-3406-4065-81e1-ab0e3bf02515",
   "metadata": {},
   "source": [
    "# if-else "
   ]
  },
  {
   "cell_type": "code",
   "execution_count": 2,
   "id": "263090af-571d-4250-8392-b6b5368f9be4",
   "metadata": {},
   "outputs": [
    {
     "name": "stdout",
     "output_type": "stream",
     "text": [
      " i in greater than 15\n",
      " i'm in else block\n",
      " i'm not in if block and not in else block\n"
     ]
    }
   ],
   "source": [
    "i = 20 \n",
    "if (i <15):\n",
    "    print(\"i is smaller than 15\")\n",
    "    print(\" i'm in if block\")\n",
    "else:\n",
    "    print(\" i in greater than 15\")\n",
    "    print(\" i'm in else block\")\n",
    "print(\" i'm not in if block and not in else block\")"
   ]
  },
  {
   "cell_type": "code",
   "execution_count": 4,
   "id": "0b7407f9-bb81-413b-9c36-1d8ba1813bc8",
   "metadata": {},
   "outputs": [
    {
     "name": "stdout",
     "output_type": "stream",
     "text": [
      " My name is Trupti\n",
      " I am Btech student\n"
     ]
    }
   ],
   "source": [
    "i = 10\n",
    "if (i < 15):\n",
    "    print(\" My name is Trupti\")\n",
    "else : \n",
    "    print(\" I am studying Data science\")\n",
    "if (i > 15):\n",
    "    print(\"Hello my friend\")\n",
    "else:\n",
    "    print(\" I am Btech student\")"
   ]
  },
  {
   "cell_type": "markdown",
   "id": "9ba0cb28-6cb9-4c9b-bb30-846257c2fd32",
   "metadata": {},
   "source": [
    "#  Nested if statestatement "
   ]
  },
  {
   "cell_type": "code",
   "execution_count": 10,
   "id": "fa23a252-b72f-4e13-b7ea-86c681841cd4",
   "metadata": {},
   "outputs": [
    {
     "name": "stdout",
     "output_type": "stream",
     "text": [
      "i is smaller than 15\n"
     ]
    }
   ],
   "source": [
    "i = 20\n",
    "if (i == 20):             \n",
    "    # first if statement \n",
    "    if (i < 15):\n",
    "        print(\"i is smaller than 15\")\n",
    "\n",
    "    # nested if statement\n",
    "    if (i > 10):\n",
    "        print(\"i is smaller than 15\")\n",
    "    else:\n",
    "        print(\"i is grater than 15\")"
   ]
  },
  {
   "cell_type": "markdown",
   "id": "d8845113-7af9-43d3-b2a3-1d28b00251be",
   "metadata": {},
   "source": [
    "# Elif statement "
   ]
  },
  {
   "cell_type": "code",
   "execution_count": 18,
   "id": "92ff7ec3-3494-474b-9bac-5e26293aaa5f",
   "metadata": {},
   "outputs": [
    {
     "name": "stdout",
     "output_type": "stream",
     "text": [
      "i is 15\n"
     ]
    }
   ],
   "source": [
    "i = 15\n",
    "\n",
    "if (i == 10):\n",
    "    print(\"i is 10\")\n",
    "elif(i == 15):\n",
    "    print(\"i is 15\")\n",
    "elif (i == 20):\n",
    "    print(\"i is 20\")\n",
    "else: \n",
    "    print(\"i is not present\")"
   ]
  },
  {
   "cell_type": "code",
   "execution_count": 19,
   "id": "5a846df8-2ed4-4dab-9c83-98729b508387",
   "metadata": {},
   "outputs": [
    {
     "name": "stdout",
     "output_type": "stream",
     "text": [
      "i is not present\n"
     ]
    }
   ],
   "source": [
    "i = 50\n",
    "\n",
    "if (i == 10):\n",
    "    print(\"i is 10\")\n",
    "elif(i == 15):\n",
    "    print(\"i is 15\")\n",
    "elif (i == 20):\n",
    "    print(\"i is 20\")\n",
    "else: \n",
    "    print(\"i is not present\")"
   ]
  },
  {
   "cell_type": "markdown",
   "id": "3b18d537-9f56-4119-b8f8-6e5ed207d606",
   "metadata": {},
   "source": [
    "# if shorthand"
   ]
  },
  {
   "cell_type": "code",
   "execution_count": 20,
   "id": "0a8f01f4-8865-4184-be8a-c5bab5f7bb21",
   "metadata": {},
   "outputs": [
    {
     "name": "stdout",
     "output_type": "stream",
     "text": [
      "i is less than 15\n"
     ]
    }
   ],
   "source": [
    "i = 20\n",
    "if i < 30: print(\"i is less than 15\")"
   ]
  },
  {
   "cell_type": "markdown",
   "id": "b35c3370-9bc9-462c-8c0e-5744f7173e8d",
   "metadata": {},
   "source": [
    "# Short hand if else statements"
   ]
  },
  {
   "cell_type": "code",
   "execution_count": null,
   "id": "69f43897-2113-45aa-b9f6-52351880548e",
   "metadata": {},
   "outputs": [],
   "source": []
  },
  {
   "cell_type": "code",
   "execution_count": null,
   "id": "f49f9dab-f413-4b16-b828-acf6c0495670",
   "metadata": {},
   "outputs": [],
   "source": []
  },
  {
   "cell_type": "code",
   "execution_count": null,
   "id": "8a72ba13-1d36-46a9-8d3a-0fad7525fb73",
   "metadata": {},
   "outputs": [],
   "source": []
  },
  {
   "cell_type": "code",
   "execution_count": null,
   "id": "a86e2c03-ff5f-4732-aca8-296a9139e1b1",
   "metadata": {},
   "outputs": [],
   "source": []
  },
  {
   "cell_type": "code",
   "execution_count": null,
   "id": "e78f6538-7255-41df-a330-e5f43eaa4c10",
   "metadata": {},
   "outputs": [],
   "source": []
  },
  {
   "cell_type": "code",
   "execution_count": null,
   "id": "3344c30a-c7ac-4df9-8b5c-34ec04c6d42f",
   "metadata": {},
   "outputs": [],
   "source": []
  },
  {
   "cell_type": "code",
   "execution_count": null,
   "id": "4904901a-18bc-470a-b084-b1636cc654f2",
   "metadata": {},
   "outputs": [],
   "source": []
  },
  {
   "cell_type": "code",
   "execution_count": null,
   "id": "8b48d065-4094-4315-a021-5ac05ebfa487",
   "metadata": {},
   "outputs": [],
   "source": []
  },
  {
   "cell_type": "code",
   "execution_count": null,
   "id": "cb657086-d777-46fe-bf7c-0b8770841b24",
   "metadata": {},
   "outputs": [],
   "source": []
  },
  {
   "cell_type": "code",
   "execution_count": null,
   "id": "12012e6f-7de8-4c61-a037-370c82cf80b7",
   "metadata": {},
   "outputs": [],
   "source": []
  },
  {
   "cell_type": "code",
   "execution_count": null,
   "id": "dc88f36f-5e61-489e-8878-d105487c4b3a",
   "metadata": {},
   "outputs": [],
   "source": []
  },
  {
   "cell_type": "code",
   "execution_count": null,
   "id": "a99e4423-e853-4c9f-9f7f-4fba6a356577",
   "metadata": {},
   "outputs": [],
   "source": []
  },
  {
   "cell_type": "code",
   "execution_count": null,
   "id": "0bc31fc4-c0a6-4dc6-80d1-f6330563d11a",
   "metadata": {},
   "outputs": [],
   "source": []
  },
  {
   "cell_type": "code",
   "execution_count": null,
   "id": "1f9a53ce-c73c-4fa4-8740-24cbf0e4a5cc",
   "metadata": {},
   "outputs": [],
   "source": []
  },
  {
   "cell_type": "code",
   "execution_count": null,
   "id": "b7eb4f4e-43c2-4b90-a39c-cf5145902b88",
   "metadata": {},
   "outputs": [],
   "source": []
  },
  {
   "cell_type": "code",
   "execution_count": null,
   "id": "6ca8d33f-eef0-48f2-b809-01244018acab",
   "metadata": {},
   "outputs": [],
   "source": []
  },
  {
   "cell_type": "code",
   "execution_count": null,
   "id": "4a5910aa-7138-4b54-a1b3-d43469b8b42c",
   "metadata": {},
   "outputs": [],
   "source": []
  },
  {
   "cell_type": "code",
   "execution_count": null,
   "id": "fb243503-7519-433e-a935-6440aa889b4f",
   "metadata": {},
   "outputs": [],
   "source": []
  },
  {
   "cell_type": "code",
   "execution_count": null,
   "id": "47e26874-80af-4aaa-9d29-49d3e89296b6",
   "metadata": {},
   "outputs": [],
   "source": []
  },
  {
   "cell_type": "code",
   "execution_count": null,
   "id": "868b5900-af9d-4f83-ba9c-c54a969240df",
   "metadata": {},
   "outputs": [],
   "source": []
  },
  {
   "cell_type": "code",
   "execution_count": null,
   "id": "b3865f22-c16c-40f3-a216-d3426c19e78e",
   "metadata": {},
   "outputs": [],
   "source": []
  },
  {
   "cell_type": "code",
   "execution_count": null,
   "id": "834c4948-274e-451d-a3b4-a93f6ac47791",
   "metadata": {},
   "outputs": [],
   "source": []
  },
  {
   "cell_type": "code",
   "execution_count": null,
   "id": "891e9005-349f-4d0b-a061-94122f32c523",
   "metadata": {},
   "outputs": [],
   "source": []
  },
  {
   "cell_type": "code",
   "execution_count": null,
   "id": "253dd463-ee20-4d95-929a-6adaf18af7f6",
   "metadata": {},
   "outputs": [],
   "source": []
  },
  {
   "cell_type": "code",
   "execution_count": null,
   "id": "531c56ec-1cf8-452c-95d9-04290de91daf",
   "metadata": {},
   "outputs": [],
   "source": []
  },
  {
   "cell_type": "code",
   "execution_count": null,
   "id": "bd9ff048-c1ad-442a-bc7f-4bf13ac17044",
   "metadata": {},
   "outputs": [],
   "source": []
  },
  {
   "cell_type": "code",
   "execution_count": null,
   "id": "d3b933cb-4e99-4f1d-860a-1ba103653b54",
   "metadata": {},
   "outputs": [],
   "source": []
  },
  {
   "cell_type": "code",
   "execution_count": null,
   "id": "17f5eea5-f8a1-4e8e-a8c9-967c9130bb54",
   "metadata": {},
   "outputs": [],
   "source": []
  },
  {
   "cell_type": "code",
   "execution_count": null,
   "id": "24fcb4ca-705a-42d6-bbe7-a3f98b04a6c1",
   "metadata": {},
   "outputs": [],
   "source": []
  },
  {
   "cell_type": "code",
   "execution_count": null,
   "id": "ebb95c73-4831-424b-b21d-9858bc42bcd9",
   "metadata": {},
   "outputs": [],
   "source": []
  },
  {
   "cell_type": "code",
   "execution_count": null,
   "id": "435e7d33-89af-40d2-a429-ed6a2d1eb7a0",
   "metadata": {},
   "outputs": [],
   "source": []
  },
  {
   "cell_type": "code",
   "execution_count": null,
   "id": "1d9a8895-8b2a-49b5-a259-31494e4d4946",
   "metadata": {},
   "outputs": [],
   "source": []
  },
  {
   "cell_type": "code",
   "execution_count": null,
   "id": "9542181d-aa75-47c9-8f03-d5c9effbba08",
   "metadata": {},
   "outputs": [],
   "source": []
  },
  {
   "cell_type": "code",
   "execution_count": null,
   "id": "64c31efb-1caf-4dac-b40b-372b4bb1841b",
   "metadata": {},
   "outputs": [],
   "source": []
  }
 ],
 "metadata": {
  "kernelspec": {
   "display_name": "Python 3 (ipykernel)",
   "language": "python",
   "name": "python3"
  },
  "language_info": {
   "codemirror_mode": {
    "name": "ipython",
    "version": 3
   },
   "file_extension": ".py",
   "mimetype": "text/x-python",
   "name": "python",
   "nbconvert_exporter": "python",
   "pygments_lexer": "ipython3",
   "version": "3.12.7"
  }
 },
 "nbformat": 4,
 "nbformat_minor": 5
}

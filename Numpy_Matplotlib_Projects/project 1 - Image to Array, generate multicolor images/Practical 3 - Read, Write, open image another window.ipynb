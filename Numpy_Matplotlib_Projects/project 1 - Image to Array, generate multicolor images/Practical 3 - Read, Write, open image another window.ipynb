{
 "cells": [
  {
   "cell_type": "markdown",
   "id": "727bfd30-6571-4779-9f20-32465ece392d",
   "metadata": {},
   "source": [
    "# WITHOUT USINGMATPLOTLIB WE WORK IMAGE WITH OPEN CV"
   ]
  },
  {
   "cell_type": "code",
   "execution_count": null,
   "id": "c96f1d95-5302-41d5-abe0-d3cc922622d6",
   "metadata": {},
   "outputs": [],
   "source": [
    "import cv2\n",
    "myimg = cv2.imread(r'C:\\Users\\91918\\OneDrive\\Desktop\\myimage.jpeg')"
   ]
  },
  {
   "cell_type": "code",
   "execution_count": null,
   "id": "3d6580bd-3337-483b-a1fd-45a714c8d15b",
   "metadata": {},
   "outputs": [],
   "source": [
    "wrong_img = cv2.imread(r'C:\\Users\\91918\\OneDrive\\Desktop\\dog.jpeg')"
   ]
  },
  {
   "cell_type": "code",
   "execution_count": null,
   "id": "a701a4b2-2792-4451-a40e-7861854a7f70",
   "metadata": {},
   "outputs": [],
   "source": [
    "type(wrong_img)"
   ]
  },
  {
   "cell_type": "code",
   "execution_count": null,
   "id": "7ff5aed2-ed24-443f-bffd-937114959cbb",
   "metadata": {},
   "outputs": [],
   "source": [
    "myimg = cv2.imread(r'C:\\Users\\91918\\OneDrive\\Desktop\\myimage.jpeg')"
   ]
  },
  {
   "cell_type": "code",
   "execution_count": null,
   "id": "dccd26bd-1462-4e60-a186-ca48ce902bed",
   "metadata": {},
   "outputs": [],
   "source": [
    "type(myimg)"
   ]
  },
  {
   "cell_type": "code",
   "execution_count": null,
   "id": "6c25d261-ea7b-4673-ad15-1b458c7c2435",
   "metadata": {},
   "outputs": [],
   "source": [
    "import cv2\n",
    "\n",
    "myimg = cv2.imread(r'C:\\Users\\91918\\OneDrive\\Desktop\\elephant.jpeg')\n",
    "\n",
    "cv2.imshow('nit', myimg)\n",
    "\n",
    "cv2.waitKey()                 # till the time user cannot close"
   ]
  },
  {
   "cell_type": "code",
   "execution_count": 1,
   "id": "b9e7c3e6-a378-4992-9a7c-1fd368b25bb4",
   "metadata": {},
   "outputs": [],
   "source": [
    "import cv2\n",
    "\n",
    "myimg = cv2.imread(r'C:\\Users\\91918\\OneDrive\\Desktop\\elephant.jpeg')\n",
    "\n",
    "while True:\n",
    "    cv2.imshow('nit',myimg)\n",
    "\n",
    "    if cv2.waitKey(1)& 0xFF == 27 :\n",
    "        break\n",
    "        \n",
    "cv2.destroyAllWindows()        "
   ]
  },
  {
   "cell_type": "code",
   "execution_count": null,
   "id": "51303811-3b0f-45fb-b08c-bae752814b85",
   "metadata": {},
   "outputs": [],
   "source": []
  },
  {
   "cell_type": "code",
   "execution_count": null,
   "id": "c6660fb2-8abd-4bea-870d-5ef570f4b181",
   "metadata": {},
   "outputs": [],
   "source": []
  },
  {
   "cell_type": "code",
   "execution_count": null,
   "id": "7fb81b4f-28f8-4e16-9651-75522df790e9",
   "metadata": {},
   "outputs": [],
   "source": []
  },
  {
   "cell_type": "code",
   "execution_count": null,
   "id": "7f8e8f53-4869-4d38-be6f-2d0afdcc2b72",
   "metadata": {},
   "outputs": [],
   "source": []
  },
  {
   "cell_type": "code",
   "execution_count": null,
   "id": "e96f35f5-6ad1-4462-b870-9d3cbeaf7675",
   "metadata": {},
   "outputs": [],
   "source": []
  },
  {
   "cell_type": "code",
   "execution_count": null,
   "id": "e0828e51-fd2d-4211-84fa-d0c0a821d5d1",
   "metadata": {},
   "outputs": [],
   "source": []
  },
  {
   "cell_type": "code",
   "execution_count": null,
   "id": "e1174348-b59f-4dd2-b189-967bda577ebf",
   "metadata": {},
   "outputs": [],
   "source": []
  },
  {
   "cell_type": "code",
   "execution_count": null,
   "id": "62b46276-2604-4b3d-b10c-05aab8852738",
   "metadata": {},
   "outputs": [],
   "source": []
  },
  {
   "cell_type": "code",
   "execution_count": null,
   "id": "aa52d2e4-81cb-4229-9433-126023cf8287",
   "metadata": {},
   "outputs": [],
   "source": []
  },
  {
   "cell_type": "code",
   "execution_count": null,
   "id": "6c7c9c23-36c0-4178-bfe3-064aafec7672",
   "metadata": {},
   "outputs": [],
   "source": []
  },
  {
   "cell_type": "code",
   "execution_count": null,
   "id": "f0ecbc52-09e5-4531-bdf4-0984902291f0",
   "metadata": {},
   "outputs": [],
   "source": []
  },
  {
   "cell_type": "code",
   "execution_count": null,
   "id": "4fc2af2a-58b7-47ee-81cc-b390848bd3da",
   "metadata": {},
   "outputs": [],
   "source": []
  },
  {
   "cell_type": "code",
   "execution_count": null,
   "id": "8c978b4f-f1d7-474d-9b9c-62f2f6d91a91",
   "metadata": {},
   "outputs": [],
   "source": []
  },
  {
   "cell_type": "code",
   "execution_count": null,
   "id": "911a5c19-ede3-4d60-b0d8-5660ea3b5cf7",
   "metadata": {},
   "outputs": [],
   "source": []
  },
  {
   "cell_type": "code",
   "execution_count": null,
   "id": "2c206a75-e657-4002-ba4c-d1ccb9c3e45b",
   "metadata": {},
   "outputs": [],
   "source": []
  },
  {
   "cell_type": "code",
   "execution_count": null,
   "id": "7a245adf-4df3-4d46-8a2a-d6fceb4870b4",
   "metadata": {},
   "outputs": [],
   "source": []
  }
 ],
 "metadata": {
  "kernelspec": {
   "display_name": "Python 3 (ipykernel)",
   "language": "python",
   "name": "python3"
  },
  "language_info": {
   "codemirror_mode": {
    "name": "ipython",
    "version": 3
   },
   "file_extension": ".py",
   "mimetype": "text/x-python",
   "name": "python",
   "nbconvert_exporter": "python",
   "pygments_lexer": "ipython3",
   "version": "3.12.7"
  }
 },
 "nbformat": 4,
 "nbformat_minor": 5
}

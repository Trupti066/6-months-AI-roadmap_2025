{
 "cells": [
  {
   "cell_type": "markdown",
   "id": "7f8e0495-ae56-426c-92f2-2afd07d00b3b",
   "metadata": {},
   "source": [
    "# Introduction to NLP (Natural Language Processing)\n",
    "\n",
    "NLP = The field of AI that helps computers understand, interpret, and respond to human language."
   ]
  },
  {
   "cell_type": "markdown",
   "id": "c592cf5d-684d-4090-b2d1-4aa6d872e927",
   "metadata": {},
   "source": [
    "**What is NLP?** Natural Language Processing (NLP) is a branch of **Artificial Intelligence** that helps computers understand, interpret, and respond to human language.\n",
    "It acts like a bridge between human **communication** and **computer understanding.**"
   ]
  },
  {
   "cell_type": "markdown",
   "id": "5fc0c710-032b-48a0-b6ad-5a0c27c4bd82",
   "metadata": {},
   "source": [
    "**It Work by process**\n",
    "  > Breaking down language into smaller parts (words, sentences, paragraphs).\n",
    "  > Understanding meaning using grammar, syntax, and semantics.\n",
    "  > Using context to respond or take action.\n",
    "\n",
    "**Applications**\n",
    "  - Voice assistants (Alexa, Siri, Google Assistant)\\\n",
    "  - Spell checkers (Google Docs, MS Word)\\\n",
    "  - Chatbots (customer service, bookings)\\\n",
    "  - Translation (Google Translate, DeepL)\\\n",
    "  - Information extraction (search engines)\\\n",
    "  - Keyword search (Google, Amazon search)\\\n",
    "  - Making appointments, buying items, etc.\\\n",
    "\n",
    "**Two main parts of NLP**\n",
    "\\\n",
    "1.**NLU**-Natural Language Understanding\n",
    "  > The computer reads text/speech and understands its meaning.\\\n",
    "  > Examples: Tokenization, POS tagging, Named Entity Recognition\\\n",
    "2.**NLG**-Natural Language Generation\n",
    "  > The computer generates natural-sounding text or speech.\\\n",
    "  > Examples: Chatbot replies, text summarization, machine translation\\\n",
    "\n",
    "**Libraries we will use:**\n",
    "> **NLTK**(Natural Language Toolkit) → main library for basic NLP tasks in Python.\\\n",
    "> **spaCy**→ fast, industrial NLP processing.\\\n",
    "> **Gensim**→ topic modeling, word embeddings.\\\n",
    "> **Stanford NLP (Stanza)** → advanced linguistic analysis"
   ]
  },
  {
   "cell_type": "markdown",
   "id": "89685789-9771-47ae-a1db-ea7dab841451",
   "metadata": {},
   "source": [
    "- We import nltk for NLP tasks.\\\n",
    "- Download the built-in language processing resources.\\\n",
    "- Load a sample text document about AI.\\\n",
    "- Use NLTK to break it down into smaller parts (tokens)"
   ]
  },
  {
   "cell_type": "code",
   "execution_count": 1,
   "id": "9b9f1610-8c13-4df5-82ee-28c8088b92c3",
   "metadata": {},
   "outputs": [],
   "source": [
    "import os\n",
    "import nltk\n",
    "#nltk.download()"
   ]
  },
  {
   "cell_type": "code",
   "execution_count": 2,
   "id": "9a5d16a6-f58b-4a28-8f51-7cd8093cd60a",
   "metadata": {},
   "outputs": [],
   "source": [
    "\n",
    "AI = '''Artificial Intelligence refers to the intelligence of machines. This is in contrast to the natural intelligence of\n",
    "humans and animals. With Artificial Intelligence, machines perform functions such as learning, planning, reasoning and\n",
    "problem-solving. Most noteworthy, Artificial Intelligence is the simulation of human intelligence by machines.\n",
    "It is probably the fastest-growing development in the World of technology and innovation. Furthermore, many experts believe\n",
    "AI could solve major challenges and crisis situations.'''"
   ]
  },
  {
   "cell_type": "code",
   "execution_count": 3,
   "id": "e387290d-417e-4ed9-8b4e-ae6af0b1c4af",
   "metadata": {},
   "outputs": [
    {
     "data": {
      "text/plain": [
       "'Artificial Intelligence refers to the intelligence of machines. This is in contrast to the natural intelligence of\\nhumans and animals. With Artificial Intelligence, machines perform functions such as learning, planning, reasoning and\\nproblem-solving. Most noteworthy, Artificial Intelligence is the simulation of human intelligence by machines.\\nIt is probably the fastest-growing development in the World of technology and innovation. Furthermore, many experts believe\\nAI could solve major challenges and crisis situations.'"
      ]
     },
     "execution_count": 3,
     "metadata": {},
     "output_type": "execute_result"
    }
   ],
   "source": [
    "AI"
   ]
  },
  {
   "cell_type": "code",
   "execution_count": 4,
   "id": "65fc9cfb-6d37-4dbe-a4d7-4075a81687b5",
   "metadata": {},
   "outputs": [
    {
     "data": {
      "text/plain": [
       "str"
      ]
     },
     "execution_count": 4,
     "metadata": {},
     "output_type": "execute_result"
    }
   ],
   "source": [
    "type(AI)"
   ]
  },
  {
   "cell_type": "markdown",
   "id": "5b4e834d-b3ed-4cc6-89b7-b7306099ab96",
   "metadata": {},
   "source": [
    "# Word Tokenization #\n",
    "- word_tokenize() splits text into words(tokens) and punctuation.\n",
    "- Each piece is called a token."
   ]
  },
  {
   "cell_type": "code",
   "execution_count": 5,
   "id": "2e41b479-e26b-4ab7-b5f1-a9c7d01097d2",
   "metadata": {},
   "outputs": [],
   "source": [
    "from nltk.tokenize import word_tokenize"
   ]
  },
  {
   "cell_type": "code",
   "execution_count": 6,
   "id": "4f7c9e23-19c1-4d48-b0b6-e49851e0afd6",
   "metadata": {},
   "outputs": [
    {
     "data": {
      "text/plain": [
       "['Artificial',\n",
       " 'Intelligence',\n",
       " 'refers',\n",
       " 'to',\n",
       " 'the',\n",
       " 'intelligence',\n",
       " 'of',\n",
       " 'machines',\n",
       " '.',\n",
       " 'This',\n",
       " 'is',\n",
       " 'in',\n",
       " 'contrast',\n",
       " 'to',\n",
       " 'the',\n",
       " 'natural',\n",
       " 'intelligence',\n",
       " 'of',\n",
       " 'humans',\n",
       " 'and',\n",
       " 'animals',\n",
       " '.',\n",
       " 'With',\n",
       " 'Artificial',\n",
       " 'Intelligence',\n",
       " ',',\n",
       " 'machines',\n",
       " 'perform',\n",
       " 'functions',\n",
       " 'such',\n",
       " 'as',\n",
       " 'learning',\n",
       " ',',\n",
       " 'planning',\n",
       " ',',\n",
       " 'reasoning',\n",
       " 'and',\n",
       " 'problem-solving',\n",
       " '.',\n",
       " 'Most',\n",
       " 'noteworthy',\n",
       " ',',\n",
       " 'Artificial',\n",
       " 'Intelligence',\n",
       " 'is',\n",
       " 'the',\n",
       " 'simulation',\n",
       " 'of',\n",
       " 'human',\n",
       " 'intelligence',\n",
       " 'by',\n",
       " 'machines',\n",
       " '.',\n",
       " 'It',\n",
       " 'is',\n",
       " 'probably',\n",
       " 'the',\n",
       " 'fastest-growing',\n",
       " 'development',\n",
       " 'in',\n",
       " 'the',\n",
       " 'World',\n",
       " 'of',\n",
       " 'technology',\n",
       " 'and',\n",
       " 'innovation',\n",
       " '.',\n",
       " 'Furthermore',\n",
       " ',',\n",
       " 'many',\n",
       " 'experts',\n",
       " 'believe',\n",
       " 'AI',\n",
       " 'could',\n",
       " 'solve',\n",
       " 'major',\n",
       " 'challenges',\n",
       " 'and',\n",
       " 'crisis',\n",
       " 'situations',\n",
       " '.']"
      ]
     },
     "execution_count": 6,
     "metadata": {},
     "output_type": "execute_result"
    }
   ],
   "source": [
    "AI_tokens = word_tokenize(AI)\n",
    "AI_tokens"
   ]
  },
  {
   "cell_type": "code",
   "execution_count": 7,
   "id": "3e7c76d2-3ed3-48fa-8c8f-502ea12305b1",
   "metadata": {},
   "outputs": [
    {
     "data": {
      "text/plain": [
       "81"
      ]
     },
     "execution_count": 7,
     "metadata": {},
     "output_type": "execute_result"
    }
   ],
   "source": [
    "len(AI_tokens)"
   ]
  },
  {
   "cell_type": "code",
   "execution_count": 8,
   "id": "72b9a57d-2299-429e-b9ae-d1674d8fb804",
   "metadata": {},
   "outputs": [
    {
     "data": {
      "text/plain": [
       "'Artificial Intelligence refers to the intelligence of machines. This is in contrast to the natural intelligence of\\nhumans and animals. With Artificial Intelligence, machines perform functions such as learning, planning, reasoning and\\nproblem-solving. Most noteworthy, Artificial Intelligence is the simulation of human intelligence by machines.\\nIt is probably the fastest-growing development in the World of technology and innovation. Furthermore, many experts believe\\nAI could solve major challenges and crisis situations.'"
      ]
     },
     "execution_count": 8,
     "metadata": {},
     "output_type": "execute_result"
    }
   ],
   "source": [
    "AI"
   ]
  },
  {
   "cell_type": "markdown",
   "id": "f1f390fe-7581-4639-8aa0-fb2cf0bbeacb",
   "metadata": {},
   "source": [
    "# Sentence Tokenization # \n",
    "- sent_tokenize() splits text into sentences.\n",
    "- It uses punctuation and grammar rules to decide sentence boundaries."
   ]
  },
  {
   "cell_type": "code",
   "execution_count": 9,
   "id": "17da145a-7bc4-43d1-8045-2e72fd1a5cad",
   "metadata": {},
   "outputs": [],
   "source": [
    "from nltk.tokenize import sent_tokenize"
   ]
  },
  {
   "cell_type": "code",
   "execution_count": 10,
   "id": "27c072ac-19e7-4032-911f-f3cf301ec082",
   "metadata": {},
   "outputs": [
    {
     "data": {
      "text/plain": [
       "['Artificial Intelligence refers to the intelligence of machines.',\n",
       " 'This is in contrast to the natural intelligence of\\nhumans and animals.',\n",
       " 'With Artificial Intelligence, machines perform functions such as learning, planning, reasoning and\\nproblem-solving.',\n",
       " 'Most noteworthy, Artificial Intelligence is the simulation of human intelligence by machines.',\n",
       " 'It is probably the fastest-growing development in the World of technology and innovation.',\n",
       " 'Furthermore, many experts believe\\nAI could solve major challenges and crisis situations.']"
      ]
     },
     "execution_count": 10,
     "metadata": {},
     "output_type": "execute_result"
    }
   ],
   "source": [
    "AI_sent = sent_tokenize(AI)\n",
    "AI_sent"
   ]
  },
  {
   "cell_type": "code",
   "execution_count": 11,
   "id": "235ea524-1288-45dc-84b7-82ac7d34c0e7",
   "metadata": {},
   "outputs": [
    {
     "data": {
      "text/plain": [
       "6"
      ]
     },
     "execution_count": 11,
     "metadata": {},
     "output_type": "execute_result"
    }
   ],
   "source": [
    "len(AI_sent)"
   ]
  },
  {
   "cell_type": "code",
   "execution_count": 12,
   "id": "f4304c81-be19-4f67-8c77-81d2cd7a11c8",
   "metadata": {},
   "outputs": [
    {
     "data": {
      "text/plain": [
       "'Artificial Intelligence refers to the intelligence of machines. This is in contrast to the natural intelligence of\\nhumans and animals. With Artificial Intelligence, machines perform functions such as learning, planning, reasoning and\\nproblem-solving. Most noteworthy, Artificial Intelligence is the simulation of human intelligence by machines.\\nIt is probably the fastest-growing development in the World of technology and innovation. Furthermore, many experts believe\\nAI could solve major challenges and crisis situations.'"
      ]
     },
     "execution_count": 12,
     "metadata": {},
     "output_type": "execute_result"
    }
   ],
   "source": [
    "AI"
   ]
  },
  {
   "cell_type": "markdown",
   "id": "6cc509d0-fe37-4d57-a682-a38e3f22e0ab",
   "metadata": {},
   "source": [
    "# Paragraph Tokenization \n",
    "- blankline_tokenize() splits text into paragraphs based on blank lines.\\\n",
    "- This is helpful when working with larger documents"
   ]
  },
  {
   "cell_type": "code",
   "execution_count": 13,
   "id": "6309c370-ee30-41ab-b169-bad2e3fdc0d3",
   "metadata": {},
   "outputs": [
    {
     "data": {
      "text/plain": [
       "['Artificial Intelligence refers to the intelligence of machines. This is in contrast to the natural intelligence of\\nhumans and animals. With Artificial Intelligence, machines perform functions such as learning, planning, reasoning and\\nproblem-solving. Most noteworthy, Artificial Intelligence is the simulation of human intelligence by machines.\\nIt is probably the fastest-growing development in the World of technology and innovation. Furthermore, many experts believe\\nAI could solve major challenges and crisis situations.']"
      ]
     },
     "execution_count": 13,
     "metadata": {},
     "output_type": "execute_result"
    }
   ],
   "source": [
    "from nltk.tokenize import blankline_tokenize # Give how many paragraphs \n",
    "AI_blank = blankline_tokenize(AI)\n",
    "print(\"Paragraphs:\", AI_blank)\n",
    "print(\"Number of paragraphs:\", len(AI_blank))"
   ]
  },
  {
   "cell_type": "code",
   "execution_count": 14,
   "id": "d5081b9e-5d94-4138-92f2-76737f574f64",
   "metadata": {},
   "outputs": [
    {
     "data": {
      "text/plain": [
       "1"
      ]
     },
     "execution_count": 14,
     "metadata": {},
     "output_type": "execute_result"
    }
   ],
   "source": [
    "len(AI_blank)"
   ]
  },
  {
   "cell_type": "markdown",
   "id": "31aa10d8-4b2a-4829-8bc3-4136a7e12b74",
   "metadata": {},
   "source": [
    " # TYPES OF TOKENS"
   ]
  },
  {
   "cell_type": "markdown",
   "id": "5a438afb-2aed-4f43-bdc0-441b98abeeec",
   "metadata": {},
   "source": [
    "### 1 - Bigram - Tokens with 2 words\n",
    "\n",
    "### 2 - Trigram - Tokens with 3 words\n",
    "\n",
    "### 3 - ngrams \n"
   ]
  },
  {
   "cell_type": "code",
   "execution_count": 22,
   "id": "a73c10ef-5f83-46f9-9fdf-b1df66a8dfb2",
   "metadata": {},
   "outputs": [],
   "source": [
    "import nltk"
   ]
  },
  {
   "cell_type": "code",
   "execution_count": 23,
   "id": "46207111-c65c-40fb-bad2-469308b094ac",
   "metadata": {},
   "outputs": [],
   "source": [
    "from nltk.util import bigrams,trigrams,ngrams"
   ]
  },
  {
   "cell_type": "code",
   "execution_count": 25,
   "id": "f1f3094c-452b-43c9-bf78-a7291e44a8a4",
   "metadata": {},
   "outputs": [
    {
     "data": {
      "text/plain": [
       "['I',\n",
       " 'am',\n",
       " 'studying',\n",
       " 'DataScience',\n",
       " 'with',\n",
       " 'AI',\n",
       " 'under',\n",
       " 'prakash',\n",
       " 'senapati',\n",
       " 'sir',\n",
       " 'guidance']"
      ]
     },
     "execution_count": 25,
     "metadata": {},
     "output_type": "execute_result"
    }
   ],
   "source": [
    "string = 'I am studying DataScience with AI under prakash senapati sir guidance'\n",
    "quotes_tokens = nltk.word_tokenize(string)\n",
    "quotes_tokens"
   ]
  },
  {
   "cell_type": "code",
   "execution_count": 26,
   "id": "078ef3c4-d17e-4cfa-983c-05e48ecdd776",
   "metadata": {},
   "outputs": [
    {
     "data": {
      "text/plain": [
       "'I am studying DataScience with AI under prakash senapati sir guidance'"
      ]
     },
     "execution_count": 26,
     "metadata": {},
     "output_type": "execute_result"
    }
   ],
   "source": [
    "string"
   ]
  },
  {
   "cell_type": "code",
   "execution_count": 28,
   "id": "e39b17f4-87ef-473a-aa52-2dbb62af54fa",
   "metadata": {},
   "outputs": [
    {
     "data": {
      "text/plain": [
       "11"
      ]
     },
     "execution_count": 28,
     "metadata": {},
     "output_type": "execute_result"
    }
   ],
   "source": [
    "len(quotes_tokens)"
   ]
  },
  {
   "cell_type": "markdown",
   "id": "5173b331-4a8e-401f-a5e8-0afdbac604ff",
   "metadata": {},
   "source": [
    "# Bigrams "
   ]
  },
  {
   "cell_type": "code",
   "execution_count": 29,
   "id": "0f9a4827-79e7-4472-bdc2-81cdccbba655",
   "metadata": {},
   "outputs": [
    {
     "data": {
      "text/plain": [
       "[('I', 'am'),\n",
       " ('am', 'studying'),\n",
       " ('studying', 'DataScience'),\n",
       " ('DataScience', 'with'),\n",
       " ('with', 'AI'),\n",
       " ('AI', 'under'),\n",
       " ('under', 'prakash'),\n",
       " ('prakash', 'senapati'),\n",
       " ('senapati', 'sir'),\n",
       " ('sir', 'guidance')]"
      ]
     },
     "execution_count": 29,
     "metadata": {},
     "output_type": "execute_result"
    }
   ],
   "source": [
    "quotes_bigrams = list(nltk.bigrams(quotes_tokens))\n",
    "quotes_bigrams"
   ]
  },
  {
   "cell_type": "code",
   "execution_count": 30,
   "id": "e344a12c-437c-408a-8bc3-22154a76f9ef",
   "metadata": {},
   "outputs": [
    {
     "data": {
      "text/plain": [
       "['I',\n",
       " 'am',\n",
       " 'studying',\n",
       " 'DataScience',\n",
       " 'with',\n",
       " 'AI',\n",
       " 'under',\n",
       " 'prakash',\n",
       " 'senapati',\n",
       " 'sir',\n",
       " 'guidance']"
      ]
     },
     "execution_count": 30,
     "metadata": {},
     "output_type": "execute_result"
    }
   ],
   "source": [
    "quotes_tokens"
   ]
  },
  {
   "cell_type": "markdown",
   "id": "140ccd9e-e364-49bd-abf1-32645bb13e67",
   "metadata": {},
   "source": [
    "# Trigrams"
   ]
  },
  {
   "cell_type": "code",
   "execution_count": 33,
   "id": "7ba0a75e-69c5-4d0c-beec-a162d0e3de90",
   "metadata": {},
   "outputs": [
    {
     "data": {
      "text/plain": [
       "[('I', 'am', 'studying'),\n",
       " ('am', 'studying', 'DataScience'),\n",
       " ('studying', 'DataScience', 'with'),\n",
       " ('DataScience', 'with', 'AI'),\n",
       " ('with', 'AI', 'under'),\n",
       " ('AI', 'under', 'prakash'),\n",
       " ('under', 'prakash', 'senapati'),\n",
       " ('prakash', 'senapati', 'sir'),\n",
       " ('senapati', 'sir', 'guidance')]"
      ]
     },
     "execution_count": 33,
     "metadata": {},
     "output_type": "execute_result"
    }
   ],
   "source": [
    "quotes_trigrams = list(nltk.trigrams(quotes_tokens))\n",
    "quotes_trigrams"
   ]
  },
  {
   "cell_type": "code",
   "execution_count": 34,
   "id": "1a1cdcf4-7961-4561-99b6-965c53244a04",
   "metadata": {},
   "outputs": [
    {
     "data": {
      "text/plain": [
       "9"
      ]
     },
     "execution_count": 34,
     "metadata": {},
     "output_type": "execute_result"
    }
   ],
   "source": [
    "len(quotes_trigrams)"
   ]
  },
  {
   "cell_type": "markdown",
   "id": "b012671c-de39-4122-acc9-860c69070e37",
   "metadata": {},
   "source": [
    "# ngrams"
   ]
  },
  {
   "cell_type": "code",
   "execution_count": 36,
   "id": "710d8fa9-d930-4ee3-aee6-06f29729c494",
   "metadata": {},
   "outputs": [
    {
     "ename": "TypeError",
     "evalue": "ngrams() missing 1 required positional argument: 'n'",
     "output_type": "error",
     "traceback": [
      "\u001b[1;31m---------------------------------------------------------------------------\u001b[0m",
      "\u001b[1;31mTypeError\u001b[0m                                 Traceback (most recent call last)",
      "Cell \u001b[1;32mIn[36], line 1\u001b[0m\n\u001b[1;32m----> 1\u001b[0m quotes_ngrams \u001b[38;5;241m=\u001b[39m \u001b[38;5;28mlist\u001b[39m(nltk\u001b[38;5;241m.\u001b[39mngrams(quotes_tokens))\n\u001b[0;32m      2\u001b[0m quotes_ngram\n",
      "\u001b[1;31mTypeError\u001b[0m: ngrams() missing 1 required positional argument: 'n'"
     ]
    }
   ],
   "source": [
    "quotes_ngrams = list(nltk.ngrams(quotes_tokens))\n",
    "quotes_ngram"
   ]
  },
  {
   "cell_type": "code",
   "execution_count": 38,
   "id": "b5e228ab-feeb-4158-8a61-f3246abf5f27",
   "metadata": {},
   "outputs": [
    {
     "data": {
      "text/plain": [
       "[('I', 'am', 'studying', 'DataScience'),\n",
       " ('am', 'studying', 'DataScience', 'with'),\n",
       " ('studying', 'DataScience', 'with', 'AI'),\n",
       " ('DataScience', 'with', 'AI', 'under'),\n",
       " ('with', 'AI', 'under', 'prakash'),\n",
       " ('AI', 'under', 'prakash', 'senapati'),\n",
       " ('under', 'prakash', 'senapati', 'sir'),\n",
       " ('prakash', 'senapati', 'sir', 'guidance')]"
      ]
     },
     "execution_count": 38,
     "metadata": {},
     "output_type": "execute_result"
    }
   ],
   "source": [
    "quotes_ngrams = list(nltk.ngrams(quotes_tokens, 4))      # ngrams of length 4\n",
    "quotes_ngrams"
   ]
  },
  {
   "cell_type": "code",
   "execution_count": 40,
   "id": "e72e2787-c32e-4aca-b7b9-fc6157b7534a",
   "metadata": {},
   "outputs": [
    {
     "data": {
      "text/plain": [
       "[('I', 'am', 'studying', 'DataScience', 'with'),\n",
       " ('am', 'studying', 'DataScience', 'with', 'AI'),\n",
       " ('studying', 'DataScience', 'with', 'AI', 'under'),\n",
       " ('DataScience', 'with', 'AI', 'under', 'prakash'),\n",
       " ('with', 'AI', 'under', 'prakash', 'senapati'),\n",
       " ('AI', 'under', 'prakash', 'senapati', 'sir'),\n",
       " ('under', 'prakash', 'senapati', 'sir', 'guidance')]"
      ]
     },
     "execution_count": 40,
     "metadata": {},
     "output_type": "execute_result"
    }
   ],
   "source": [
    "quotes_ngrams = list(nltk.ngrams(quotes_tokens, 5))      # ngrams of length 5 \n",
    "quotes_ngrams"
   ]
  },
  {
   "cell_type": "code",
   "execution_count": 41,
   "id": "d31fd44b-d264-415d-84f7-1cc8fe5992bf",
   "metadata": {},
   "outputs": [
    {
     "data": {
      "text/plain": [
       "[('I', 'am', 'studying', 'DataScience', 'with', 'AI', 'under'),\n",
       " ('am', 'studying', 'DataScience', 'with', 'AI', 'under', 'prakash'),\n",
       " ('studying', 'DataScience', 'with', 'AI', 'under', 'prakash', 'senapati'),\n",
       " ('DataScience', 'with', 'AI', 'under', 'prakash', 'senapati', 'sir'),\n",
       " ('with', 'AI', 'under', 'prakash', 'senapati', 'sir', 'guidance')]"
      ]
     },
     "execution_count": 41,
     "metadata": {},
     "output_type": "execute_result"
    }
   ],
   "source": [
    "quotes_ngrams = list(nltk.ngrams(quotes_tokens, 7))       # ngrams of length 7\n",
    "quotes_ngrams"
   ]
  },
  {
   "cell_type": "code",
   "execution_count": 43,
   "id": "1cd9bd87-66d5-4a39-8db1-8e2e8be6be0f",
   "metadata": {},
   "outputs": [
    {
     "data": {
      "text/plain": [
       "[]"
      ]
     },
     "execution_count": 43,
     "metadata": {},
     "output_type": "execute_result"
    }
   ],
   "source": [
    "quotes_ngrams = list(nltk.ngrams(quotes_tokens, 15))\n",
    "quotes_ngrams"
   ]
  },
  {
   "cell_type": "code",
   "execution_count": null,
   "id": "2c0bab7a-0630-437d-b0bd-548432f595a1",
   "metadata": {},
   "outputs": [],
   "source": []
  },
  {
   "cell_type": "code",
   "execution_count": null,
   "id": "117f5b10-06fc-43ae-9cf4-04197b34c35c",
   "metadata": {},
   "outputs": [],
   "source": []
  },
  {
   "cell_type": "code",
   "execution_count": null,
   "id": "c5b3636a-aebe-46e4-91fc-02e87deef926",
   "metadata": {},
   "outputs": [],
   "source": []
  },
  {
   "cell_type": "code",
   "execution_count": null,
   "id": "dbd37c8c-b87d-4cdf-b4fc-720965be6016",
   "metadata": {},
   "outputs": [],
   "source": []
  },
  {
   "cell_type": "code",
   "execution_count": null,
   "id": "64460aff-db0c-41cc-9eb9-aa6c3cc49183",
   "metadata": {},
   "outputs": [],
   "source": []
  },
  {
   "cell_type": "code",
   "execution_count": null,
   "id": "8437fbee-a1da-4a01-b8ed-18c62de3841a",
   "metadata": {},
   "outputs": [],
   "source": []
  },
  {
   "cell_type": "code",
   "execution_count": null,
   "id": "352115f8-cd3d-42e9-8a61-e6baa7e37334",
   "metadata": {},
   "outputs": [],
   "source": []
  }
 ],
 "metadata": {
  "kernelspec": {
   "display_name": "Python 3 (ipykernel)",
   "language": "python",
   "name": "python3"
  },
  "language_info": {
   "codemirror_mode": {
    "name": "ipython",
    "version": 3
   },
   "file_extension": ".py",
   "mimetype": "text/x-python",
   "name": "python",
   "nbconvert_exporter": "python",
   "pygments_lexer": "ipython3",
   "version": "3.12.7"
  }
 },
 "nbformat": 4,
 "nbformat_minor": 5
}

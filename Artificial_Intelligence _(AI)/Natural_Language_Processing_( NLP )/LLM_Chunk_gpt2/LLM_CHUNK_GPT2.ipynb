{
  "nbformat": 4,
  "nbformat_minor": 0,
  "metadata": {
    "colab": {
      "provenance": [],
      "gpuType": "T4"
    },
    "kernelspec": {
      "name": "python3",
      "display_name": "Python 3"
    },
    "language_info": {
      "name": "python"
    },
    "accelerator": "GPU"
  },
  "cells": [
    {
      "cell_type": "markdown",
      "source": [
        "# ***LLM_CHUNK_GPT2***"
      ],
      "metadata": {
        "id": "f2vOAcwLQ5Nc"
      }
    },
    {
      "cell_type": "markdown",
      "source": [
        "- For chunking text to process with large language models (LLMs), you can create a simple function that splits long texts into smaller chunks.\n",
        "\n",
        "- This is particularly useful when the input text exceeds the model's token limit. Below is an example using Python, leveraging the transformers library to illustrate how you can chunk text before feeding it into an LLM."
      ],
      "metadata": {
        "id": "O1wL10NCQyMU"
      }
    },
    {
      "cell_type": "markdown",
      "source": [
        "- The term \"transformers\" in the context of natural language processing (NLP) and machine learning can refer to various models and architectures built upon the original transformer architecture introduced in the paper \"Attention is All You Need\" by Vaswani et al. in 2017. Here are some key transformer models and variants that have been developed since then:\n",
        "\n",
        "1. BERT (Bidirectional Encoder Representations from Transformers)\n",
        "Focuses on understanding context in both directions (left and right) using masked language modeling.\n",
        "2. GPT (Generative Pre-trained Transformer)\n",
        "Developed by OpenAI, GPT models (like GPT-2 and GPT-3) are autoregressive models primarily used for text generation.\n",
        "3. T5 (Text-to-Text Transfer Transformer)\n",
        "Treats every NLP task as a text-to-text problem, making it very flexible across various applications.\n",
        "4. RoBERTa (A Robustly Optimized BERT Pretraining Approach)\n",
        "An improvement over BERT with more training data and different training strategies.\n",
        "5. XLNet\n",
        "Combines the ideas of BERT and autoregressive models, allowing for better capturing of context and dependencies.\n",
        "6. ALBERT (A Lite BERT)\n",
        "A smaller and more efficient version of BERT that reduces the number of parameters while maintaining performance.\n",
        "7. DistilBERT\n",
        "A distilled version of BERT that is smaller and faster while retaining much of its performance.\n",
        "8. ERNIE (Enhanced Representation through kNowledge Integration)\n",
        "Developed by Baidu, it incorporates external knowledge to improve language understanding.\n",
        "9. ELECTRA\n",
        "Instead of masking tokens like BERT, ELECTRA predicts replaced tokens, leading to more efficient training.\n",
        "10. DeBERTa (Decoding-enhanced BERT with Disentangled Attention)\n",
        "Uses a disentangled attention mechanism to improve performance on various NLP tasks.\n",
        "11. Vision Transformers (ViT)\n",
        "Adapts the transformer architecture for image processing tasks, treating images as sequences of patches.\n",
        "12. BART (Bidirectional and Auto-Regressive Transformers)\n",
        "Combines BERT's bidirectional encoding and GPT's autoregressive decoding for tasks like summarization and translation.\n",
        "13. LayoutLM\n",
        "Designed for document understanding, incorporating layout information from scanned documents.\n",
        "14. Swin Transformer\n",
        "A hierarchical vision transformer that can be used for both image classification and detection tasks.\n",
        "15. Transformer-XL\n",
        "Introduces recurrence to the transformer architecture, allowing it to handle longer sequences more effectively.\n",
        "These are just some of the prominent transformer models and architectures. The field is rapidly evolving, with new variations and improvements continually being introduced, so the number and types of transformers are continually growing.\n"
      ],
      "metadata": {
        "id": "e4_N-9NCPJau"
      }
    },
    {
      "cell_type": "markdown",
      "source": [],
      "metadata": {
        "id": "SmJ0VCRzPGM1"
      }
    },
    {
      "cell_type": "code",
      "execution_count": 12,
      "metadata": {
        "colab": {
          "base_uri": "https://localhost:8080/"
        },
        "id": "ttmUUmoMHpDX",
        "outputId": "41ecbc88-fe21-41f8-8b0b-24b1037d769c"
      },
      "outputs": [
        {
          "output_type": "stream",
          "name": "stdout",
          "text": [
            "Drive already mounted at /content/drive; to attempt to forcibly remount, call drive.mount(\"/content/drive\", force_remount=True).\n"
          ]
        }
      ],
      "source": [
        "from google.colab import drive\n",
        "drive.mount('/content/drive')"
      ]
    },
    {
      "cell_type": "code",
      "source": [
        "!nvidia-smi"
      ],
      "metadata": {
        "colab": {
          "base_uri": "https://localhost:8080/"
        },
        "id": "7NjP6DVLJ6Z8",
        "outputId": "09417aa4-1a8e-496a-c700-5c42790b3817"
      },
      "execution_count": 13,
      "outputs": [
        {
          "output_type": "stream",
          "name": "stdout",
          "text": [
            "Mon Sep 22 16:24:25 2025       \n",
            "+-----------------------------------------------------------------------------------------+\n",
            "| NVIDIA-SMI 550.54.15              Driver Version: 550.54.15      CUDA Version: 12.4     |\n",
            "|-----------------------------------------+------------------------+----------------------+\n",
            "| GPU  Name                 Persistence-M | Bus-Id          Disp.A | Volatile Uncorr. ECC |\n",
            "| Fan  Temp   Perf          Pwr:Usage/Cap |           Memory-Usage | GPU-Util  Compute M. |\n",
            "|                                         |                        |               MIG M. |\n",
            "|=========================================+========================+======================|\n",
            "|   0  Tesla T4                       Off |   00000000:00:04.0 Off |                    0 |\n",
            "| N/A   44C    P8              9W /   70W |       2MiB /  15360MiB |      0%      Default |\n",
            "|                                         |                        |                  N/A |\n",
            "+-----------------------------------------+------------------------+----------------------+\n",
            "                                                                                         \n",
            "+-----------------------------------------------------------------------------------------+\n",
            "| Processes:                                                                              |\n",
            "|  GPU   GI   CI        PID   Type   Process name                              GPU Memory |\n",
            "|        ID   ID                                                               Usage      |\n",
            "|=========================================================================================|\n",
            "|  No running processes found                                                             |\n",
            "+-----------------------------------------------------------------------------------------+\n"
          ]
        }
      ]
    },
    {
      "cell_type": "code",
      "source": [
        "pip install transformers\n"
      ],
      "metadata": {
        "colab": {
          "base_uri": "https://localhost:8080/"
        },
        "id": "Kxn-3AhtJ93w",
        "outputId": "3921261f-c927-4a07-97a7-319d0e29cd2f"
      },
      "execution_count": 14,
      "outputs": [
        {
          "output_type": "stream",
          "name": "stdout",
          "text": [
            "Requirement already satisfied: transformers in /usr/local/lib/python3.12/dist-packages (4.56.1)\n",
            "Requirement already satisfied: filelock in /usr/local/lib/python3.12/dist-packages (from transformers) (3.19.1)\n",
            "Requirement already satisfied: huggingface-hub<1.0,>=0.34.0 in /usr/local/lib/python3.12/dist-packages (from transformers) (0.34.4)\n",
            "Requirement already satisfied: numpy>=1.17 in /usr/local/lib/python3.12/dist-packages (from transformers) (2.0.2)\n",
            "Requirement already satisfied: packaging>=20.0 in /usr/local/lib/python3.12/dist-packages (from transformers) (25.0)\n",
            "Requirement already satisfied: pyyaml>=5.1 in /usr/local/lib/python3.12/dist-packages (from transformers) (6.0.2)\n",
            "Requirement already satisfied: regex!=2019.12.17 in /usr/local/lib/python3.12/dist-packages (from transformers) (2024.11.6)\n",
            "Requirement already satisfied: requests in /usr/local/lib/python3.12/dist-packages (from transformers) (2.32.4)\n",
            "Requirement already satisfied: tokenizers<=0.23.0,>=0.22.0 in /usr/local/lib/python3.12/dist-packages (from transformers) (0.22.0)\n",
            "Requirement already satisfied: safetensors>=0.4.3 in /usr/local/lib/python3.12/dist-packages (from transformers) (0.6.2)\n",
            "Requirement already satisfied: tqdm>=4.27 in /usr/local/lib/python3.12/dist-packages (from transformers) (4.67.1)\n",
            "Requirement already satisfied: fsspec>=2023.5.0 in /usr/local/lib/python3.12/dist-packages (from huggingface-hub<1.0,>=0.34.0->transformers) (2025.3.0)\n",
            "Requirement already satisfied: typing-extensions>=3.7.4.3 in /usr/local/lib/python3.12/dist-packages (from huggingface-hub<1.0,>=0.34.0->transformers) (4.15.0)\n",
            "Requirement already satisfied: hf-xet<2.0.0,>=1.1.3 in /usr/local/lib/python3.12/dist-packages (from huggingface-hub<1.0,>=0.34.0->transformers) (1.1.9)\n",
            "Requirement already satisfied: charset_normalizer<4,>=2 in /usr/local/lib/python3.12/dist-packages (from requests->transformers) (3.4.3)\n",
            "Requirement already satisfied: idna<4,>=2.5 in /usr/local/lib/python3.12/dist-packages (from requests->transformers) (3.10)\n",
            "Requirement already satisfied: urllib3<3,>=1.21.1 in /usr/local/lib/python3.12/dist-packages (from requests->transformers) (2.5.0)\n",
            "Requirement already satisfied: certifi>=2017.4.17 in /usr/local/lib/python3.12/dist-packages (from requests->transformers) (2025.8.3)\n"
          ]
        }
      ]
    },
    {
      "cell_type": "code",
      "source": [
        "from transformers import AutoTokenizer\n",
        "\n",
        "# Load the tokenizer for a specific model (e.g., GPT-2)\n",
        "tokenizer = AutoTokenizer.from_pretrained(\"gpt2\")\n",
        "\n",
        "# Tokenize some input text\n",
        "text = \"Hello, how are you?\"\n",
        "tokens = tokenizer(text, return_tensors='pt')\n",
        "print(tokens)"
      ],
      "metadata": {
        "colab": {
          "base_uri": "https://localhost:8080/"
        },
        "id": "04wQilF3KYWR",
        "outputId": "743f8e43-e2f6-4dd1-80bf-7ab82e23d0b1"
      },
      "execution_count": 15,
      "outputs": [
        {
          "output_type": "stream",
          "name": "stdout",
          "text": [
            "{'input_ids': tensor([[15496,    11,   703,   389,   345,    30]]), 'attention_mask': tensor([[1, 1, 1, 1, 1, 1]])}\n"
          ]
        }
      ]
    },
    {
      "cell_type": "markdown",
      "source": [
        "- input text \"Hello, how are you?\". Specifically, the output will be a dictionary containing the token IDs and attention masks in a format that PyTorch models can use.\n",
        "\n",
        "- Token IDs: A tensor containing the integer representations of the tokens from the input text.\n",
        "\n",
        "- Attention Mask: A tensor indicating which tokens should be attended to (1 for real tokens, 0 for padding).\n",
        "\n",
        "- input_ids: This is a tensor containing the numerical IDs corresponding to the tokens. For the input text, it may look like [15496, 11, 703, 389, 345, 329, 30]. Each number corresponds to a specific token in the GPT-2 vocabulary.\n",
        "\n",
        "- attention_mask: This tensor is used to indicate which tokens should be processed by the model. In this case, since there are no padding tokens, all values are 1."
      ],
      "metadata": {
        "id": "wiQkFG-wQESr"
      }
    },
    {
      "cell_type": "code",
      "source": [
        "from transformers import AutoModelForCausalLM\n",
        "\n",
        "# Load the pre-trained GPT-2 model\n",
        "model = AutoModelForCausalLM.from_pretrained(\"gpt2\")\n",
        "\n",
        "# Generate text\n",
        "input_ids = tokenizer.encode(\"indian cricket\", return_tensors='pt')\n",
        "output = model.generate(input_ids, max_length=50)\n",
        "generated_text = tokenizer.decode(output[0], skip_special_tokens=True)\n",
        "\n",
        "print(generated_text)\n"
      ],
      "metadata": {
        "colab": {
          "base_uri": "https://localhost:8080/"
        },
        "id": "xI-9AJ1qMH4G",
        "outputId": "b4f7f69a-0a66-44f2-8b04-8c53d81c3f81"
      },
      "execution_count": 16,
      "outputs": [
        {
          "output_type": "stream",
          "name": "stderr",
          "text": [
            "The attention mask and the pad token id were not set. As a consequence, you may observe unexpected behavior. Please pass your input's `attention_mask` to obtain reliable results.\n",
            "Setting `pad_token_id` to `eos_token_id`:50256 for open-end generation.\n"
          ]
        },
        {
          "output_type": "stream",
          "name": "stdout",
          "text": [
            "indian cricket team, which has been in the country for over a decade.\n",
            "\n",
            "The team's captain, Ravi Shankar, has been in the country for over a decade.\n",
            "\n",
            "The team's captain, Ravi Shankar,\n"
          ]
        }
      ]
    },
    {
      "cell_type": "markdown",
      "source": [
        "- When you run the provided code, it uses the GPT-2 model to generate text based on the prompt \"Once upon a time.\" Here’s a breakdown of what happens and what you can expect as output:\n",
        "\n",
        "- Steps in the Code\n",
        "Load the Model: The AutoModelForCausalLM.from_pretrained(\"gpt2\") line loads the pre-trained GPT-2 model.\n",
        "\n",
        "Tokenization: The prompt \"Once upon a time\" is tokenized into input IDs that the model can understand.\n",
        "\n",
        "- Text Generation: The model.generate() method generates text based on the input IDs. The max_length=50 argument specifies that the total length of the generated text (including the prompt) should not exceed 50 tokens.\n",
        "\n",
        "- Decoding: The output is then decoded back into human-readable text using the tokenizer.\n",
        "\n",
        "#Output Characteristics\n",
        "- Length: The length of the output will depend on the prompt and the max_length parameter. If the prompt is short and max_length is set to 50, the output will be roughly 30 to 40 tokens of generated text.\n",
        "\n",
        "- Creativity: The continuation may include imaginative scenarios, characters, or events that align with the narrative style of fairy tales or stories."
      ],
      "metadata": {
        "id": "Kk_yJPy6QPq7"
      }
    },
    {
      "cell_type": "code",
      "source": [
        "from transformers import AutoModelForCausalLM\n",
        "\n",
        "# Load the pre-trained GPT-2 model\n",
        "model = AutoModelForCausalLM.from_pretrained(\"gpt2\")\n",
        "\n",
        "# Generate text\n",
        "input_ids = tokenizer.encode(\"indian chess\", return_tensors='pt')\n",
        "output = model.generate(input_ids, max_length=50)\n",
        "generated_text = tokenizer.decode(output[0], skip_special_tokens=True)\n",
        "\n",
        "print(generated_text)"
      ],
      "metadata": {
        "colab": {
          "base_uri": "https://localhost:8080/"
        },
        "id": "O5ftUfFZMtoS",
        "outputId": "888796fa-7979-454c-9a52-b5e92684dbba"
      },
      "execution_count": 17,
      "outputs": [
        {
          "output_type": "stream",
          "name": "stderr",
          "text": [
            "The attention mask and the pad token id were not set. As a consequence, you may observe unexpected behavior. Please pass your input's `attention_mask` to obtain reliable results.\n",
            "Setting `pad_token_id` to `eos_token_id`:50256 for open-end generation.\n"
          ]
        },
        {
          "output_type": "stream",
          "name": "stdout",
          "text": [
            "indian chess player, who was born in the United States, has been a member of the Chess Federation of America since the 1980s.\n",
            "\n",
            "\"I'm a big fan of the game and I'm very proud of the fact that I'm\n"
          ]
        }
      ]
    },
    {
      "cell_type": "code",
      "source": [
        "from transformers import AutoTokenizer, AutoModelForCausalLM\n",
        "\n",
        "# Load a pre-trained model and tokenizer\n",
        "model_name = \"gpt2\"  # You can replace with any other LLM\n",
        "tokenizer = AutoTokenizer.from_pretrained(model_name)\n",
        "model = AutoModelForCausalLM.from_pretrained(model_name)\n",
        "\n",
        "def chunk_text(text, max_length=512):\n",
        "    \"\"\"Chunk text into smaller pieces.\"\"\"\n",
        "    tokens = tokenizer.encode(text, return_tensors='pt')[0]\n",
        "    chunks = []\n",
        "\n",
        "    for i in range(0, len(tokens), max_length):\n",
        "        chunk = tokens[i:i + max_length]\n",
        "        chunks.append(chunk)\n",
        "\n",
        "    return chunks\n",
        "\n",
        "def generate_responses(chunks):\n",
        "    \"\"\"Generate responses for each chunk using the LLM.\"\"\"\n",
        "    responses = []\n",
        "    for chunk in chunks:\n",
        "        input_ids = chunk.unsqueeze(0)  # Add batch dimension\n",
        "        # Increase max_length to a value greater than or equal to the longest chunk length\n",
        "        output = model.generate(input_ids, max_length=512)  # Generate response\n",
        "        responses.append(tokenizer.decode(output[0], skip_special_tokens=True))\n",
        "\n",
        "    return responses\n",
        "\n",
        "# Example long text\n",
        "long_text = \"brief explain about generative ai \" * 50  # Repeat to simulate long text\n",
        "\n",
        "# Chunk the text\n",
        "chunks = chunk_text(long_text)\n",
        "\n",
        "# Generate responses for each chunk\n",
        "responses = generate_responses(chunks)\n",
        "\n",
        "# Print the responses\n",
        "for i, response in enumerate(responses):\n",
        "    print(f\"Response for chunk {i+1}:\\n{response}\\n\")"
      ],
      "metadata": {
        "colab": {
          "base_uri": "https://localhost:8080/"
        },
        "id": "FtbOsHxNNZAR",
        "outputId": "c3a6417f-e197-42dd-f7f1-34f043b97af6"
      },
      "execution_count": 18,
      "outputs": [
        {
          "output_type": "stream",
          "name": "stderr",
          "text": [
            "The attention mask and the pad token id were not set. As a consequence, you may observe unexpected behavior. Please pass your input's `attention_mask` to obtain reliable results.\n",
            "Setting `pad_token_id` to `eos_token_id`:50256 for open-end generation.\n"
          ]
        },
        {
          "output_type": "stream",
          "name": "stdout",
          "text": [
            "Response for chunk 1:\n",
            "brief explain about generative ai brief explain about generative ai brief explain about generative ai brief explain about generative ai brief explain about generative ai brief explain about generative ai brief explain about generative ai brief explain about generative ai brief explain about generative ai brief explain about generative ai brief explain about generative ai brief explain about generative ai brief explain about generative ai brief explain about generative ai brief explain about generative ai brief explain about generative ai brief explain about generative ai brief explain about generative ai brief explain about generative ai brief explain about generative ai brief explain about generative ai brief explain about generative ai brief explain about generative ai brief explain about generative ai brief explain about generative ai brief explain about generative ai brief explain about generative ai brief explain about generative ai brief explain about generative ai brief explain about generative ai brief explain about generative ai brief explain about generative ai brief explain about generative ai brief explain about generative ai brief explain about generative ai brief explain about generative ai brief explain about generative ai brief explain about generative ai brief explain about generative ai brief explain about generative ai brief explain about generative ai brief explain about generative ai brief explain about generative ai brief explain about generative ai brief explain about generative ai brief explain about generative ai brief explain about generative ai brief explain about generative ai brief explain about generative ai brief explain about generative ai  explain about generative ai brief explain about generative ai brief explain about generative ai brief explain about generative ai brief explain about generative ai brief explain about generative ai brief explain about generative ai brief explain about generative ai brief explain about generative ai brief explain about generative ai brief explain about generative ai brief explain about generative ai brief explain about generative ai brief explain about generative ai brief explain about generative ai brief explain about generative ai brief explain about generative ai brief explain about generative ai brief explain about generative ai brief explain about generative ai brief explain about generative ai brief explain about generative ai brief explain about generative\n",
            "\n"
          ]
        }
      ]
    },
    {
      "cell_type": "markdown",
      "source": [
        "- AutoTokenizer and AutoModelForCausalLM are part of the Hugging Face transformers library, which simplifies the process of working with various pre-trained transformer models.\n",
        "\n",
        "- AutoTokenizer\n",
        "Purpose: AutoTokenizer is designed to automatically retrieve the appropriate tokenizer for a given model. Tokenizers convert raw text into tokens that the model can understand, and they also handle various tasks like adding special tokens, padding, and truncating.\n",
        "\n",
        "- Usage:\n",
        "You can load a tokenizer by specifying the model name or path.\n",
        "The tokenizer will be automatically configured according to the model's requirements.\n",
        "\n",
        "\n",
        "- Explanation of the Code\n",
        "\n",
        "- Loading the Model and Tokenizer:\n",
        "\n",
        "- The code loads a pre-trained GPT-2 model and its corresponding tokenizer. You can replace \"gpt2\" with any other compatible model.\n",
        "\n",
        "- Chunking Function:\n",
        "The chunk_text function takes a string of text and splits it into chunks of a specified maximum length (in tokens). It encodes the text into tokens and then slices it into manageable pieces.\n",
        "\n",
        "- Generating Responses:\n",
        "The generate_responses function iterates through each chunk, generates a response using the model, and decodes the output back into text.\n",
        "\n",
        "- Putting It All Together:\n",
        "A long text is created (you can replace this with your actual text).\n",
        "The text is chunked, and responses are generated for each chunk.\n",
        "\n",
        "- Output\n",
        "The output will show responses generated for each chunk of the input text, allowing you to process longer texts effectively without exceeding the token limit of the model.\n",
        "\n",
        "- Note\n",
        "When processing multiple chunks, consider how to handle overlapping content, especially if the chunks are related, to maintain context. You might want to implement strategies like including the last few tokens of the previous chunk in the next one.\n",
        "\n"
      ],
      "metadata": {
        "id": "su4dtUaoQgaY"
      }
    }
  ]
}
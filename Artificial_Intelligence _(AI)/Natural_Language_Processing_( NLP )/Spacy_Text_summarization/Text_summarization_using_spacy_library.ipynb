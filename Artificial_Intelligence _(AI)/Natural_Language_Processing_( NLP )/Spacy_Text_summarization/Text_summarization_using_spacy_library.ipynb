{
  "nbformat": 4,
  "nbformat_minor": 0,
  "metadata": {
    "colab": {
      "provenance": []
    },
    "kernelspec": {
      "name": "python3",
      "display_name": "Python 3"
    },
    "language_info": {
      "name": "python"
    }
  },
  "cells": [
    {
      "cell_type": "code",
      "execution_count": 2,
      "metadata": {
        "id": "HB32epG4ziCd",
        "colab": {
          "base_uri": "https://localhost:8080/"
        },
        "outputId": "84a7adf9-bc07-43a5-f69a-3b762e2e7566"
      },
      "outputs": [
        {
          "output_type": "stream",
          "name": "stdout",
          "text": [
            "Requirement already satisfied: spacy in /usr/local/lib/python3.12/dist-packages (3.8.7)\n",
            "Requirement already satisfied: spacy-legacy<3.1.0,>=3.0.11 in /usr/local/lib/python3.12/dist-packages (from spacy) (3.0.12)\n",
            "Requirement already satisfied: spacy-loggers<2.0.0,>=1.0.0 in /usr/local/lib/python3.12/dist-packages (from spacy) (1.0.5)\n",
            "Requirement already satisfied: murmurhash<1.1.0,>=0.28.0 in /usr/local/lib/python3.12/dist-packages (from spacy) (1.0.13)\n",
            "Requirement already satisfied: cymem<2.1.0,>=2.0.2 in /usr/local/lib/python3.12/dist-packages (from spacy) (2.0.11)\n",
            "Requirement already satisfied: preshed<3.1.0,>=3.0.2 in /usr/local/lib/python3.12/dist-packages (from spacy) (3.0.10)\n",
            "Requirement already satisfied: thinc<8.4.0,>=8.3.4 in /usr/local/lib/python3.12/dist-packages (from spacy) (8.3.6)\n",
            "Requirement already satisfied: wasabi<1.2.0,>=0.9.1 in /usr/local/lib/python3.12/dist-packages (from spacy) (1.1.3)\n",
            "Requirement already satisfied: srsly<3.0.0,>=2.4.3 in /usr/local/lib/python3.12/dist-packages (from spacy) (2.5.1)\n",
            "Requirement already satisfied: catalogue<2.1.0,>=2.0.6 in /usr/local/lib/python3.12/dist-packages (from spacy) (2.0.10)\n",
            "Requirement already satisfied: weasel<0.5.0,>=0.1.0 in /usr/local/lib/python3.12/dist-packages (from spacy) (0.4.1)\n",
            "Requirement already satisfied: typer<1.0.0,>=0.3.0 in /usr/local/lib/python3.12/dist-packages (from spacy) (0.17.4)\n",
            "Requirement already satisfied: tqdm<5.0.0,>=4.38.0 in /usr/local/lib/python3.12/dist-packages (from spacy) (4.67.1)\n",
            "Requirement already satisfied: numpy>=1.19.0 in /usr/local/lib/python3.12/dist-packages (from spacy) (2.0.2)\n",
            "Requirement already satisfied: requests<3.0.0,>=2.13.0 in /usr/local/lib/python3.12/dist-packages (from spacy) (2.32.4)\n",
            "Requirement already satisfied: pydantic!=1.8,!=1.8.1,<3.0.0,>=1.7.4 in /usr/local/lib/python3.12/dist-packages (from spacy) (2.11.9)\n",
            "Requirement already satisfied: jinja2 in /usr/local/lib/python3.12/dist-packages (from spacy) (3.1.6)\n",
            "Requirement already satisfied: setuptools in /usr/local/lib/python3.12/dist-packages (from spacy) (75.2.0)\n",
            "Requirement already satisfied: packaging>=20.0 in /usr/local/lib/python3.12/dist-packages (from spacy) (25.0)\n",
            "Requirement already satisfied: langcodes<4.0.0,>=3.2.0 in /usr/local/lib/python3.12/dist-packages (from spacy) (3.5.0)\n",
            "Requirement already satisfied: language-data>=1.2 in /usr/local/lib/python3.12/dist-packages (from langcodes<4.0.0,>=3.2.0->spacy) (1.3.0)\n",
            "Requirement already satisfied: annotated-types>=0.6.0 in /usr/local/lib/python3.12/dist-packages (from pydantic!=1.8,!=1.8.1,<3.0.0,>=1.7.4->spacy) (0.7.0)\n",
            "Requirement already satisfied: pydantic-core==2.33.2 in /usr/local/lib/python3.12/dist-packages (from pydantic!=1.8,!=1.8.1,<3.0.0,>=1.7.4->spacy) (2.33.2)\n",
            "Requirement already satisfied: typing-extensions>=4.12.2 in /usr/local/lib/python3.12/dist-packages (from pydantic!=1.8,!=1.8.1,<3.0.0,>=1.7.4->spacy) (4.15.0)\n",
            "Requirement already satisfied: typing-inspection>=0.4.0 in /usr/local/lib/python3.12/dist-packages (from pydantic!=1.8,!=1.8.1,<3.0.0,>=1.7.4->spacy) (0.4.1)\n",
            "Requirement already satisfied: charset_normalizer<4,>=2 in /usr/local/lib/python3.12/dist-packages (from requests<3.0.0,>=2.13.0->spacy) (3.4.3)\n",
            "Requirement already satisfied: idna<4,>=2.5 in /usr/local/lib/python3.12/dist-packages (from requests<3.0.0,>=2.13.0->spacy) (3.10)\n",
            "Requirement already satisfied: urllib3<3,>=1.21.1 in /usr/local/lib/python3.12/dist-packages (from requests<3.0.0,>=2.13.0->spacy) (2.5.0)\n",
            "Requirement already satisfied: certifi>=2017.4.17 in /usr/local/lib/python3.12/dist-packages (from requests<3.0.0,>=2.13.0->spacy) (2025.8.3)\n",
            "Requirement already satisfied: blis<1.4.0,>=1.3.0 in /usr/local/lib/python3.12/dist-packages (from thinc<8.4.0,>=8.3.4->spacy) (1.3.0)\n",
            "Requirement already satisfied: confection<1.0.0,>=0.0.1 in /usr/local/lib/python3.12/dist-packages (from thinc<8.4.0,>=8.3.4->spacy) (0.1.5)\n",
            "Requirement already satisfied: click>=8.0.0 in /usr/local/lib/python3.12/dist-packages (from typer<1.0.0,>=0.3.0->spacy) (8.2.1)\n",
            "Requirement already satisfied: shellingham>=1.3.0 in /usr/local/lib/python3.12/dist-packages (from typer<1.0.0,>=0.3.0->spacy) (1.5.4)\n",
            "Requirement already satisfied: rich>=10.11.0 in /usr/local/lib/python3.12/dist-packages (from typer<1.0.0,>=0.3.0->spacy) (13.9.4)\n",
            "Requirement already satisfied: cloudpathlib<1.0.0,>=0.7.0 in /usr/local/lib/python3.12/dist-packages (from weasel<0.5.0,>=0.1.0->spacy) (0.22.0)\n",
            "Requirement already satisfied: smart-open<8.0.0,>=5.2.1 in /usr/local/lib/python3.12/dist-packages (from weasel<0.5.0,>=0.1.0->spacy) (7.3.1)\n",
            "Requirement already satisfied: MarkupSafe>=2.0 in /usr/local/lib/python3.12/dist-packages (from jinja2->spacy) (3.0.2)\n",
            "Requirement already satisfied: marisa-trie>=1.1.0 in /usr/local/lib/python3.12/dist-packages (from language-data>=1.2->langcodes<4.0.0,>=3.2.0->spacy) (1.3.1)\n",
            "Requirement already satisfied: markdown-it-py>=2.2.0 in /usr/local/lib/python3.12/dist-packages (from rich>=10.11.0->typer<1.0.0,>=0.3.0->spacy) (4.0.0)\n",
            "Requirement already satisfied: pygments<3.0.0,>=2.13.0 in /usr/local/lib/python3.12/dist-packages (from rich>=10.11.0->typer<1.0.0,>=0.3.0->spacy) (2.19.2)\n",
            "Requirement already satisfied: wrapt in /usr/local/lib/python3.12/dist-packages (from smart-open<8.0.0,>=5.2.1->weasel<0.5.0,>=0.1.0->spacy) (1.17.3)\n",
            "Requirement already satisfied: mdurl~=0.1 in /usr/local/lib/python3.12/dist-packages (from markdown-it-py>=2.2.0->rich>=10.11.0->typer<1.0.0,>=0.3.0->spacy) (0.1.2)\n"
          ]
        }
      ],
      "source": [
        "pip install spacy"
      ]
    },
    {
      "cell_type": "code",
      "source": [
        "!python -m spacy download en_core_web_sm"
      ],
      "metadata": {
        "colab": {
          "base_uri": "https://localhost:8080/"
        },
        "id": "A6jrEvd412A0",
        "outputId": "f9489408-8c39-428a-c370-d90f2d5f7500"
      },
      "execution_count": 3,
      "outputs": [
        {
          "output_type": "stream",
          "name": "stdout",
          "text": [
            "Collecting en-core-web-sm==3.8.0\n",
            "  Downloading https://github.com/explosion/spacy-models/releases/download/en_core_web_sm-3.8.0/en_core_web_sm-3.8.0-py3-none-any.whl (12.8 MB)\n",
            "\u001b[2K     \u001b[90m━━━━━━━━━━━━━━━━━━━━━━━━━━━━━━━━━━━━━━━━\u001b[0m \u001b[32m12.8/12.8 MB\u001b[0m \u001b[31m80.0 MB/s\u001b[0m eta \u001b[36m0:00:00\u001b[0m\n",
            "\u001b[?25h\u001b[38;5;2m✔ Download and installation successful\u001b[0m\n",
            "You can now load the package via spacy.load('en_core_web_sm')\n",
            "\u001b[38;5;3m⚠ Restart to reload dependencies\u001b[0m\n",
            "If you are in a Jupyter or Colab notebook, you may need to restart Python in\n",
            "order to load all the package's dependencies. You can do this by selecting the\n",
            "'Restart kernel' or 'Restart runtime' option.\n"
          ]
        }
      ]
    },
    {
      "cell_type": "code",
      "source": [
        "import spacy\n",
        "\n",
        "#load the English language model\n",
        "nlp = spacy.load(\"en_core_web_sm\")\n",
        "\n",
        "#Example text\n",
        "text = \"Apple is looking at buying U.K. startup for $1 billion.\"\n",
        "\n",
        "# process the text\n",
        "doc = nlp(text)"
      ],
      "metadata": {
        "id": "YrMQ_lEL5PPl"
      },
      "execution_count": 4,
      "outputs": []
    },
    {
      "cell_type": "code",
      "source": [
        "doc"
      ],
      "metadata": {
        "colab": {
          "base_uri": "https://localhost:8080/"
        },
        "id": "xUTpI5hc5PSr",
        "outputId": "503041be-119f-4894-d67b-1cd7709be36f"
      },
      "execution_count": 5,
      "outputs": [
        {
          "output_type": "execute_result",
          "data": {
            "text/plain": [
              "Apple is looking at buying U.K. startup for $1 billion."
            ]
          },
          "metadata": {},
          "execution_count": 5
        }
      ]
    },
    {
      "cell_type": "code",
      "source": [
        "# printing named entities found in the text\n",
        "print(\"Named Entities, Phrases, and Concepts:\")\n",
        "for ent in doc.ents:\n",
        "    print(f\"{ent.text} {ent.label_:10}{ent.start_char:10}{ent.end_char:10}\")"
      ],
      "metadata": {
        "colab": {
          "base_uri": "https://localhost:8080/"
        },
        "id": "RtsnmGIn5PcZ",
        "outputId": "ee54b241-a7c0-4b27-eb7a-b9e245b1999a"
      },
      "execution_count": 6,
      "outputs": [
        {
          "output_type": "stream",
          "name": "stdout",
          "text": [
            "Named Entities, Phrases, and Concepts:\n",
            "Apple ORG                0         5\n",
            "U.K. GPE               27        31\n",
            "$1 billion MONEY             44        54\n"
          ]
        }
      ]
    },
    {
      "cell_type": "code",
      "source": [
        "import spacy\n",
        "nlp = spacy.load(\"en_core_web_sm\")\n",
        "doc = nlp(\"data science and ai & gen ai has great career ahead\")"
      ],
      "metadata": {
        "id": "guUC0W7j5PfK"
      },
      "execution_count": 7,
      "outputs": []
    },
    {
      "cell_type": "code",
      "source": [
        "doc"
      ],
      "metadata": {
        "colab": {
          "base_uri": "https://localhost:8080/"
        },
        "id": "VV4wpcpA5Pho",
        "outputId": "7d8b22e1-5bcf-4e7c-dcaf-d8a061eb13a8"
      },
      "execution_count": 8,
      "outputs": [
        {
          "output_type": "execute_result",
          "data": {
            "text/plain": [
              "data science and ai & gen ai has great career ahead"
            ]
          },
          "metadata": {},
          "execution_count": 8
        }
      ]
    },
    {
      "cell_type": "code",
      "source": [
        "for token in doc:\n",
        "  print(token.text)"
      ],
      "metadata": {
        "colab": {
          "base_uri": "https://localhost:8080/"
        },
        "id": "wFxh1K975PkL",
        "outputId": "ab9f7e6e-7a1b-4e0d-d148-6e87c77768f8"
      },
      "execution_count": 9,
      "outputs": [
        {
          "output_type": "stream",
          "name": "stdout",
          "text": [
            "data\n",
            "science\n",
            "and\n",
            "ai\n",
            "&\n",
            "gen\n",
            "ai\n",
            "has\n",
            "great\n",
            "career\n",
            "ahead\n"
          ]
        }
      ]
    },
    {
      "cell_type": "code",
      "source": [
        "doc"
      ],
      "metadata": {
        "colab": {
          "base_uri": "https://localhost:8080/"
        },
        "id": "552M8HUI5Prs",
        "outputId": "6c5d57a9-e5e1-4173-fcef-c5f164609168"
      },
      "execution_count": 10,
      "outputs": [
        {
          "output_type": "execute_result",
          "data": {
            "text/plain": [
              "data science and ai & gen ai has great career ahead"
            ]
          },
          "metadata": {},
          "execution_count": 10
        }
      ]
    },
    {
      "cell_type": "code",
      "source": [
        "for token in doc:\n",
        "  print(token.pos_)"
      ],
      "metadata": {
        "colab": {
          "base_uri": "https://localhost:8080/"
        },
        "id": "X4l3_2mf5Put",
        "outputId": "485f57eb-4811-4897-8ab7-ec47e27604c0"
      },
      "execution_count": 11,
      "outputs": [
        {
          "output_type": "stream",
          "name": "stdout",
          "text": [
            "NOUN\n",
            "NOUN\n",
            "CCONJ\n",
            "PROPN\n",
            "CCONJ\n",
            "PROPN\n",
            "PROPN\n",
            "VERB\n",
            "ADJ\n",
            "NOUN\n",
            "ADV\n"
          ]
        }
      ]
    },
    {
      "cell_type": "code",
      "source": [
        "for token in doc:\n",
        "  print(token.text,':',token.pos_)"
      ],
      "metadata": {
        "colab": {
          "base_uri": "https://localhost:8080/"
        },
        "id": "IGf6QNHP5Pxf",
        "outputId": "5d6446e7-8925-4c30-c4aa-640f42426539"
      },
      "execution_count": 12,
      "outputs": [
        {
          "output_type": "stream",
          "name": "stdout",
          "text": [
            "data : NOUN\n",
            "science : NOUN\n",
            "and : CCONJ\n",
            "ai : PROPN\n",
            "& : CCONJ\n",
            "gen : PROPN\n",
            "ai : PROPN\n",
            "has : VERB\n",
            "great : ADJ\n",
            "career : NOUN\n",
            "ahead : ADV\n"
          ]
        }
      ]
    },
    {
      "cell_type": "code",
      "source": [
        "for token in doc:\n",
        "  print(token.text, ':', token.pos_, '-->', token.lemma_,'-', token.dep_)"
      ],
      "metadata": {
        "colab": {
          "base_uri": "https://localhost:8080/"
        },
        "id": "6tqS-ago-Z87",
        "outputId": "fa7d0fcf-b341-4cb0-fed1-1fbee5ef705d"
      },
      "execution_count": 13,
      "outputs": [
        {
          "output_type": "stream",
          "name": "stdout",
          "text": [
            "data : NOUN --> data - compound\n",
            "science : NOUN --> science - nsubj\n",
            "and : CCONJ --> and - cc\n",
            "ai : PROPN --> ai - conj\n",
            "& : CCONJ --> & - cc\n",
            "gen : PROPN --> gen - conj\n",
            "ai : PROPN --> ai - conj\n",
            "has : VERB --> have - ROOT\n",
            "great : ADJ --> great - amod\n",
            "career : NOUN --> career - dobj\n",
            "ahead : ADV --> ahead - advmod\n"
          ]
        }
      ]
    },
    {
      "cell_type": "code",
      "source": [
        "import spacy\n",
        "\n",
        "nlp= spacy.load(\"en_core_web_sm\")\n",
        "doc = nlp(\"Apple is looking at buying U>K startup for $1 billion\")\n",
        "\n",
        "for token in doc:\n",
        "    print(token.text,'-->', token.lemma_,'-', token.pos_,'-', token.tag_,'-', token.dep_,'-',\n",
        "            token.shape_,'-', token.is_alpha,'-', token.is_stop)"
      ],
      "metadata": {
        "colab": {
          "base_uri": "https://localhost:8080/"
        },
        "id": "X-4RHgbm-Z_1",
        "outputId": "ad37b96e-5618-4037-ce89-118a43adc1e6"
      },
      "execution_count": 14,
      "outputs": [
        {
          "output_type": "stream",
          "name": "stdout",
          "text": [
            "Apple --> Apple - PROPN - NNP - nsubj - Xxxxx - True - False\n",
            "is --> be - AUX - VBZ - aux - xx - True - True\n",
            "looking --> look - VERB - VBG - ROOT - xxxx - True - False\n",
            "at --> at - ADP - IN - prep - xx - True - True\n",
            "buying --> buy - VERB - VBG - pcomp - xxxx - True - False\n",
            "U --> U - PROPN - NNP - nmod - X - True - False\n",
            "> --> > - PROPN - NNP - nmod - > - False - False\n",
            "K --> k - NOUN - NN - dobj - X - True - False\n",
            "startup --> startup - VERB - VBD - advcl - xxxx - True - False\n",
            "for --> for - ADP - IN - prep - xxx - True - True\n",
            "$ --> $ - SYM - $ - quantmod - $ - False - False\n",
            "1 --> 1 - NUM - CD - compound - d - False - False\n",
            "billion --> billion - NUM - CD - pobj - xxxx - True - False\n"
          ]
        }
      ]
    },
    {
      "cell_type": "markdown",
      "source": [
        "**TEXT SUMMARIZATION**"
      ],
      "metadata": {
        "id": "9I42Ha4GApW0"
      }
    },
    {
      "cell_type": "code",
      "source": [
        "text = \"\"\"There are broadly two types of extractive summarization tasks depending on what the summarization program focuses on. The first is generic summarization, which focuses on obtaining a generic summary or abstract of the collection (whether documents, or sets of images, or videos, news stories etc.). The second is query relevant summarization, sometimes called query-based summarization, which summarizes objects specific to a query. Summarization systems are able to create both query relevant text summaries and generic machine-generated summaries depending on what the user needs.\n",
        "An example of a summarization problem is document summarization, which attempts to automatically produce an abstract from a given document. Sometimes one might be interested in generating a summary from a single source document, while others can use multiple source documents (for example, a cluster of articles on the same topic). This problem is called multi-document summarization. A related application is summarizing news articles. Imagine a system, which automatically pulls together news articles on a given topic (from the web), and concisely represents the latest news as a summary.\n",
        "Image collection summarization is another application example of automatic summarization. It consists in selecting a representative set of images from a larger set of images.[4] A summary in this context is useful to show the most representative images of results in an image collection exploration system. Video summarization is a related domain, where the system automatically creates a trailer of a long video. This also has applications in consumer or personal videos, where one might want to skip the boring or repetitive actions. Similarly, in surveillance videos, one would want to extract important and suspicious activity, while ignoring all the boring and redundant frames captured \"\"\"\n"
      ],
      "metadata": {
        "id": "09K-LqZ6-aCx"
      },
      "execution_count": 15,
      "outputs": []
    },
    {
      "cell_type": "code",
      "source": [
        "text\n"
      ],
      "metadata": {
        "colab": {
          "base_uri": "https://localhost:8080/",
          "height": 244
        },
        "id": "2DtZ4Xmr-aJM",
        "outputId": "5e499f79-22c2-49e8-fea6-3851af87e536"
      },
      "execution_count": 16,
      "outputs": [
        {
          "output_type": "execute_result",
          "data": {
            "text/plain": [
              "'There are broadly two types of extractive summarization tasks depending on what the summarization program focuses on. The first is generic summarization, which focuses on obtaining a generic summary or abstract of the collection (whether documents, or sets of images, or videos, news stories etc.). The second is query relevant summarization, sometimes called query-based summarization, which summarizes objects specific to a query. Summarization systems are able to create both query relevant text summaries and generic machine-generated summaries depending on what the user needs.\\nAn example of a summarization problem is document summarization, which attempts to automatically produce an abstract from a given document. Sometimes one might be interested in generating a summary from a single source document, while others can use multiple source documents (for example, a cluster of articles on the same topic). This problem is called multi-document summarization. A related application is summarizing news articles. Imagine a system, which automatically pulls together news articles on a given topic (from the web), and concisely represents the latest news as a summary.\\nImage collection summarization is another application example of automatic summarization. It consists in selecting a representative set of images from a larger set of images.[4] A summary in this context is useful to show the most representative images of results in an image collection exploration system. Video summarization is a related domain, where the system automatically creates a trailer of a long video. This also has applications in consumer or personal videos, where one might want to skip the boring or repetitive actions. Similarly, in surveillance videos, one would want to extract important and suspicious activity, while ignoring all the boring and redundant frames captured '"
            ],
            "application/vnd.google.colaboratory.intrinsic+json": {
              "type": "string"
            }
          },
          "metadata": {},
          "execution_count": 16
        }
      ]
    },
    {
      "cell_type": "code",
      "source": [
        "import spacy\n",
        "from spacy.lang.en.stop_words import STOP_WORDS\n",
        "from string import punctuation"
      ],
      "metadata": {
        "id": "pkLra_Eo-aMQ"
      },
      "execution_count": 17,
      "outputs": []
    },
    {
      "cell_type": "code",
      "source": [
        "stopwords = list(STOP_WORDS)\n",
        "stopwords"
      ],
      "metadata": {
        "id": "E__3fMOK-aPJ",
        "colab": {
          "base_uri": "https://localhost:8080/"
        },
        "outputId": "81c909a4-5f89-478e-a244-8cfb307f1b87"
      },
      "execution_count": 18,
      "outputs": [
        {
          "output_type": "execute_result",
          "data": {
            "text/plain": [
              "['now',\n",
              " 'what',\n",
              " 'anywhere',\n",
              " 'himself',\n",
              " 'side',\n",
              " 'anyone',\n",
              " 'really',\n",
              " 'than',\n",
              " 'unless',\n",
              " 'such',\n",
              " \"'ve\",\n",
              " 'another',\n",
              " 'wherein',\n",
              " 'other',\n",
              " 'this',\n",
              " 'their',\n",
              " 'enough',\n",
              " 'done',\n",
              " 'nothing',\n",
              " 'nowhere',\n",
              " 'she',\n",
              " 'into',\n",
              " 'whether',\n",
              " 'quite',\n",
              " 'per',\n",
              " 'in',\n",
              " 'myself',\n",
              " 'is',\n",
              " 'or',\n",
              " 'yourselves',\n",
              " 'sometimes',\n",
              " 'those',\n",
              " 'thereby',\n",
              " 'wherever',\n",
              " 'itself',\n",
              " 'something',\n",
              " 'twenty',\n",
              " 'hundred',\n",
              " 'next',\n",
              " \"'d\",\n",
              " 'there',\n",
              " 'if',\n",
              " 'back',\n",
              " 'its',\n",
              " 'various',\n",
              " 'thence',\n",
              " 'using',\n",
              " 'them',\n",
              " 'has',\n",
              " 'indeed',\n",
              " 'elsewhere',\n",
              " 'take',\n",
              " 'your',\n",
              " 'doing',\n",
              " 'more',\n",
              " 'please',\n",
              " 'regarding',\n",
              " 'him',\n",
              " 'but',\n",
              " 'whereupon',\n",
              " 'below',\n",
              " 'hereby',\n",
              " 'while',\n",
              " 'except',\n",
              " 'used',\n",
              " 'nobody',\n",
              " 'so',\n",
              " 'forty',\n",
              " 'how',\n",
              " 'ten',\n",
              " 'afterwards',\n",
              " 'up',\n",
              " 'with',\n",
              " 'moreover',\n",
              " 'anyway',\n",
              " 'toward',\n",
              " 'because',\n",
              " 'mine',\n",
              " 'an',\n",
              " 'all',\n",
              " 'have',\n",
              " 'everyone',\n",
              " 'put',\n",
              " 'even',\n",
              " 'yet',\n",
              " 'could',\n",
              " 'been',\n",
              " 'no',\n",
              " 'besides',\n",
              " 'it',\n",
              " 'may',\n",
              " 'as',\n",
              " 'hence',\n",
              " 'keep',\n",
              " 'several',\n",
              " 'thru',\n",
              " 'over',\n",
              " 'hereafter',\n",
              " 'n’t',\n",
              " 'can',\n",
              " 'own',\n",
              " 'became',\n",
              " 'least',\n",
              " 'front',\n",
              " 'not',\n",
              " 'else',\n",
              " 'everything',\n",
              " 'part',\n",
              " 'becomes',\n",
              " 're',\n",
              " 'whose',\n",
              " 'give',\n",
              " '’s',\n",
              " 'none',\n",
              " 'neither',\n",
              " 'for',\n",
              " 'become',\n",
              " 'i',\n",
              " 'thereupon',\n",
              " 'seeming',\n",
              " 'first',\n",
              " 'whatever',\n",
              " 'his',\n",
              " 'therein',\n",
              " 'across',\n",
              " 'should',\n",
              " 'twelve',\n",
              " 'whereas',\n",
              " 'a',\n",
              " 'few',\n",
              " '’ve',\n",
              " 'due',\n",
              " 'show',\n",
              " 'am',\n",
              " 'whole',\n",
              " 'around',\n",
              " 'out',\n",
              " 'latter',\n",
              " 'without',\n",
              " 'meanwhile',\n",
              " 'whereby',\n",
              " 'within',\n",
              " 'before',\n",
              " 'of',\n",
              " 'someone',\n",
              " 'are',\n",
              " 'each',\n",
              " 'fifteen',\n",
              " 'he',\n",
              " 'n‘t',\n",
              " 'to',\n",
              " \"'ll\",\n",
              " 'herein',\n",
              " 'however',\n",
              " 'perhaps',\n",
              " 'therefore',\n",
              " 'by',\n",
              " 'here',\n",
              " 'sometime',\n",
              " 'until',\n",
              " \"n't\",\n",
              " 'others',\n",
              " 'amongst',\n",
              " 'during',\n",
              " 'our',\n",
              " 'must',\n",
              " 'beyond',\n",
              " 'already',\n",
              " '‘ve',\n",
              " 'nine',\n",
              " 'whoever',\n",
              " 'whenever',\n",
              " 'alone',\n",
              " 'go',\n",
              " 'behind',\n",
              " 'just',\n",
              " 'seemed',\n",
              " 'anything',\n",
              " 'on',\n",
              " 'they',\n",
              " '‘ll',\n",
              " 'through',\n",
              " \"'s\",\n",
              " 'third',\n",
              " 'and',\n",
              " 'thereafter',\n",
              " 'nevertheless',\n",
              " 'still',\n",
              " 'everywhere',\n",
              " '‘s',\n",
              " 'whom',\n",
              " 'amount',\n",
              " 'together',\n",
              " 'full',\n",
              " 'almost',\n",
              " 'much',\n",
              " 'otherwise',\n",
              " 'ca',\n",
              " \"'m\",\n",
              " 'formerly',\n",
              " 'one',\n",
              " 'towards',\n",
              " 'throughout',\n",
              " 'very',\n",
              " 'which',\n",
              " 'at',\n",
              " 'fifty',\n",
              " 'hers',\n",
              " 'will',\n",
              " 'well',\n",
              " 'bottom',\n",
              " 'rather',\n",
              " 'somehow',\n",
              " 'her',\n",
              " 'get',\n",
              " 'did',\n",
              " 'above',\n",
              " 'both',\n",
              " 'six',\n",
              " 'had',\n",
              " 'me',\n",
              " 'last',\n",
              " 'latterly',\n",
              " 'when',\n",
              " '’d',\n",
              " '’m',\n",
              " 'although',\n",
              " 'anyhow',\n",
              " 'yourself',\n",
              " 'again',\n",
              " 'why',\n",
              " 'move',\n",
              " 'herself',\n",
              " 'themselves',\n",
              " 'namely',\n",
              " 'down',\n",
              " 'nor',\n",
              " 'somewhere',\n",
              " 'either',\n",
              " 'would',\n",
              " 'about',\n",
              " 'call',\n",
              " 'mostly',\n",
              " 'do',\n",
              " 'further',\n",
              " 'most',\n",
              " 'we',\n",
              " 'does',\n",
              " 'two',\n",
              " 'eight',\n",
              " 'seems',\n",
              " 'via',\n",
              " 'see',\n",
              " 'former',\n",
              " 'say',\n",
              " 'was',\n",
              " 'the',\n",
              " 'where',\n",
              " 'always',\n",
              " \"'re\",\n",
              " 'though',\n",
              " 'some',\n",
              " 'these',\n",
              " 'from',\n",
              " 'whereafter',\n",
              " 'too',\n",
              " 'serious',\n",
              " 'becoming',\n",
              " 'whither',\n",
              " 'eleven',\n",
              " 'between',\n",
              " 'hereupon',\n",
              " 'ever',\n",
              " 'every',\n",
              " 'made',\n",
              " 'noone',\n",
              " 'might',\n",
              " 'less',\n",
              " 'name',\n",
              " 'yours',\n",
              " 'be',\n",
              " 'many',\n",
              " 'empty',\n",
              " 'you',\n",
              " 'being',\n",
              " '‘m',\n",
              " 'onto',\n",
              " 'five',\n",
              " 'often',\n",
              " 'who',\n",
              " 'also',\n",
              " 'ourselves',\n",
              " 'any',\n",
              " 'that',\n",
              " 'after',\n",
              " 'sixty',\n",
              " 'four',\n",
              " 'under',\n",
              " 'beforehand',\n",
              " 'then',\n",
              " 'cannot',\n",
              " 'once',\n",
              " 'upon',\n",
              " '‘d',\n",
              " 'whence',\n",
              " 'three',\n",
              " 'ours',\n",
              " 'against',\n",
              " 'since',\n",
              " 'were',\n",
              " 'among',\n",
              " 'beside',\n",
              " 'top',\n",
              " 'same',\n",
              " 'never',\n",
              " 'my',\n",
              " '‘re',\n",
              " 'seem',\n",
              " 'thus',\n",
              " 'off',\n",
              " '’ll',\n",
              " '’re',\n",
              " 'along',\n",
              " 'us',\n",
              " 'only',\n",
              " 'make']"
            ]
          },
          "metadata": {},
          "execution_count": 18
        }
      ]
    },
    {
      "cell_type": "code",
      "source": [
        "len(stopwords)"
      ],
      "metadata": {
        "id": "foAs2eQm-aR8",
        "colab": {
          "base_uri": "https://localhost:8080/"
        },
        "outputId": "b52ccc5e-6c1c-4f54-e8e0-387eb1ae20ca"
      },
      "execution_count": 19,
      "outputs": [
        {
          "output_type": "execute_result",
          "data": {
            "text/plain": [
              "326"
            ]
          },
          "metadata": {},
          "execution_count": 19
        }
      ]
    },
    {
      "cell_type": "code",
      "source": [
        "nlp = spacy.load('en_core_web_sm')"
      ],
      "metadata": {
        "id": "jUOmOx2F-aUo"
      },
      "execution_count": 20,
      "outputs": []
    },
    {
      "cell_type": "code",
      "source": [
        "text"
      ],
      "metadata": {
        "id": "MAVRo5KG-aXN",
        "colab": {
          "base_uri": "https://localhost:8080/",
          "height": 244
        },
        "outputId": "af8d4b8d-c224-4844-d3ba-622323b31960"
      },
      "execution_count": 21,
      "outputs": [
        {
          "output_type": "execute_result",
          "data": {
            "text/plain": [
              "'There are broadly two types of extractive summarization tasks depending on what the summarization program focuses on. The first is generic summarization, which focuses on obtaining a generic summary or abstract of the collection (whether documents, or sets of images, or videos, news stories etc.). The second is query relevant summarization, sometimes called query-based summarization, which summarizes objects specific to a query. Summarization systems are able to create both query relevant text summaries and generic machine-generated summaries depending on what the user needs.\\nAn example of a summarization problem is document summarization, which attempts to automatically produce an abstract from a given document. Sometimes one might be interested in generating a summary from a single source document, while others can use multiple source documents (for example, a cluster of articles on the same topic). This problem is called multi-document summarization. A related application is summarizing news articles. Imagine a system, which automatically pulls together news articles on a given topic (from the web), and concisely represents the latest news as a summary.\\nImage collection summarization is another application example of automatic summarization. It consists in selecting a representative set of images from a larger set of images.[4] A summary in this context is useful to show the most representative images of results in an image collection exploration system. Video summarization is a related domain, where the system automatically creates a trailer of a long video. This also has applications in consumer or personal videos, where one might want to skip the boring or repetitive actions. Similarly, in surveillance videos, one would want to extract important and suspicious activity, while ignoring all the boring and redundant frames captured '"
            ],
            "application/vnd.google.colaboratory.intrinsic+json": {
              "type": "string"
            }
          },
          "metadata": {},
          "execution_count": 21
        }
      ]
    },
    {
      "cell_type": "code",
      "source": [
        "doc = nlp(text)\n",
        "doc"
      ],
      "metadata": {
        "id": "aBfslNyQ-aZz",
        "colab": {
          "base_uri": "https://localhost:8080/"
        },
        "outputId": "d4d8c41b-8ff6-4765-f55d-9ce57715d4fb"
      },
      "execution_count": 22,
      "outputs": [
        {
          "output_type": "execute_result",
          "data": {
            "text/plain": [
              "There are broadly two types of extractive summarization tasks depending on what the summarization program focuses on. The first is generic summarization, which focuses on obtaining a generic summary or abstract of the collection (whether documents, or sets of images, or videos, news stories etc.). The second is query relevant summarization, sometimes called query-based summarization, which summarizes objects specific to a query. Summarization systems are able to create both query relevant text summaries and generic machine-generated summaries depending on what the user needs.\n",
              "An example of a summarization problem is document summarization, which attempts to automatically produce an abstract from a given document. Sometimes one might be interested in generating a summary from a single source document, while others can use multiple source documents (for example, a cluster of articles on the same topic). This problem is called multi-document summarization. A related application is summarizing news articles. Imagine a system, which automatically pulls together news articles on a given topic (from the web), and concisely represents the latest news as a summary.\n",
              "Image collection summarization is another application example of automatic summarization. It consists in selecting a representative set of images from a larger set of images.[4] A summary in this context is useful to show the most representative images of results in an image collection exploration system. Video summarization is a related domain, where the system automatically creates a trailer of a long video. This also has applications in consumer or personal videos, where one might want to skip the boring or repetitive actions. Similarly, in surveillance videos, one would want to extract important and suspicious activity, while ignoring all the boring and redundant frames captured "
            ]
          },
          "metadata": {},
          "execution_count": 22
        }
      ]
    },
    {
      "cell_type": "code",
      "source": [
        "# lets get the tokens from text\n",
        "tokens = [token.text for token in doc]\n",
        "print(tokens)\n",
        "#when we execute everythihg we created tokens from the text & not removed any of the stopwords & didnt cleaned the data"
      ],
      "metadata": {
        "id": "ohvATiw9-bVA",
        "colab": {
          "base_uri": "https://localhost:8080/"
        },
        "outputId": "8f70e728-f19e-4045-85b5-0e8c286edc57"
      },
      "execution_count": 23,
      "outputs": [
        {
          "output_type": "stream",
          "name": "stdout",
          "text": [
            "['There', 'are', 'broadly', 'two', 'types', 'of', 'extractive', 'summarization', 'tasks', 'depending', 'on', 'what', 'the', 'summarization', 'program', 'focuses', 'on', '.', 'The', 'first', 'is', 'generic', 'summarization', ',', 'which', 'focuses', 'on', 'obtaining', 'a', 'generic', 'summary', 'or', 'abstract', 'of', 'the', 'collection', '(', 'whether', 'documents', ',', 'or', 'sets', 'of', 'images', ',', 'or', 'videos', ',', 'news', 'stories', 'etc', '.', ')', '.', 'The', 'second', 'is', 'query', 'relevant', 'summarization', ',', 'sometimes', 'called', 'query', '-', 'based', 'summarization', ',', 'which', 'summarizes', 'objects', 'specific', 'to', 'a', 'query', '.', 'Summarization', 'systems', 'are', 'able', 'to', 'create', 'both', 'query', 'relevant', 'text', 'summaries', 'and', 'generic', 'machine', '-', 'generated', 'summaries', 'depending', 'on', 'what', 'the', 'user', 'needs', '.', '\\n', 'An', 'example', 'of', 'a', 'summarization', 'problem', 'is', 'document', 'summarization', ',', 'which', 'attempts', 'to', 'automatically', 'produce', 'an', 'abstract', 'from', 'a', 'given', 'document', '.', 'Sometimes', 'one', 'might', 'be', 'interested', 'in', 'generating', 'a', 'summary', 'from', 'a', 'single', 'source', 'document', ',', 'while', 'others', 'can', 'use', 'multiple', 'source', 'documents', '(', 'for', 'example', ',', 'a', 'cluster', 'of', 'articles', 'on', 'the', 'same', 'topic', ')', '.', 'This', 'problem', 'is', 'called', 'multi', '-', 'document', 'summarization', '.', 'A', 'related', 'application', 'is', 'summarizing', 'news', 'articles', '.', 'Imagine', 'a', 'system', ',', 'which', 'automatically', 'pulls', 'together', 'news', 'articles', 'on', 'a', 'given', 'topic', '(', 'from', 'the', 'web', ')', ',', 'and', 'concisely', 'represents', 'the', 'latest', 'news', 'as', 'a', 'summary', '.', '\\n', 'Image', 'collection', 'summarization', 'is', 'another', 'application', 'example', 'of', 'automatic', 'summarization', '.', 'It', 'consists', 'in', 'selecting', 'a', 'representative', 'set', 'of', 'images', 'from', 'a', 'larger', 'set', 'of', 'images.[4', ']', 'A', 'summary', 'in', 'this', 'context', 'is', 'useful', 'to', 'show', 'the', 'most', 'representative', 'images', 'of', 'results', 'in', 'an', 'image', 'collection', 'exploration', 'system', '.', 'Video', 'summarization', 'is', 'a', 'related', 'domain', ',', 'where', 'the', 'system', 'automatically', 'creates', 'a', 'trailer', 'of', 'a', 'long', 'video', '.', 'This', 'also', 'has', 'applications', 'in', 'consumer', 'or', 'personal', 'videos', ',', 'where', 'one', 'might', 'want', 'to', 'skip', 'the', 'boring', 'or', 'repetitive', 'actions', '.', 'Similarly', ',', 'in', 'surveillance', 'videos', ',', 'one', 'would', 'want', 'to', 'extract', 'important', 'and', 'suspicious', 'activity', ',', 'while', 'ignoring', 'all', 'the', 'boring', 'and', 'redundant', 'frames', 'captured']\n"
          ]
        }
      ]
    },
    {
      "cell_type": "code",
      "source": [
        "doc"
      ],
      "metadata": {
        "id": "rchXvmqW-bYC",
        "colab": {
          "base_uri": "https://localhost:8080/"
        },
        "outputId": "13f4a1da-6292-446c-f23d-f0962c089fc1"
      },
      "execution_count": 25,
      "outputs": [
        {
          "output_type": "execute_result",
          "data": {
            "text/plain": [
              "There are broadly two types of extractive summarization tasks depending on what the summarization program focuses on. The first is generic summarization, which focuses on obtaining a generic summary or abstract of the collection (whether documents, or sets of images, or videos, news stories etc.). The second is query relevant summarization, sometimes called query-based summarization, which summarizes objects specific to a query. Summarization systems are able to create both query relevant text summaries and generic machine-generated summaries depending on what the user needs.\n",
              "An example of a summarization problem is document summarization, which attempts to automatically produce an abstract from a given document. Sometimes one might be interested in generating a summary from a single source document, while others can use multiple source documents (for example, a cluster of articles on the same topic). This problem is called multi-document summarization. A related application is summarizing news articles. Imagine a system, which automatically pulls together news articles on a given topic (from the web), and concisely represents the latest news as a summary.\n",
              "Image collection summarization is another application example of automatic summarization. It consists in selecting a representative set of images from a larger set of images.[4] A summary in this context is useful to show the most representative images of results in an image collection exploration system. Video summarization is a related domain, where the system automatically creates a trailer of a long video. This also has applications in consumer or personal videos, where one might want to skip the boring or repetitive actions. Similarly, in surveillance videos, one would want to extract important and suspicious activity, while ignoring all the boring and redundant frames captured "
            ]
          },
          "metadata": {},
          "execution_count": 25
        }
      ]
    },
    {
      "cell_type": "code",
      "source": [
        "!python -m spacy download fr_core_web_sm"
      ],
      "metadata": {
        "id": "Q0ZX1ZH7-bam",
        "colab": {
          "base_uri": "https://localhost:8080/"
        },
        "outputId": "4eaeba0d-d6fa-4b0c-e26b-baf349c6a72a"
      },
      "execution_count": 26,
      "outputs": [
        {
          "output_type": "stream",
          "name": "stdout",
          "text": [
            "\n",
            "\u001b[38;5;1m✘ No compatible package found for 'fr_core_web_sm' (spaCy v3.8.7)\u001b[0m\n",
            "\n"
          ]
        }
      ]
    },
    {
      "cell_type": "code",
      "source": [
        "tokens"
      ],
      "metadata": {
        "id": "lfW7sc_1-cVl",
        "colab": {
          "base_uri": "https://localhost:8080/"
        },
        "outputId": "acf93389-3e2e-4351-cd37-171cbfa1466a"
      },
      "execution_count": 27,
      "outputs": [
        {
          "output_type": "execute_result",
          "data": {
            "text/plain": [
              "['There',\n",
              " 'are',\n",
              " 'broadly',\n",
              " 'two',\n",
              " 'types',\n",
              " 'of',\n",
              " 'extractive',\n",
              " 'summarization',\n",
              " 'tasks',\n",
              " 'depending',\n",
              " 'on',\n",
              " 'what',\n",
              " 'the',\n",
              " 'summarization',\n",
              " 'program',\n",
              " 'focuses',\n",
              " 'on',\n",
              " '.',\n",
              " 'The',\n",
              " 'first',\n",
              " 'is',\n",
              " 'generic',\n",
              " 'summarization',\n",
              " ',',\n",
              " 'which',\n",
              " 'focuses',\n",
              " 'on',\n",
              " 'obtaining',\n",
              " 'a',\n",
              " 'generic',\n",
              " 'summary',\n",
              " 'or',\n",
              " 'abstract',\n",
              " 'of',\n",
              " 'the',\n",
              " 'collection',\n",
              " '(',\n",
              " 'whether',\n",
              " 'documents',\n",
              " ',',\n",
              " 'or',\n",
              " 'sets',\n",
              " 'of',\n",
              " 'images',\n",
              " ',',\n",
              " 'or',\n",
              " 'videos',\n",
              " ',',\n",
              " 'news',\n",
              " 'stories',\n",
              " 'etc',\n",
              " '.',\n",
              " ')',\n",
              " '.',\n",
              " 'The',\n",
              " 'second',\n",
              " 'is',\n",
              " 'query',\n",
              " 'relevant',\n",
              " 'summarization',\n",
              " ',',\n",
              " 'sometimes',\n",
              " 'called',\n",
              " 'query',\n",
              " '-',\n",
              " 'based',\n",
              " 'summarization',\n",
              " ',',\n",
              " 'which',\n",
              " 'summarizes',\n",
              " 'objects',\n",
              " 'specific',\n",
              " 'to',\n",
              " 'a',\n",
              " 'query',\n",
              " '.',\n",
              " 'Summarization',\n",
              " 'systems',\n",
              " 'are',\n",
              " 'able',\n",
              " 'to',\n",
              " 'create',\n",
              " 'both',\n",
              " 'query',\n",
              " 'relevant',\n",
              " 'text',\n",
              " 'summaries',\n",
              " 'and',\n",
              " 'generic',\n",
              " 'machine',\n",
              " '-',\n",
              " 'generated',\n",
              " 'summaries',\n",
              " 'depending',\n",
              " 'on',\n",
              " 'what',\n",
              " 'the',\n",
              " 'user',\n",
              " 'needs',\n",
              " '.',\n",
              " '\\n',\n",
              " 'An',\n",
              " 'example',\n",
              " 'of',\n",
              " 'a',\n",
              " 'summarization',\n",
              " 'problem',\n",
              " 'is',\n",
              " 'document',\n",
              " 'summarization',\n",
              " ',',\n",
              " 'which',\n",
              " 'attempts',\n",
              " 'to',\n",
              " 'automatically',\n",
              " 'produce',\n",
              " 'an',\n",
              " 'abstract',\n",
              " 'from',\n",
              " 'a',\n",
              " 'given',\n",
              " 'document',\n",
              " '.',\n",
              " 'Sometimes',\n",
              " 'one',\n",
              " 'might',\n",
              " 'be',\n",
              " 'interested',\n",
              " 'in',\n",
              " 'generating',\n",
              " 'a',\n",
              " 'summary',\n",
              " 'from',\n",
              " 'a',\n",
              " 'single',\n",
              " 'source',\n",
              " 'document',\n",
              " ',',\n",
              " 'while',\n",
              " 'others',\n",
              " 'can',\n",
              " 'use',\n",
              " 'multiple',\n",
              " 'source',\n",
              " 'documents',\n",
              " '(',\n",
              " 'for',\n",
              " 'example',\n",
              " ',',\n",
              " 'a',\n",
              " 'cluster',\n",
              " 'of',\n",
              " 'articles',\n",
              " 'on',\n",
              " 'the',\n",
              " 'same',\n",
              " 'topic',\n",
              " ')',\n",
              " '.',\n",
              " 'This',\n",
              " 'problem',\n",
              " 'is',\n",
              " 'called',\n",
              " 'multi',\n",
              " '-',\n",
              " 'document',\n",
              " 'summarization',\n",
              " '.',\n",
              " 'A',\n",
              " 'related',\n",
              " 'application',\n",
              " 'is',\n",
              " 'summarizing',\n",
              " 'news',\n",
              " 'articles',\n",
              " '.',\n",
              " 'Imagine',\n",
              " 'a',\n",
              " 'system',\n",
              " ',',\n",
              " 'which',\n",
              " 'automatically',\n",
              " 'pulls',\n",
              " 'together',\n",
              " 'news',\n",
              " 'articles',\n",
              " 'on',\n",
              " 'a',\n",
              " 'given',\n",
              " 'topic',\n",
              " '(',\n",
              " 'from',\n",
              " 'the',\n",
              " 'web',\n",
              " ')',\n",
              " ',',\n",
              " 'and',\n",
              " 'concisely',\n",
              " 'represents',\n",
              " 'the',\n",
              " 'latest',\n",
              " 'news',\n",
              " 'as',\n",
              " 'a',\n",
              " 'summary',\n",
              " '.',\n",
              " '\\n',\n",
              " 'Image',\n",
              " 'collection',\n",
              " 'summarization',\n",
              " 'is',\n",
              " 'another',\n",
              " 'application',\n",
              " 'example',\n",
              " 'of',\n",
              " 'automatic',\n",
              " 'summarization',\n",
              " '.',\n",
              " 'It',\n",
              " 'consists',\n",
              " 'in',\n",
              " 'selecting',\n",
              " 'a',\n",
              " 'representative',\n",
              " 'set',\n",
              " 'of',\n",
              " 'images',\n",
              " 'from',\n",
              " 'a',\n",
              " 'larger',\n",
              " 'set',\n",
              " 'of',\n",
              " 'images.[4',\n",
              " ']',\n",
              " 'A',\n",
              " 'summary',\n",
              " 'in',\n",
              " 'this',\n",
              " 'context',\n",
              " 'is',\n",
              " 'useful',\n",
              " 'to',\n",
              " 'show',\n",
              " 'the',\n",
              " 'most',\n",
              " 'representative',\n",
              " 'images',\n",
              " 'of',\n",
              " 'results',\n",
              " 'in',\n",
              " 'an',\n",
              " 'image',\n",
              " 'collection',\n",
              " 'exploration',\n",
              " 'system',\n",
              " '.',\n",
              " 'Video',\n",
              " 'summarization',\n",
              " 'is',\n",
              " 'a',\n",
              " 'related',\n",
              " 'domain',\n",
              " ',',\n",
              " 'where',\n",
              " 'the',\n",
              " 'system',\n",
              " 'automatically',\n",
              " 'creates',\n",
              " 'a',\n",
              " 'trailer',\n",
              " 'of',\n",
              " 'a',\n",
              " 'long',\n",
              " 'video',\n",
              " '.',\n",
              " 'This',\n",
              " 'also',\n",
              " 'has',\n",
              " 'applications',\n",
              " 'in',\n",
              " 'consumer',\n",
              " 'or',\n",
              " 'personal',\n",
              " 'videos',\n",
              " ',',\n",
              " 'where',\n",
              " 'one',\n",
              " 'might',\n",
              " 'want',\n",
              " 'to',\n",
              " 'skip',\n",
              " 'the',\n",
              " 'boring',\n",
              " 'or',\n",
              " 'repetitive',\n",
              " 'actions',\n",
              " '.',\n",
              " 'Similarly',\n",
              " ',',\n",
              " 'in',\n",
              " 'surveillance',\n",
              " 'videos',\n",
              " ',',\n",
              " 'one',\n",
              " 'would',\n",
              " 'want',\n",
              " 'to',\n",
              " 'extract',\n",
              " 'important',\n",
              " 'and',\n",
              " 'suspicious',\n",
              " 'activity',\n",
              " ',',\n",
              " 'while',\n",
              " 'ignoring',\n",
              " 'all',\n",
              " 'the',\n",
              " 'boring',\n",
              " 'and',\n",
              " 'redundant',\n",
              " 'frames',\n",
              " 'captured']"
            ]
          },
          "metadata": {},
          "execution_count": 27
        }
      ]
    },
    {
      "cell_type": "code",
      "source": [
        "len(tokens)"
      ],
      "metadata": {
        "id": "oO9EJbSr-cZE",
        "colab": {
          "base_uri": "https://localhost:8080/"
        },
        "outputId": "806b8ac8-8e0c-4162-ac15-4e23ccbff7b8"
      },
      "execution_count": 28,
      "outputs": [
        {
          "output_type": "execute_result",
          "data": {
            "text/plain": [
              "322"
            ]
          },
          "metadata": {},
          "execution_count": 28
        }
      ]
    },
    {
      "cell_type": "code",
      "source": [
        "punctuation # also called as noisy characters"
      ],
      "metadata": {
        "id": "3R92JsXq-cbo",
        "colab": {
          "base_uri": "https://localhost:8080/",
          "height": 36
        },
        "outputId": "f110d053-9575-45da-d0eb-07d7f6c8d8e0"
      },
      "execution_count": 29,
      "outputs": [
        {
          "output_type": "execute_result",
          "data": {
            "text/plain": [
              "'!\"#$%&\\'()*+,-./:;<=>?@[\\\\]^_`{|}~'"
            ],
            "application/vnd.google.colaboratory.intrinsic+json": {
              "type": "string"
            }
          },
          "metadata": {},
          "execution_count": 29
        }
      ]
    },
    {
      "cell_type": "code",
      "source": [
        "doc"
      ],
      "metadata": {
        "id": "rB3uBunQ-chC",
        "colab": {
          "base_uri": "https://localhost:8080/"
        },
        "outputId": "b90934a0-9191-41f6-cef9-ad78d4e9fafe"
      },
      "execution_count": 30,
      "outputs": [
        {
          "output_type": "execute_result",
          "data": {
            "text/plain": [
              "There are broadly two types of extractive summarization tasks depending on what the summarization program focuses on. The first is generic summarization, which focuses on obtaining a generic summary or abstract of the collection (whether documents, or sets of images, or videos, news stories etc.). The second is query relevant summarization, sometimes called query-based summarization, which summarizes objects specific to a query. Summarization systems are able to create both query relevant text summaries and generic machine-generated summaries depending on what the user needs.\n",
              "An example of a summarization problem is document summarization, which attempts to automatically produce an abstract from a given document. Sometimes one might be interested in generating a summary from a single source document, while others can use multiple source documents (for example, a cluster of articles on the same topic). This problem is called multi-document summarization. A related application is summarizing news articles. Imagine a system, which automatically pulls together news articles on a given topic (from the web), and concisely represents the latest news as a summary.\n",
              "Image collection summarization is another application example of automatic summarization. It consists in selecting a representative set of images from a larger set of images.[4] A summary in this context is useful to show the most representative images of results in an image collection exploration system. Video summarization is a related domain, where the system automatically creates a trailer of a long video. This also has applications in consumer or personal videos, where one might want to skip the boring or repetitive actions. Similarly, in surveillance videos, one would want to extract important and suspicious activity, while ignoring all the boring and redundant frames captured "
            ]
          },
          "metadata": {},
          "execution_count": 30
        }
      ]
    },
    {
      "cell_type": "markdown",
      "source": [
        "# Token_Frequency"
      ],
      "metadata": {
        "id": "8V_EZLn1Y57p"
      }
    },
    {
      "cell_type": "code",
      "source": [
        "#we have to calcualte the freaquency of each and every word, how many time word is repetation in text\n",
        "\n",
        "word_frequencies = {}\n",
        "\n",
        "for word in doc:\n",
        "    if word.text.lower() not in stopwords:\n",
        "        if word.text.lower() not in punctuation:\n",
        "            if word.text not in word_frequencies.keys():\n",
        "                word_frequencies[word.text] = 1\n",
        "            else:\n",
        "                word_frequencies[word.text] += 1"
      ],
      "metadata": {
        "id": "rfBZ356R-ckK"
      },
      "execution_count": 31,
      "outputs": []
    },
    {
      "cell_type": "code",
      "source": [
        "word_frequencies\n",
        "#print(word_frequencies)"
      ],
      "metadata": {
        "id": "xnc5gXl--cmu",
        "colab": {
          "base_uri": "https://localhost:8080/"
        },
        "outputId": "83a279b7-11ba-4c94-e7e8-8128ce6148e5"
      },
      "execution_count": 32,
      "outputs": [
        {
          "output_type": "execute_result",
          "data": {
            "text/plain": [
              "{'broadly': 1,\n",
              " 'types': 1,\n",
              " 'extractive': 1,\n",
              " 'summarization': 11,\n",
              " 'tasks': 1,\n",
              " 'depending': 2,\n",
              " 'program': 1,\n",
              " 'focuses': 2,\n",
              " 'generic': 3,\n",
              " 'obtaining': 1,\n",
              " 'summary': 4,\n",
              " 'abstract': 2,\n",
              " 'collection': 3,\n",
              " 'documents': 2,\n",
              " 'sets': 1,\n",
              " 'images': 3,\n",
              " 'videos': 3,\n",
              " 'news': 4,\n",
              " 'stories': 1,\n",
              " 'etc': 1,\n",
              " 'second': 1,\n",
              " 'query': 4,\n",
              " 'relevant': 2,\n",
              " 'called': 2,\n",
              " 'based': 1,\n",
              " 'summarizes': 1,\n",
              " 'objects': 1,\n",
              " 'specific': 1,\n",
              " 'Summarization': 1,\n",
              " 'systems': 1,\n",
              " 'able': 1,\n",
              " 'create': 1,\n",
              " 'text': 1,\n",
              " 'summaries': 2,\n",
              " 'machine': 1,\n",
              " 'generated': 1,\n",
              " 'user': 1,\n",
              " 'needs': 1,\n",
              " '\\n': 2,\n",
              " 'example': 3,\n",
              " 'problem': 2,\n",
              " 'document': 4,\n",
              " 'attempts': 1,\n",
              " 'automatically': 3,\n",
              " 'produce': 1,\n",
              " 'given': 2,\n",
              " 'interested': 1,\n",
              " 'generating': 1,\n",
              " 'single': 1,\n",
              " 'source': 2,\n",
              " 'use': 1,\n",
              " 'multiple': 1,\n",
              " 'cluster': 1,\n",
              " 'articles': 3,\n",
              " 'topic': 2,\n",
              " 'multi': 1,\n",
              " 'related': 2,\n",
              " 'application': 2,\n",
              " 'summarizing': 1,\n",
              " 'Imagine': 1,\n",
              " 'system': 3,\n",
              " 'pulls': 1,\n",
              " 'web': 1,\n",
              " 'concisely': 1,\n",
              " 'represents': 1,\n",
              " 'latest': 1,\n",
              " 'Image': 1,\n",
              " 'automatic': 1,\n",
              " 'consists': 1,\n",
              " 'selecting': 1,\n",
              " 'representative': 2,\n",
              " 'set': 2,\n",
              " 'larger': 1,\n",
              " 'images.[4': 1,\n",
              " 'context': 1,\n",
              " 'useful': 1,\n",
              " 'results': 1,\n",
              " 'image': 1,\n",
              " 'exploration': 1,\n",
              " 'Video': 1,\n",
              " 'domain': 1,\n",
              " 'creates': 1,\n",
              " 'trailer': 1,\n",
              " 'long': 1,\n",
              " 'video': 1,\n",
              " 'applications': 1,\n",
              " 'consumer': 1,\n",
              " 'personal': 1,\n",
              " 'want': 2,\n",
              " 'skip': 1,\n",
              " 'boring': 2,\n",
              " 'repetitive': 1,\n",
              " 'actions': 1,\n",
              " 'Similarly': 1,\n",
              " 'surveillance': 1,\n",
              " 'extract': 1,\n",
              " 'important': 1,\n",
              " 'suspicious': 1,\n",
              " 'activity': 1,\n",
              " 'ignoring': 1,\n",
              " 'redundant': 1,\n",
              " 'frames': 1,\n",
              " 'captured': 1}"
            ]
          },
          "metadata": {},
          "execution_count": 32
        }
      ]
    },
    {
      "cell_type": "code",
      "source": [
        "len(word_frequencies)"
      ],
      "metadata": {
        "id": "HF5ijQH1-crs",
        "colab": {
          "base_uri": "https://localhost:8080/"
        },
        "outputId": "b60439cd-e064-45f5-edbd-b595f4ab81aa"
      },
      "execution_count": 33,
      "outputs": [
        {
          "output_type": "execute_result",
          "data": {
            "text/plain": [
              "103"
            ]
          },
          "metadata": {},
          "execution_count": 33
        }
      ]
    },
    {
      "cell_type": "code",
      "source": [
        "word_frequencies"
      ],
      "metadata": {
        "id": "NQ2f64ny-cvD",
        "colab": {
          "base_uri": "https://localhost:8080/"
        },
        "outputId": "d5092b52-94d1-4e58-d41b-997527b9233f"
      },
      "execution_count": 34,
      "outputs": [
        {
          "output_type": "execute_result",
          "data": {
            "text/plain": [
              "{'broadly': 1,\n",
              " 'types': 1,\n",
              " 'extractive': 1,\n",
              " 'summarization': 11,\n",
              " 'tasks': 1,\n",
              " 'depending': 2,\n",
              " 'program': 1,\n",
              " 'focuses': 2,\n",
              " 'generic': 3,\n",
              " 'obtaining': 1,\n",
              " 'summary': 4,\n",
              " 'abstract': 2,\n",
              " 'collection': 3,\n",
              " 'documents': 2,\n",
              " 'sets': 1,\n",
              " 'images': 3,\n",
              " 'videos': 3,\n",
              " 'news': 4,\n",
              " 'stories': 1,\n",
              " 'etc': 1,\n",
              " 'second': 1,\n",
              " 'query': 4,\n",
              " 'relevant': 2,\n",
              " 'called': 2,\n",
              " 'based': 1,\n",
              " 'summarizes': 1,\n",
              " 'objects': 1,\n",
              " 'specific': 1,\n",
              " 'Summarization': 1,\n",
              " 'systems': 1,\n",
              " 'able': 1,\n",
              " 'create': 1,\n",
              " 'text': 1,\n",
              " 'summaries': 2,\n",
              " 'machine': 1,\n",
              " 'generated': 1,\n",
              " 'user': 1,\n",
              " 'needs': 1,\n",
              " '\\n': 2,\n",
              " 'example': 3,\n",
              " 'problem': 2,\n",
              " 'document': 4,\n",
              " 'attempts': 1,\n",
              " 'automatically': 3,\n",
              " 'produce': 1,\n",
              " 'given': 2,\n",
              " 'interested': 1,\n",
              " 'generating': 1,\n",
              " 'single': 1,\n",
              " 'source': 2,\n",
              " 'use': 1,\n",
              " 'multiple': 1,\n",
              " 'cluster': 1,\n",
              " 'articles': 3,\n",
              " 'topic': 2,\n",
              " 'multi': 1,\n",
              " 'related': 2,\n",
              " 'application': 2,\n",
              " 'summarizing': 1,\n",
              " 'Imagine': 1,\n",
              " 'system': 3,\n",
              " 'pulls': 1,\n",
              " 'web': 1,\n",
              " 'concisely': 1,\n",
              " 'represents': 1,\n",
              " 'latest': 1,\n",
              " 'Image': 1,\n",
              " 'automatic': 1,\n",
              " 'consists': 1,\n",
              " 'selecting': 1,\n",
              " 'representative': 2,\n",
              " 'set': 2,\n",
              " 'larger': 1,\n",
              " 'images.[4': 1,\n",
              " 'context': 1,\n",
              " 'useful': 1,\n",
              " 'results': 1,\n",
              " 'image': 1,\n",
              " 'exploration': 1,\n",
              " 'Video': 1,\n",
              " 'domain': 1,\n",
              " 'creates': 1,\n",
              " 'trailer': 1,\n",
              " 'long': 1,\n",
              " 'video': 1,\n",
              " 'applications': 1,\n",
              " 'consumer': 1,\n",
              " 'personal': 1,\n",
              " 'want': 2,\n",
              " 'skip': 1,\n",
              " 'boring': 2,\n",
              " 'repetitive': 1,\n",
              " 'actions': 1,\n",
              " 'Similarly': 1,\n",
              " 'surveillance': 1,\n",
              " 'extract': 1,\n",
              " 'important': 1,\n",
              " 'suspicious': 1,\n",
              " 'activity': 1,\n",
              " 'ignoring': 1,\n",
              " 'redundant': 1,\n",
              " 'frames': 1,\n",
              " 'captured': 1}"
            ]
          },
          "metadata": {},
          "execution_count": 34
        }
      ]
    },
    {
      "cell_type": "code",
      "source": [
        "max_frequency = max(word_frequencies.values())\n",
        "max_frequency"
      ],
      "metadata": {
        "id": "gXDkuTGf-c1C",
        "colab": {
          "base_uri": "https://localhost:8080/"
        },
        "outputId": "a9be3545-0dfb-4df5-da31-8f62b27abbda"
      },
      "execution_count": 35,
      "outputs": [
        {
          "output_type": "execute_result",
          "data": {
            "text/plain": [
              "11"
            ]
          },
          "metadata": {},
          "execution_count": 35
        }
      ]
    },
    {
      "cell_type": "markdown",
      "source": [
        "# Token_Scoring"
      ],
      "metadata": {
        "id": "zb7dysp0ZAxh"
      }
    },
    {
      "cell_type": "code",
      "source": [
        "#to get normalized/weighted frequencies you should devide all frequencies with 11\n",
        "for word in word_frequencies.keys():\n",
        "    word_frequencies[word] = word_frequencies[word]/max_frequency"
      ],
      "metadata": {
        "id": "AMYBq3Qu-c4F"
      },
      "execution_count": 36,
      "outputs": []
    },
    {
      "cell_type": "code",
      "source": [
        "#print(word_frequencies)\n",
        "word_frequencies\n",
        "#this is the normalized frequencies of each word"
      ],
      "metadata": {
        "id": "dLUjaJcX-c7H",
        "colab": {
          "base_uri": "https://localhost:8080/"
        },
        "outputId": "cb0aa33b-a6f2-4bb1-862b-cc3d3d1b054c"
      },
      "execution_count": 37,
      "outputs": [
        {
          "output_type": "execute_result",
          "data": {
            "text/plain": [
              "{'broadly': 0.09090909090909091,\n",
              " 'types': 0.09090909090909091,\n",
              " 'extractive': 0.09090909090909091,\n",
              " 'summarization': 1.0,\n",
              " 'tasks': 0.09090909090909091,\n",
              " 'depending': 0.18181818181818182,\n",
              " 'program': 0.09090909090909091,\n",
              " 'focuses': 0.18181818181818182,\n",
              " 'generic': 0.2727272727272727,\n",
              " 'obtaining': 0.09090909090909091,\n",
              " 'summary': 0.36363636363636365,\n",
              " 'abstract': 0.18181818181818182,\n",
              " 'collection': 0.2727272727272727,\n",
              " 'documents': 0.18181818181818182,\n",
              " 'sets': 0.09090909090909091,\n",
              " 'images': 0.2727272727272727,\n",
              " 'videos': 0.2727272727272727,\n",
              " 'news': 0.36363636363636365,\n",
              " 'stories': 0.09090909090909091,\n",
              " 'etc': 0.09090909090909091,\n",
              " 'second': 0.09090909090909091,\n",
              " 'query': 0.36363636363636365,\n",
              " 'relevant': 0.18181818181818182,\n",
              " 'called': 0.18181818181818182,\n",
              " 'based': 0.09090909090909091,\n",
              " 'summarizes': 0.09090909090909091,\n",
              " 'objects': 0.09090909090909091,\n",
              " 'specific': 0.09090909090909091,\n",
              " 'Summarization': 0.09090909090909091,\n",
              " 'systems': 0.09090909090909091,\n",
              " 'able': 0.09090909090909091,\n",
              " 'create': 0.09090909090909091,\n",
              " 'text': 0.09090909090909091,\n",
              " 'summaries': 0.18181818181818182,\n",
              " 'machine': 0.09090909090909091,\n",
              " 'generated': 0.09090909090909091,\n",
              " 'user': 0.09090909090909091,\n",
              " 'needs': 0.09090909090909091,\n",
              " '\\n': 0.18181818181818182,\n",
              " 'example': 0.2727272727272727,\n",
              " 'problem': 0.18181818181818182,\n",
              " 'document': 0.36363636363636365,\n",
              " 'attempts': 0.09090909090909091,\n",
              " 'automatically': 0.2727272727272727,\n",
              " 'produce': 0.09090909090909091,\n",
              " 'given': 0.18181818181818182,\n",
              " 'interested': 0.09090909090909091,\n",
              " 'generating': 0.09090909090909091,\n",
              " 'single': 0.09090909090909091,\n",
              " 'source': 0.18181818181818182,\n",
              " 'use': 0.09090909090909091,\n",
              " 'multiple': 0.09090909090909091,\n",
              " 'cluster': 0.09090909090909091,\n",
              " 'articles': 0.2727272727272727,\n",
              " 'topic': 0.18181818181818182,\n",
              " 'multi': 0.09090909090909091,\n",
              " 'related': 0.18181818181818182,\n",
              " 'application': 0.18181818181818182,\n",
              " 'summarizing': 0.09090909090909091,\n",
              " 'Imagine': 0.09090909090909091,\n",
              " 'system': 0.2727272727272727,\n",
              " 'pulls': 0.09090909090909091,\n",
              " 'web': 0.09090909090909091,\n",
              " 'concisely': 0.09090909090909091,\n",
              " 'represents': 0.09090909090909091,\n",
              " 'latest': 0.09090909090909091,\n",
              " 'Image': 0.09090909090909091,\n",
              " 'automatic': 0.09090909090909091,\n",
              " 'consists': 0.09090909090909091,\n",
              " 'selecting': 0.09090909090909091,\n",
              " 'representative': 0.18181818181818182,\n",
              " 'set': 0.18181818181818182,\n",
              " 'larger': 0.09090909090909091,\n",
              " 'images.[4': 0.09090909090909091,\n",
              " 'context': 0.09090909090909091,\n",
              " 'useful': 0.09090909090909091,\n",
              " 'results': 0.09090909090909091,\n",
              " 'image': 0.09090909090909091,\n",
              " 'exploration': 0.09090909090909091,\n",
              " 'Video': 0.09090909090909091,\n",
              " 'domain': 0.09090909090909091,\n",
              " 'creates': 0.09090909090909091,\n",
              " 'trailer': 0.09090909090909091,\n",
              " 'long': 0.09090909090909091,\n",
              " 'video': 0.09090909090909091,\n",
              " 'applications': 0.09090909090909091,\n",
              " 'consumer': 0.09090909090909091,\n",
              " 'personal': 0.09090909090909091,\n",
              " 'want': 0.18181818181818182,\n",
              " 'skip': 0.09090909090909091,\n",
              " 'boring': 0.18181818181818182,\n",
              " 'repetitive': 0.09090909090909091,\n",
              " 'actions': 0.09090909090909091,\n",
              " 'Similarly': 0.09090909090909091,\n",
              " 'surveillance': 0.09090909090909091,\n",
              " 'extract': 0.09090909090909091,\n",
              " 'important': 0.09090909090909091,\n",
              " 'suspicious': 0.09090909090909091,\n",
              " 'activity': 0.09090909090909091,\n",
              " 'ignoring': 0.09090909090909091,\n",
              " 'redundant': 0.09090909090909091,\n",
              " 'frames': 0.09090909090909091,\n",
              " 'captured': 0.09090909090909091}"
            ]
          },
          "metadata": {},
          "execution_count": 37
        }
      ]
    },
    {
      "cell_type": "code",
      "source": [
        "sentence_tokens = [sent for sent in doc.sents]\n",
        "sentence_tokens"
      ],
      "metadata": {
        "colab": {
          "base_uri": "https://localhost:8080/"
        },
        "id": "iGdmaLl-Vwm0",
        "outputId": "98da9d01-4146-44b0-9b1a-26a82d62ce0d"
      },
      "execution_count": 38,
      "outputs": [
        {
          "output_type": "execute_result",
          "data": {
            "text/plain": [
              "[There are broadly two types of extractive summarization tasks depending on what the summarization program focuses on.,\n",
              " The first is generic summarization, which focuses on obtaining a generic summary or abstract of the collection (whether documents, or sets of images, or videos, news stories etc.).,\n",
              " The second is query relevant summarization, sometimes called query-based summarization, which summarizes objects specific to a query.,\n",
              " Summarization systems are able to create both query relevant text summaries and generic machine-generated summaries depending on what the user needs.,\n",
              " An example of a summarization problem is document summarization, which attempts to automatically produce an abstract from a given document.,\n",
              " Sometimes one might be interested in generating a summary from a single source document, while others can use multiple source documents (for example, a cluster of articles on the same topic).,\n",
              " This problem is called multi-document summarization.,\n",
              " A related application is summarizing news articles.,\n",
              " Imagine a system, which automatically pulls together news articles on a given topic (from the web), and concisely represents the latest news as a summary.,\n",
              " Image collection summarization is another application example of automatic summarization.,\n",
              " It consists in selecting a representative set of images from a larger set of images.[4],\n",
              " A summary in this context is useful to show the most representative images of results in an image collection exploration system.,\n",
              " Video summarization is a related domain, where the system automatically creates a trailer of a long video.,\n",
              " This also has applications in consumer or personal videos, where one might want to skip the boring or repetitive actions.,\n",
              " Similarly, in surveillance videos, one would want to extract important and suspicious activity, while ignoring all the boring and redundant frames captured]"
            ]
          },
          "metadata": {},
          "execution_count": 38
        }
      ]
    },
    {
      "cell_type": "code",
      "source": [
        "len(sentence_tokens)"
      ],
      "metadata": {
        "colab": {
          "base_uri": "https://localhost:8080/"
        },
        "id": "VVCoX_r3Vwyg",
        "outputId": "310397f2-d975-48c5-8845-3094b67be483"
      },
      "execution_count": 39,
      "outputs": [
        {
          "output_type": "execute_result",
          "data": {
            "text/plain": [
              "15"
            ]
          },
          "metadata": {},
          "execution_count": 39
        }
      ]
    },
    {
      "cell_type": "code",
      "source": [
        "sentence_tokens"
      ],
      "metadata": {
        "colab": {
          "base_uri": "https://localhost:8080/"
        },
        "id": "jJvLpjnfVw4L",
        "outputId": "4a403fde-19a7-4ac9-b13c-7bb32bf62174"
      },
      "execution_count": 40,
      "outputs": [
        {
          "output_type": "execute_result",
          "data": {
            "text/plain": [
              "[There are broadly two types of extractive summarization tasks depending on what the summarization program focuses on.,\n",
              " The first is generic summarization, which focuses on obtaining a generic summary or abstract of the collection (whether documents, or sets of images, or videos, news stories etc.).,\n",
              " The second is query relevant summarization, sometimes called query-based summarization, which summarizes objects specific to a query.,\n",
              " Summarization systems are able to create both query relevant text summaries and generic machine-generated summaries depending on what the user needs.,\n",
              " An example of a summarization problem is document summarization, which attempts to automatically produce an abstract from a given document.,\n",
              " Sometimes one might be interested in generating a summary from a single source document, while others can use multiple source documents (for example, a cluster of articles on the same topic).,\n",
              " This problem is called multi-document summarization.,\n",
              " A related application is summarizing news articles.,\n",
              " Imagine a system, which automatically pulls together news articles on a given topic (from the web), and concisely represents the latest news as a summary.,\n",
              " Image collection summarization is another application example of automatic summarization.,\n",
              " It consists in selecting a representative set of images from a larger set of images.[4],\n",
              " A summary in this context is useful to show the most representative images of results in an image collection exploration system.,\n",
              " Video summarization is a related domain, where the system automatically creates a trailer of a long video.,\n",
              " This also has applications in consumer or personal videos, where one might want to skip the boring or repetitive actions.,\n",
              " Similarly, in surveillance videos, one would want to extract important and suspicious activity, while ignoring all the boring and redundant frames captured]"
            ]
          },
          "metadata": {},
          "execution_count": 40
        }
      ]
    },
    {
      "cell_type": "markdown",
      "source": [
        "# Sentence_Score"
      ],
      "metadata": {
        "id": "VX8rWceDZStQ"
      }
    },
    {
      "cell_type": "code",
      "source": [
        "# we are going to calculate the sentence score, to calculate the sentence score\n",
        "sentence_scores = {}\n",
        "\n",
        "for sent in sentence_tokens:\n",
        "    for word in sent:\n",
        "        if word.text.lower() in word_frequencies.keys():\n",
        "            if sent not in sentence_scores.keys():\n",
        "                sentence_scores[sent] = word_frequencies[word.text.lower()]\n",
        "            else:\n",
        "                sentence_scores[sent] += word_frequencies[word.text.lower()]"
      ],
      "metadata": {
        "id": "Pb81I9htVw7R"
      },
      "execution_count": 41,
      "outputs": []
    },
    {
      "cell_type": "code",
      "source": [
        "sentence_scores"
      ],
      "metadata": {
        "colab": {
          "base_uri": "https://localhost:8080/"
        },
        "id": "OaZehQvHVw99",
        "outputId": "a0ac8af6-06d4-47d1-8f6c-4c7e65b642ce"
      },
      "execution_count": 42,
      "outputs": [
        {
          "output_type": "execute_result",
          "data": {
            "text/plain": [
              "{There are broadly two types of extractive summarization tasks depending on what the summarization program focuses on.: 2.818181818181818,\n",
              " The first is generic summarization, which focuses on obtaining a generic summary or abstract of the collection (whether documents, or sets of images, or videos, news stories etc.).: 3.9999999999999987,\n",
              " The second is query relevant summarization, sometimes called query-based summarization, which summarizes objects specific to a query.: 3.909090909090909,\n",
              " Summarization systems are able to create both query relevant text summaries and generic machine-generated summaries depending on what the user needs.: 3.2727272727272716,\n",
              " An example of a summarization problem is document summarization, which attempts to automatically produce an abstract from a given document.: 3.9999999999999996,\n",
              " Sometimes one might be interested in generating a summary from a single source document, while others can use multiple source documents (for example, a cluster of articles on the same topic).: 2.545454545454545,\n",
              " This problem is called multi-document summarization.: 1.8181818181818183,\n",
              " A related application is summarizing news articles.: 1.0909090909090908,\n",
              " Imagine a system, which automatically pulls together news articles on a given topic (from the web), and concisely represents the latest news as a summary.: 2.9090909090909087,\n",
              " Image collection summarization is another application example of automatic summarization.: 2.909090909090909,\n",
              " It consists in selecting a representative set of images from a larger set of images.[4]: 1.1818181818181817,\n",
              " A summary in this context is useful to show the most representative images of results in an image collection exploration system.: 1.818181818181818,\n",
              " Video summarization is a related domain, where the system automatically creates a trailer of a long video.: 2.2727272727272725,\n",
              " This also has applications in consumer or personal videos, where one might want to skip the boring or repetitive actions.: 1.1818181818181817,\n",
              " Similarly, in surveillance videos, one would want to extract important and suspicious activity, while ignoring all the boring and redundant frames captured: 1.4545454545454544}"
            ]
          },
          "metadata": {},
          "execution_count": 42
        }
      ]
    },
    {
      "cell_type": "code",
      "source": [
        "#lets say our case study was 30% sentence with maximum scores\n",
        "from heapq import nlargest"
      ],
      "metadata": {
        "id": "Gavl45yYVxAh"
      },
      "execution_count": 43,
      "outputs": []
    },
    {
      "cell_type": "code",
      "source": [
        "select_length = int(len(sentence_tokens)*0.4)\n",
        "select_length"
      ],
      "metadata": {
        "colab": {
          "base_uri": "https://localhost:8080/"
        },
        "id": "1pMolFOUVxDX",
        "outputId": "3d0141eb-517a-4963-ec2b-8813f8182f00"
      },
      "execution_count": 44,
      "outputs": [
        {
          "output_type": "execute_result",
          "data": {
            "text/plain": [
              "6"
            ]
          },
          "metadata": {},
          "execution_count": 44
        }
      ]
    },
    {
      "cell_type": "code",
      "source": [
        "#we have to select maximum 4 sentences out of all sentences\n",
        "summary = nlargest(select_length,sentence_scores, key = sentence_scores.get)"
      ],
      "metadata": {
        "id": "diqeqhkmVxN9"
      },
      "execution_count": 45,
      "outputs": []
    },
    {
      "cell_type": "code",
      "source": [
        "summary"
      ],
      "metadata": {
        "colab": {
          "base_uri": "https://localhost:8080/"
        },
        "id": "xvUTxSR2WKWs",
        "outputId": "c15e6648-6696-42fc-8aec-db49555eaf5b"
      },
      "execution_count": 46,
      "outputs": [
        {
          "output_type": "execute_result",
          "data": {
            "text/plain": [
              "[An example of a summarization problem is document summarization, which attempts to automatically produce an abstract from a given document.,\n",
              " The first is generic summarization, which focuses on obtaining a generic summary or abstract of the collection (whether documents, or sets of images, or videos, news stories etc.).,\n",
              " The second is query relevant summarization, sometimes called query-based summarization, which summarizes objects specific to a query.,\n",
              " Summarization systems are able to create both query relevant text summaries and generic machine-generated summaries depending on what the user needs.,\n",
              " Image collection summarization is another application example of automatic summarization.,\n",
              " Imagine a system, which automatically pulls together news articles on a given topic (from the web), and concisely represents the latest news as a summary.]"
            ]
          },
          "metadata": {},
          "execution_count": 46
        }
      ]
    },
    {
      "cell_type": "code",
      "source": [
        "sentence_scores"
      ],
      "metadata": {
        "colab": {
          "base_uri": "https://localhost:8080/"
        },
        "id": "oNW55YuwWKZm",
        "outputId": "ee83afe0-f211-4660-ca7f-0e57794d0a07"
      },
      "execution_count": 47,
      "outputs": [
        {
          "output_type": "execute_result",
          "data": {
            "text/plain": [
              "{There are broadly two types of extractive summarization tasks depending on what the summarization program focuses on.: 2.818181818181818,\n",
              " The first is generic summarization, which focuses on obtaining a generic summary or abstract of the collection (whether documents, or sets of images, or videos, news stories etc.).: 3.9999999999999987,\n",
              " The second is query relevant summarization, sometimes called query-based summarization, which summarizes objects specific to a query.: 3.909090909090909,\n",
              " Summarization systems are able to create both query relevant text summaries and generic machine-generated summaries depending on what the user needs.: 3.2727272727272716,\n",
              " An example of a summarization problem is document summarization, which attempts to automatically produce an abstract from a given document.: 3.9999999999999996,\n",
              " Sometimes one might be interested in generating a summary from a single source document, while others can use multiple source documents (for example, a cluster of articles on the same topic).: 2.545454545454545,\n",
              " This problem is called multi-document summarization.: 1.8181818181818183,\n",
              " A related application is summarizing news articles.: 1.0909090909090908,\n",
              " Imagine a system, which automatically pulls together news articles on a given topic (from the web), and concisely represents the latest news as a summary.: 2.9090909090909087,\n",
              " Image collection summarization is another application example of automatic summarization.: 2.909090909090909,\n",
              " It consists in selecting a representative set of images from a larger set of images.[4]: 1.1818181818181817,\n",
              " A summary in this context is useful to show the most representative images of results in an image collection exploration system.: 1.818181818181818,\n",
              " Video summarization is a related domain, where the system automatically creates a trailer of a long video.: 2.2727272727272725,\n",
              " This also has applications in consumer or personal videos, where one might want to skip the boring or repetitive actions.: 1.1818181818181817,\n",
              " Similarly, in surveillance videos, one would want to extract important and suspicious activity, while ignoring all the boring and redundant frames captured: 1.4545454545454544}"
            ]
          },
          "metadata": {},
          "execution_count": 47
        }
      ]
    },
    {
      "cell_type": "code",
      "source": [
        "# if i need to combine these top 3 sentencs then\n",
        "\n",
        "final_summary = [word.text for word in summary]"
      ],
      "metadata": {
        "id": "BciXt_LiWKiY"
      },
      "execution_count": 48,
      "outputs": []
    },
    {
      "cell_type": "code",
      "source": [
        "final_summary"
      ],
      "metadata": {
        "colab": {
          "base_uri": "https://localhost:8080/"
        },
        "id": "VZKwZS3VWKk_",
        "outputId": "212152f0-7bd1-44d2-da55-3bed9b401651"
      },
      "execution_count": 49,
      "outputs": [
        {
          "output_type": "execute_result",
          "data": {
            "text/plain": [
              "['An example of a summarization problem is document summarization, which attempts to automatically produce an abstract from a given document.',\n",
              " 'The first is generic summarization, which focuses on obtaining a generic summary or abstract of the collection (whether documents, or sets of images, or videos, news stories etc.).',\n",
              " 'The second is query relevant summarization, sometimes called query-based summarization, which summarizes objects specific to a query.',\n",
              " 'Summarization systems are able to create both query relevant text summaries and generic machine-generated summaries depending on what the user needs.\\n',\n",
              " 'Image collection summarization is another application example of automatic summarization.',\n",
              " 'Imagine a system, which automatically pulls together news articles on a given topic (from the web), and concisely represents the latest news as a summary.\\n']"
            ]
          },
          "metadata": {},
          "execution_count": 49
        }
      ]
    },
    {
      "cell_type": "code",
      "source": [
        "print(summary)"
      ],
      "metadata": {
        "colab": {
          "base_uri": "https://localhost:8080/"
        },
        "id": "R5CL3bpHWKp6",
        "outputId": "520adf1e-5bf5-4c0a-fe54-885a10c67063"
      },
      "execution_count": 50,
      "outputs": [
        {
          "output_type": "stream",
          "name": "stdout",
          "text": [
            "[An example of a summarization problem is document summarization, which attempts to automatically produce an abstract from a given document., The first is generic summarization, which focuses on obtaining a generic summary or abstract of the collection (whether documents, or sets of images, or videos, news stories etc.)., The second is query relevant summarization, sometimes called query-based summarization, which summarizes objects specific to a query., Summarization systems are able to create both query relevant text summaries and generic machine-generated summaries depending on what the user needs.\n",
            ", Image collection summarization is another application example of automatic summarization., Imagine a system, which automatically pulls together news articles on a given topic (from the web), and concisely represents the latest news as a summary.\n",
            "]\n"
          ]
        }
      ]
    },
    {
      "cell_type": "code",
      "source": [],
      "metadata": {
        "id": "5IJrU5DCWf4F"
      },
      "execution_count": null,
      "outputs": []
    },
    {
      "cell_type": "code",
      "source": [],
      "metadata": {
        "id": "28WdeqWNWf7P"
      },
      "execution_count": null,
      "outputs": []
    },
    {
      "cell_type": "code",
      "source": [],
      "metadata": {
        "id": "-7JwPsCnWf-Y"
      },
      "execution_count": null,
      "outputs": []
    },
    {
      "cell_type": "code",
      "source": [],
      "metadata": {
        "id": "j6Y9FVuSWgsw"
      },
      "execution_count": null,
      "outputs": []
    },
    {
      "cell_type": "code",
      "source": [],
      "metadata": {
        "id": "MIXED1ENWKsK"
      },
      "execution_count": null,
      "outputs": []
    },
    {
      "cell_type": "code",
      "source": [],
      "metadata": {
        "id": "JPKFyt3mWKvP"
      },
      "execution_count": null,
      "outputs": []
    },
    {
      "cell_type": "code",
      "source": [],
      "metadata": {
        "id": "uMW6IPbZWKzg"
      },
      "execution_count": null,
      "outputs": []
    },
    {
      "cell_type": "code",
      "source": [],
      "metadata": {
        "id": "fbRQbYnZWK2l"
      },
      "execution_count": null,
      "outputs": []
    }
  ]
}
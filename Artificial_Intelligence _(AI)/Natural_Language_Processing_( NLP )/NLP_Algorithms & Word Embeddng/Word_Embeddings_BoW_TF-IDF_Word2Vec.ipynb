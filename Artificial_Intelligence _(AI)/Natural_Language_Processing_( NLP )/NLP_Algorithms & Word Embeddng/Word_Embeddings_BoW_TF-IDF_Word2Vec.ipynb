{
 "cells": [
  {
   "cell_type": "markdown",
   "id": "7b42ac52-1387-49e2-8343-eacb474d1caf",
   "metadata": {},
   "source": [
    "# WORD EMBEDDING \n",
    "- Transformer - Every text will convet to number\n",
    "# NLP -AlGORITHMS(BoW, TF-IDF , Words_2_Vec)\n",
    "\n",
    "## Difference between Embedding and Dummy Variables\n",
    "\n",
    "- **Dummy Variables (One-Hot Encoding):**\n",
    "\n",
    "   - Each word is represented as a binary vector (0/1).\n",
    "   - No meaning or relationship between words.\n",
    "   - Example: \"cat\" = [1,0,0], \"dog\" = [0,1,0].\n",
    "- **Word Embeddings (Word2Vec, GloVe, FastText):**\n",
    "\n",
    "   - Each word is represented as a dense vector of real numbers.\n",
    "   - Captures semantic meaning (e.g., India ≈ Bharat, not Australia).\n",
    "   - Example: \"king - man + woman ≈ queen\".\n",
    "\n",
    "# Bag of Words (BoW)\n",
    "\n",
    "BoW converts text into numbers based on word frequency (or presence/absence).\n",
    "\n",
    "**Limitation:**\n",
    "\n",
    "- Common words (\"the\", \"is\") treated equally as rare words.\n",
    "- Ignores word meaning & order.\n",
    "  \n",
    "The **CountVectorizer** converts text into a numerical matrix.\n",
    "**Vocabulary →** All unique words found across the sentences.\n",
    "Example: ['ahead', 'ai', 'career', 'data', 'genai', 'great', 'has', 'science']\n",
    "\n",
    "- **BoW Representation →**\n",
    "\n",
    "Each row = a sentence\n",
    "Each column = a word from the vocabulary\n",
    "Each value = how many times the word appears in that sentence\n",
    "\n",
    "**Example:**\n",
    "\n",
    "Sentence 1: \"data science and ai genai has great career ahead\"\n",
    "Word **'data'** appears **1 time**\n",
    "\n",
    "Sentence 2: \"data data science and ai genai has great career ahead\"\n",
    "Word **'data'** appears **2 times** (others appear once)"
   ]
  },
  {
   "cell_type": "code",
   "execution_count": 1,
   "id": "294a0c8b-f399-4887-a291-8c0aa3607172",
   "metadata": {},
   "outputs": [
    {
     "data": {
      "text/plain": [
       "array([[1, 1, 1, 1, 1, 1, 1, 1, 1]], dtype=int64)"
      ]
     },
     "execution_count": 1,
     "metadata": {},
     "output_type": "execute_result"
    }
   ],
   "source": [
    "from sklearn.feature_extraction.text import CountVectorizer\n",
    "\n",
    "sentence = \"data science and ai genai has great career ahead\"\n",
    "vectorizer = CountVectorizer()\n",
    "vector = vectorizer.fit_transform([sentence])\n",
    "vector.toarray()"
   ]
  },
  {
   "cell_type": "code",
   "execution_count": 2,
   "id": "92596a9f-70c3-4147-a1de-5d2dc98fcfac",
   "metadata": {},
   "outputs": [
    {
     "data": {
      "text/plain": [
       "array([[1, 1, 1, 1, 4, 1, 1, 1, 1]], dtype=int64)"
      ]
     },
     "execution_count": 2,
     "metadata": {},
     "output_type": "execute_result"
    }
   ],
   "source": [
    "from sklearn.feature_extraction.text import CountVectorizer\n",
    "\n",
    "sentence = \"data science and ai genai has great career ahead data data data\"\n",
    "vectorizer = CountVectorizer()\n",
    "vector = vectorizer.fit_transform([sentence])\n",
    "vector.toarray()"
   ]
  },
  {
   "cell_type": "markdown",
   "id": "732f97e3-0968-42d1-82a7-5563eddf8fbf",
   "metadata": {},
   "source": [
    "# TF-IDF (Term Frequency – Inverse Document Frequency)\n",
    "\n",
    "- **TF (Term Frequency)** = count(word) / total words in sentence\n",
    "- **IDF (Inverse Document Frequency)** = log(Total Sentences / Sentences Containing Word)\n",
    "- **Reduces weight of common words**, increases weight of **rare but important words.**\n",
    "\n",
    "Unlike **BoW**, which only counts word frequency,\n",
    "**TF-IDF** gives higher weight to important words and reduces the weight of common words.\n",
    "\n",
    "**Formula:**\n",
    "\n",
    "- **TF (Term Frequency)** = (Word count in sentence) / (Total words in sentence)\n",
    "- **IDF (Inverse Document Frequency)** = log(Total Sentences / Sentences containing the word)\n",
    "- **TF-IDF = TF × IDF**\n",
    "\n",
    "**Example with our sentences:**\n",
    "\n",
    "1.\"data science and ai genai has great career ahead\"\n",
    "2.\"data data science and ai genai has great career ahead\"\n",
    "3.\"data ok data science and ai genai has great career ahead\"\n",
    "\n",
    "- Word **\"data\"** appears in all 3 sentences → IDF is **low** → weight is reduced.\n",
    "- Word **\"ok\"** appears only once in one sentence → IDF is **high** → weight is increased.\n",
    "\n",
    "**Output:**\n",
    "\n",
    "- **Vocabulary** → All unique words across sentences\n",
    "Example: ['ahead', 'ai', 'career', 'data', 'genai', 'great', 'has', 'ok', 'science']\n",
    "\n",
    "- **TF-IDF Representation (matrix)** → Each row = sentence, each column = word, each value = TF-IDF weight.\n",
    "\n",
    "The numbers are **decimal values** (not just counts), showing relative importance of words in each sentence.\n",
    "\n",
    "**Insight:**\n",
    "\n",
    "- Common words like \"data\" get smaller values (low importance).\n",
    "- Rare words like \"ok\" get higher values (high importance)"
   ]
  },
  {
   "cell_type": "code",
   "execution_count": 4,
   "id": "812c9296-44ea-4598-bbb6-c6c557622a61",
   "metadata": {},
   "outputs": [
    {
     "data": {
      "text/plain": [
       "array([[0.28867513, 0.28867513, 0.28867513, 0.28867513, 0.57735027,\n",
       "        0.28867513, 0.28867513, 0.28867513, 0.28867513]])"
      ]
     },
     "execution_count": 4,
     "metadata": {},
     "output_type": "execute_result"
    }
   ],
   "source": [
    "from sklearn.feature_extraction.text import TfidfVectorizer\n",
    "\n",
    "sentence = \"data science and ai genai has great career ahead data\"\n",
    "vectorizer = TfidfVectorizer()\n",
    "vector = vectorizer.fit_transform([sentence])\n",
    "vector.toarray()"
   ]
  },
  {
   "cell_type": "code",
   "execution_count": 6,
   "id": "e2265c8a-8101-46ac-897a-d35e996b6afb",
   "metadata": {},
   "outputs": [
    {
     "data": {
      "text/plain": [
       "array([[0.28867513, 0.28867513, 0.28867513, 0.28867513, 0.57735027,\n",
       "        0.28867513, 0.28867513, 0.28867513, 0.28867513]])"
      ]
     },
     "execution_count": 6,
     "metadata": {},
     "output_type": "execute_result"
    }
   ],
   "source": [
    "from sklearn.feature_extraction.text import TfidfVectorizer\n",
    "\n",
    "sentence = \"data data science and ai genai has great career ahead\"\n",
    "vectorizer = TfidfVectorizer()\n",
    "vector = vectorizer.fit_transform([sentence])\n",
    "vector.toarray()"
   ]
  },
  {
   "cell_type": "code",
   "execution_count": 1,
   "id": "a5a57444-a338-47bc-add3-b18cc71c41f2",
   "metadata": {},
   "outputs": [
    {
     "data": {
      "text/plain": [
       "array([[0.2773501, 0.2773501, 0.2773501, 0.2773501, 0.5547002, 0.2773501,\n",
       "        0.2773501, 0.2773501, 0.2773501, 0.2773501]])"
      ]
     },
     "execution_count": 1,
     "metadata": {},
     "output_type": "execute_result"
    }
   ],
   "source": [
    "from sklearn.feature_extraction.text import TfidfVectorizer\n",
    "\n",
    "sentence = \"data ok data science and ai genai has great career ahead\"\n",
    "vectorizer = TfidfVectorizer()\n",
    "vector = vectorizer.fit_transform([sentence])\n",
    "vector.toarray()"
   ]
  },
  {
   "cell_type": "markdown",
   "id": "ca8b855f-d1a6-4ff5-853f-511280dbe946",
   "metadata": {},
   "source": [
    "# Word Embeddings (Word2Vec)\n",
    "\n",
    "Unlike BoW & TF-IDF (frequency-based), **Word2Vec learns meaning** from context.\n",
    "\n",
    "Example:\n",
    "\n",
    "- “India” is closer to “Bharat” than to “Australia”.\n",
    "- “Fruit” is closer to “Mango” than to “Car”.\n",
    "\n",
    "We use **Gensim Word2Vec** to build embeddings.\n",
    "\n",
    "Unlike **BoW** and **TF-IDF**, which are frequency-based,\n",
    "**Word2Vec** learns **dense vector representations** of words that capture **semantic meaning.**\n",
    "\n",
    "**Key Concepts:**\n",
    "\n",
    "- Each word is mapped to a vector of real numbers (e.g., 50-dimensional here).\n",
    "- Words that appear in similar contexts will have similar vectors.\n",
    "- Example: \"india\" and \"bharat\" should be closer than \"india\" and \"australia\".\n",
    "\n",
    "**Parameters we used:**\n",
    "\n",
    "- vector_size=50 → Each word is represented by a 50-dimensional vector.\n",
    "- window=3 → Context window size (how many words before/after are considered).\n",
    "- min_count=1 → Include all words, even those that appear once.\n",
    "- sg=1 → Skip-gram model (better for small datasets).\n",
    "\n",
    "**Output:**\n",
    "- model.wv['india'] → Shows the embedding (vector) for \"india\".\n",
    "- model.wv.most_similar(\"india\") → Finds words closest to \"india\" in vector space.\n",
    "\n",
    "**Insight:**\n",
    "\n",
    "- Word2Vec captures **relationships & meaning:**\n",
    "   - \"india\" ≈ \"bharat\"\n",
    "   - \"fruit\" ≈ \"apple\", \"mango\"\n",
    "- This is the basis for **semantic search, recommendations, and modern NLP models.**\n",
    "\n",
    "Unlike BoW/TF-IDF, Word2Vec **does not just count words**– it learns their meaning from context"
   ]
  },
  {
   "cell_type": "code",
   "execution_count": 2,
   "id": "61938afe-499f-4e62-af26-0bc647bede02",
   "metadata": {},
   "outputs": [
    {
     "name": "stdout",
     "output_type": "stream",
     "text": [
      "Vector for 'india':\n",
      " [ 1.63362399e-02 -8.88606533e-03  1.79708675e-02  1.65073294e-02\n",
      " -8.87044426e-03  6.06210204e-04  8.54898244e-03 -7.85264000e-03\n",
      " -1.11199310e-02 -1.30246449e-02 -1.34147645e-03 -5.91843156e-04\n",
      "  8.92616995e-03 -4.94810799e-03 -3.45218170e-04  4.92375158e-03\n",
      "  9.73519776e-03 -6.16168982e-05 -1.26788188e-02 -1.85216144e-02\n",
      "  5.33151615e-05  1.33237885e-02  2.93204538e-03 -1.79330446e-02\n",
      " -1.58772096e-02  1.31038046e-02 -7.57136103e-03  1.25099849e-02\n",
      " -1.33620640e-02  1.69593245e-02 -1.30326487e-02  6.57603983e-03\n",
      " -2.11397163e-03 -1.35750556e-02 -6.57519326e-03 -2.32282397e-03\n",
      " -1.09418798e-02 -2.42269505e-03 -1.51266269e-02  5.29331900e-03\n",
      "  1.81402974e-02 -4.75450046e-03 -1.95302011e-03  7.02712312e-03\n",
      "  1.73301753e-02 -1.18437055e-02 -1.37751559e-02 -5.86596970e-03\n",
      "  1.82953924e-02  1.73253531e-03]\n",
      "\n",
      "Most similar to 'india': [('uk', 0.5292955636978149), ('europe', 0.21057099103927612), ('delhi', 0.18857939541339874), ('london', 0.11843332648277283), ('country', 0.08190789818763733), ('bharat', 0.054149746894836426), ('ireland', 0.032278481870889664), ('dublin', 0.011398468166589737), ('fruit', -0.02864326536655426), ('nation', -0.03169109672307968)]\n"
     ]
    }
   ],
   "source": [
    "from gensim.models import Word2Vec\n",
    "\n",
    "# Sample corpus (tokenized sentences)\n",
    "corpus = [\n",
    "    [\"india\", \"bharat\", \"delhi\"],\n",
    "    [\"uk\", \"england\", \"london\"],\n",
    "    [\"fruit\", \"apple\", \"mango\"],\n",
    "    [\"country\", \"nation\", \"republic\"],\n",
    "    [\"ireland\", \"dublin\", \"europe\"]\n",
    "]\n",
    "\n",
    "# Train Word2Vec model\n",
    "model = Word2Vec(sentences=corpus, vector_size=50, window=3, min_count=1, sg=1)\n",
    "\n",
    "# Get vector for a word\n",
    "print(\"Vector for 'india':\\n\", model.wv['india'])\n",
    "\n",
    "# Find most similar words\n",
    "print(\"\\nMost similar to 'india':\", model.wv.most_similar(\"india\"))"
   ]
  },
  {
   "cell_type": "markdown",
   "id": "90d44ca7-0287-43b0-90ef-a7d2e7bed158",
   "metadata": {},
   "source": [
    "# Word2Vec Embedding Visualization\n",
    "\n",
    "- Each word in the corpus is represented as a 50-dimensional vector.\n",
    "- To visualize, we used PCA to reduce embeddings to 2D.\n",
    "- Similar words (e.g., \"india\" & \"bharat\", \"fruit\" & \"mango\") should appear closer together on the plot.\n",
    "\n",
    "This shows how Word2Vec captures **semantic meaning** beyond raw frequency.\n",
    "\n",
    "This way, you’ll see clusters:\n",
    "\n",
    "  - \"india\" & \"bharat\" near each other\n",
    "  - \"fruit\", \"apple\", \"mango\" grouped together\n",
    "  - \"uk\", \"england\", \"london\" close"
   ]
  },
  {
   "cell_type": "code",
   "execution_count": 3,
   "id": "481846b6-d848-4a48-8e35-30f63d9f9b80",
   "metadata": {},
   "outputs": [
    {
     "data": {
      "image/png": "[encoded data removed]",
      "text/plain": [
       "<Figure size 800x600 with 1 Axes>"
      ]
     },
     "metadata": {},
     "output_type": "display_data"
    }
   ],
   "source": [
    "from sklearn.decomposition import PCA\n",
    "import matplotlib.pyplot as plt\n",
    "\n",
    "# Extract all word vectors\n",
    "words = list(model.wv.key_to_index.keys())\n",
    "word_vectors = model.wv[words]\n",
    "\n",
    "# Reduce dimensions from 50 → 2 for visualization\n",
    "pca = PCA(n_components=2)\n",
    "reduced_vectors = pca.fit_transform(word_vectors)\n",
    "\n",
    "# Plot embeddings\n",
    "plt.figure(figsize=(8,6))\n",
    "plt.scatter(reduced_vectors[:,0], reduced_vectors[:,1], c='blue')\n",
    "\n",
    "for i, word in enumerate(words):\n",
    "    plt.annotate(word, xy=(reduced_vectors[i,0], reduced_vectors[i,1]))\n",
    "\n",
    "plt.title(\"Word2Vec Embedding Visualization (PCA)\")\n",
    "plt.show()"
   ]
  },
  {
   "cell_type": "markdown",
   "id": "9d2751a3-9c3f-44c3-a33f-a4b5baa18129",
   "metadata": {},
   "source": [
    "**Key Insights**\n",
    "\n",
    " - **BoW** → Simple, but ignores meaning.\n",
    " - **TF-IDF** → Better, highlights important words.\n",
    " - **Word2Vec** → Best for meaning & relationships.\n",
    "\n",
    "**Real-World Usage**\n",
    " - **BoW/TF-IDF** → Text classification, spam detection.\n",
    " - **Word2Vec** → Semantic search, recommendations, chatbots.\n",
    " - **Embeddings** → Stored in **Vector Databases** (e.g., Pinecone, FAISS) for **RAG (Retrieval-Augmented Generation)** in LLMs."
   ]
  },
  {
   "cell_type": "code",
   "execution_count": null,
   "id": "b25ae1e3-4a58-4dc6-b5eb-03b5dee0404b",
   "metadata": {},
   "outputs": [],
   "source": []
  },
  {
   "cell_type": "code",
   "execution_count": null,
   "id": "781e332a-a621-4915-8d85-fa5777ff3532",
   "metadata": {},
   "outputs": [],
   "source": []
  },
  {
   "cell_type": "code",
   "execution_count": null,
   "id": "ec3786ff-98be-47cc-9dae-3c6d7b6b62e1",
   "metadata": {},
   "outputs": [],
   "source": []
  },
  {
   "cell_type": "code",
   "execution_count": null,
   "id": "765a6b8e-5531-4742-8527-a52726ec27c6",
   "metadata": {},
   "outputs": [],
   "source": []
  },
  {
   "cell_type": "code",
   "execution_count": null,
   "id": "fa3b69a4-b295-4e9f-bc01-28ae722c0493",
   "metadata": {},
   "outputs": [],
   "source": []
  },
  {
   "cell_type": "code",
   "execution_count": null,
   "id": "f5dd5773-ef3b-490e-b43c-a63a1c9b31be",
   "metadata": {},
   "outputs": [],
   "source": []
  },
  {
   "cell_type": "code",
   "execution_count": null,
   "id": "4ea44566-b1c8-4022-ac59-f984a7347feb",
   "metadata": {},
   "outputs": [],
   "source": []
  },
  {
   "cell_type": "code",
   "execution_count": null,
   "id": "c5336e5b-32c6-46d0-bea9-d85cd62f9da9",
   "metadata": {},
   "outputs": [],
   "source": []
  },
  {
   "cell_type": "code",
   "execution_count": null,
   "id": "3befbe71-337c-420a-a153-5ca0bbc3eb0f",
   "metadata": {},
   "outputs": [],
   "source": []
  },
  {
   "cell_type": "code",
   "execution_count": null,
   "id": "36685c61-190b-4f44-8bfb-39a8b203b5de",
   "metadata": {},
   "outputs": [],
   "source": []
  },
  {
   "cell_type": "code",
   "execution_count": null,
   "id": "d4964a59-d70c-49a9-920b-e197aec67f62",
   "metadata": {},
   "outputs": [],
   "source": []
  },
  {
   "cell_type": "code",
   "execution_count": null,
   "id": "a88677db-8f83-4ea0-b60e-154bcbdc6f41",
   "metadata": {},
   "outputs": [],
   "source": []
  },
  {
   "cell_type": "code",
   "execution_count": null,
   "id": "def86e35-e60f-4678-985a-0b43e336ba11",
   "metadata": {},
   "outputs": [],
   "source": []
  },
  {
   "cell_type": "code",
   "execution_count": null,
   "id": "150ea6f9-a820-46ee-9710-661206836ee0",
   "metadata": {},
   "outputs": [],
   "source": []
  },
  {
   "cell_type": "code",
   "execution_count": null,
   "id": "a4cd0356-c995-4831-98eb-85193f4a518d",
   "metadata": {},
   "outputs": [],
   "source": []
  },
  {
   "cell_type": "code",
   "execution_count": null,
   "id": "57258c68-b64e-41e7-a656-cca0d449793b",
   "metadata": {},
   "outputs": [],
   "source": []
  },
  {
   "cell_type": "code",
   "execution_count": null,
   "id": "3008a245-3f52-47be-a1a9-4577f6ef76cf",
   "metadata": {},
   "outputs": [],
   "source": []
  },
  {
   "cell_type": "code",
   "execution_count": null,
   "id": "211a13a6-6c4f-4a72-bf6a-fdf913c8b1d6",
   "metadata": {},
   "outputs": [],
   "source": []
  },
  {
   "cell_type": "code",
   "execution_count": null,
   "id": "99d954f8-7171-42d8-afd6-934fd8b146d3",
   "metadata": {},
   "outputs": [],
   "source": []
  },
  {
   "cell_type": "code",
   "execution_count": null,
   "id": "66acafc2-c869-42a8-bef7-623705f78108",
   "metadata": {},
   "outputs": [],
   "source": []
  },
  {
   "cell_type": "code",
   "execution_count": null,
   "id": "c51e86b6-cf82-4033-a631-5ef935574f1e",
   "metadata": {},
   "outputs": [],
   "source": []
  },
  {
   "cell_type": "code",
   "execution_count": null,
   "id": "19a056d7-42a1-4632-b5c3-0c1a2fd87208",
   "metadata": {},
   "outputs": [],
   "source": []
  },
  {
   "cell_type": "code",
   "execution_count": null,
   "id": "d2125336-523c-46d4-9042-e27ca9fa0270",
   "metadata": {},
   "outputs": [],
   "source": []
  },
  {
   "cell_type": "code",
   "execution_count": null,
   "id": "6d2fdb58-7ee2-4da1-8e07-37f5b7cfae24",
   "metadata": {},
   "outputs": [],
   "source": []
  },
  {
   "cell_type": "code",
   "execution_count": null,
   "id": "1b11babd-2303-4e15-af1b-d08feb0c718c",
   "metadata": {},
   "outputs": [],
   "source": []
  },
  {
   "cell_type": "code",
   "execution_count": null,
   "id": "e88d114b-4d38-49a8-a889-126b0040d755",
   "metadata": {},
   "outputs": [],
   "source": []
  },
  {
   "cell_type": "code",
   "execution_count": null,
   "id": "2b7e94dd-de77-48ca-b59e-6bad32fc1492",
   "metadata": {},
   "outputs": [],
   "source": []
  },
  {
   "cell_type": "code",
   "execution_count": null,
   "id": "f882f97c-7f89-4aac-acdd-8d5c6dd9ecb7",
   "metadata": {},
   "outputs": [],
   "source": []
  },
  {
   "cell_type": "code",
   "execution_count": null,
   "id": "7b279e97-0530-482a-9fc7-0b14e77078f5",
   "metadata": {},
   "outputs": [],
   "source": []
  },
  {
   "cell_type": "code",
   "execution_count": null,
   "id": "f3c5a9a3-9758-422c-a4e8-be1155f83310",
   "metadata": {},
   "outputs": [],
   "source": []
  },
  {
   "cell_type": "code",
   "execution_count": null,
   "id": "381c9d4d-cb04-4a6a-aa8c-d8a6eaae5ec4",
   "metadata": {},
   "outputs": [],
   "source": []
  },
  {
   "cell_type": "code",
   "execution_count": null,
   "id": "0e320c3c-a9f4-42c5-8500-79c00f5f197f",
   "metadata": {},
   "outputs": [],
   "source": []
  },
  {
   "cell_type": "code",
   "execution_count": null,
   "id": "0fd3aabc-7b23-4614-9cd5-e411d28abc4a",
   "metadata": {},
   "outputs": [],
   "source": []
  },
  {
   "cell_type": "code",
   "execution_count": null,
   "id": "28379ad2-1632-4396-ab42-7cdae2412508",
   "metadata": {},
   "outputs": [],
   "source": []
  }
 ],
 "metadata": {
  "kernelspec": {
   "display_name": "Python 3 (ipykernel)",
   "language": "python",
   "name": "python3"
  },
  "language_info": {
   "codemirror_mode": {
    "name": "ipython",
    "version": 3
   },
   "file_extension": ".py",
   "mimetype": "text/x-python",
   "name": "python",
   "nbconvert_exporter": "python",
   "pygments_lexer": "ipython3",
   "version": "3.12.7"
  }
 },
 "nbformat": 4,
 "nbformat_minor": 5
}

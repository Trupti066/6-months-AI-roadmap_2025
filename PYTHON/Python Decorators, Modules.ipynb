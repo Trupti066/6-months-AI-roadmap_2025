{
 "cells": [
  {
   "cell_type": "markdown",
   "id": "ad266888-f283-46d7-9e4a-47d281b96705",
   "metadata": {},
   "source": [
    "# Python Decorators"
   ]
  },
  {
   "cell_type": "code",
   "execution_count": 1,
   "id": "f728d6d1-c441-43d2-8fd2-99c6872736ea",
   "metadata": {},
   "outputs": [
    {
     "name": "stdout",
     "output_type": "stream",
     "text": [
      "2.0\n"
     ]
    }
   ],
   "source": [
    "def div(a,b):\n",
    "    print(a/b)\n",
    "div(4,2)"
   ]
  },
  {
   "cell_type": "code",
   "execution_count": 2,
   "id": "f7c6d546-e739-42c6-9649-6d37d3604d47",
   "metadata": {},
   "outputs": [
    {
     "name": "stdout",
     "output_type": "stream",
     "text": [
      "0.5\n"
     ]
    }
   ],
   "source": [
    "def div(a,b):\n",
    "    print(a/b)\n",
    "div(2,4)"
   ]
  },
  {
   "cell_type": "markdown",
   "id": "f76d2c2d-80a1-40fe-8f5c-ea8f49ee03ea",
   "metadata": {},
   "source": [
    "def div(a,b):\n",
    "\n",
    "    if a<b:\n",
    "        a,b = b,a       # New code added and same output \n",
    "    print(a / b)\n",
    "\n",
    "div(4,2)"
   ]
  },
  {
   "cell_type": "markdown",
   "id": "38d9a153-4542-4ece-87e5-d61578b659f0",
   "metadata": {},
   "source": [
    "def div(a,b):\n",
    "\n",
    "    if a<b:\n",
    "        a,b = b,a       # New code added and same output \n",
    "    print(a / b)\n",
    "\n",
    "div(2,4)"
   ]
  },
  {
   "cell_type": "markdown",
   "id": "47863a24-835f-4524-9203-7cdbe12853df",
   "metadata": {},
   "source": [
    "# Modules"
   ]
  },
  {
   "cell_type": "markdown",
   "id": "ac912ad8-d971-4458-a0b5-2846c86ffd88",
   "metadata": {},
   "source": [
    "###\n",
    "\n",
    ". concept od debugging means - remove the bugs\n",
    ". coding - coding will create bugs or add the bugs\n",
    ". Breakdown complex codes or logical part to different modules \n",
    "\n",
    "###"
   ]
  },
  {
   "cell_type": "markdown",
   "id": "1575f5de-2515-4277-bde5-02c09d728041",
   "metadata": {},
   "source": [
    "- Special Variable Name"
   ]
  },
  {
   "cell_type": "code",
   "execution_count": 1,
   "id": "e19176c4-9141-4338-b883-6ebfc518ab32",
   "metadata": {},
   "outputs": [
    {
     "data": {
      "text/plain": [
       "'__main__'"
      ]
     },
     "execution_count": 1,
     "metadata": {},
     "output_type": "execute_result"
    }
   ],
   "source": [
    "__name__"
   ]
  },
  {
   "cell_type": "code",
   "execution_count": 2,
   "id": "f28beed2-785f-4821-8eb4-06abb57b336f",
   "metadata": {},
   "outputs": [
    {
     "name": "stdout",
     "output_type": "stream",
     "text": [
      "__main__\n"
     ]
    }
   ],
   "source": [
    "print(__name__)"
   ]
  },
  {
   "cell_type": "code",
   "execution_count": null,
   "id": "eb8be04d-f290-46de-8d83-b03923c2417a",
   "metadata": {},
   "outputs": [],
   "source": []
  },
  {
   "cell_type": "code",
   "execution_count": null,
   "id": "74d9e019-deff-4a51-99e6-31fc2c7abf60",
   "metadata": {},
   "outputs": [],
   "source": []
  },
  {
   "cell_type": "code",
   "execution_count": null,
   "id": "cab7fe4e-d439-4f04-9682-e81819eaa18f",
   "metadata": {},
   "outputs": [],
   "source": []
  },
  {
   "cell_type": "code",
   "execution_count": null,
   "id": "2e0052de-d0cb-4cee-bb16-4331e2ce7c71",
   "metadata": {},
   "outputs": [],
   "source": []
  },
  {
   "cell_type": "code",
   "execution_count": null,
   "id": "cab47671-1bbc-46e4-a629-7b45d9ea35ef",
   "metadata": {},
   "outputs": [],
   "source": []
  },
  {
   "cell_type": "code",
   "execution_count": null,
   "id": "74bdd423-c4b1-4101-a753-0c511a2e43eb",
   "metadata": {},
   "outputs": [],
   "source": []
  },
  {
   "cell_type": "code",
   "execution_count": null,
   "id": "1c88cb5c-85a4-4306-9ce4-53624fcf0c81",
   "metadata": {},
   "outputs": [],
   "source": []
  }
 ],
 "metadata": {
  "kernelspec": {
   "display_name": "Python 3 (ipykernel)",
   "language": "python",
   "name": "python3"
  },
  "language_info": {
   "codemirror_mode": {
    "name": "ipython",
    "version": 3
   },
   "file_extension": ".py",
   "mimetype": "text/x-python",
   "name": "python",
   "nbconvert_exporter": "python",
   "pygments_lexer": "ipython3",
   "version": "3.12.7"
  }
 },
 "nbformat": 4,
 "nbformat_minor": 5
}

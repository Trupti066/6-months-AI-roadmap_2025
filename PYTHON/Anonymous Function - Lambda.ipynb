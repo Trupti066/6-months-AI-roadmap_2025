{
 "cells": [
  {
   "cell_type": "code",
   "execution_count": 3,
   "id": "7a481be2-258d-42ef-a01a-73efd6d2cfdf",
   "metadata": {},
   "outputs": [
    {
     "data": {
      "text/plain": [
       "25"
      ]
     },
     "execution_count": 3,
     "metadata": {},
     "output_type": "execute_result"
    }
   ],
   "source": [
    "def square(a):\n",
    "    return a*a\n",
    "\n",
    "square(5) "
   ]
  },
  {
   "cell_type": "code",
   "execution_count": 4,
   "id": "a0a03fc0-14cf-4093-9684-7f3b0b19e201",
   "metadata": {},
   "outputs": [
    {
     "name": "stdout",
     "output_type": "stream",
     "text": [
      "25\n"
     ]
    }
   ],
   "source": [
    "def square(a):\n",
    "    return a*a\n",
    "\n",
    "result = square(5)\n",
    "print(result)"
   ]
  },
  {
   "cell_type": "code",
   "execution_count": 5,
   "id": "c67f32d9-dda2-4825-968c-0b6bd3ce28de",
   "metadata": {},
   "outputs": [
    {
     "data": {
      "text/plain": [
       "25"
      ]
     },
     "execution_count": 5,
     "metadata": {},
     "output_type": "execute_result"
    }
   ],
   "source": [
    "# Lambda Function\n",
    "f = lambda a : a * a \n",
    "result = f(5)\n",
    "result "
   ]
  },
  {
   "cell_type": "code",
   "execution_count": 6,
   "id": "e3c28958-f293-4f2f-bc80-7a4ad6f340b0",
   "metadata": {},
   "outputs": [
    {
     "name": "stdout",
     "output_type": "stream",
     "text": [
      "5\n",
      "3\n"
     ]
    }
   ],
   "source": [
    "f = lambda a, b: a + b \n",
    "f1 = lambda a, b:a-b\n",
    "\n",
    "result = f(1,4)\n",
    "result1 = f1(4,1)\n",
    " \n",
    "print(result)\n",
    "print(result1)"
   ]
  },
  {
   "cell_type": "markdown",
   "id": "dde5e6d7-a690-4738-99b5-a8df577c672c",
   "metadata": {},
   "source": [
    "# Filter , Map , Reduce"
   ]
  },
  {
   "cell_type": "markdown",
   "id": "2c5a4005-3f99-47ed-a81b-edff83d792b3",
   "metadata": {},
   "source": [
    "# Filter"
   ]
  },
  {
   "cell_type": "code",
   "execution_count": 7,
   "id": "8c621ac7-7f9c-40c2-b482-23adb066e218",
   "metadata": {},
   "outputs": [
    {
     "ename": "NameError",
     "evalue": "name 'is_even' is not defined",
     "output_type": "error",
     "traceback": [
      "\u001b[1;31m---------------------------------------------------------------------------\u001b[0m",
      "\u001b[1;31mNameError\u001b[0m                                 Traceback (most recent call last)",
      "Cell \u001b[1;32mIn[7], line 3\u001b[0m\n\u001b[0;32m      1\u001b[0m \u001b[38;5;66;03m# finding the  list of even numbers \u001b[39;00m\n\u001b[0;32m      2\u001b[0m nums \u001b[38;5;241m=\u001b[39m [\u001b[38;5;241m3\u001b[39m,\u001b[38;5;241m2\u001b[39m,\u001b[38;5;241m5\u001b[39m,\u001b[38;5;241m7\u001b[39m,\u001b[38;5;241m6\u001b[39m,\u001b[38;5;241m8\u001b[39m,\u001b[38;5;241m2\u001b[39m,\u001b[38;5;241m9\u001b[39m]\n\u001b[1;32m----> 3\u001b[0m evens \u001b[38;5;241m=\u001b[39m \u001b[38;5;28mlist\u001b[39m(\u001b[38;5;28mfilter\u001b[39m(is_even, nums))\n",
      "\u001b[1;31mNameError\u001b[0m: name 'is_even' is not defined"
     ]
    }
   ],
   "source": [
    "# finding the  list of even numbers \n",
    "nums = [3,2,5,7,6,8,2,9]\n",
    "evens = list(filter(is_even, nums)) "
   ]
  },
  {
   "cell_type": "code",
   "execution_count": 8,
   "id": "57344f22-4581-45d4-b895-1070bb329275",
   "metadata": {},
   "outputs": [
    {
     "name": "stdout",
     "output_type": "stream",
     "text": [
      "[2, 6, 8, 2]\n"
     ]
    }
   ],
   "source": [
    "def is_even(n):\n",
    "    return n % 2 == 0\n",
    "\n",
    "nums = [3,2,5,7,6,8,2,9]\n",
    "\n",
    "evens = list(filter(is_even, nums))\n",
    "print(evens)"
   ]
  },
  {
   "cell_type": "code",
   "execution_count": 9,
   "id": "fa8cfb2a-4be5-443d-8bd8-4c50dcab7acb",
   "metadata": {},
   "outputs": [
    {
     "name": "stdout",
     "output_type": "stream",
     "text": [
      "[3, 5, 7, 9]\n"
     ]
    }
   ],
   "source": [
    "def is_odd(n):\n",
    "    return n % 2 != 0\n",
    "\n",
    "nums = [3,2,5,7,6,8,2,9]\n",
    "\n",
    "odd = list(filter(is_odd, nums))\n",
    "print(odd)"
   ]
  },
  {
   "cell_type": "code",
   "execution_count": 10,
   "id": "d69247e7-d053-4917-8a5f-6b5e496a6086",
   "metadata": {},
   "outputs": [
    {
     "name": "stdout",
     "output_type": "stream",
     "text": [
      "[2, 6, 8, 2]\n"
     ]
    }
   ],
   "source": [
    "nums =  [3,2,5,7,6,8,2,9]\n",
    "evens = list(filter(lambda n : n%2 == 0, nums))\n",
    "print(evens)"
   ]
  },
  {
   "cell_type": "code",
   "execution_count": 11,
   "id": "024c058f-3db8-4e05-aafd-71be378712e4",
   "metadata": {},
   "outputs": [
    {
     "name": "stdout",
     "output_type": "stream",
     "text": [
      "[3, 5, 7, 9]\n"
     ]
    }
   ],
   "source": [
    "nums =  [3,2,5,7,6,8,2,9]\n",
    "evens = list(filter(lambda n : n%2 != 0, nums))\n",
    "print(evens)"
   ]
  },
  {
   "cell_type": "code",
   "execution_count": 12,
   "id": "e898962a-b024-4dad-b52f-7ed61a806584",
   "metadata": {},
   "outputs": [
    {
     "name": "stdout",
     "output_type": "stream",
     "text": [
      "[2, 6, 8, 2]\n",
      "[3, 5, 7, 9]\n"
     ]
    }
   ],
   "source": [
    "nums =  [3,2,5,7,6,8,2,9]\n",
    "\n",
    "evens = list(filter(lambda n : n%2 == 0, nums))\n",
    "odd = list(filter(lambda n : n%2 != 0, nums))\n",
    "\n",
    "print(evens)\n",
    "print(odd)"
   ]
  },
  {
   "cell_type": "markdown",
   "id": "4c010658-77de-4b26-883f-bb3499e5374c",
   "metadata": {},
   "source": [
    "# Map"
   ]
  },
  {
   "cell_type": "code",
   "execution_count": 14,
   "id": "eccf4fdd-f6c2-4ae8-869b-df3cdf5b6b5a",
   "metadata": {},
   "outputs": [
    {
     "name": "stdout",
     "output_type": "stream",
     "text": [
      "[2, 6, 8, 4, 6, 2]\n",
      "[4, 8, 10, 6, 8, 4]\n"
     ]
    }
   ],
   "source": [
    "def update(n):\n",
    "    return n+2\n",
    "\n",
    "nums = [3,2,6,8,4,6,2,9]\n",
    "\n",
    "evens = list(filter(is_even, nums))\n",
    "double = list(map(update, evens))\n",
    "\n",
    "print(evens)\n",
    "print(double)"
   ]
  },
  {
   "cell_type": "code",
   "execution_count": 15,
   "id": "9e86a1bb-529e-40f8-8373-9f00b1d19d28",
   "metadata": {},
   "outputs": [
    {
     "name": "stdout",
     "output_type": "stream",
     "text": [
      "[2, 6, 8, 4, 6, 2]\n",
      "[0, 4, 6, 2, 4, 0]\n"
     ]
    }
   ],
   "source": [
    "nums = [3,2,6,8,4,6,2,9]\n",
    "\n",
    "evens = list(filter(is_even, nums))\n",
    "double = list(map(lambda n: n-2, evens))\n",
    "\n",
    "print(evens)\n",
    "print(double)"
   ]
  },
  {
   "cell_type": "code",
   "execution_count": 16,
   "id": "49f79df8-f2b9-4288-9614-ade342b74360",
   "metadata": {},
   "outputs": [
    {
     "name": "stdout",
     "output_type": "stream",
     "text": [
      "[2, 6, 8, 4, 6, 2]\n",
      "[4, 8, 10, 6, 8, 4]\n"
     ]
    }
   ],
   "source": [
    "nums = [3,2,6,8,4,6,2,9]\n",
    "\n",
    "evens = list(filter(is_even, nums))\n",
    "double = list(map(lambda n: n+2, evens))\n",
    "\n",
    "print(evens)\n",
    "print(double)"
   ]
  },
  {
   "cell_type": "code",
   "execution_count": 17,
   "id": "08879872-d598-4ec2-9a96-e85c6de43879",
   "metadata": {},
   "outputs": [
    {
     "name": "stdout",
     "output_type": "stream",
     "text": [
      "[2, 6, 8, 4, 6, 2]\n",
      "[4, 12, 16, 8, 12, 4]\n",
      "[4, 8, 10, 6, 8, 4]\n",
      "[0, 4, 6, 2, 4, 0]\n"
     ]
    }
   ],
   "source": [
    "nums = [3,2,6,8,4,6,2,9]\n",
    "\n",
    "evens = list(filter(is_even, nums))\n",
    "\n",
    "double = list(map(lambda n : n*2, evens))\n",
    "double_ = list(map(lambda n : n+2, evens))\n",
    "double_1 = list(map(lambda n : n-2, evens))\n",
    "\n",
    "print(evens)\n",
    "print(double)\n",
    "print(double_)\n",
    "print(double_1)"
   ]
  },
  {
   "cell_type": "markdown",
   "id": "3c0f5005-ccca-4581-bc50-b24790f6e5ca",
   "metadata": {},
   "source": [
    "# Reduce"
   ]
  },
  {
   "cell_type": "code",
   "execution_count": 18,
   "id": "14c3de34-8259-415c-b9f2-515fa3e867a7",
   "metadata": {},
   "outputs": [
    {
     "name": "stdout",
     "output_type": "stream",
     "text": [
      "56\n"
     ]
    }
   ],
   "source": [
    "from functools import reduce \n",
    "\n",
    "def add_all(a,b):\n",
    "    return a+b\n",
    "\n",
    "nums = [3,2,6,8,4,6,2,9]\n",
    "\n",
    "evens = list(filter(is_even, nums))\n",
    "double = list(map(lambda n : n*2, evens))\n",
    "\n",
    "sums = reduce(add_all, double)\n",
    "sums \n",
    "print(sums)"
   ]
  },
  {
   "cell_type": "code",
   "execution_count": 19,
   "id": "f4e70ffc-f571-4598-b7ff-b49c94ce21bf",
   "metadata": {},
   "outputs": [
    {
     "name": "stdout",
     "output_type": "stream",
     "text": [
      "[2, 6, 8, 4, 6, 2]\n",
      "[4, 12, 16, 8, 12, 4]\n",
      "56\n"
     ]
    }
   ],
   "source": [
    "from functools import reduce \n",
    "\n",
    "nums = [3,2,6,8,4,6,2,9]\n",
    "\n",
    "evens = list(filter(is_even, nums))\n",
    "double = list(map(lambda n : n*2, evens))\n",
    "sums = (reduce(lambda a,b : a + b, double))\n",
    "\n",
    "print(evens)\n",
    "print(double)\n",
    "print(sums)"
   ]
  },
  {
   "cell_type": "code",
   "execution_count": null,
   "id": "b7c13d43-f567-4ec6-8f60-ef43d63de688",
   "metadata": {},
   "outputs": [],
   "source": []
  },
  {
   "cell_type": "code",
   "execution_count": null,
   "id": "eee7399e-ce56-4f0c-9dfc-a2abd01f6c58",
   "metadata": {},
   "outputs": [],
   "source": []
  },
  {
   "cell_type": "code",
   "execution_count": null,
   "id": "17231749-4822-4380-bc4f-3bdccea9ceed",
   "metadata": {},
   "outputs": [],
   "source": []
  },
  {
   "cell_type": "code",
   "execution_count": null,
   "id": "76c28f0a-3862-4dd2-91e1-bd8f0c6becd4",
   "metadata": {},
   "outputs": [],
   "source": []
  },
  {
   "cell_type": "code",
   "execution_count": null,
   "id": "71eb3e78-37cb-4d9b-b0d4-366b4fe93f0c",
   "metadata": {},
   "outputs": [],
   "source": []
  },
  {
   "cell_type": "code",
   "execution_count": null,
   "id": "240f3c33-a1ef-4952-9a48-dbe53b16d153",
   "metadata": {},
   "outputs": [],
   "source": []
  },
  {
   "cell_type": "code",
   "execution_count": null,
   "id": "4925f182-5f38-40f1-9ef4-53c80aa09484",
   "metadata": {},
   "outputs": [],
   "source": []
  },
  {
   "cell_type": "code",
   "execution_count": null,
   "id": "34f16856-bee2-4899-acf2-ed05d0e95c19",
   "metadata": {},
   "outputs": [],
   "source": []
  },
  {
   "cell_type": "code",
   "execution_count": null,
   "id": "3db52b6f-4552-4d5d-a448-ab29c4516355",
   "metadata": {},
   "outputs": [],
   "source": []
  }
 ],
 "metadata": {
  "kernelspec": {
   "display_name": "Python 3 (ipykernel)",
   "language": "python",
   "name": "python3"
  },
  "language_info": {
   "codemirror_mode": {
    "name": "ipython",
    "version": 3
   },
   "file_extension": ".py",
   "mimetype": "text/x-python",
   "name": "python",
   "nbconvert_exporter": "python",
   "pygments_lexer": "ipython3",
   "version": "3.12.7"
  }
 },
 "nbformat": 4,
 "nbformat_minor": 5
}

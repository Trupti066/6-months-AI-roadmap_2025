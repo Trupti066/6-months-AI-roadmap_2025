{
 "cells": [
  {
   "cell_type": "markdown",
   "id": "5ce998f6-9721-49a6-a714-7a453511d81f",
   "metadata": {},
   "source": [
    "# 1. Check if a number is even or odd "
   ]
  },
  {
   "cell_type": "code",
   "execution_count": 2,
   "id": "7fb51ec2-5f45-437a-93f2-4da7d4d2fd46",
   "metadata": {},
   "outputs": [
    {
     "name": "stdout",
     "output_type": "stream",
     "text": [
      "Old number\n"
     ]
    }
   ],
   "source": [
    "    x = 5\n",
    "    r = x % 2\n",
    "\n",
    "    if r == 0:\n",
    "        print('Even number')\n",
    "    else:    \n",
    "        print('Old number')"
   ]
  },
  {
   "cell_type": "code",
   "execution_count": 3,
   "id": "63d6f7ff-a0ff-47f5-ab9a-ba96a26785e4",
   "metadata": {},
   "outputs": [
    {
     "name": "stdout",
     "output_type": "stream",
     "text": [
      "Even number\n"
     ]
    }
   ],
   "source": [
    "    x = 8\n",
    "    r = x % 2\n",
    "\n",
    "    if r == 0:\n",
    "        print('Even number')\n",
    "    else:    \n",
    "        print('Old number')"
   ]
  },
  {
   "cell_type": "code",
   "execution_count": 4,
   "id": "90d12676-f5ec-412b-833c-3eb2efcf2946",
   "metadata": {},
   "outputs": [
    {
     "name": "stdin",
     "output_type": "stream",
     "text": [
      "Enter a number: 90\n"
     ]
    },
    {
     "name": "stdout",
     "output_type": "stream",
     "text": [
      "Even\n"
     ]
    }
   ],
   "source": [
    "num = int(input(\"Enter a number:\"))\n",
    "if num % 2==0:\n",
    "    print(\"Even\")\n",
    "else:\n",
    "    print(\"Odd\")"
   ]
  },
  {
   "cell_type": "code",
   "execution_count": 5,
   "id": "f2d909fe-714e-4c10-b876-c3bd7220f4e3",
   "metadata": {},
   "outputs": [
    {
     "name": "stdin",
     "output_type": "stream",
     "text": [
      "Enter a number: 33\n"
     ]
    },
    {
     "name": "stdout",
     "output_type": "stream",
     "text": [
      "Odd\n"
     ]
    }
   ],
   "source": [
    "num = int(input(\"Enter a number:\"))\n",
    "if num % 2==0:\n",
    "    print(\"Even\")\n",
    "else:\n",
    "    print(\"Odd\")\n"
   ]
  },
  {
   "cell_type": "markdown",
   "id": "95a9d6f0-dbef-4693-a48d-9e3409a55d6a",
   "metadata": {},
   "source": [
    "# 2.Check if a person is eligible to vote (age 18 or above) "
   ]
  },
  {
   "cell_type": "code",
   "execution_count": 13,
   "id": "3e43eeae-63e1-45fe-bed6-687e20d2542a",
   "metadata": {},
   "outputs": [
    {
     "name": "stdin",
     "output_type": "stream",
     "text": [
      "Enter age: 19\n"
     ]
    },
    {
     "name": "stdout",
     "output_type": "stream",
     "text": [
      "Eligible to vote\n"
     ]
    }
   ],
   "source": [
    "age = int(input(\"Enter age:\"))\n",
    "if age >= 18:\n",
    "    print(\"Eligible to vote\")\n",
    "else:\n",
    "    print(\"Not to vote\")"
   ]
  },
  {
   "cell_type": "code",
   "execution_count": 14,
   "id": "55612c5b-c450-401a-b3e4-ccce1612880f",
   "metadata": {},
   "outputs": [
    {
     "name": "stdin",
     "output_type": "stream",
     "text": [
      "Enter age: 16\n"
     ]
    },
    {
     "name": "stdout",
     "output_type": "stream",
     "text": [
      "Not to vote\n"
     ]
    }
   ],
   "source": [
    "age = int(input(\"Enter age:\"))\n",
    "if age >= 18:\n",
    "    print(\"Eligible to vote\")\n",
    "else:\n",
    "    print(\"Not to vote\")\n"
   ]
  },
  {
   "cell_type": "markdown",
   "id": "09a6ddb2-c20a-4bf3-8378-44b7faae63ab",
   "metadata": {},
   "source": [
    "# 3.Determine if a given year is a leap year or not "
   ]
  },
  {
   "cell_type": "code",
   "execution_count": 15,
   "id": "f304b232-7cb2-4f58-acc9-c1a025cd96fd",
   "metadata": {},
   "outputs": [
    {
     "name": "stdin",
     "output_type": "stream",
     "text": [
      "Enter a year:  2002\n"
     ]
    },
    {
     "name": "stdout",
     "output_type": "stream",
     "text": [
      "Not a Leap Year\n"
     ]
    }
   ],
   "source": [
    "year = int(input(\"Enter a year: \"))   \n",
    "if (year % 4 == 0 and year % 100 != 0) or (year % 400 == 0):   \n",
    "    print(\"Leap Year\")   \n",
    "else:   \n",
    "    print(\"Not a Leap Year\") "
   ]
  },
  {
   "cell_type": "code",
   "execution_count": 16,
   "id": "d4be5a48-0ff4-42e0-9826-0b54009d777a",
   "metadata": {},
   "outputs": [
    {
     "name": "stdin",
     "output_type": "stream",
     "text": [
      "Enter a year:  2012\n"
     ]
    },
    {
     "name": "stdout",
     "output_type": "stream",
     "text": [
      "Leap Year\n"
     ]
    }
   ],
   "source": [
    "year = int(input(\"Enter a year: \"))   \n",
    "if (year % 4 == 0 and year % 100 != 0) or (year % 400 == 0):   \n",
    "    print(\"Leap Year\")   \n",
    "else:   \n",
    "    print(\"Not a Leap Year\") "
   ]
  },
  {
   "cell_type": "markdown",
   "id": "1042bab4-8eca-4cd3-ad82-86bf8fbd5cc9",
   "metadata": {},
   "source": [
    "# 4. Check if a number is positive, negative, or zero "
   ]
  },
  {
   "cell_type": "code",
   "execution_count": 17,
   "id": "a598a04e-a15b-49e4-847e-1887c95d5097",
   "metadata": {},
   "outputs": [
    {
     "name": "stdin",
     "output_type": "stream",
     "text": [
      "Enter a number:  29\n"
     ]
    },
    {
     "name": "stdout",
     "output_type": "stream",
     "text": [
      "Positive\n"
     ]
    }
   ],
   "source": [
    "num = int(input(\"Enter a number: \"))   \n",
    "if num > 0:   \n",
    "    print(\"Positive\")   \n",
    "elif num < 0:   \n",
    "    print(\"Negative\")   \n",
    "else:   \n",
    "    print(\"Zero\")   "
   ]
  },
  {
   "cell_type": "code",
   "execution_count": 18,
   "id": "0f12af7a-09a1-4092-9a55-e8d19089cb2b",
   "metadata": {},
   "outputs": [
    {
     "name": "stdin",
     "output_type": "stream",
     "text": [
      "Enter a number:  -2\n"
     ]
    },
    {
     "name": "stdout",
     "output_type": "stream",
     "text": [
      "Negative\n"
     ]
    }
   ],
   "source": [
    "num = int(input(\"Enter a number: \"))   \n",
    "if num > 0:   \n",
    "    print(\"Positive\")   \n",
    "elif num < 0:   \n",
    "    print(\"Negative\")   \n",
    "else:   \n",
    "    print(\"Zero\")   "
   ]
  },
  {
   "cell_type": "code",
   "execution_count": 19,
   "id": "0d2f3c24-f324-49da-9c84-288e577940ef",
   "metadata": {},
   "outputs": [
    {
     "name": "stdin",
     "output_type": "stream",
     "text": [
      "Enter a number:  0\n"
     ]
    },
    {
     "name": "stdout",
     "output_type": "stream",
     "text": [
      "Zero\n"
     ]
    }
   ],
   "source": [
    "num = int(input(\"Enter a number: \"))   \n",
    "if num > 0:   \n",
    "    print(\"Positive\")   \n",
    "elif num < 0:   \n",
    "    print(\"Negative\")   \n",
    "else:   \n",
    "    print(\"Zero\")   "
   ]
  },
  {
   "cell_type": "markdown",
   "id": "109f5e59-5f45-4f76-b706-e0b108572f70",
   "metadata": {},
   "source": [
    "# 5. Write a program to find the greatest of two numbers "
   ]
  },
  {
   "cell_type": "code",
   "execution_count": 20,
   "id": "c196ea8b-71f5-420e-849b-06df2e1d8815",
   "metadata": {},
   "outputs": [
    {
     "name": "stdin",
     "output_type": "stream",
     "text": [
      "Enter first number:  2\n",
      "Enter second number:  4\n"
     ]
    },
    {
     "name": "stdout",
     "output_type": "stream",
     "text": [
      "Greatest: 4\n"
     ]
    }
   ],
   "source": [
    "a = int(input(\"Enter first number: \"))   \n",
    "b = int(input(\"Enter second number: \"))   \n",
    "if a > b:   \n",
    "    print(\"Greatest:\", a)   \n",
    "else:   \n",
    "    print(\"Greatest:\", b) "
   ]
  },
  {
   "cell_type": "markdown",
   "id": "b4ea53ae-18a1-49ea-a2ea-168f9aef1e68",
   "metadata": {},
   "source": [
    "# 6. Determine if a number is a multiple of 5 "
   ]
  },
  {
   "cell_type": "code",
   "execution_count": 21,
   "id": "20d6f7ef-0ad4-4edc-8a92-ff0057e8d1ca",
   "metadata": {},
   "outputs": [
    {
     "name": "stdin",
     "output_type": "stream",
     "text": [
      "Enter a number:  80\n"
     ]
    },
    {
     "name": "stdout",
     "output_type": "stream",
     "text": [
      "Multiple of 5\n"
     ]
    }
   ],
   "source": [
    "num = int(input(\"Enter a number: \"))   \n",
    "if num % 5 == 0:   \n",
    "    print(\"Multiple of 5\")   \n",
    "else:   \n",
    "    print(\"Not a multiple of 5\")   "
   ]
  },
  {
   "cell_type": "code",
   "execution_count": null,
   "id": "2912a6d5-cb50-4dbe-a0b4-595a02a0c1cc",
   "metadata": {},
   "outputs": [
    {
     "name": "stdin",
     "output_type": "stream",
     "text": [
      "Enter a number:  9\n"
     ]
    }
   ],
   "source": [
    "num = int(input(\"Enter a number: \"))   \n",
    "if num % 5 == 0:   \n",
    "    print(\"Multiple of 5\")   \n",
    "else:   \n",
    "    print(\"Not a multiple of 5\")   "
   ]
  },
  {
   "cell_type": "markdown",
   "id": "29788b19-d283-4b93-8dc9-73e6a3aa443c",
   "metadata": {},
   "source": [
    "# 7. Check if a character is a vowel or consonant "
   ]
  },
  {
   "cell_type": "code",
   "execution_count": 2,
   "id": "1402df85-710f-4b10-a24e-f86c13737db4",
   "metadata": {},
   "outputs": [
    {
     "name": "stdin",
     "output_type": "stream",
     "text": [
      "Enter a character:  e\n"
     ]
    },
    {
     "name": "stdout",
     "output_type": "stream",
     "text": [
      "Vowel\n"
     ]
    }
   ],
   "source": [
    "char = input(\"Enter a character: \").lower()   \n",
    "if char in 'aeiou':   \n",
    "    print(\"Vowel\")   \n",
    "else:   \n",
    "    print(\"Consonant\")  "
   ]
  },
  {
   "cell_type": "code",
   "execution_count": 3,
   "id": "dc5fb18e-b8ee-4de1-9b46-937839415d77",
   "metadata": {},
   "outputs": [
    {
     "name": "stdin",
     "output_type": "stream",
     "text": [
      "Enter a character:  f\n"
     ]
    },
    {
     "name": "stdout",
     "output_type": "stream",
     "text": [
      "Consonant\n"
     ]
    }
   ],
   "source": [
    "char = input(\"Enter a character: \").lower()   \n",
    "if char in 'aeiou':   \n",
    "    print(\"Vowel\")   \n",
    "else:   \n",
    "    print(\"Consonant\")  "
   ]
  },
  {
   "cell_type": "markdown",
   "id": "b0b4d99e-6ef6-4e88-96d5-0ceafafc72f7",
   "metadata": {},
   "source": [
    "# 8. Determine if a person is eligible for a senior citizen discount (age 60+) "
   ]
  },
  {
   "cell_type": "code",
   "execution_count": 4,
   "id": "c733aef9-538d-496a-83e7-a71832c4c1fb",
   "metadata": {},
   "outputs": [
    {
     "name": "stdin",
     "output_type": "stream",
     "text": [
      "Enter age:  70\n"
     ]
    },
    {
     "name": "stdout",
     "output_type": "stream",
     "text": [
      "Eligible for senior citizen discount\n"
     ]
    }
   ],
   "source": [
    "age = int(input(\"Enter age: \"))   \n",
    "if age >= 60:   \n",
    "    print(\"Eligible for senior citizen discount\")   \n",
    "else:   \n",
    "    print(\"Not eligible\")  "
   ]
  },
  {
   "cell_type": "code",
   "execution_count": 5,
   "id": "68df52e7-e83f-4410-8c03-0ba816dee7cb",
   "metadata": {},
   "outputs": [
    {
     "name": "stdin",
     "output_type": "stream",
     "text": [
      "Enter age:  45\n"
     ]
    },
    {
     "name": "stdout",
     "output_type": "stream",
     "text": [
      "Not eligible\n"
     ]
    }
   ],
   "source": [
    "age = int(input(\"Enter age: \"))   \n",
    "if age >= 60:   \n",
    "    print(\"Eligible for senior citizen discount\")   \n",
    "else:   \n",
    "    print(\"Not eligible\")  "
   ]
  },
  {
   "cell_type": "markdown",
   "id": "be9341ab-9922-4c5d-857f-d635fd4591c4",
   "metadata": {},
   "source": [
    "# 9. Check if a number is a single-digit number "
   ]
  },
  {
   "cell_type": "code",
   "execution_count": 6,
   "id": "4ac104bc-7ad3-46d6-8789-cb54b48455bc",
   "metadata": {},
   "outputs": [
    {
     "name": "stdin",
     "output_type": "stream",
     "text": [
      "Enter a number:  4\n"
     ]
    },
    {
     "name": "stdout",
     "output_type": "stream",
     "text": [
      "Single-digit number\n"
     ]
    }
   ],
   "source": [
    "num = int(input(\"Enter a number: \"))   \n",
    "if 0 <= abs(num) < 10:   \n",
    "    print(\"Single-digit number\")   \n",
    "else:   \n",
    "    print(\"Not a single-digit number\")  "
   ]
  },
  {
   "cell_type": "code",
   "execution_count": 7,
   "id": "f002abf9-b804-4e7a-83ed-ea36d984e212",
   "metadata": {},
   "outputs": [
    {
     "name": "stdin",
     "output_type": "stream",
     "text": [
      "Enter a number:  44\n"
     ]
    },
    {
     "name": "stdout",
     "output_type": "stream",
     "text": [
      "Not a single-digit number\n"
     ]
    }
   ],
   "source": [
    "num = int(input(\"Enter a number: \"))   \n",
    "if 0 <= abs(num) < 10:   \n",
    "    print(\"Single-digit number\")   \n",
    "else:   \n",
    "    print(\"Not a single-digit number\")  "
   ]
  },
  {
   "cell_type": "markdown",
   "id": "c2d349e8-5b5b-4c13-ad01-ea436b72d826",
   "metadata": {},
   "source": [
    "# 10. Print \"Good Morning\" if the time is before 12 PM, otherwise print \"Good Afternoon\" "
   ]
  },
  {
   "cell_type": "code",
   "execution_count": 8,
   "id": "a27f6215-c8a3-466f-8540-0b7f5228ec5f",
   "metadata": {},
   "outputs": [
    {
     "name": "stdin",
     "output_type": "stream",
     "text": [
      "Enter hour (24-hour format):  6\n"
     ]
    },
    {
     "name": "stdout",
     "output_type": "stream",
     "text": [
      "Good Morning\n"
     ]
    }
   ],
   "source": [
    "hour = int(input(\"Enter hour (24-hour format): \"))   \n",
    "if hour < 12:   \n",
    "    print(\"Good Morning\")   \n",
    "else:   \n",
    "    print(\"Good Afternoon\")   "
   ]
  },
  {
   "cell_type": "code",
   "execution_count": 9,
   "id": "25091c93-cfaa-4d3d-a2c4-b238a342cc27",
   "metadata": {},
   "outputs": [
    {
     "name": "stdin",
     "output_type": "stream",
     "text": [
      "Enter hour (24-hour format):  14\n"
     ]
    },
    {
     "name": "stdout",
     "output_type": "stream",
     "text": [
      "Good Afternoon\n"
     ]
    }
   ],
   "source": [
    "hour = int(input(\"Enter hour (24-hour format): \"))   \n",
    "if hour < 12:   \n",
    "    print(\"Good Morning\")   \n",
    "else:   \n",
    "    print(\"Good Afternoon\")   "
   ]
  },
  {
   "cell_type": "markdown",
   "id": "6ad38f84-5062-414d-84b6-198e06d60e0e",
   "metadata": {},
   "source": [
    "# 11. Check if a string is empty or not "
   ]
  },
  {
   "cell_type": "code",
   "execution_count": 10,
   "id": "cc90047f-9430-4fd0-9347-4e31d1747f92",
   "metadata": {},
   "outputs": [
    {
     "name": "stdin",
     "output_type": "stream",
     "text": [
      "Enter a string:  d\n"
     ]
    },
    {
     "name": "stdout",
     "output_type": "stream",
     "text": [
      "String is not empty\n"
     ]
    }
   ],
   "source": [
    "s = input(\"Enter a string: \")   \n",
    "if not s:   \n",
    "    print(\"String is empty\")   \n",
    "else:   \n",
    "    print(\"String is not empty\")   "
   ]
  },
  {
   "cell_type": "code",
   "execution_count": 11,
   "id": "df18d8c7-8026-45e3-b276-84703f45ebb5",
   "metadata": {},
   "outputs": [
    {
     "name": "stdin",
     "output_type": "stream",
     "text": [
      "Enter a string:  i\n"
     ]
    },
    {
     "name": "stdout",
     "output_type": "stream",
     "text": [
      "String is not empty\n"
     ]
    }
   ],
   "source": [
    "s = input(\"Enter a string: \")   \n",
    "if not s:   \n",
    "    print(\"String is empty\")   \n",
    "else:   \n",
    "    print(\"String is not empty\")   "
   ]
  },
  {
   "cell_type": "markdown",
   "id": "0821ec34-ffff-4ded-a9a4-762a5bbb66d1",
   "metadata": {},
   "source": [
    "# 12. Verify if a number is a perfect square "
   ]
  },
  {
   "cell_type": "code",
   "execution_count": 12,
   "id": "e9a073c3-2592-40a1-9eea-32ecd77eb653",
   "metadata": {},
   "outputs": [
    {
     "name": "stdin",
     "output_type": "stream",
     "text": [
      "Enter a number:  4\n"
     ]
    },
    {
     "name": "stdout",
     "output_type": "stream",
     "text": [
      "Perfect Square\n"
     ]
    }
   ],
   "source": [
    "import math   \n",
    "num = int(input(\"Enter a number: \"))   \n",
    "if math.isqrt(num) ** 2 == num:   \n",
    "    print(\"Perfect Square\")   \n",
    "else:   \n",
    "    print(\"Not a perfect square\")   "
   ]
  },
  {
   "cell_type": "code",
   "execution_count": 13,
   "id": "815d4d57-e129-4a62-994e-32d41bd82647",
   "metadata": {},
   "outputs": [
    {
     "name": "stdin",
     "output_type": "stream",
     "text": [
      "Enter a number:  77\n"
     ]
    },
    {
     "name": "stdout",
     "output_type": "stream",
     "text": [
      "Not a perfect square\n"
     ]
    }
   ],
   "source": [
    "import math   \n",
    "num = int(input(\"Enter a number: \"))   \n",
    "if math.isqrt(num) ** 2 == num:   \n",
    "    print(\"Perfect Square\")   \n",
    "else:   \n",
    "    print(\"Not a perfect square\")   "
   ]
  },
  {
   "cell_type": "markdown",
   "id": "cc700e03-67cd-4903-be84-9bae2d834acf",
   "metadata": {},
   "source": [
    "# 13. Determine if a number is between 1 and 100 "
   ]
  },
  {
   "cell_type": "code",
   "execution_count": 14,
   "id": "f919b990-66f0-4203-95fc-d8669af1b5d6",
   "metadata": {},
   "outputs": [
    {
     "name": "stdin",
     "output_type": "stream",
     "text": [
      "Enter a number:  7\n"
     ]
    },
    {
     "name": "stdout",
     "output_type": "stream",
     "text": [
      "Within range\n"
     ]
    }
   ],
   "source": [
    "num = int(input(\"Enter a number: \"))   \n",
    "if 1 <= num <= 100:   \n",
    "    print(\"Within range\")   \n",
    "else:   \n",
    "    print(\"Out of range\")  "
   ]
  },
  {
   "cell_type": "code",
   "execution_count": 15,
   "id": "3421a0b9-3e7a-44e0-8046-7c9f82e76c42",
   "metadata": {},
   "outputs": [
    {
     "name": "stdin",
     "output_type": "stream",
     "text": [
      "Enter a number:  120\n"
     ]
    },
    {
     "name": "stdout",
     "output_type": "stream",
     "text": [
      "Out of range\n"
     ]
    }
   ],
   "source": [
    "num = int(input(\"Enter a number: \"))   \n",
    "if 1 <= num <= 100:   \n",
    "    print(\"Within range\")   \n",
    "else:   \n",
    "    print(\"Out of range\")  "
   ]
  },
  {
   "cell_type": "markdown",
   "id": "4a9ce9e5-a401-4c8c-a576-a5132df42484",
   "metadata": {},
   "source": [
    "# 14. Print \"Weekend\" if the day is Saturday or Sunday; otherwise, print \"Weekday\" "
   ]
  },
  {
   "cell_type": "code",
   "execution_count": 16,
   "id": "032c031d-4125-427f-9f6a-e41b00a69cfd",
   "metadata": {},
   "outputs": [
    {
     "name": "stdin",
     "output_type": "stream",
     "text": [
      "Enter a day:  Saturday \n"
     ]
    },
    {
     "name": "stdout",
     "output_type": "stream",
     "text": [
      "Weekday\n"
     ]
    }
   ],
   "source": [
    "day = input(\"Enter a day: \").lower()   \n",
    "if day in [\"saturday\", \"sunday\"]:   \n",
    "    print(\"Weekend\")   \n",
    "else:   \n",
    "    print(\"Weekday\")   "
   ]
  },
  {
   "cell_type": "code",
   "execution_count": 17,
   "id": "098a1879-a2af-4307-bd26-3058593f1e48",
   "metadata": {},
   "outputs": [
    {
     "name": "stdin",
     "output_type": "stream",
     "text": [
      "Enter a day:  monday\n"
     ]
    },
    {
     "name": "stdout",
     "output_type": "stream",
     "text": [
      "Weekday\n"
     ]
    }
   ],
   "source": [
    "day = input(\"Enter a day: \").lower()   \n",
    "if day in [\"saturday\", \"sunday\"]:   \n",
    "    print(\"Weekend\")   \n",
    "else:   \n",
    "    print(\"Weekday\")   "
   ]
  },
  {
   "cell_type": "markdown",
   "id": "d53f3b11-9fa7-4358-bb7b-f3f71ddcc74c",
   "metadata": {},
   "source": [
    "# 15. Find if a given number is exactly divisible by both 3 and 7 "
   ]
  },
  {
   "cell_type": "code",
   "execution_count": 18,
   "id": "4a47cd4e-c78c-45d2-8938-a9295f711741",
   "metadata": {},
   "outputs": [
    {
     "name": "stdin",
     "output_type": "stream",
     "text": [
      "Enter a number:  6\n"
     ]
    },
    {
     "name": "stdout",
     "output_type": "stream",
     "text": [
      "Not divisible by both\n"
     ]
    }
   ],
   "source": [
    "num = int(input(\"Enter a number: \"))   \n",
    "if num % 3 == 0 and num % 7 == 0:   \n",
    "    print(\"Divisible by 3 and 7\")   \n",
    "else:   \n",
    "    print(\"Not divisible by both\") "
   ]
  },
  {
   "cell_type": "markdown",
   "id": "ea072b94-c178-4b42-a297-c3f679d41709",
   "metadata": {},
   "source": [
    "# 16. Check if the sum of two numbers is greater than 100 "
   ]
  },
  {
   "cell_type": "code",
   "execution_count": 19,
   "id": "a530c34c-d808-4df3-88d6-02012728b20d",
   "metadata": {},
   "outputs": [
    {
     "name": "stdin",
     "output_type": "stream",
     "text": [
      "Enter first number:  56\n",
      "Enter second number:  55\n"
     ]
    },
    {
     "name": "stdout",
     "output_type": "stream",
     "text": [
      "Sum is greater than 100\n"
     ]
    }
   ],
   "source": [
    "a = int(input(\"Enter first number: \"))   \n",
    "b = int(input(\"Enter second number: \"))   \n",
    "if (a + b) > 100:   \n",
    "    print(\"Sum is greater than 100\")   \n",
    "else:   \n",
    "    print(\"Sum is 100 or less\")  "
   ]
  },
  {
   "cell_type": "markdown",
   "id": "10f1d031-decb-429f-a2f2-c7e71aa1f23b",
   "metadata": {},
   "source": [
    "# 17. Write a program to find the minimum of two numbers "
   ]
  },
  {
   "cell_type": "code",
   "execution_count": 20,
   "id": "04d2d317-a17c-48d9-a769-c2186da7312b",
   "metadata": {},
   "outputs": [
    {
     "name": "stdin",
     "output_type": "stream",
     "text": [
      "Enter first number:  6\n",
      "Enter second number:  8\n"
     ]
    },
    {
     "name": "stdout",
     "output_type": "stream",
     "text": [
      "Minimum: 6\n"
     ]
    }
   ],
   "source": [
    "a = int(input(\"Enter first number: \"))   \n",
    "b = int(input(\"Enter second number: \"))   \n",
    "if a < b:   \n",
    "    print(\"Minimum:\", a)   \n",
    "else:   \n",
    "    print(\"Minimum:\", b)   "
   ]
  },
  {
   "cell_type": "markdown",
   "id": "9156410e-7333-435b-98c1-a3f3c93af67b",
   "metadata": {},
   "source": [
    "# 18. Check if a number is divisible by 2 but not by 3 "
   ]
  },
  {
   "cell_type": "code",
   "execution_count": 21,
   "id": "88ee3605-7de8-4984-8e97-0dc951344e7b",
   "metadata": {},
   "outputs": [
    {
     "name": "stdin",
     "output_type": "stream",
     "text": [
      "Enter a number:  6\n"
     ]
    },
    {
     "name": "stdout",
     "output_type": "stream",
     "text": [
      "Does not meet criteria\n"
     ]
    }
   ],
   "source": [
    "num = int(input(\"Enter a number: \"))   \n",
    "if num % 2 == 0 and num % 3 != 0:   \n",
    "    print(\"Divisible by 2 but not by 3\")   \n",
    "else:   \n",
    "    print(\"Does not meet criteria\") "
   ]
  },
  {
   "cell_type": "code",
   "execution_count": 22,
   "id": "f1dc2207-713a-4f2d-9f04-2694b5db8447",
   "metadata": {},
   "outputs": [
    {
     "name": "stdin",
     "output_type": "stream",
     "text": [
      "Enter a number:  22\n"
     ]
    },
    {
     "name": "stdout",
     "output_type": "stream",
     "text": [
      "Divisible by 2 but not by 3\n"
     ]
    }
   ],
   "source": [
    "num = int(input(\"Enter a number: \"))   \n",
    "if num % 2 == 0 and num % 3 != 0:   \n",
    "    print(\"Divisible by 2 but not by 3\")   \n",
    "else:   \n",
    "    print(\"Does not meet criteria\") "
   ]
  },
  {
   "cell_type": "markdown",
   "id": "0ea9e722-4d24-41b0-aa50-b7bcf789ed4c",
   "metadata": {},
   "source": [
    "# 19. Determine if a given alphabet is uppercase or lowercase "
   ]
  },
  {
   "cell_type": "code",
   "execution_count": 23,
   "id": "67672a51-c633-4f9d-8e30-ce37a57089c1",
   "metadata": {},
   "outputs": [
    {
     "name": "stdin",
     "output_type": "stream",
     "text": [
      "Enter an alphabet:  g\n"
     ]
    },
    {
     "name": "stdout",
     "output_type": "stream",
     "text": [
      "Lowercase\n"
     ]
    }
   ],
   "source": [
    "har = input(\"Enter an alphabet: \")   \n",
    "if char.isupper():   \n",
    "    print(\"Uppercase\")   \n",
    "else:   \n",
    "    print(\"Lowercase\")   "
   ]
  },
  {
   "cell_type": "markdown",
   "id": "c57debb3-cf23-4830-92ea-adb10fdfc968",
   "metadata": {},
   "source": [
    "# 20. Check if a triangle is valid given three side lengths  "
   ]
  },
  {
   "cell_type": "code",
   "execution_count": 24,
   "id": "1cdff5ae-ade1-432e-8860-45f4f54fe102",
   "metadata": {},
   "outputs": [
    {
     "name": "stdin",
     "output_type": "stream",
     "text": [
      "Enter first side:  4\n",
      "Enter second side:  5\n",
      "Enter third side:  5\n"
     ]
    },
    {
     "name": "stdout",
     "output_type": "stream",
     "text": [
      "Valid Triangle\n"
     ]
    }
   ],
   "source": [
    "a = int(input(\"Enter first side: \"))   \n",
    "b = int(input(\"Enter second side: \"))   \n",
    "c = int(input(\"Enter third side: \"))   \n",
    "if a + b > c and a + c > b and b + c > a:   \n",
    "    print(\"Valid Triangle\")   \n",
    "else:   \n",
    "     print(\"Invalid Triangle\")   "
   ]
  },
  {
   "cell_type": "code",
   "execution_count": 26,
   "id": "8ebb4810-892c-467e-b43d-8116c4779414",
   "metadata": {},
   "outputs": [
    {
     "name": "stdin",
     "output_type": "stream",
     "text": [
      "Enter first side:  4\n",
      "Enter second side:  4\n",
      "Enter third side:  4\n"
     ]
    },
    {
     "name": "stdout",
     "output_type": "stream",
     "text": [
      "Valid Triangle\n"
     ]
    }
   ],
   "source": [
    "a = int(input(\"Enter first side: \"))   \n",
    "b = int(input(\"Enter second side: \"))   \n",
    "c = int(input(\"Enter third side: \"))   \n",
    "if a + b > c and a + c > b and b + c > a:   \n",
    "    print(\"Valid Triangle\")   \n",
    "else:   \n",
    " \n",
    "    print(\"Invalid Triangle\")   "
   ]
  },
  {
   "cell_type": "code",
   "execution_count": null,
   "id": "7da6c718-4fd3-4eb0-90ee-44df8638bbc4",
   "metadata": {},
   "outputs": [],
   "source": []
  },
  {
   "cell_type": "code",
   "execution_count": null,
   "id": "aa7988f3-cef9-4f97-b7a0-97e581a124db",
   "metadata": {},
   "outputs": [],
   "source": []
  },
  {
   "cell_type": "code",
   "execution_count": null,
   "id": "18b58293-d93f-4c4f-9cc9-9a1196d8c78d",
   "metadata": {},
   "outputs": [],
   "source": []
  },
  {
   "cell_type": "code",
   "execution_count": null,
   "id": "ec14dc11-916d-477a-bb7f-0592b8258178",
   "metadata": {},
   "outputs": [],
   "source": []
  },
  {
   "cell_type": "code",
   "execution_count": null,
   "id": "12eeabaa-44ee-47e6-82e4-f793c58a1a27",
   "metadata": {},
   "outputs": [],
   "source": []
  },
  {
   "cell_type": "code",
   "execution_count": null,
   "id": "31740872-40d4-41e2-99c6-2b1212ea9677",
   "metadata": {},
   "outputs": [],
   "source": []
  },
  {
   "cell_type": "code",
   "execution_count": null,
   "id": "bc90f548-086a-4e45-b4c7-848a562eb9a8",
   "metadata": {},
   "outputs": [],
   "source": []
  }
 ],
 "metadata": {
  "kernelspec": {
   "display_name": "Python 3 (ipykernel)",
   "language": "python",
   "name": "python3"
  },
  "language_info": {
   "codemirror_mode": {
    "name": "ipython",
    "version": 3
   },
   "file_extension": ".py",
   "mimetype": "text/x-python",
   "name": "python",
   "nbconvert_exporter": "python",
   "pygments_lexer": "ipython3",
   "version": "3.12.7"
  }
 },
 "nbformat": 4,
 "nbformat_minor": 5
}

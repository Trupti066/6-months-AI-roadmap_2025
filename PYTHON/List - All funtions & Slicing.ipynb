{
 "cells": [
  {
   "cell_type": "markdown",
   "id": "dd096b87-9e55-4cd1-a73b-24d4e7e8f332",
   "metadata": {},
   "source": [
    "# DATA STRUCTURES "
   ]
  },
  {
   "cell_type": "markdown",
   "id": "fc999ef0-8ffc-47fe-b38e-e33c865ec38d",
   "metadata": {},
   "source": [
    "# Inbuild DS- List, Tuples, Sets, Dictionaries"
   ]
  },
  {
   "cell_type": "markdown",
   "id": "a39e6123-6c94-4a47-8915-fc06979c73c0",
   "metadata": {},
   "source": [
    "# LIST "
   ]
  },
  {
   "cell_type": "code",
   "execution_count": 2,
   "id": "e805f77c-c11c-4ec4-b2be-8e5f51a556de",
   "metadata": {},
   "outputs": [
    {
     "data": {
      "text/plain": [
       "[]"
      ]
     },
     "execution_count": 2,
     "metadata": {},
     "output_type": "execute_result"
    }
   ],
   "source": [
    "l = []\n",
    "l"
   ]
  },
  {
   "cell_type": "code",
   "execution_count": 4,
   "id": "907944d8-5c73-4790-b6c5-fd52c6b23268",
   "metadata": {},
   "outputs": [
    {
     "data": {
      "text/plain": [
       "list"
      ]
     },
     "execution_count": 4,
     "metadata": {},
     "output_type": "execute_result"
    }
   ],
   "source": [
    "type(l)  #press l.tab to see all inbuild functions of list"
   ]
  },
  {
   "cell_type": "code",
   "execution_count": 5,
   "id": "80e041b8-7a03-4322-9667-a738ffd547c9",
   "metadata": {},
   "outputs": [
    {
     "name": "stdout",
     "output_type": "stream",
     "text": [
      "0\n"
     ]
    }
   ],
   "source": [
    "print(len(l))"
   ]
  },
  {
   "cell_type": "code",
   "execution_count": 41,
   "id": "778c550a-4ae5-46fa-98a8-9a609ea5c5ed",
   "metadata": {},
   "outputs": [],
   "source": [
    "l = []"
   ]
  },
  {
   "cell_type": "code",
   "execution_count": 42,
   "id": "cae7816c-a6f4-41c5-a3e2-79106d7ce03c",
   "metadata": {},
   "outputs": [
    {
     "data": {
      "text/plain": [
       "[]"
      ]
     },
     "execution_count": 42,
     "metadata": {},
     "output_type": "execute_result"
    }
   ],
   "source": [
    "l"
   ]
  },
  {
   "cell_type": "markdown",
   "id": "a021178f-f9d7-429e-8834-9fb34204ecc4",
   "metadata": {},
   "source": [
    "# append() function "
   ]
  },
  {
   "cell_type": "code",
   "execution_count": 43,
   "id": "9334fca8-dc17-4a17-bf31-a4484c50721f",
   "metadata": {},
   "outputs": [],
   "source": [
    "l.append(10)   # append() is used to add the element in list"
   ]
  },
  {
   "cell_type": "code",
   "execution_count": 44,
   "id": "492ed23e-c688-4229-aab9-f46b2139748e",
   "metadata": {},
   "outputs": [
    {
     "data": {
      "text/plain": [
       "[10]"
      ]
     },
     "execution_count": 44,
     "metadata": {},
     "output_type": "execute_result"
    }
   ],
   "source": [
    "l"
   ]
  },
  {
   "cell_type": "code",
   "execution_count": 46,
   "id": "8e306781-1531-4d2c-b6c9-c6c8e2eae3a3",
   "metadata": {},
   "outputs": [],
   "source": [
    "l.append(20)\n",
    "l.append(30)\n",
    "l.append(40)          # duplicates are allowed in list\n",
    "l.append(50)\n",
    "l.append(50)"
   ]
  },
  {
   "cell_type": "code",
   "execution_count": 47,
   "id": "bcb54ac0-7061-4cb0-abd2-e53d0eca9281",
   "metadata": {},
   "outputs": [
    {
     "data": {
      "text/plain": [
       "[10, 20, 30, 40, 50, 50]"
      ]
     },
     "execution_count": 47,
     "metadata": {},
     "output_type": "execute_result"
    }
   ],
   "source": [
    "l"
   ]
  },
  {
   "cell_type": "code",
   "execution_count": 48,
   "id": "4ae929d4-50d6-4eea-8be7-34eb55e50b4c",
   "metadata": {},
   "outputs": [
    {
     "ename": "TypeError",
     "evalue": "list.append() takes exactly one argument (5 given)",
     "output_type": "error",
     "traceback": [
      "\u001b[1;31m---------------------------------------------------------------------------\u001b[0m",
      "\u001b[1;31mTypeError\u001b[0m                                 Traceback (most recent call last)",
      "Cell \u001b[1;32mIn[48], line 1\u001b[0m\n\u001b[1;32m----> 1\u001b[0m l\u001b[38;5;241m.\u001b[39mappend(\u001b[38;5;241m60\u001b[39m,\u001b[38;5;241m70\u001b[39m,\u001b[38;5;241m80\u001b[39m,\u001b[38;5;241m90\u001b[39m,\u001b[38;5;241m100\u001b[39m)\n",
      "\u001b[1;31mTypeError\u001b[0m: list.append() takes exactly one argument (5 given)"
     ]
    }
   ],
   "source": [
    "l.append(60,70,80,90,100)"
   ]
  },
  {
   "cell_type": "code",
   "execution_count": 49,
   "id": "594f197a-9e3f-4d82-a54b-e7ac314de7d6",
   "metadata": {},
   "outputs": [],
   "source": [
    "l1 = []\n",
    "\n",
    "l1.append('nit')\n",
    "l1.append(True)\n",
    "l1.append(2.3)\n",
    "l1.append(1+2j)\n",
    "l1.append([1,2,3,4,5])"
   ]
  },
  {
   "cell_type": "code",
   "execution_count": 50,
   "id": "722de507-357e-47b4-b921-958f2163be41",
   "metadata": {},
   "outputs": [
    {
     "name": "stdout",
     "output_type": "stream",
     "text": [
      "[10, 20, 30, 40, 50, 50]\n",
      "['nit', True, 2.3, (1+2j), [1, 2, 3, 4, 5]]\n"
     ]
    }
   ],
   "source": [
    "print(l)      # adding multiple data values \n",
    "print(l1)"
   ]
  },
  {
   "cell_type": "code",
   "execution_count": 52,
   "id": "7984ae5d-4afc-430b-a894-0463b426ecc9",
   "metadata": {},
   "outputs": [],
   "source": [
    "l1.append('Trupti')"
   ]
  },
  {
   "cell_type": "markdown",
   "id": "e62995b6-8373-4a62-a343-b8dd1b3e433a",
   "metadata": {},
   "source": [
    "# loop through a list "
   ]
  },
  {
   "cell_type": "code",
   "execution_count": 53,
   "id": "72a9bce3-f8d6-4ecd-b475-dfffed9b88e6",
   "metadata": {},
   "outputs": [
    {
     "data": {
      "text/plain": [
       "['nit', True, 2.3, (1+2j), [1, 2, 3, 4, 5], 'Trupti']"
      ]
     },
     "execution_count": 53,
     "metadata": {},
     "output_type": "execute_result"
    }
   ],
   "source": [
    "l1"
   ]
  },
  {
   "cell_type": "code",
   "execution_count": 54,
   "id": "d1d0d2be-45b9-47f7-8da7-b5fa5f4d3a65",
   "metadata": {},
   "outputs": [
    {
     "name": "stdout",
     "output_type": "stream",
     "text": [
      "nit\n",
      "True\n",
      "2.3\n",
      "(1+2j)\n",
      "[1, 2, 3, 4, 5]\n",
      "Trupti\n"
     ]
    }
   ],
   "source": [
    "for i in l1:\n",
    "    print(i)"
   ]
  },
  {
   "cell_type": "code",
   "execution_count": 56,
   "id": "753710e3-9c85-4440-966a-7315b72d9f5f",
   "metadata": {},
   "outputs": [
    {
     "name": "stdout",
     "output_type": "stream",
     "text": [
      "(0, 'nit')\n",
      "(1, True)\n",
      "(2, 2.3)\n",
      "(3, (1+2j))\n",
      "(4, [1, 2, 3, 4, 5])\n",
      "(5, 'Trupti')\n"
     ]
    }
   ],
   "source": [
    "for i in enumerate(l1):\n",
    "    print(i)"
   ]
  },
  {
   "cell_type": "markdown",
   "id": "1cb2961e-c335-4545-907f-fdb275e55e07",
   "metadata": {},
   "source": [
    "List indexing "
   ]
  },
  {
   "cell_type": "code",
   "execution_count": 57,
   "id": "ebaa51e8-dbf1-4388-afca-83eb200a740f",
   "metadata": {},
   "outputs": [
    {
     "data": {
      "text/plain": [
       "[10, 20, 30, 40, 50, 50]"
      ]
     },
     "execution_count": 57,
     "metadata": {},
     "output_type": "execute_result"
    }
   ],
   "source": [
    "l[:]     # list slice "
   ]
  },
  {
   "cell_type": "code",
   "execution_count": 58,
   "id": "fe9c555d-5bac-4e64-b55e-7181d561ddc3",
   "metadata": {},
   "outputs": [
    {
     "data": {
      "text/plain": [
       "10"
      ]
     },
     "execution_count": 58,
     "metadata": {},
     "output_type": "execute_result"
    }
   ],
   "source": [
    "l[0]   # forward indexing "
   ]
  },
  {
   "cell_type": "code",
   "execution_count": 59,
   "id": "a918f26a-9a00-4050-b4ea-8cf9ca1bd7ef",
   "metadata": {},
   "outputs": [
    {
     "data": {
      "text/plain": [
       "50"
      ]
     },
     "execution_count": 59,
     "metadata": {},
     "output_type": "execute_result"
    }
   ],
   "source": [
    "l[-1]  # backward indexing "
   ]
  },
  {
   "cell_type": "code",
   "execution_count": 60,
   "id": "8ac2a567-4a8b-4d58-976e-ecf1edccbfae",
   "metadata": {},
   "outputs": [
    {
     "data": {
      "text/plain": [
       "30"
      ]
     },
     "execution_count": 60,
     "metadata": {},
     "output_type": "execute_result"
    }
   ],
   "source": [
    "l[-4]"
   ]
  },
  {
   "cell_type": "code",
   "execution_count": 61,
   "id": "69032a7a-14bd-4842-bd9c-648a6dc7aeeb",
   "metadata": {},
   "outputs": [
    {
     "ename": "IndexError",
     "evalue": "list index out of range",
     "output_type": "error",
     "traceback": [
      "\u001b[1;31m---------------------------------------------------------------------------\u001b[0m",
      "\u001b[1;31mIndexError\u001b[0m                                Traceback (most recent call last)",
      "Cell \u001b[1;32mIn[61], line 1\u001b[0m\n\u001b[1;32m----> 1\u001b[0m l[\u001b[38;5;241m10\u001b[39m]\n",
      "\u001b[1;31mIndexError\u001b[0m: list index out of range"
     ]
    }
   ],
   "source": [
    "l[10]"
   ]
  },
  {
   "cell_type": "code",
   "execution_count": 62,
   "id": "60694b74-f46f-4c03-9520-74733d598097",
   "metadata": {},
   "outputs": [
    {
     "data": {
      "text/plain": [
       "30"
      ]
     },
     "execution_count": 62,
     "metadata": {},
     "output_type": "execute_result"
    }
   ],
   "source": [
    "l[2]"
   ]
  },
  {
   "cell_type": "code",
   "execution_count": 63,
   "id": "a155a06d-bd68-463e-901a-5e9446b4e55f",
   "metadata": {},
   "outputs": [
    {
     "data": {
      "text/plain": [
       "30"
      ]
     },
     "execution_count": 63,
     "metadata": {},
     "output_type": "execute_result"
    }
   ],
   "source": [
    "l[-4]"
   ]
  },
  {
   "cell_type": "code",
   "execution_count": 64,
   "id": "68f1001c-958c-46d5-bc3b-89b2a683d7a4",
   "metadata": {},
   "outputs": [
    {
     "data": {
      "text/plain": [
       "[20, 30]"
      ]
     },
     "execution_count": 64,
     "metadata": {},
     "output_type": "execute_result"
    }
   ],
   "source": [
    "l[1:3]    # list slicing "
   ]
  },
  {
   "cell_type": "code",
   "execution_count": 65,
   "id": "db16776e-3de1-434e-afb0-18129e815491",
   "metadata": {},
   "outputs": [
    {
     "data": {
      "text/plain": [
       "[10, 20, 30, 40, 50]"
      ]
     },
     "execution_count": 65,
     "metadata": {},
     "output_type": "execute_result"
    }
   ],
   "source": [
    "l[0:5]"
   ]
  },
  {
   "cell_type": "code",
   "execution_count": 66,
   "id": "4c8ec240-b297-45c6-a08d-d9f1b8d86e68",
   "metadata": {},
   "outputs": [
    {
     "data": {
      "text/plain": [
       "10"
      ]
     },
     "execution_count": 66,
     "metadata": {},
     "output_type": "execute_result"
    }
   ],
   "source": [
    "l[0]"
   ]
  },
  {
   "cell_type": "code",
   "execution_count": 67,
   "id": "65c66751-2560-458b-99ce-0a70f6ed2282",
   "metadata": {},
   "outputs": [],
   "source": [
    "l[0] = 100          # list is mutable - can change the element in the list "
   ]
  },
  {
   "cell_type": "code",
   "execution_count": 68,
   "id": "721f8eee-73d1-49cf-bab4-319bd209d7bc",
   "metadata": {},
   "outputs": [
    {
     "data": {
      "text/plain": [
       "[100, 20, 30, 40, 50, 50]"
      ]
     },
     "execution_count": 68,
     "metadata": {},
     "output_type": "execute_result"
    }
   ],
   "source": [
    "l"
   ]
  },
  {
   "cell_type": "code",
   "execution_count": 69,
   "id": "1a649de0-d94c-4bb0-98c7-b89dff247a18",
   "metadata": {},
   "outputs": [
    {
     "data": {
      "text/plain": [
       "2416864268160"
      ]
     },
     "execution_count": 69,
     "metadata": {},
     "output_type": "execute_result"
    }
   ],
   "source": [
    "id(l)\n",
    "id(l1)"
   ]
  },
  {
   "cell_type": "code",
   "execution_count": 70,
   "id": "454e49b8-dc11-47a6-8e1a-1e4f189f565a",
   "metadata": {},
   "outputs": [
    {
     "name": "stdout",
     "output_type": "stream",
     "text": [
      "2416850464128\n",
      "2416864268160\n"
     ]
    }
   ],
   "source": [
    "print(id(l))\n",
    "print(id(l1))"
   ]
  },
  {
   "cell_type": "code",
   "execution_count": 71,
   "id": "97ed7078-e8e0-420a-bff1-413e5a5e36f7",
   "metadata": {},
   "outputs": [
    {
     "data": {
      "text/plain": [
       "[100, 20, 30, 40, 50, 50]"
      ]
     },
     "execution_count": 71,
     "metadata": {},
     "output_type": "execute_result"
    }
   ],
   "source": [
    "l"
   ]
  },
  {
   "cell_type": "markdown",
   "id": "7b6dd3f0-44ec-4412-9420-e6ba631bda3a",
   "metadata": {},
   "source": [
    " # count() function "
   ]
  },
  {
   "cell_type": "code",
   "execution_count": 72,
   "id": "6d272948-0652-48e8-85ad-563b79ac0b01",
   "metadata": {},
   "outputs": [
    {
     "data": {
      "text/plain": [
       "1"
      ]
     },
     "execution_count": 72,
     "metadata": {},
     "output_type": "execute_result"
    }
   ],
   "source": [
    "l.count(20)"
   ]
  },
  {
   "cell_type": "code",
   "execution_count": 73,
   "id": "c4ab3005-3ed6-4133-9239-85c87a772661",
   "metadata": {},
   "outputs": [
    {
     "data": {
      "text/plain": [
       "2"
      ]
     },
     "execution_count": 73,
     "metadata": {},
     "output_type": "execute_result"
    }
   ],
   "source": [
    "l.count(50)"
   ]
  },
  {
   "cell_type": "code",
   "execution_count": 74,
   "id": "067c1994-b6fd-4154-823d-b77f77cf8bfb",
   "metadata": {},
   "outputs": [
    {
     "data": {
      "text/plain": [
       "['nit', True, 2.3, (1+2j), [1, 2, 3, 4, 5], 'Trupti']"
      ]
     },
     "execution_count": 74,
     "metadata": {},
     "output_type": "execute_result"
    }
   ],
   "source": [
    "l1"
   ]
  },
  {
   "cell_type": "code",
   "execution_count": 75,
   "id": "47a7de30-4bce-483a-a4e0-797bb9ae4899",
   "metadata": {},
   "outputs": [
    {
     "data": {
      "text/plain": [
       "(1+2j)"
      ]
     },
     "execution_count": 75,
     "metadata": {},
     "output_type": "execute_result"
    }
   ],
   "source": [
    "l1[3]"
   ]
  },
  {
   "cell_type": "code",
   "execution_count": 77,
   "id": "82ce1ab1-c700-4b83-b167-45c650399d97",
   "metadata": {},
   "outputs": [
    {
     "data": {
      "text/plain": [
       "2.3"
      ]
     },
     "execution_count": 77,
     "metadata": {},
     "output_type": "execute_result"
    }
   ],
   "source": [
    "l1[-4]"
   ]
  },
  {
   "cell_type": "code",
   "execution_count": 78,
   "id": "43894956-887d-4de0-ae2c-e42d65756b45",
   "metadata": {},
   "outputs": [],
   "source": [
    "l1[0] = 230   # mutable - can change the values "
   ]
  },
  {
   "cell_type": "code",
   "execution_count": 79,
   "id": "007f3b3c-6fa4-4c1c-bf5a-b5a29933b55c",
   "metadata": {},
   "outputs": [
    {
     "data": {
      "text/plain": [
       "[230, True, 2.3, (1+2j), [1, 2, 3, 4, 5], 'Trupti']"
      ]
     },
     "execution_count": 79,
     "metadata": {},
     "output_type": "execute_result"
    }
   ],
   "source": [
    "l1"
   ]
  },
  {
   "cell_type": "markdown",
   "id": "470407b8-d2bd-4acb-8d20-460ba5c7e88f",
   "metadata": {},
   "source": [
    "# clear() function "
   ]
  },
  {
   "cell_type": "code",
   "execution_count": 80,
   "id": "648b3c74-5290-441c-8d6d-5cc23f12ea2c",
   "metadata": {},
   "outputs": [],
   "source": [
    "l1.clear()     # remove all items from list "
   ]
  },
  {
   "cell_type": "code",
   "execution_count": 81,
   "id": "68f992fa-ca27-4bb4-a5ed-1c86ea6fe3c1",
   "metadata": {},
   "outputs": [
    {
     "data": {
      "text/plain": [
       "[]"
      ]
     },
     "execution_count": 81,
     "metadata": {},
     "output_type": "execute_result"
    }
   ],
   "source": [
    "l1"
   ]
  },
  {
   "cell_type": "code",
   "execution_count": 82,
   "id": "0119aedd-9d2e-479c-a01d-9eb4b7ec17a6",
   "metadata": {},
   "outputs": [
    {
     "data": {
      "text/plain": [
       "0"
      ]
     },
     "execution_count": 82,
     "metadata": {},
     "output_type": "execute_result"
    }
   ],
   "source": [
    "len(l1)    # length of l1"
   ]
  },
  {
   "cell_type": "code",
   "execution_count": null,
   "id": "01fd06e8-259e-4e7e-938a-8dfc707c1251",
   "metadata": {},
   "outputs": [],
   "source": [
    "# delete function "
   ]
  },
  {
   "cell_type": "code",
   "execution_count": 83,
   "id": "248568a6-96b9-4327-a626-40920549c654",
   "metadata": {},
   "outputs": [],
   "source": [
    "del l1   # deleted the list -l1"
   ]
  },
  {
   "cell_type": "code",
   "execution_count": 84,
   "id": "64385ed3-fa44-4d25-ad51-4a4ed4f7810c",
   "metadata": {},
   "outputs": [
    {
     "ename": "NameError",
     "evalue": "name 'l1' is not defined",
     "output_type": "error",
     "traceback": [
      "\u001b[1;31m---------------------------------------------------------------------------\u001b[0m",
      "\u001b[1;31mNameError\u001b[0m                                 Traceback (most recent call last)",
      "Cell \u001b[1;32mIn[84], line 1\u001b[0m\n\u001b[1;32m----> 1\u001b[0m l1\n",
      "\u001b[1;31mNameError\u001b[0m: name 'l1' is not defined"
     ]
    }
   ],
   "source": [
    "l1"
   ]
  },
  {
   "cell_type": "markdown",
   "id": "d8881228-e8aa-4e51-abed-f2d7152ed0f5",
   "metadata": {},
   "source": [
    "# pop() function "
   ]
  },
  {
   "cell_type": "code",
   "execution_count": 85,
   "id": "5ab3ea59-ac43-4611-a838-db6897e12c88",
   "metadata": {},
   "outputs": [],
   "source": [
    "1 = []\n",
    "\n",
    "l1.append('nit')\n",
    "l1.append(True)\n",
    "l1.append(2.3)\n",
    "l1.append(1+2j)\n",
    "l1.append([1,2,3,4,5])l"
   ]
  },
  {
   "cell_type": "code",
   "execution_count": 86,
   "id": "0959ac69-0a16-49db-a9b2-94c7af105b79",
   "metadata": {},
   "outputs": [
    {
     "data": {
      "text/plain": [
       "['nit', True, 2.3, (1+2j), [1, 2, 3, 4, 5]]"
      ]
     },
     "execution_count": 86,
     "metadata": {},
     "output_type": "execute_result"
    }
   ],
   "source": [
    "l1"
   ]
  },
  {
   "cell_type": "code",
   "execution_count": 87,
   "id": "72069526-ac62-4673-99ef-abb0ee40cc9e",
   "metadata": {},
   "outputs": [
    {
     "data": {
      "text/plain": [
       "[1, 2, 3, 4, 5]"
      ]
     },
     "execution_count": 87,
     "metadata": {},
     "output_type": "execute_result"
    }
   ],
   "source": [
    "l1.pop()   # remove and display last element "
   ]
  },
  {
   "cell_type": "code",
   "execution_count": 88,
   "id": "8a779c39-ce03-4076-8268-233fbbd9113f",
   "metadata": {},
   "outputs": [
    {
     "data": {
      "text/plain": [
       "['nit', True, 2.3, (1+2j)]"
      ]
     },
     "execution_count": 88,
     "metadata": {},
     "output_type": "execute_result"
    }
   ],
   "source": [
    "l1   # remove and not display last element "
   ]
  },
  {
   "cell_type": "code",
   "execution_count": 89,
   "id": "fefb60ee-4e8f-4bce-b993-ad8e2064d348",
   "metadata": {},
   "outputs": [
    {
     "data": {
      "text/plain": [
       "True"
      ]
     },
     "execution_count": 89,
     "metadata": {},
     "output_type": "execute_result"
    }
   ],
   "source": [
    "l1.pop(1)    # True is (eliminated)"
   ]
  },
  {
   "cell_type": "markdown",
   "id": "a30bd03c-cacd-4d89-b279-5222274db40f",
   "metadata": {},
   "source": [
    "# remove() function "
   ]
  },
  {
   "cell_type": "code",
   "execution_count": 94,
   "id": "e7cd3668-a3bf-4a36-a88c-6a531b1a39bb",
   "metadata": {},
   "outputs": [],
   "source": [
    "l1 = []\n",
    "\n",
    "l1.append('nit')\n",
    "l1.append(True)\n",
    "l1.append(2.3)\n",
    "l1.append(1+2j)\n",
    "l1.append([1,2,3,4,5])"
   ]
  },
  {
   "cell_type": "code",
   "execution_count": 95,
   "id": "81335609-cfb1-4cb4-b760-8616633f4009",
   "metadata": {},
   "outputs": [
    {
     "data": {
      "text/plain": [
       "['nit', True, 2.3, (1+2j), [1, 2, 3, 4, 5]]"
      ]
     },
     "execution_count": 95,
     "metadata": {},
     "output_type": "execute_result"
    }
   ],
   "source": [
    "l1"
   ]
  },
  {
   "cell_type": "code",
   "execution_count": 96,
   "id": "7e044a7e-840c-4951-a3a5-4a4170f1e63a",
   "metadata": {},
   "outputs": [],
   "source": [
    "l1.remove(True)"
   ]
  },
  {
   "cell_type": "code",
   "execution_count": 97,
   "id": "8112737b-e946-4f15-93d3-42c71ab18f34",
   "metadata": {},
   "outputs": [
    {
     "data": {
      "text/plain": [
       "['nit', 2.3, (1+2j), [1, 2, 3, 4, 5]]"
      ]
     },
     "execution_count": 97,
     "metadata": {},
     "output_type": "execute_result"
    }
   ],
   "source": [
    "l1           #pop remove element by index level , but remove is used by passing the element "
   ]
  },
  {
   "cell_type": "markdown",
   "id": "8d8e1893-6e34-44b8-9de2-d5c9c0d5736c",
   "metadata": {},
   "source": [
    "# copy () function"
   ]
  },
  {
   "cell_type": "code",
   "execution_count": 122,
   "id": "f0684aa4-6310-4ebc-a3e1-007230d3a5a9",
   "metadata": {},
   "outputs": [],
   "source": [
    "l = [ 'trupti','ashu','shrav','monu','srii']"
   ]
  },
  {
   "cell_type": "code",
   "execution_count": 123,
   "id": "a4075d47-ee2d-47a1-b321-108669b23eb7",
   "metadata": {},
   "outputs": [],
   "source": [
    "l1 = l "
   ]
  },
  {
   "cell_type": "code",
   "execution_count": 124,
   "id": "49045767-32a9-4df1-ab5f-61092094dad6",
   "metadata": {},
   "outputs": [
    {
     "data": {
      "text/plain": [
       "['trupti', 'ashu', 'shrav', 'monu', 'srii']"
      ]
     },
     "execution_count": 124,
     "metadata": {},
     "output_type": "execute_result"
    }
   ],
   "source": [
    "l"
   ]
  },
  {
   "cell_type": "code",
   "execution_count": 125,
   "id": "2578f810-ffe7-40d7-beaa-cdffae9ec0a5",
   "metadata": {},
   "outputs": [],
   "source": [
    "l1 = l.copy()   # create a copy list "
   ]
  },
  {
   "cell_type": "code",
   "execution_count": 126,
   "id": "352a8c07-5e90-4ee9-8b9c-ba7db9b3696d",
   "metadata": {},
   "outputs": [
    {
     "data": {
      "text/plain": [
       "['trupti', 'ashu', 'shrav', 'monu', 'srii']"
      ]
     },
     "execution_count": 126,
     "metadata": {},
     "output_type": "execute_result"
    }
   ],
   "source": [
    "l"
   ]
  },
  {
   "cell_type": "code",
   "execution_count": 108,
   "id": "5b619c3b-a01c-4cb7-a09f-1391b62e55af",
   "metadata": {},
   "outputs": [
    {
     "name": "stdout",
     "output_type": "stream",
     "text": [
      "2416864445632\n",
      "2416864264960\n"
     ]
    }
   ],
   "source": [
    "print(id(l1))\n",
    "print(id(l))"
   ]
  },
  {
   "cell_type": "markdown",
   "id": "0696ba08-7a64-42f3-bba8-a5353c208297",
   "metadata": {},
   "source": [
    "# join() function "
   ]
  },
  {
   "cell_type": "code",
   "execution_count": 127,
   "id": "e08e1983-96f8-4e5e-9201-1b07dd091ae2",
   "metadata": {},
   "outputs": [],
   "source": [
    "l = [ 'trupti','ashu','shravni',' monu','srii']\n",
    "l2 = ['one','two','three','four','five']"
   ]
  },
  {
   "cell_type": "code",
   "execution_count": 128,
   "id": "08fd89c6-9072-4085-87af-ff9cd4b7f0b0",
   "metadata": {},
   "outputs": [
    {
     "data": {
      "text/plain": [
       "['trupti',\n",
       " 'ashu',\n",
       " 'shravni',\n",
       " ' monu',\n",
       " 'srii',\n",
       " 'one',\n",
       " 'two',\n",
       " 'three',\n",
       " 'four',\n",
       " 'five']"
      ]
     },
     "execution_count": 128,
     "metadata": {},
     "output_type": "execute_result"
    }
   ],
   "source": [
    "list3 = l + l2\n",
    "list3"
   ]
  },
  {
   "cell_type": "markdown",
   "id": "a08386e7-db01-4007-8431-367978a41e86",
   "metadata": {},
   "source": [
    "# All/Any"
   ]
  },
  {
   "cell_type": "code",
   "execution_count": 129,
   "id": "10414e49-673a-4f55-a4fb-612edb1809d7",
   "metadata": {},
   "outputs": [],
   "source": [
    "l1 = [1,2,3,4,5]"
   ]
  },
  {
   "cell_type": "code",
   "execution_count": 130,
   "id": "cdbcee7d-59a2-4e20-8157-ca71fcb006a7",
   "metadata": {},
   "outputs": [
    {
     "data": {
      "text/plain": [
       "True"
      ]
     },
     "execution_count": 130,
     "metadata": {},
     "output_type": "execute_result"
    }
   ],
   "source": [
    "all(l1)"
   ]
  },
  {
   "cell_type": "code",
   "execution_count": 131,
   "id": "0ba9d27b-ee2f-4603-bfb0-ed95835f0255",
   "metadata": {},
   "outputs": [
    {
     "data": {
      "text/plain": [
       "True"
      ]
     },
     "execution_count": 131,
     "metadata": {},
     "output_type": "execute_result"
    }
   ],
   "source": [
    "any(l1)"
   ]
  },
  {
   "cell_type": "code",
   "execution_count": 132,
   "id": "d49a88ac-016f-498f-829a-041d9eeb0d81",
   "metadata": {},
   "outputs": [],
   "source": [
    "l2 = [1,2,3,4,True,False]"
   ]
  },
  {
   "cell_type": "code",
   "execution_count": 133,
   "id": "d5a26af4-594e-45af-b69e-85d0c48d3f4d",
   "metadata": {},
   "outputs": [
    {
     "data": {
      "text/plain": [
       "False"
      ]
     },
     "execution_count": 133,
     "metadata": {},
     "output_type": "execute_result"
    }
   ],
   "source": [
    "all(l2)"
   ]
  },
  {
   "cell_type": "code",
   "execution_count": 134,
   "id": "de716c94-8169-442b-a92c-e2703eff4836",
   "metadata": {},
   "outputs": [
    {
     "data": {
      "text/plain": [
       "True"
      ]
     },
     "execution_count": 134,
     "metadata": {},
     "output_type": "execute_result"
    }
   ],
   "source": [
    "any(l2)"
   ]
  },
  {
   "cell_type": "code",
   "execution_count": 135,
   "id": "31b31924-aa5f-4f0a-9b37-3e679bcd725e",
   "metadata": {},
   "outputs": [],
   "source": [
    "l3 = [1,2,3,True]"
   ]
  },
  {
   "cell_type": "code",
   "execution_count": 136,
   "id": "8ef7f5a4-1d7b-4e67-8e1e-d5c38d681249",
   "metadata": {},
   "outputs": [
    {
     "data": {
      "text/plain": [
       "True"
      ]
     },
     "execution_count": 136,
     "metadata": {},
     "output_type": "execute_result"
    }
   ],
   "source": [
    "all(l3)"
   ]
  },
  {
   "cell_type": "code",
   "execution_count": 137,
   "id": "f01d22c2-4ded-463d-82b1-a9b452603a62",
   "metadata": {},
   "outputs": [
    {
     "data": {
      "text/plain": [
       "True"
      ]
     },
     "execution_count": 137,
     "metadata": {},
     "output_type": "execute_result"
    }
   ],
   "source": [
    "any(l3)"
   ]
  },
  {
   "cell_type": "markdown",
   "id": "2fac719a-e439-4512-af32-3e7ab1a6f9ad",
   "metadata": {},
   "source": [
    "# Reverse & sort list "
   ]
  },
  {
   "cell_type": "code",
   "execution_count": 138,
   "id": "1f621fcc-8887-48f3-a454-1d69ea629602",
   "metadata": {},
   "outputs": [],
   "source": [
    "l = [ 'trupti','ashu','shrav','monu','srii']"
   ]
  },
  {
   "cell_type": "code",
   "execution_count": 139,
   "id": "99dfc21f-44a2-4b82-9c97-29c3335c2b78",
   "metadata": {},
   "outputs": [
    {
     "data": {
      "text/plain": [
       "['srii', 'monu', 'shrav', 'ashu', 'trupti']"
      ]
     },
     "execution_count": 139,
     "metadata": {},
     "output_type": "execute_result"
    }
   ],
   "source": [
    "l.reverse()      # list \"l\" is reversed \n",
    "l"
   ]
  },
  {
   "cell_type": "code",
   "execution_count": 141,
   "id": "1f3239a7-ee5f-4727-bba4-d63f0a5915e4",
   "metadata": {},
   "outputs": [
    {
     "data": {
      "text/plain": [
       "['srii', 'trupti']"
      ]
     },
     "execution_count": 141,
     "metadata": {},
     "output_type": "execute_result"
    }
   ],
   "source": [
    "l = l[::-2]\n",
    "l"
   ]
  },
  {
   "cell_type": "code",
   "execution_count": 142,
   "id": "0b381982-cce3-4fe9-b673-01cc1a79a512",
   "metadata": {},
   "outputs": [
    {
     "data": {
      "text/plain": [
       "['trupti', 'srii']"
      ]
     },
     "execution_count": 142,
     "metadata": {},
     "output_type": "execute_result"
    }
   ],
   "source": [
    "l = l[::-1]\n",
    "l"
   ]
  },
  {
   "cell_type": "code",
   "execution_count": 143,
   "id": "7dbefd07-c52c-4bb5-9d99-832085082f8b",
   "metadata": {},
   "outputs": [
    {
     "data": {
      "text/plain": [
       "[1, 2, 3, 5, 7, 9]"
      ]
     },
     "execution_count": 143,
     "metadata": {},
     "output_type": "execute_result"
    }
   ],
   "source": [
    "l3 = [ 3,5,7,9,2,1]\n",
    "l3.sort()\n",
    "l3"
   ]
  },
  {
   "cell_type": "code",
   "execution_count": 144,
   "id": "ad1cd5fd-34bb-4cc8-a744-178fc87cdebc",
   "metadata": {},
   "outputs": [],
   "source": [
    "l3.sort(reverse=True)      # sort the list in decending order "
   ]
  },
  {
   "cell_type": "code",
   "execution_count": 145,
   "id": "9349ea9e-939e-4523-b78e-dc04414dd1ff",
   "metadata": {},
   "outputs": [
    {
     "data": {
      "text/plain": [
       "[9, 7, 5, 3, 2, 1]"
      ]
     },
     "execution_count": 145,
     "metadata": {},
     "output_type": "execute_result"
    }
   ],
   "source": [
    "l3"
   ]
  },
  {
   "cell_type": "code",
   "execution_count": null,
   "id": "d6a5ea53-bf1c-4400-9050-1d45ad8ca61a",
   "metadata": {},
   "outputs": [],
   "source": []
  },
  {
   "cell_type": "code",
   "execution_count": null,
   "id": "20cee83a-03b1-4f78-bc99-3d149ebc5a0c",
   "metadata": {},
   "outputs": [],
   "source": []
  }
 ],
 "metadata": {
  "kernelspec": {
   "display_name": "Python 3 (ipykernel)",
   "language": "python",
   "name": "python3"
  },
  "language_info": {
   "codemirror_mode": {
    "name": "ipython",
    "version": 3
   },
   "file_extension": ".py",
   "mimetype": "text/x-python",
   "name": "python",
   "nbconvert_exporter": "python",
   "pygments_lexer": "ipython3",
   "version": "3.12.7"
  }
 },
 "nbformat": 4,
 "nbformat_minor": 5
}

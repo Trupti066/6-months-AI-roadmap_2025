{
 "cells": [
  {
   "cell_type": "code",
   "execution_count": 3,
   "id": "2d3962f8-cdad-4e09-aeca-03640c999492",
   "metadata": {},
   "outputs": [
    {
     "name": "stdout",
     "output_type": "stream",
     "text": [
      "2.5\n",
      "bye\n"
     ]
    }
   ],
   "source": [
    "a = 5 \n",
    "b = 2\n",
    "print(a/b)\n",
    "print('bye')"
   ]
  },
  {
   "cell_type": "code",
   "execution_count": 4,
   "id": "5c0401fe-0942-4a84-97fd-d77b6a7ca874",
   "metadata": {},
   "outputs": [
    {
     "name": "stdout",
     "output_type": "stream",
     "text": [
      "0.0\n",
      "bye\n"
     ]
    }
   ],
   "source": [
    "c = 5\n",
    "d = 0\n",
    "\n",
    "print(d/c)\n",
    "\n",
    "print('bye')"
   ]
  },
  {
   "cell_type": "code",
   "execution_count": 5,
   "id": "8c5d1d98-9997-4696-8fd1-f8af8e5c1501",
   "metadata": {},
   "outputs": [
    {
     "name": "stdout",
     "output_type": "stream",
     "text": [
      "bye\n",
      "0.0\n"
     ]
    }
   ],
   "source": [
    "c = 5\n",
    "d = 0\n",
    "\n",
    "print('bye')\n",
    "print(d/c)"
   ]
  },
  {
   "cell_type": "code",
   "execution_count": 6,
   "id": "78fd17d1-af78-4a18-bfc4-fa7c25c7716a",
   "metadata": {},
   "outputs": [
    {
     "name": "stdout",
     "output_type": "stream",
     "text": [
      "bye\n"
     ]
    },
    {
     "ename": "ZeroDivisionError",
     "evalue": "division by zero",
     "output_type": "error",
     "traceback": [
      "\u001b[1;31m---------------------------------------------------------------------------\u001b[0m",
      "\u001b[1;31mZeroDivisionError\u001b[0m                         Traceback (most recent call last)",
      "Cell \u001b[1;32mIn[6], line 5\u001b[0m\n\u001b[0;32m      2\u001b[0m d \u001b[38;5;241m=\u001b[39m \u001b[38;5;241m0\u001b[39m\n\u001b[0;32m      4\u001b[0m \u001b[38;5;28mprint\u001b[39m(\u001b[38;5;124m'\u001b[39m\u001b[38;5;124mbye\u001b[39m\u001b[38;5;124m'\u001b[39m)\n\u001b[1;32m----> 5\u001b[0m \u001b[38;5;28mprint\u001b[39m(c\u001b[38;5;241m/\u001b[39md)\n",
      "\u001b[1;31mZeroDivisionError\u001b[0m: division by zero"
     ]
    }
   ],
   "source": [
    "c = 5\n",
    "d = 0\n",
    "\n",
    "print('bye')\n",
    "print(c/d)"
   ]
  },
  {
   "cell_type": "code",
   "execution_count": 7,
   "id": "015bdc52-7d37-47d1-a7c0-b0684531a93a",
   "metadata": {},
   "outputs": [
    {
     "ename": "ZeroDivisionError",
     "evalue": "division by zero",
     "output_type": "error",
     "traceback": [
      "\u001b[1;31m---------------------------------------------------------------------------\u001b[0m",
      "\u001b[1;31mZeroDivisionError\u001b[0m                         Traceback (most recent call last)",
      "Cell \u001b[1;32mIn[7], line 4\u001b[0m\n\u001b[0;32m      1\u001b[0m c \u001b[38;5;241m=\u001b[39m \u001b[38;5;241m5\u001b[39m\n\u001b[0;32m      2\u001b[0m d \u001b[38;5;241m=\u001b[39m \u001b[38;5;241m0\u001b[39m\n\u001b[1;32m----> 4\u001b[0m \u001b[38;5;28mprint\u001b[39m(c\u001b[38;5;241m/\u001b[39md)\n\u001b[0;32m      5\u001b[0m \u001b[38;5;28mprint\u001b[39m(\u001b[38;5;124m'\u001b[39m\u001b[38;5;124mbye\u001b[39m\u001b[38;5;124m'\u001b[39m)\n",
      "\u001b[1;31mZeroDivisionError\u001b[0m: division by zero"
     ]
    }
   ],
   "source": [
    "c = 5\n",
    "d = 0\n",
    "\n",
    "print(c/d)\n",
    "print('bye')"
   ]
  },
  {
   "cell_type": "markdown",
   "id": "91deb1c5-cd4b-4659-907f-bde02e3d53c6",
   "metadata": {},
   "source": [
    "# - Try Statement"
   ]
  },
  {
   "cell_type": "code",
   "execution_count": 11,
   "id": "9b1a2fd1-a3fe-4686-90a8-632489e09c89",
   "metadata": {},
   "outputs": [
    {
     "name": "stdout",
     "output_type": "stream",
     "text": [
      "hey you cannot divide Number by zero\n",
      "bye\n"
     ]
    }
   ],
   "source": [
    "c = 3 \n",
    "d = 0\n",
    "\n",
    "try:\n",
    "    print(c/d)\n",
    "\n",
    "except Exception:\n",
    "    print('hey you cannot divide Number by zero')\n",
    "\n",
    "print('bye')"
   ]
  },
  {
   "cell_type": "code",
   "execution_count": 12,
   "id": "ae71c27e-e69d-43e0-8380-503cd6f64dcf",
   "metadata": {},
   "outputs": [
    {
     "name": "stdout",
     "output_type": "stream",
     "text": [
      "hey you cannot divide Number by zero: division by zero\n",
      "bye\n"
     ]
    }
   ],
   "source": [
    "c = 3 \n",
    "d = 0\n",
    "\n",
    "try:\n",
    "    print(c/d)\n",
    "\n",
    "except Exception as e :\n",
    "    print('hey you cannot divide Number by zero:', e)\n",
    "\n",
    "print('bye')"
   ]
  },
  {
   "cell_type": "code",
   "execution_count": 13,
   "id": "6f951903-553a-4d1f-92c3-ff1e55eeda77",
   "metadata": {},
   "outputs": [
    {
     "name": "stdout",
     "output_type": "stream",
     "text": [
      "0.0\n",
      "bye\n"
     ]
    }
   ],
   "source": [
    "c = 3 \n",
    "d = 0\n",
    "\n",
    "try:\n",
    "    print(d/c)\n",
    "\n",
    "except Exception:\n",
    "    print('hey you cannot divide Number by zero')\n",
    "\n",
    "print('bye')"
   ]
  },
  {
   "cell_type": "code",
   "execution_count": 14,
   "id": "d50b8e66-d434-47fe-a0fd-d60e46bf8914",
   "metadata": {},
   "outputs": [
    {
     "name": "stdout",
     "output_type": "stream",
     "text": [
      "resource open\n",
      "1.0\n",
      "resoure closed\n"
     ]
    }
   ],
   "source": [
    "c = 3\n",
    "d = 3\n",
    "\n",
    "try:\n",
    "    print('resource open')\n",
    "    print(c/d)\n",
    "    print('resoure closed')\n",
    "\n",
    "except Exception as e :\n",
    "    print('hey you cannot divide Number by zero',':',e)"
   ]
  },
  {
   "cell_type": "code",
   "execution_count": 15,
   "id": "d2664773-1dae-46d8-8e32-b031850c4c4b",
   "metadata": {},
   "outputs": [
    {
     "name": "stdout",
     "output_type": "stream",
     "text": [
      "resource open\n",
      "hey you cannot divide Number by zero : division by zero\n"
     ]
    }
   ],
   "source": [
    "c = 3\n",
    "d = 0\n",
    "\n",
    "try:\n",
    "    print('resource open')\n",
    "    print(c/d)\n",
    "    print('resoure closed')\n",
    "\n",
    "except Exception as e :\n",
    "    print('hey you cannot divide Number by zero',':',e)"
   ]
  },
  {
   "cell_type": "code",
   "execution_count": 17,
   "id": "cee87e90-0d39-43ef-8481-20070fa1340d",
   "metadata": {},
   "outputs": [
    {
     "name": "stdout",
     "output_type": "stream",
     "text": [
      "resource open\n",
      "hey you cannot divide Number by zero : division by zero\n",
      "resoure closed\n"
     ]
    }
   ],
   "source": [
    "c = 3\n",
    "d = 0\n",
    "\n",
    "try:\n",
    "    print('resource open')\n",
    "    print(c/d)\n",
    "   \n",
    "except Exception as e :\n",
    "    print('hey you cannot divide Number by zero',':',e)\n",
    "    print('resoure closed')"
   ]
  },
  {
   "cell_type": "code",
   "execution_count": 18,
   "id": "86cfd240-dd6d-4c62-afd9-e8aa145caefe",
   "metadata": {},
   "outputs": [
    {
     "name": "stdout",
     "output_type": "stream",
     "text": [
      "resource open\n",
      "1.0\n"
     ]
    }
   ],
   "source": [
    "c = 3\n",
    "d = 3\n",
    "\n",
    "try:\n",
    "    print('resource open')\n",
    "    print(c/d)\n",
    "   \n",
    "except Exception as e :\n",
    "    print('hey you cannot divide Number by zero',':',e)\n",
    "    print('resoure closed')"
   ]
  },
  {
   "cell_type": "code",
   "execution_count": 19,
   "id": "3be1b8e8-1caa-488d-a718-2f2dc8e03da6",
   "metadata": {},
   "outputs": [
    {
     "name": "stdout",
     "output_type": "stream",
     "text": [
      "resource open\n",
      "1.0\n",
      "resource closed\n"
     ]
    }
   ],
   "source": [
    "c = 3\n",
    "d = 3\n",
    "\n",
    "try:\n",
    "    print('resource open')\n",
    "    print(c/d)\n",
    "   \n",
    "except Exception as e :\n",
    "    print('hey you cannot divide Number by zero',':',e)\n",
    "    print('resoure closed')\n",
    "\n",
    "finally:\n",
    "    print('resource closed')"
   ]
  },
  {
   "cell_type": "code",
   "execution_count": null,
   "id": "3cf5797d-9e98-4e9d-bc31-589f16926f99",
   "metadata": {},
   "outputs": [],
   "source": []
  },
  {
   "cell_type": "code",
   "execution_count": null,
   "id": "1ef0dd15-5acd-42e8-95a4-81d6ea548303",
   "metadata": {},
   "outputs": [],
   "source": []
  },
  {
   "cell_type": "code",
   "execution_count": null,
   "id": "0e79383e-7e45-4686-a538-d3c3ab70b93f",
   "metadata": {},
   "outputs": [],
   "source": []
  },
  {
   "cell_type": "code",
   "execution_count": null,
   "id": "459da807-e8a5-4358-a8a2-a98d6619cb8e",
   "metadata": {},
   "outputs": [],
   "source": []
  },
  {
   "cell_type": "code",
   "execution_count": null,
   "id": "65fbd47f-688c-41f9-a57a-eb6efd272b9f",
   "metadata": {},
   "outputs": [],
   "source": []
  },
  {
   "cell_type": "code",
   "execution_count": null,
   "id": "b95684c1-dca4-49aa-9f02-f707992ba655",
   "metadata": {},
   "outputs": [],
   "source": []
  },
  {
   "cell_type": "code",
   "execution_count": null,
   "id": "a9e09cea-af95-40e7-a300-a3750f981e0d",
   "metadata": {},
   "outputs": [],
   "source": []
  },
  {
   "cell_type": "code",
   "execution_count": null,
   "id": "f984300b-928f-4a5e-88fa-e65cef32360c",
   "metadata": {},
   "outputs": [],
   "source": []
  },
  {
   "cell_type": "code",
   "execution_count": null,
   "id": "ae31a2b9-8410-4151-a29f-4cea9bc8efc1",
   "metadata": {},
   "outputs": [],
   "source": []
  },
  {
   "cell_type": "code",
   "execution_count": null,
   "id": "d8be1ee0-4cbd-400f-97d8-369a478666a1",
   "metadata": {},
   "outputs": [],
   "source": []
  },
  {
   "cell_type": "code",
   "execution_count": null,
   "id": "ae485928-d6dc-4447-9305-40912c2a1c20",
   "metadata": {},
   "outputs": [],
   "source": []
  },
  {
   "cell_type": "code",
   "execution_count": null,
   "id": "8852ae5a-90fa-4b6e-bd54-c9914f85fc23",
   "metadata": {},
   "outputs": [],
   "source": []
  }
 ],
 "metadata": {
  "kernelspec": {
   "display_name": "Python 3 (ipykernel)",
   "language": "python",
   "name": "python3"
  },
  "language_info": {
   "codemirror_mode": {
    "name": "ipython",
    "version": 3
   },
   "file_extension": ".py",
   "mimetype": "text/x-python",
   "name": "python",
   "nbconvert_exporter": "python",
   "pygments_lexer": "ipython3",
   "version": "3.12.7"
  }
 },
 "nbformat": 4,
 "nbformat_minor": 5
}

{
 "cells": [
  {
   "cell_type": "code",
   "execution_count": 1,
   "id": "58745342-7b73-43cb-a444-947a5ef5dd00",
   "metadata": {},
   "outputs": [],
   "source": [
    "import cv2"
   ]
  },
  {
   "cell_type": "code",
   "execution_count": 2,
   "id": "d2ea7d50-56e1-416f-9751-cc15d8f16899",
   "metadata": {},
   "outputs": [],
   "source": [
    "import numpy as np"
   ]
  },
  {
   "cell_type": "code",
   "execution_count": 4,
   "id": "97f7c116-7443-4ff6-8071-961361e0fe63",
   "metadata": {},
   "outputs": [],
   "source": [
    "input = cv2.imread(r\"C:\\Ds & AI ( my work)\\AVSCODE\\9. OPENCV\\Basic opencv code\\fox.jpg\")"
   ]
  },
  {
   "cell_type": "code",
   "execution_count": 5,
   "id": "76700771-7ab2-4b89-94a7-b4fd40387d21",
   "metadata": {},
   "outputs": [
    {
     "data": {
      "text/plain": [
       "array([[[ 13,  18,  19],\n",
       "        [ 13,  18,  19],\n",
       "        [ 13,  18,  19],\n",
       "        ...,\n",
       "        [ 10,  29,  26],\n",
       "        [ 11,  27,  26],\n",
       "        [ 10,  26,  25]],\n",
       "\n",
       "       [[ 13,  18,  19],\n",
       "        [ 13,  18,  19],\n",
       "        [ 13,  18,  19],\n",
       "        ...,\n",
       "        [ 10,  29,  26],\n",
       "        [ 11,  27,  26],\n",
       "        [ 10,  26,  25]],\n",
       "\n",
       "       [[ 13,  18,  19],\n",
       "        [ 13,  18,  19],\n",
       "        [ 13,  18,  19],\n",
       "        ...,\n",
       "        [ 11,  28,  25],\n",
       "        [ 10,  26,  25],\n",
       "        [ 10,  26,  25]],\n",
       "\n",
       "       ...,\n",
       "\n",
       "       [[246, 242, 237],\n",
       "        [246, 242, 237],\n",
       "        [246, 242, 237],\n",
       "        ...,\n",
       "        [242, 236, 231],\n",
       "        [242, 236, 231],\n",
       "        [242, 236, 231]],\n",
       "\n",
       "       [[246, 242, 237],\n",
       "        [246, 242, 237],\n",
       "        [246, 242, 237],\n",
       "        ...,\n",
       "        [242, 236, 231],\n",
       "        [242, 236, 231],\n",
       "        [242, 236, 231]],\n",
       "\n",
       "       [[246, 242, 237],\n",
       "        [246, 242, 237],\n",
       "        [246, 242, 237],\n",
       "        ...,\n",
       "        [242, 236, 231],\n",
       "        [242, 236, 231],\n",
       "        [242, 236, 231]]], shape=(683, 1024, 3), dtype=uint8)"
      ]
     },
     "execution_count": 5,
     "metadata": {},
     "output_type": "execute_result"
    }
   ],
   "source": [
    "input"
   ]
  },
  {
   "cell_type": "code",
   "execution_count": 10,
   "id": "3fe8370d-caaf-4b7a-88aa-101031496970",
   "metadata": {},
   "outputs": [],
   "source": [
    "cv2.imshow('fox', input)\n",
    "\n",
    "cv2.waitKey()\n",
    "\n",
    "cv2.destroyAllWindows()"
   ]
  },
  {
   "cell_type": "code",
   "execution_count": 9,
   "id": "443131a1-0631-4246-a264-5fa9117f7b5e",
   "metadata": {},
   "outputs": [
    {
     "name": "stdout",
     "output_type": "stream",
     "text": [
      "Height of Image: 683 pixels\n",
      "Width of Image: 1024 pixels\n"
     ]
    }
   ],
   "source": [
    "print('Height of Image:', int(input.shape[0]), 'pixels')\n",
    "print('Width of Image:', int(input.shape[1]), 'pixels')"
   ]
  },
  {
   "cell_type": "code",
   "execution_count": 11,
   "id": "b956b8c4-a952-4fa1-9568-aa45ea67f72e",
   "metadata": {},
   "outputs": [
    {
     "data": {
      "text/plain": [
       "True"
      ]
     },
     "execution_count": 11,
     "metadata": {},
     "output_type": "execute_result"
    }
   ],
   "source": [
    "cv2.imwrite('output.png',input)"
   ]
  },
  {
   "cell_type": "code",
   "execution_count": 12,
   "id": "9ae34fdc-20a2-46db-a0c7-ae7d64afeb45",
   "metadata": {},
   "outputs": [
    {
     "data": {
      "text/plain": [
       "'C:\\\\Users\\\\91918\\\\6_months AI claases\\\\OPENCV'"
      ]
     },
     "execution_count": 12,
     "metadata": {},
     "output_type": "execute_result"
    }
   ],
   "source": [
    "import os \n",
    "os.getcwd()"
   ]
  },
  {
   "cell_type": "code",
   "execution_count": null,
   "id": "67507183-b064-4358-b091-5db22266527d",
   "metadata": {},
   "outputs": [],
   "source": []
  },
  {
   "cell_type": "code",
   "execution_count": null,
   "id": "571f2a10-37f3-408f-961e-8f0d4f9c35ea",
   "metadata": {},
   "outputs": [],
   "source": []
  },
  {
   "cell_type": "code",
   "execution_count": null,
   "id": "56ee3c1f-8289-4335-8b67-cb3e032aadd4",
   "metadata": {},
   "outputs": [],
   "source": []
  },
  {
   "cell_type": "code",
   "execution_count": null,
   "id": "fee752d6-44d3-42b9-8b5f-652aa39c98e0",
   "metadata": {},
   "outputs": [],
   "source": []
  },
  {
   "cell_type": "code",
   "execution_count": null,
   "id": "bb13442a-2899-4ae4-840c-d5344c51184f",
   "metadata": {},
   "outputs": [],
   "source": []
  }
 ],
 "metadata": {
  "kernelspec": {
   "display_name": "Python (mlops)",
   "language": "python",
   "name": "mlops"
  },
  "language_info": {
   "codemirror_mode": {
    "name": "ipython",
    "version": 3
   },
   "file_extension": ".py",
   "mimetype": "text/x-python",
   "name": "python",
   "nbconvert_exporter": "python",
   "pygments_lexer": "ipython3",
   "version": "3.12.11"
  }
 },
 "nbformat": 4,
 "nbformat_minor": 5
}

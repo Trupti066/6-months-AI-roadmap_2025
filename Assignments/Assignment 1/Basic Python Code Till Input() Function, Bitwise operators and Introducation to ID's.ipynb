{
 "cells": [
  {
   "cell_type": "code",
   "execution_count": 1,
   "id": "5b140607-d00b-4b41-bc27-cbf526fe8346",
   "metadata": {},
   "outputs": [
    {
     "data": {
      "text/plain": [
       "3"
      ]
     },
     "execution_count": 1,
     "metadata": {},
     "output_type": "execute_result"
    }
   ],
   "source": [
    "x = 3\n",
    "x"
   ]
  },
  {
   "cell_type": "code",
   "execution_count": 2,
   "id": "af45ba16-0cf9-45a7-ae5b-4d8ca6741db2",
   "metadata": {},
   "outputs": [
    {
     "data": {
      "text/plain": [
       "6"
      ]
     },
     "execution_count": 2,
     "metadata": {},
     "output_type": "execute_result"
    }
   ],
   "source": [
    "_ + x"
   ]
  },
  {
   "cell_type": "code",
   "execution_count": 3,
   "id": "30479738-7ea8-478b-8fdd-bffcef6965d2",
   "metadata": {},
   "outputs": [
    {
     "data": {
      "text/plain": [
       "9"
      ]
     },
     "execution_count": 3,
     "metadata": {},
     "output_type": "execute_result"
    }
   ],
   "source": [
    "_ + x"
   ]
  },
  {
   "cell_type": "code",
   "execution_count": 4,
   "id": "2d99a008-4c02-4b94-b8d6-6b9516bf70ca",
   "metadata": {},
   "outputs": [
    {
     "data": {
      "text/plain": [
       "12"
      ]
     },
     "execution_count": 4,
     "metadata": {},
     "output_type": "execute_result"
    }
   ],
   "source": [
    "_ + x"
   ]
  },
  {
   "cell_type": "code",
   "execution_count": 5,
   "id": "dcde5f46-07c7-4094-a1ab-73b42fbc4a09",
   "metadata": {},
   "outputs": [
    {
     "data": {
      "text/plain": [
       "15"
      ]
     },
     "execution_count": 5,
     "metadata": {},
     "output_type": "execute_result"
    }
   ],
   "source": [
    "_ + x"
   ]
  },
  {
   "cell_type": "code",
   "execution_count": 6,
   "id": "89091ca4-4a8b-4fc4-96d7-545d78c5d706",
   "metadata": {},
   "outputs": [
    {
     "data": {
      "text/plain": [
       "12"
      ]
     },
     "execution_count": 6,
     "metadata": {},
     "output_type": "execute_result"
    }
   ],
   "source": [
    " _ - x                       # in python \"_\" means it shtores values "
   ]
  },
  {
   "cell_type": "code",
   "execution_count": 7,
   "id": "8508a38e-c23e-407c-95b2-14aec7e05bb1",
   "metadata": {},
   "outputs": [],
   "source": [
    "name = 'nit'"
   ]
  },
  {
   "cell_type": "code",
   "execution_count": 8,
   "id": "5a2ddccf-05d8-477e-88fe-64541bd5efa6",
   "metadata": {},
   "outputs": [
    {
     "data": {
      "text/plain": [
       "'nit'"
      ]
     },
     "execution_count": 8,
     "metadata": {},
     "output_type": "execute_result"
    }
   ],
   "source": [
    "name "
   ]
  },
  {
   "cell_type": "code",
   "execution_count": 9,
   "id": "fca146e6-74de-43f3-8c35-73cb7bc9335c",
   "metadata": {},
   "outputs": [
    {
     "data": {
      "text/plain": [
       "'nit technolody'"
      ]
     },
     "execution_count": 9,
     "metadata": {},
     "output_type": "execute_result"
    }
   ],
   "source": [
    "name + ' technolody'"
   ]
  },
  {
   "cell_type": "code",
   "execution_count": 10,
   "id": "942dba00-3598-4bfd-99d0-753f0f1ae47c",
   "metadata": {},
   "outputs": [
    {
     "ename": "SyntaxError",
     "evalue": "invalid syntax (2387114274.py, line 1)",
     "output_type": "error",
     "traceback": [
      "\u001b[1;36m  Cell \u001b[1;32mIn[10], line 1\u001b[1;36m\u001b[0m\n\u001b[1;33m    name ' technology'\u001b[0m\n\u001b[1;37m         ^\u001b[0m\n\u001b[1;31mSyntaxError\u001b[0m\u001b[1;31m:\u001b[0m invalid syntax\n"
     ]
    }
   ],
   "source": [
    "name ' technology'"
   ]
  },
  {
   "cell_type": "code",
   "execution_count": 11,
   "id": "1226f0bc-f05f-4c3e-886a-d48c83a5e8da",
   "metadata": {},
   "outputs": [
    {
     "data": {
      "text/plain": [
       "'nit'"
      ]
     },
     "execution_count": 11,
     "metadata": {},
     "output_type": "execute_result"
    }
   ],
   "source": [
    "name"
   ]
  },
  {
   "cell_type": "code",
   "execution_count": 12,
   "id": "d5a151b1-211d-4a3c-aac0-c4f2b165f00f",
   "metadata": {},
   "outputs": [
    {
     "data": {
      "text/plain": [
       "3"
      ]
     },
     "execution_count": 12,
     "metadata": {},
     "output_type": "execute_result"
    }
   ],
   "source": [
    "len(name)"
   ]
  },
  {
   "cell_type": "code",
   "execution_count": 13,
   "id": "5de4e9bc-9014-4250-a6fb-6efa04f61eaf",
   "metadata": {},
   "outputs": [
    {
     "data": {
      "text/plain": [
       "'fine'"
      ]
     },
     "execution_count": 13,
     "metadata": {},
     "output_type": "execute_result"
    }
   ],
   "source": [
    "name1 = 'fine'\n",
    "name1"
   ]
  },
  {
   "cell_type": "code",
   "execution_count": 14,
   "id": "7d891870-c788-44a8-9eb8-57b9b64e852a",
   "metadata": {},
   "outputs": [
    {
     "data": {
      "text/plain": [
       "'f'"
      ]
     },
     "execution_count": 14,
     "metadata": {},
     "output_type": "execute_result"
    }
   ],
   "source": [
    "name1[0:1]"
   ]
  },
  {
   "cell_type": "code",
   "execution_count": 15,
   "id": "db7b9543-f331-4e23-8da5-54224e05f6d4",
   "metadata": {},
   "outputs": [
    {
     "ename": "TypeError",
     "evalue": "'str' object does not support item assignment",
     "output_type": "error",
     "traceback": [
      "\u001b[1;31m---------------------------------------------------------------------------\u001b[0m",
      "\u001b[1;31mTypeError\u001b[0m                                 Traceback (most recent call last)",
      "Cell \u001b[1;32mIn[15], line 1\u001b[0m\n\u001b[1;32m----> 1\u001b[0m name1[\u001b[38;5;241m0\u001b[39m:\u001b[38;5;241m1\u001b[39m] \u001b[38;5;241m=\u001b[39m \u001b[38;5;124m'\u001b[39m\u001b[38;5;124md\u001b[39m\u001b[38;5;124m'\u001b[39m\n",
      "\u001b[1;31mTypeError\u001b[0m: 'str' object does not support item assignment"
     ]
    }
   ],
   "source": [
    "name1[0:1] = 'd'         # i want to change 1 st character , we cannot change "
   ]
  },
  {
   "cell_type": "code",
   "execution_count": 16,
   "id": "8a9fb2be-f733-4320-a1c5-85bfe0302bba",
   "metadata": {},
   "outputs": [
    {
     "data": {
      "text/plain": [
       "'fine'"
      ]
     },
     "execution_count": 16,
     "metadata": {},
     "output_type": "execute_result"
    }
   ],
   "source": [
    "name1             # string is immutable "
   ]
  },
  {
   "cell_type": "code",
   "execution_count": 17,
   "id": "ae9a0f3e-0f3a-4651-8d74-8814070e1ef9",
   "metadata": {},
   "outputs": [
    {
     "ename": "TypeError",
     "evalue": "'str' object does not support item assignment",
     "output_type": "error",
     "traceback": [
      "\u001b[1;31m---------------------------------------------------------------------------\u001b[0m",
      "\u001b[1;31mTypeError\u001b[0m                                 Traceback (most recent call last)",
      "Cell \u001b[1;32mIn[17], line 1\u001b[0m\n\u001b[1;32m----> 1\u001b[0m name1[\u001b[38;5;241m0\u001b[39m]\u001b[38;5;241m=\u001b[39m\u001b[38;5;124m'\u001b[39m\u001b[38;5;124md\u001b[39m\u001b[38;5;124m'\u001b[39m\n",
      "\u001b[1;31mTypeError\u001b[0m: 'str' object does not support item assignment"
     ]
    }
   ],
   "source": [
    "name1[0]='d'           # not possible "
   ]
  },
  {
   "cell_type": "code",
   "execution_count": 18,
   "id": "70f3b351-1b8f-4a3c-93ae-db5d0823e19f",
   "metadata": {},
   "outputs": [
    {
     "data": {
      "text/plain": [
       "'fine'"
      ]
     },
     "execution_count": 18,
     "metadata": {},
     "output_type": "execute_result"
    }
   ],
   "source": [
    "name1"
   ]
  },
  {
   "cell_type": "code",
   "execution_count": 19,
   "id": "c4d49594-810b-4e50-9a88-f99f777ed60c",
   "metadata": {},
   "outputs": [
    {
     "data": {
      "text/plain": [
       "'ine'"
      ]
     },
     "execution_count": 19,
     "metadata": {},
     "output_type": "execute_result"
    }
   ],
   "source": [
    "name1[1:]           # by remove \"f\", the output is \"ine\""
   ]
  },
  {
   "cell_type": "code",
   "execution_count": 20,
   "id": "c95a2043-8660-4a7a-a7ad-3dc7db48515a",
   "metadata": {},
   "outputs": [
    {
     "data": {
      "text/plain": [
       "'dine'"
      ]
     },
     "execution_count": 20,
     "metadata": {},
     "output_type": "execute_result"
    }
   ],
   "source": [
    "'d' + name1[1:]       # by applying logic and using slicing we can change the string "
   ]
  },
  {
   "cell_type": "code",
   "execution_count": 21,
   "id": "fa414515-b60f-4f9e-a94e-f96a4b22244f",
   "metadata": {},
   "outputs": [
    {
     "data": {
      "text/plain": [
       "4"
      ]
     },
     "execution_count": 21,
     "metadata": {},
     "output_type": "execute_result"
    }
   ],
   "source": [
    "len(name1)"
   ]
  },
  {
   "cell_type": "markdown",
   "id": "597b1fd1-6909-481e-908f-0362dda432b7",
   "metadata": {},
   "source": [
    "# introductions to ID"
   ]
  },
  {
   "cell_type": "code",
   "execution_count": 22,
   "id": "7c2405af-3fcc-4f2c-8652-6fbb23cd3959",
   "metadata": {},
   "outputs": [
    {
     "data": {
      "text/plain": [
       "140722770029272"
      ]
     },
     "execution_count": 22,
     "metadata": {},
     "output_type": "execute_result"
    }
   ],
   "source": [
    "a = 10\n",
    "id(a)"
   ]
  },
  {
   "cell_type": "code",
   "execution_count": 25,
   "id": "62a76326-d140-47fd-ac9d-49fd1e59db07",
   "metadata": {},
   "outputs": [],
   "source": [
    "a=b=10"
   ]
  },
  {
   "cell_type": "code",
   "execution_count": 26,
   "id": "57843060-e0c0-4fa6-b5e4-da57d6c340c3",
   "metadata": {},
   "outputs": [
    {
     "name": "stdout",
     "output_type": "stream",
     "text": [
      "140722770029272\n",
      "140722770029272\n"
     ]
    }
   ],
   "source": [
    "print(id(a))\n",
    "print(id(b))            # both id are same "
   ]
  },
  {
   "cell_type": "code",
   "execution_count": 27,
   "id": "caf62688-d98d-4554-9834-28e13fd791bc",
   "metadata": {},
   "outputs": [
    {
     "data": {
      "text/plain": [
       "3.14"
      ]
     },
     "execution_count": 27,
     "metadata": {},
     "output_type": "execute_result"
    }
   ],
   "source": [
    "PI = 3.14 \n",
    "PI"
   ]
  },
  {
   "cell_type": "code",
   "execution_count": 28,
   "id": "cc913e5a-3074-4b0e-933e-594b154dd2c3",
   "metadata": {},
   "outputs": [
    {
     "data": {
      "text/plain": [
       "float"
      ]
     },
     "execution_count": 28,
     "metadata": {},
     "output_type": "execute_result"
    }
   ],
   "source": [
    "type(PI)"
   ]
  },
  {
   "cell_type": "markdown",
   "id": "16ec324c-7738-46bc-b2c0-f21674582aad",
   "metadata": {},
   "source": [
    "# Arithmetic operators"
   ]
  },
  {
   "cell_type": "code",
   "execution_count": 29,
   "id": "0f21b050-7ad4-472c-b37c-051ef096eaca",
   "metadata": {},
   "outputs": [],
   "source": [
    "x1 , y1 = 10,5 "
   ]
  },
  {
   "cell_type": "code",
   "execution_count": 30,
   "id": "29b474f2-1fac-444c-8fa7-76e55f8d82ee",
   "metadata": {},
   "outputs": [
    {
     "data": {
      "text/plain": [
       "15"
      ]
     },
     "execution_count": 30,
     "metadata": {},
     "output_type": "execute_result"
    }
   ],
   "source": [
    "x1 + y1            # addition "
   ]
  },
  {
   "cell_type": "code",
   "execution_count": 31,
   "id": "3e52b055-9bad-49df-992c-5a2ce1b41124",
   "metadata": {},
   "outputs": [
    {
     "data": {
      "text/plain": [
       "5"
      ]
     },
     "execution_count": 31,
     "metadata": {},
     "output_type": "execute_result"
    }
   ],
   "source": [
    "x1 - y1           #subtractions "
   ]
  },
  {
   "cell_type": "code",
   "execution_count": 32,
   "id": "507e3b6b-bed8-4ea4-9292-34e61ba5efd3",
   "metadata": {},
   "outputs": [
    {
     "data": {
      "text/plain": [
       "50"
      ]
     },
     "execution_count": 32,
     "metadata": {},
     "output_type": "execute_result"
    }
   ],
   "source": [
    "x1 * y1          # multiplications"
   ]
  },
  {
   "cell_type": "code",
   "execution_count": 33,
   "id": "50035480-fe96-4d25-aab1-927b89d83ed4",
   "metadata": {},
   "outputs": [
    {
     "data": {
      "text/plain": [
       "2.0"
      ]
     },
     "execution_count": 33,
     "metadata": {},
     "output_type": "execute_result"
    }
   ],
   "source": [
    "x1/y1           # divide "
   ]
  },
  {
   "cell_type": "code",
   "execution_count": 34,
   "id": "9e1db2a8-9148-4866-8f0c-ad5fe198f7b1",
   "metadata": {},
   "outputs": [
    {
     "data": {
      "text/plain": [
       "2"
      ]
     },
     "execution_count": 34,
     "metadata": {},
     "output_type": "execute_result"
    }
   ],
   "source": [
    "x1//y1          # float division "
   ]
  },
  {
   "cell_type": "code",
   "execution_count": 35,
   "id": "c17116ef-bfd7-4ccb-8b54-b24e6a557358",
   "metadata": {},
   "outputs": [
    {
     "data": {
      "text/plain": [
       "100000"
      ]
     },
     "execution_count": 35,
     "metadata": {},
     "output_type": "execute_result"
    }
   ],
   "source": [
    "x1 ** y1"
   ]
  },
  {
   "cell_type": "code",
   "execution_count": 36,
   "id": "3b3ef9a1-746c-4c65-b2f2-f271074857fc",
   "metadata": {},
   "outputs": [
    {
     "data": {
      "text/plain": [
       "8"
      ]
     },
     "execution_count": 36,
     "metadata": {},
     "output_type": "execute_result"
    }
   ],
   "source": [
    "2**3"
   ]
  },
  {
   "cell_type": "markdown",
   "id": "51a349a6-f7cf-44a8-a435-30281a68fb40",
   "metadata": {},
   "source": [
    "# assignment operators "
   ]
  },
  {
   "cell_type": "code",
   "execution_count": 37,
   "id": "dc335753-c7d2-40be-8b9b-b6c0d100f7fc",
   "metadata": {},
   "outputs": [],
   "source": [
    "x = 2 "
   ]
  },
  {
   "cell_type": "code",
   "execution_count": 38,
   "id": "cd1edc86-611e-486c-960f-9d07a3af5381",
   "metadata": {},
   "outputs": [
    {
     "data": {
      "text/plain": [
       "2"
      ]
     },
     "execution_count": 38,
     "metadata": {},
     "output_type": "execute_result"
    }
   ],
   "source": [
    "x"
   ]
  },
  {
   "cell_type": "code",
   "execution_count": 39,
   "id": "7f03adce-ce56-46b1-b80b-9fd9421e9ead",
   "metadata": {},
   "outputs": [],
   "source": [
    "x = x+2"
   ]
  },
  {
   "cell_type": "code",
   "execution_count": 40,
   "id": "e0e26a58-0d42-4b9e-a1e8-c08b86930757",
   "metadata": {},
   "outputs": [
    {
     "data": {
      "text/plain": [
       "4"
      ]
     },
     "execution_count": 40,
     "metadata": {},
     "output_type": "execute_result"
    }
   ],
   "source": [
    "x"
   ]
  },
  {
   "cell_type": "code",
   "execution_count": 41,
   "id": "447b93d6-1fc0-4def-bfe3-bed6489d259c",
   "metadata": {},
   "outputs": [],
   "source": [
    "x +=2"
   ]
  },
  {
   "cell_type": "code",
   "execution_count": 42,
   "id": "e9a3873c-a7c8-4118-8ee0-b9251fdb32dd",
   "metadata": {},
   "outputs": [
    {
     "data": {
      "text/plain": [
       "6"
      ]
     },
     "execution_count": 42,
     "metadata": {},
     "output_type": "execute_result"
    }
   ],
   "source": [
    "x"
   ]
  },
  {
   "cell_type": "code",
   "execution_count": 43,
   "id": "6902ac99-f113-4d67-9c3b-816263a9e9af",
   "metadata": {},
   "outputs": [
    {
     "data": {
      "text/plain": [
       "4"
      ]
     },
     "execution_count": 43,
     "metadata": {},
     "output_type": "execute_result"
    }
   ],
   "source": [
    "x-=2 \n",
    "x"
   ]
  },
  {
   "cell_type": "code",
   "execution_count": 44,
   "id": "d6399147-6d4b-42ff-86a3-106805189cc8",
   "metadata": {},
   "outputs": [
    {
     "data": {
      "text/plain": [
       "2.0"
      ]
     },
     "execution_count": 44,
     "metadata": {},
     "output_type": "execute_result"
    }
   ],
   "source": [
    "x/=2\n",
    "x"
   ]
  },
  {
   "cell_type": "code",
   "execution_count": 45,
   "id": "07364515-b38c-403d-ac43-6f654ec9fd3a",
   "metadata": {},
   "outputs": [
    {
     "data": {
      "text/plain": [
       "4.0"
      ]
     },
     "execution_count": 45,
     "metadata": {},
     "output_type": "execute_result"
    }
   ],
   "source": [
    "x*=2\n",
    "x"
   ]
  },
  {
   "cell_type": "markdown",
   "id": "0851445f-d7e6-4be8-9bca-391001c21dea",
   "metadata": {},
   "source": [
    "# Unary operator"
   ]
  },
  {
   "cell_type": "markdown",
   "id": "1aacad77-48e0-4ac2-ba84-02dd34c37214",
   "metadata": {},
   "source": [
    "Here we are applying unary opeartor on the operands n; the value of m becomes -7,which indicates it as a negative value"
   ]
  },
  {
   "cell_type": "code",
   "execution_count": 46,
   "id": "285a84fa-ff4e-4fbf-9b32-6a210e04aeda",
   "metadata": {},
   "outputs": [],
   "source": [
    "m =7 "
   ]
  },
  {
   "cell_type": "code",
   "execution_count": 52,
   "id": "64be6782-f3d4-47d5-91bd-2cf336308820",
   "metadata": {},
   "outputs": [
    {
     "ename": "NameError",
     "evalue": "name 'n' is not defined",
     "output_type": "error",
     "traceback": [
      "\u001b[1;31m---------------------------------------------------------------------------\u001b[0m",
      "\u001b[1;31mNameError\u001b[0m                                 Traceback (most recent call last)",
      "Cell \u001b[1;32mIn[52], line 1\u001b[0m\n\u001b[1;32m----> 1\u001b[0m m \u001b[38;5;241m=\u001b[39m \u001b[38;5;241m-\u001b[39m(\u001b[38;5;241m-\u001b[39mn)\n",
      "\u001b[1;31mNameError\u001b[0m: name 'n' is not defined"
     ]
    }
   ],
   "source": [
    "m = -(n)"
   ]
  },
  {
   "cell_type": "markdown",
   "id": "a7d9232c-4818-4144-8def-9e5fe60340b6",
   "metadata": {},
   "source": [
    "# Relational operator "
   ]
  },
  {
   "cell_type": "code",
   "execution_count": 54,
   "id": "7a0cb709-6c27-44f3-b092-220be4b961ba",
   "metadata": {},
   "outputs": [],
   "source": [
    "a = 5 \n",
    "b = 8"
   ]
  },
  {
   "cell_type": "code",
   "execution_count": 55,
   "id": "12267fa1-2ad9-4464-a32e-525b13c2acb3",
   "metadata": {},
   "outputs": [
    {
     "data": {
      "text/plain": [
       "False"
      ]
     },
     "execution_count": 55,
     "metadata": {},
     "output_type": "execute_result"
    }
   ],
   "source": [
    "a == b "
   ]
  },
  {
   "cell_type": "code",
   "execution_count": 56,
   "id": "b5862d4e-cb78-4da8-82cb-fd48dbf8f049",
   "metadata": {},
   "outputs": [
    {
     "data": {
      "text/plain": [
       "True"
      ]
     },
     "execution_count": 56,
     "metadata": {},
     "output_type": "execute_result"
    }
   ],
   "source": [
    "a<b"
   ]
  },
  {
   "cell_type": "code",
   "execution_count": 57,
   "id": "789ce222-4c9a-46bf-a95a-8f7869c5a422",
   "metadata": {},
   "outputs": [
    {
     "data": {
      "text/plain": [
       "False"
      ]
     },
     "execution_count": 57,
     "metadata": {},
     "output_type": "execute_result"
    }
   ],
   "source": [
    "a>b"
   ]
  },
  {
   "cell_type": "code",
   "execution_count": 64,
   "id": "d4942038-1d9d-49a5-b14d-ae710f30c85e",
   "metadata": {},
   "outputs": [],
   "source": [
    "a = 10"
   ]
  },
  {
   "cell_type": "code",
   "execution_count": 60,
   "id": "5e9a4d96-159e-4b8a-87d1-664f37633f84",
   "metadata": {},
   "outputs": [
    {
     "data": {
      "text/plain": [
       "True"
      ]
     },
     "execution_count": 60,
     "metadata": {},
     "output_type": "execute_result"
    }
   ],
   "source": [
    "a != b "
   ]
  },
  {
   "cell_type": "code",
   "execution_count": 67,
   "id": "75efb4aa-9616-4551-a54f-2946cefa9c10",
   "metadata": {},
   "outputs": [],
   "source": [
    "b = 10   # if I change the value od b = 10"
   ]
  },
  {
   "cell_type": "code",
   "execution_count": 68,
   "id": "4caaa329-5aa0-4eca-8dee-c77fe5ebd228",
   "metadata": {},
   "outputs": [
    {
     "data": {
      "text/plain": [
       "True"
      ]
     },
     "execution_count": 68,
     "metadata": {},
     "output_type": "execute_result"
    }
   ],
   "source": [
    "a == b "
   ]
  },
  {
   "cell_type": "code",
   "execution_count": 69,
   "id": "8d27a576-55f7-4dd7-a22b-d2c5f157ab8d",
   "metadata": {},
   "outputs": [
    {
     "data": {
      "text/plain": [
       "True"
      ]
     },
     "execution_count": 69,
     "metadata": {},
     "output_type": "execute_result"
    }
   ],
   "source": [
    "a >= b "
   ]
  },
  {
   "cell_type": "code",
   "execution_count": 70,
   "id": "381fd0d5-1c18-49d2-97bf-404ff1d5d4ae",
   "metadata": {},
   "outputs": [
    {
     "data": {
      "text/plain": [
       "True"
      ]
     },
     "execution_count": 70,
     "metadata": {},
     "output_type": "execute_result"
    }
   ],
   "source": [
    "a <= b"
   ]
  },
  {
   "cell_type": "code",
   "execution_count": 71,
   "id": "c9ba4dfe-8b9b-464b-9438-f7c74e6f2f1c",
   "metadata": {},
   "outputs": [
    {
     "data": {
      "text/plain": [
       "False"
      ]
     },
     "execution_count": 71,
     "metadata": {},
     "output_type": "execute_result"
    }
   ],
   "source": [
    "a < b "
   ]
  },
  {
   "cell_type": "code",
   "execution_count": 72,
   "id": "a06d17ae-b2e0-4080-b007-be5689886550",
   "metadata": {},
   "outputs": [
    {
     "data": {
      "text/plain": [
       "False"
      ]
     },
     "execution_count": 72,
     "metadata": {},
     "output_type": "execute_result"
    }
   ],
   "source": [
    "a>b"
   ]
  },
  {
   "cell_type": "code",
   "execution_count": 73,
   "id": "9433de8e-010c-432f-b5fe-e348fbc4fa55",
   "metadata": {},
   "outputs": [],
   "source": [
    "b = 7 "
   ]
  },
  {
   "cell_type": "code",
   "execution_count": 74,
   "id": "09dc7e1f-74b8-456c-a8c6-158b6a46656b",
   "metadata": {},
   "outputs": [
    {
     "data": {
      "text/plain": [
       "True"
      ]
     },
     "execution_count": 74,
     "metadata": {},
     "output_type": "execute_result"
    }
   ],
   "source": [
    "a != b "
   ]
  },
  {
   "cell_type": "code",
   "execution_count": 75,
   "id": "ca1604b3-3086-4f9b-bbda-fa4f12380155",
   "metadata": {},
   "outputs": [],
   "source": [
    "a = 5 \n",
    "b = 6"
   ]
  },
  {
   "cell_type": "code",
   "execution_count": 78,
   "id": "e0ed134f-44b7-4ab3-85e3-dc79fce18aba",
   "metadata": {},
   "outputs": [
    {
     "data": {
      "text/plain": [
       "True"
      ]
     },
     "execution_count": 78,
     "metadata": {},
     "output_type": "execute_result"
    }
   ],
   "source": [
    "a < 9 and b > 4"
   ]
  },
  {
   "cell_type": "code",
   "execution_count": 80,
   "id": "8dbed5ae-b839-49d1-ac3d-777754644030",
   "metadata": {},
   "outputs": [
    {
     "data": {
      "text/plain": [
       "True"
      ]
     },
     "execution_count": 80,
     "metadata": {},
     "output_type": "execute_result"
    }
   ],
   "source": [
    "a < 9 and b < 9"
   ]
  },
  {
   "cell_type": "code",
   "execution_count": 82,
   "id": "5a9d44bd-e3a2-4c7a-b28d-2b035137ee92",
   "metadata": {},
   "outputs": [
    {
     "data": {
      "text/plain": [
       "False"
      ]
     },
     "execution_count": 82,
     "metadata": {},
     "output_type": "execute_result"
    }
   ],
   "source": [
    "x = False \n",
    "x "
   ]
  },
  {
   "cell_type": "code",
   "execution_count": 83,
   "id": "7035d7ed-d132-4743-b230-811d812033b8",
   "metadata": {},
   "outputs": [
    {
     "data": {
      "text/plain": [
       "True"
      ]
     },
     "execution_count": 83,
     "metadata": {},
     "output_type": "execute_result"
    }
   ],
   "source": [
    "not x         # we can reverse the operations "
   ]
  },
  {
   "cell_type": "code",
   "execution_count": 84,
   "id": "51b1c3a1-0ce6-4904-be3e-0a179a7db46a",
   "metadata": {},
   "outputs": [
    {
     "data": {
      "text/plain": [
       "True"
      ]
     },
     "execution_count": 84,
     "metadata": {},
     "output_type": "execute_result"
    }
   ],
   "source": [
    "x = not x \n",
    "x"
   ]
  },
  {
   "cell_type": "code",
   "execution_count": 85,
   "id": "a58a341a-ea7c-4a4f-b3dc-bbd939d48c81",
   "metadata": {},
   "outputs": [
    {
     "data": {
      "text/plain": [
       "True"
      ]
     },
     "execution_count": 85,
     "metadata": {},
     "output_type": "execute_result"
    }
   ],
   "source": [
    "x "
   ]
  },
  {
   "cell_type": "code",
   "execution_count": 86,
   "id": "3e1a7149-1f59-41ec-b56e-0d749c5b9977",
   "metadata": {},
   "outputs": [
    {
     "data": {
      "text/plain": [
       "False"
      ]
     },
     "execution_count": 86,
     "metadata": {},
     "output_type": "execute_result"
    }
   ],
   "source": [
    "not x "
   ]
  },
  {
   "cell_type": "code",
   "execution_count": 87,
   "id": "32762ca1-3f71-4336-8fa1-f495cb6aba1f",
   "metadata": {},
   "outputs": [
    {
     "data": {
      "text/plain": [
       "25"
      ]
     },
     "execution_count": 87,
     "metadata": {},
     "output_type": "execute_result"
    }
   ],
   "source": [
    "25 "
   ]
  },
  {
   "cell_type": "code",
   "execution_count": 88,
   "id": "725b6af0-191d-4d28-bbbe-6d4f399dbb11",
   "metadata": {},
   "outputs": [
    {
     "data": {
      "text/plain": [
       "'0b11001'"
      ]
     },
     "execution_count": 88,
     "metadata": {},
     "output_type": "execute_result"
    }
   ],
   "source": [
    "bin(25)                # binary value of 25 "
   ]
  },
  {
   "cell_type": "code",
   "execution_count": 89,
   "id": "761e63df-f7bd-4e77-bcd0-f489b0d2c759",
   "metadata": {},
   "outputs": [
    {
     "data": {
      "text/plain": [
       "25"
      ]
     },
     "execution_count": 89,
     "metadata": {},
     "output_type": "execute_result"
    }
   ],
   "source": [
    "int(0b11001)          # converting the binary value into the integer "
   ]
  },
  {
   "cell_type": "code",
   "execution_count": 90,
   "id": "75f8891c-b732-41d2-8af5-b73e1f29ce8b",
   "metadata": {},
   "outputs": [
    {
     "data": {
      "text/plain": [
       "25"
      ]
     },
     "execution_count": 90,
     "metadata": {},
     "output_type": "execute_result"
    }
   ],
   "source": [
    "int(0b11001)"
   ]
  },
  {
   "cell_type": "code",
   "execution_count": 91,
   "id": "6bb92d1c-6597-4b31-9b60-dcbc19c7983e",
   "metadata": {},
   "outputs": [
    {
     "data": {
      "text/plain": [
       "'0b100011'"
      ]
     },
     "execution_count": 91,
     "metadata": {},
     "output_type": "execute_result"
    }
   ],
   "source": [
    "bin(35)\n"
   ]
  },
  {
   "cell_type": "code",
   "execution_count": 92,
   "id": "0f9c1f04-de4d-40a2-9f00-bcbf6bd9b7d8",
   "metadata": {},
   "outputs": [
    {
     "data": {
      "text/plain": [
       "35"
      ]
     },
     "execution_count": 92,
     "metadata": {},
     "output_type": "execute_result"
    }
   ],
   "source": [
    "int(0b100011)"
   ]
  },
  {
   "cell_type": "code",
   "execution_count": 93,
   "id": "f34f2dcb-b1cc-4677-b17a-a5b5ecd5e043",
   "metadata": {},
   "outputs": [
    {
     "data": {
      "text/plain": [
       "'0b10100'"
      ]
     },
     "execution_count": 93,
     "metadata": {},
     "output_type": "execute_result"
    }
   ],
   "source": [
    "bin(20)"
   ]
  },
  {
   "cell_type": "code",
   "execution_count": 94,
   "id": "e6512a6f-67ad-434b-8231-e7530017ef38",
   "metadata": {},
   "outputs": [
    {
     "data": {
      "text/plain": [
       "20"
      ]
     },
     "execution_count": 94,
     "metadata": {},
     "output_type": "execute_result"
    }
   ],
   "source": [
    "int(0b10100)"
   ]
  },
  {
   "cell_type": "code",
   "execution_count": 95,
   "id": "f9c43fec-b26b-4f41-8ba6-5a1eae0626bf",
   "metadata": {},
   "outputs": [
    {
     "data": {
      "text/plain": [
       "'0o17'"
      ]
     },
     "execution_count": 95,
     "metadata": {},
     "output_type": "execute_result"
    }
   ],
   "source": [
    "oct(15)"
   ]
  },
  {
   "cell_type": "code",
   "execution_count": 96,
   "id": "fd66c163-6767-4480-97fb-8836bcd51efe",
   "metadata": {},
   "outputs": [
    {
     "data": {
      "text/plain": [
       "'0x9'"
      ]
     },
     "execution_count": 96,
     "metadata": {},
     "output_type": "execute_result"
    }
   ],
   "source": [
    "hex(9)"
   ]
  },
  {
   "cell_type": "code",
   "execution_count": 97,
   "id": "db04b50c-2701-4887-b96d-054c503f74bb",
   "metadata": {},
   "outputs": [
    {
     "data": {
      "text/plain": [
       "'0xa'"
      ]
     },
     "execution_count": 97,
     "metadata": {},
     "output_type": "execute_result"
    }
   ],
   "source": [
    "hex(10)"
   ]
  },
  {
   "cell_type": "code",
   "execution_count": 98,
   "id": "b48349ed-1a06-4175-a6bc-717e8ded7946",
   "metadata": {},
   "outputs": [
    {
     "data": {
      "text/plain": [
       "10"
      ]
     },
     "execution_count": 98,
     "metadata": {},
     "output_type": "execute_result"
    }
   ],
   "source": [
    "0xa"
   ]
  },
  {
   "cell_type": "code",
   "execution_count": 99,
   "id": "56f93ba3-1e46-4502-84a2-e5f14c1da5d6",
   "metadata": {},
   "outputs": [
    {
     "data": {
      "text/plain": [
       "'0x19'"
      ]
     },
     "execution_count": 99,
     "metadata": {},
     "output_type": "execute_result"
    }
   ],
   "source": [
    "hex(25)"
   ]
  },
  {
   "cell_type": "code",
   "execution_count": 100,
   "id": "b6cc5b79-d7e2-4bb4-a9b5-f540f424a401",
   "metadata": {},
   "outputs": [
    {
     "data": {
      "text/plain": [
       "21"
      ]
     },
     "execution_count": 100,
     "metadata": {},
     "output_type": "execute_result"
    }
   ],
   "source": [
    "0x15"
   ]
  },
  {
   "cell_type": "code",
   "execution_count": 101,
   "id": "b200ee7d-e543-4f19-be50-4ead90ba4a0f",
   "metadata": {},
   "outputs": [],
   "source": [
    "a = 5\n",
    "b = 6"
   ]
  },
  {
   "cell_type": "code",
   "execution_count": 102,
   "id": "1ef99fc7-ec9c-4b84-b96e-83a1dd3eebe6",
   "metadata": {},
   "outputs": [],
   "source": [
    "a = b \n",
    "b = a"
   ]
  },
  {
   "cell_type": "code",
   "execution_count": 103,
   "id": "f241c266-43f6-45a0-876b-5bade9d62242",
   "metadata": {},
   "outputs": [],
   "source": [
    "a,b = b,a"
   ]
  },
  {
   "cell_type": "code",
   "execution_count": 104,
   "id": "9b6a75d0-bb93-4d12-b04d-80c3e59650b2",
   "metadata": {},
   "outputs": [
    {
     "name": "stdout",
     "output_type": "stream",
     "text": [
      "6\n",
      "6\n"
     ]
    }
   ],
   "source": [
    "print(a)\n",
    "print(b)                # value of a is lost \"5\""
   ]
  },
  {
   "cell_type": "code",
   "execution_count": 105,
   "id": "7c89050d-3974-402b-968a-104cedf770ee",
   "metadata": {},
   "outputs": [],
   "source": [
    "a1 = 8 \n",
    "b1 = 9"
   ]
  },
  {
   "cell_type": "code",
   "execution_count": 106,
   "id": "189c3ed3-a723-47a2-8d76-35eeffc191a2",
   "metadata": {},
   "outputs": [],
   "source": [
    "temp = a1\n",
    "a1=b1\n",
    "b1 = temp"
   ]
  },
  {
   "cell_type": "code",
   "execution_count": 107,
   "id": "d5f54702-fd9b-4276-91dd-5aa17fc90949",
   "metadata": {},
   "outputs": [
    {
     "name": "stdout",
     "output_type": "stream",
     "text": [
      "9\n",
      "8\n"
     ]
    }
   ],
   "source": [
    "print(a1)\n",
    "print(b1)"
   ]
  },
  {
   "cell_type": "code",
   "execution_count": 109,
   "id": "24356ded-489d-47f6-8498-c03683968037",
   "metadata": {},
   "outputs": [],
   "source": [
    "a2 = 6\n",
    "b2 = 5"
   ]
  },
  {
   "cell_type": "code",
   "execution_count": 110,
   "id": "6ed3a45f-bab6-4c92-ba6a-c02cf3f5dc1a",
   "metadata": {},
   "outputs": [],
   "source": [
    "# swap variable formulas \n",
    "a2 = a2 + b2\n",
    "b2 = a2 - b2\n",
    "a2 = a2 - b2 "
   ]
  },
  {
   "cell_type": "code",
   "execution_count": 111,
   "id": "20b04f60-71c8-4205-ac55-f1284c68772f",
   "metadata": {},
   "outputs": [
    {
     "name": "stdout",
     "output_type": "stream",
     "text": [
      "5\n",
      "6\n"
     ]
    }
   ],
   "source": [
    "print(a2)\n",
    "print(b2)"
   ]
  },
  {
   "cell_type": "code",
   "execution_count": 112,
   "id": "8bb73010-0b2a-456c-8e22-3f7c5489a85b",
   "metadata": {},
   "outputs": [
    {
     "name": "stdout",
     "output_type": "stream",
     "text": [
      "5\n",
      "6\n"
     ]
    }
   ],
   "source": [
    "print(0b101)    # 101, 110 is a 3bit value \n",
    "print(0b110)  "
   ]
  },
  {
   "cell_type": "code",
   "execution_count": 113,
   "id": "af41f0f5-e3c5-4f81-8497-d7e9468e6b69",
   "metadata": {},
   "outputs": [
    {
     "name": "stdout",
     "output_type": "stream",
     "text": [
      "0b1011\n",
      "11\n"
     ]
    }
   ],
   "source": [
    "#but when we use a2 + b2 then we get 11 that means we will get 4 bit which is 1 bit extra \n",
    "print(bin(11))\n",
    "print(0b1011)"
   ]
  },
  {
   "cell_type": "code",
   "execution_count": 114,
   "id": "f4332ab6-d965-495d-9c19-ed3b284086da",
   "metadata": {},
   "outputs": [],
   "source": [
    "a2 = a2^b2\n",
    "b2 = a2^b2\n",
    "a2 = a2^b2"
   ]
  },
  {
   "cell_type": "code",
   "execution_count": 115,
   "id": "7a836f55-9363-4313-9660-1eac22e2a07d",
   "metadata": {},
   "outputs": [
    {
     "name": "stdout",
     "output_type": "stream",
     "text": [
      "6\n",
      "5\n"
     ]
    }
   ],
   "source": [
    "print(a2)\n",
    "print(b2)"
   ]
  },
  {
   "cell_type": "code",
   "execution_count": 116,
   "id": "859ab994-8d2f-4931-8bfc-b7a0fca54734",
   "metadata": {},
   "outputs": [],
   "source": [
    "a2 , b2 = b2,a2 "
   ]
  },
  {
   "cell_type": "code",
   "execution_count": 117,
   "id": "0c7cbb93-3e29-4382-8640-14ecf8061950",
   "metadata": {},
   "outputs": [
    {
     "name": "stdout",
     "output_type": "stream",
     "text": [
      "5\n",
      "6\n"
     ]
    }
   ],
   "source": [
    "print(a2)\n",
    "print(b2)"
   ]
  },
  {
   "cell_type": "markdown",
   "id": "e04c2953-117d-4299-8601-bafeacb1d62d",
   "metadata": {},
   "source": [
    "# Bitwise operators "
   ]
  },
  {
   "cell_type": "markdown",
   "id": "c51265e0-5bf7-4330-aa07-b22383a5e8be",
   "metadata": {},
   "source": [
    "# compliment ~ , and & , or  | , xor , left shift <<< , right shift >>> "
   ]
  },
  {
   "cell_type": "code",
   "execution_count": 118,
   "id": "aee52492-e2b1-4a8d-b73d-f64f6e11753c",
   "metadata": {},
   "outputs": [
    {
     "name": "stdout",
     "output_type": "stream",
     "text": [
      "0b1100\n",
      "0b1101\n"
     ]
    }
   ],
   "source": [
    "print(bin(12))\n",
    "print(bin(13))"
   ]
  },
  {
   "cell_type": "code",
   "execution_count": 122,
   "id": "8ab67d4e-fe4f-44b9-a250-ab377697aefe",
   "metadata": {},
   "outputs": [
    {
     "data": {
      "text/plain": [
       "-13"
      ]
     },
     "execution_count": 122,
     "metadata": {},
     "output_type": "execute_result"
    }
   ],
   "source": [
    "# in memory we cannpt store negative value , so we use the complimentary values \n",
    "a = ~12\n",
    "a"
   ]
  },
  {
   "cell_type": "code",
   "execution_count": 120,
   "id": "7a78eebd-6e17-44f6-93bb-cf47017c6c82",
   "metadata": {},
   "outputs": [
    {
     "data": {
      "text/plain": [
       "-46"
      ]
     },
     "execution_count": 120,
     "metadata": {},
     "output_type": "execute_result"
    }
   ],
   "source": [
    "~45      # 1'c + 1 "
   ]
  },
  {
   "cell_type": "code",
   "execution_count": 123,
   "id": "6a5a2c7a-e43a-4d48-9136-2e3e1b871554",
   "metadata": {},
   "outputs": [
    {
     "data": {
      "text/plain": [
       "3"
      ]
     },
     "execution_count": 123,
     "metadata": {},
     "output_type": "execute_result"
    }
   ],
   "source": [
    "~-4"
   ]
  },
  {
   "cell_type": "code",
   "execution_count": 124,
   "id": "9cd57089-950b-4ebf-8c59-805027c7ce75",
   "metadata": {},
   "outputs": [
    {
     "data": {
      "text/plain": [
       "-7"
      ]
     },
     "execution_count": 124,
     "metadata": {},
     "output_type": "execute_result"
    }
   ],
   "source": [
    "~6"
   ]
  },
  {
   "cell_type": "code",
   "execution_count": 125,
   "id": "9ec5737e-6a04-427a-b906-8f7816a34e33",
   "metadata": {},
   "outputs": [
    {
     "data": {
      "text/plain": [
       "5"
      ]
     },
     "execution_count": 125,
     "metadata": {},
     "output_type": "execute_result"
    }
   ],
   "source": [
    "~-6"
   ]
  },
  {
   "cell_type": "code",
   "execution_count": 126,
   "id": "03efc278-ad40-4ab5-891c-0f0bd5cfb932",
   "metadata": {},
   "outputs": [
    {
     "data": {
      "text/plain": [
       "0"
      ]
     },
     "execution_count": 126,
     "metadata": {},
     "output_type": "execute_result"
    }
   ],
   "source": [
    "~-1"
   ]
  },
  {
   "cell_type": "markdown",
   "id": "7c136125-8e56-4a0b-9b8a-c107f0df46c5",
   "metadata": {},
   "source": [
    "# AND & OR operators "
   ]
  },
  {
   "cell_type": "code",
   "execution_count": 127,
   "id": "d7689f15-c13e-429a-9976-3db130bde6de",
   "metadata": {},
   "outputs": [
    {
     "data": {
      "text/plain": [
       "12"
      ]
     },
     "execution_count": 127,
     "metadata": {},
     "output_type": "execute_result"
    }
   ],
   "source": [
    "12 & 13"
   ]
  },
  {
   "cell_type": "code",
   "execution_count": 129,
   "id": "b5d00419-26e9-480a-a16e-28a9fcaa417b",
   "metadata": {},
   "outputs": [
    {
     "data": {
      "text/plain": [
       "'0b1100'"
      ]
     },
     "execution_count": 129,
     "metadata": {},
     "output_type": "execute_result"
    }
   ],
   "source": [
    "bin(12)"
   ]
  },
  {
   "cell_type": "code",
   "execution_count": 130,
   "id": "f4067719-619b-4401-a07a-1606eb3fce7c",
   "metadata": {},
   "outputs": [
    {
     "data": {
      "text/plain": [
       "13"
      ]
     },
     "execution_count": 130,
     "metadata": {},
     "output_type": "execute_result"
    }
   ],
   "source": [
    "12 | 13"
   ]
  },
  {
   "cell_type": "code",
   "execution_count": 131,
   "id": "72db2578-ea90-4813-8b60-9b4c7b3864e2",
   "metadata": {},
   "outputs": [
    {
     "data": {
      "text/plain": [
       "'0b1101'"
      ]
     },
     "execution_count": 131,
     "metadata": {},
     "output_type": "execute_result"
    }
   ],
   "source": [
    "bin(13)"
   ]
  },
  {
   "cell_type": "code",
   "execution_count": 132,
   "id": "c751a794-6bd6-43ba-ab33-b8345927fe76",
   "metadata": {},
   "outputs": [
    {
     "data": {
      "text/plain": [
       "0"
      ]
     },
     "execution_count": 132,
     "metadata": {},
     "output_type": "execute_result"
    }
   ],
   "source": [
    "1 & 0 "
   ]
  },
  {
   "cell_type": "code",
   "execution_count": 133,
   "id": "3bad78f8-94bc-47c6-94dc-a4cb066a4665",
   "metadata": {},
   "outputs": [
    {
     "data": {
      "text/plain": [
       "1"
      ]
     },
     "execution_count": 133,
     "metadata": {},
     "output_type": "execute_result"
    }
   ],
   "source": [
    "1 | 0 "
   ]
  },
  {
   "cell_type": "markdown",
   "id": "9106cb72-7989-436e-97db-c1e5a91dc3ca",
   "metadata": {},
   "source": [
    "# XOR operator "
   ]
  },
  {
   "cell_type": "code",
   "execution_count": 135,
   "id": "9c1fae81-3a2b-48f7-ba81-d8c901e606e8",
   "metadata": {},
   "outputs": [],
   "source": [
    " # truth table of XOR \n",
    " #  x   y     xy\n",
    " #  0   0     0\n",
    " #  0   1     1\n",
    " #  1   0     1\n",
    " #  1   1     0 "
   ]
  },
  {
   "cell_type": "code",
   "execution_count": 136,
   "id": "e4959919-785e-4393-81c8-7a94e7c9caf1",
   "metadata": {},
   "outputs": [
    {
     "data": {
      "text/plain": [
       "27"
      ]
     },
     "execution_count": 136,
     "metadata": {},
     "output_type": "execute_result"
    }
   ],
   "source": [
    "13 ^ 22"
   ]
  },
  {
   "cell_type": "code",
   "execution_count": 137,
   "id": "5690332f-9b2f-460b-963c-2b9810560ed3",
   "metadata": {},
   "outputs": [
    {
     "data": {
      "text/plain": [
       "'0b11011'"
      ]
     },
     "execution_count": 137,
     "metadata": {},
     "output_type": "execute_result"
    }
   ],
   "source": [
    "bin(27)"
   ]
  },
  {
   "cell_type": "code",
   "execution_count": 138,
   "id": "5738a6dc-89f1-4f8f-86dd-da5dc26dc706",
   "metadata": {},
   "outputs": [
    {
     "data": {
      "text/plain": [
       "1"
      ]
     },
     "execution_count": 138,
     "metadata": {},
     "output_type": "execute_result"
    }
   ],
   "source": [
    "12 ^ 13 "
   ]
  },
  {
   "cell_type": "code",
   "execution_count": 139,
   "id": "0984fe1e-57e2-4a7f-aa88-4e5a16a77f3e",
   "metadata": {},
   "outputs": [
    {
     "data": {
      "text/plain": [
       "'0b11110'"
      ]
     },
     "execution_count": 139,
     "metadata": {},
     "output_type": "execute_result"
    }
   ],
   "source": [
    "bin(30)"
   ]
  },
  {
   "cell_type": "code",
   "execution_count": 140,
   "id": "059cf7db-2899-4c6d-b6f3-c80b86db59a8",
   "metadata": {},
   "outputs": [
    {
     "data": {
      "text/plain": [
       "30"
      ]
     },
     "execution_count": 140,
     "metadata": {},
     "output_type": "execute_result"
    }
   ],
   "source": [
    "int(0b11110)"
   ]
  },
  {
   "cell_type": "markdown",
   "id": "efb82008-368d-42b6-a230-00c90446802d",
   "metadata": {},
   "source": [
    "# Left Shift & Right Shift opertor "
   ]
  },
  {
   "cell_type": "code",
   "execution_count": 141,
   "id": "c4fec20f-6d9d-48c4-8813-618c2583232b",
   "metadata": {},
   "outputs": [
    {
     "data": {
      "text/plain": [
       "40"
      ]
     },
     "execution_count": 141,
     "metadata": {},
     "output_type": "execute_result"
    }
   ],
   "source": [
    "10 << 2     # 2 bits are gained , in left shift we gain the weights "
   ]
  },
  {
   "cell_type": "code",
   "execution_count": 142,
   "id": "49244b66-24e7-4940-973a-10c24e9c1e63",
   "metadata": {},
   "outputs": [
    {
     "data": {
      "text/plain": [
       "20"
      ]
     },
     "execution_count": 142,
     "metadata": {},
     "output_type": "execute_result"
    }
   ],
   "source": [
    "10<<1 "
   ]
  },
  {
   "cell_type": "code",
   "execution_count": 143,
   "id": "10ab5ed4-dba4-48ae-925b-0e41940ef8b2",
   "metadata": {},
   "outputs": [
    {
     "data": {
      "text/plain": [
       "'0b10100'"
      ]
     },
     "execution_count": 143,
     "metadata": {},
     "output_type": "execute_result"
    }
   ],
   "source": [
    "bin(20)"
   ]
  },
  {
   "cell_type": "code",
   "execution_count": 145,
   "id": "1bf26e57-c906-4069-9aea-883af289b10f",
   "metadata": {},
   "outputs": [
    {
     "data": {
      "text/plain": [
       "1"
      ]
     },
     "execution_count": 145,
     "metadata": {},
     "output_type": "execute_result"
    }
   ],
   "source": [
    "20>>4       # right shifts we loose the weights "
   ]
  },
  {
   "cell_type": "markdown",
   "id": "700d7ff7-6320-461c-a96b-7282a1278b6c",
   "metadata": {},
   "source": [
    "# import math madule "
   ]
  },
  {
   "cell_type": "code",
   "execution_count": 146,
   "id": "3494cd45-6497-4820-aaf8-44139fb9b33c",
   "metadata": {},
   "outputs": [
    {
     "ename": "NameError",
     "evalue": "name 'sqrt' is not defined",
     "output_type": "error",
     "traceback": [
      "\u001b[1;31m---------------------------------------------------------------------------\u001b[0m",
      "\u001b[1;31mNameError\u001b[0m                                 Traceback (most recent call last)",
      "Cell \u001b[1;32mIn[146], line 1\u001b[0m\n\u001b[1;32m----> 1\u001b[0m x \u001b[38;5;241m=\u001b[39m sqrt(\u001b[38;5;241m25\u001b[39m)\n",
      "\u001b[1;31mNameError\u001b[0m: name 'sqrt' is not defined"
     ]
    }
   ],
   "source": [
    "x = sqrt(25)  # sqrt is unbuild function ,we have call the math first "
   ]
  },
  {
   "cell_type": "code",
   "execution_count": 148,
   "id": "0f1ed49c-ffcf-4830-898f-cc03e97a80f9",
   "metadata": {},
   "outputs": [
    {
     "ename": "SyntaxError",
     "evalue": "invalid syntax (138234499.py, line 1)",
     "output_type": "error",
     "traceback": [
      "\u001b[1;36m  Cell \u001b[1;32mIn[148], line 1\u001b[1;36m\u001b[0m\n\u001b[1;33m    import math.sqrt(25)\u001b[0m\n\u001b[1;37m                    ^\u001b[0m\n\u001b[1;31mSyntaxError\u001b[0m\u001b[1;31m:\u001b[0m invalid syntax\n"
     ]
    }
   ],
   "source": [
    "import math.sqrt(25)"
   ]
  },
  {
   "cell_type": "code",
   "execution_count": 149,
   "id": "9ab41a11-bfa4-4528-bb59-83e8be00cd72",
   "metadata": {},
   "outputs": [],
   "source": [
    "import math         # math is module "
   ]
  },
  {
   "cell_type": "code",
   "execution_count": 150,
   "id": "91400682-541d-4736-8049-d252af343424",
   "metadata": {},
   "outputs": [
    {
     "data": {
      "text/plain": [
       "5.0"
      ]
     },
     "execution_count": 150,
     "metadata": {},
     "output_type": "execute_result"
    }
   ],
   "source": [
    "x = math.sqrt(25)\n",
    "x"
   ]
  },
  {
   "cell_type": "code",
   "execution_count": 152,
   "id": "32d7055d-e683-4e35-8e68-fe87c48e17b1",
   "metadata": {},
   "outputs": [
    {
     "data": {
      "text/plain": [
       "3.872983346207417"
      ]
     },
     "execution_count": 152,
     "metadata": {},
     "output_type": "execute_result"
    }
   ],
   "source": [
    "x1 = math.sqrt(15)\n",
    "x1"
   ]
  },
  {
   "cell_type": "code",
   "execution_count": 153,
   "id": "ce8f426b-5571-484b-9562-dedad5f46bba",
   "metadata": {},
   "outputs": [
    {
     "name": "stdout",
     "output_type": "stream",
     "text": [
      "2\n"
     ]
    }
   ],
   "source": [
    "print(math.floor(2.9))  # floor - minimum or least value "
   ]
  },
  {
   "cell_type": "code",
   "execution_count": 154,
   "id": "ad8d3b0f-64f7-4a21-9052-e391063be989",
   "metadata": {},
   "outputs": [
    {
     "name": "stdout",
     "output_type": "stream",
     "text": [
      "3\n"
     ]
    }
   ],
   "source": [
    "print(math.ceil(2.9))   # ceil - maximum or highest value "
   ]
  },
  {
   "cell_type": "code",
   "execution_count": 155,
   "id": "011cc206-2335-487b-9312-1ab5ff9979b1",
   "metadata": {},
   "outputs": [
    {
     "name": "stdout",
     "output_type": "stream",
     "text": [
      "9.0\n"
     ]
    }
   ],
   "source": [
    "print(math.pow(3,2))"
   ]
  },
  {
   "cell_type": "code",
   "execution_count": 156,
   "id": "3b8c9bc9-81f3-44dd-9448-566ccdb03bc1",
   "metadata": {},
   "outputs": [
    {
     "name": "stdout",
     "output_type": "stream",
     "text": [
      "3.141592653589793\n"
     ]
    }
   ],
   "source": [
    "print(math.pi)"
   ]
  },
  {
   "cell_type": "code",
   "execution_count": 157,
   "id": "4f01de32-60a1-4829-a3db-fb0201905705",
   "metadata": {},
   "outputs": [
    {
     "name": "stdout",
     "output_type": "stream",
     "text": [
      "2.718281828459045\n"
     ]
    }
   ],
   "source": [
    "print(math.e)"
   ]
  },
  {
   "cell_type": "code",
   "execution_count": 158,
   "id": "7cef5fea-f132-4ae8-a412-121a596f9848",
   "metadata": {},
   "outputs": [
    {
     "data": {
      "text/plain": [
       "3.1622776601683795"
      ]
     },
     "execution_count": 158,
     "metadata": {},
     "output_type": "execute_result"
    }
   ],
   "source": [
    "import math as m \n",
    "m.sqrt(10)"
   ]
  },
  {
   "cell_type": "code",
   "execution_count": 159,
   "id": "79cfc67b-97cb-4e3b-bc9f-c7a72d7d1270",
   "metadata": {},
   "outputs": [
    {
     "name": "stdout",
     "output_type": "stream",
     "text": [
      "8.0\n",
      "5.830951894845301\n"
     ]
    }
   ],
   "source": [
    "from math import sqrt,pow \n",
    "print(pow(2,3))\n",
    "print(sqrt(34))"
   ]
  },
  {
   "cell_type": "code",
   "execution_count": 160,
   "id": "2796ec9d-ea66-41d0-a9d9-e5e789acbf02",
   "metadata": {},
   "outputs": [
    {
     "ename": "SyntaxError",
     "evalue": "invalid syntax (3049877150.py, line 1)",
     "output_type": "error",
     "traceback": [
      "\u001b[1;36m  Cell \u001b[1;32mIn[160], line 1\u001b[1;36m\u001b[0m\n\u001b[1;33m    from math import\u001b[0m\n\u001b[1;37m                     ^\u001b[0m\n\u001b[1;31mSyntaxError\u001b[0m\u001b[1;31m:\u001b[0m invalid syntax\n"
     ]
    }
   ],
   "source": [
    "from math import \n",
    "print(pow(2,3))\n",
    "print(floor(2.3))"
   ]
  },
  {
   "cell_type": "code",
   "execution_count": 161,
   "id": "876a507d-0347-4dab-a115-a28d1c3dbba5",
   "metadata": {},
   "outputs": [
    {
     "data": {
      "text/plain": [
       "8"
      ]
     },
     "execution_count": 161,
     "metadata": {},
     "output_type": "execute_result"
    }
   ],
   "source": [
    "round(pow(2,3))"
   ]
  },
  {
   "cell_type": "markdown",
   "id": "e2c1ce30-7f34-4665-85cb-5ecad52f8316",
   "metadata": {},
   "source": [
    "# user input function in python|| command line input "
   ]
  },
  {
   "cell_type": "code",
   "execution_count": 162,
   "id": "74288ee1-1df9-4509-be67-91136bd880e1",
   "metadata": {},
   "outputs": [
    {
     "name": "stdin",
     "output_type": "stream",
     "text": [
      " 3\n",
      " 4\n"
     ]
    },
    {
     "name": "stdout",
     "output_type": "stream",
     "text": [
      "34\n"
     ]
    }
   ],
   "source": [
    "x = input()\n",
    "y = input() \n",
    "z = x + y \n",
    "print(z)"
   ]
  },
  {
   "cell_type": "code",
   "execution_count": 163,
   "id": "81771514-13b4-4118-997e-85c3333289c9",
   "metadata": {},
   "outputs": [
    {
     "name": "stdin",
     "output_type": "stream",
     "text": [
      "Enter the 1st number 44\n",
      "Enter the 2nd number 50\n"
     ]
    },
    {
     "name": "stdout",
     "output_type": "stream",
     "text": [
      "4450\n"
     ]
    }
   ],
   "source": [
    "x1 = input('Enter the 1st number')\n",
    "y1 = input('Enter the 2nd number')\n",
    "z1 = x1 + y1\n",
    "print(z1) "
   ]
  },
  {
   "cell_type": "code",
   "execution_count": 164,
   "id": "4db57aff-63df-4350-bcb0-d8121b4bd0fd",
   "metadata": {},
   "outputs": [
    {
     "data": {
      "text/plain": [
       "str"
      ]
     },
     "execution_count": 164,
     "metadata": {},
     "output_type": "execute_result"
    }
   ],
   "source": [
    "type(x1)\n",
    "type(y1)"
   ]
  },
  {
   "cell_type": "code",
   "execution_count": 165,
   "id": "3e1bec1d-5b41-417d-b3d2-d226eacf55af",
   "metadata": {},
   "outputs": [
    {
     "name": "stdin",
     "output_type": "stream",
     "text": [
      "Enter the 1st number 50\n",
      "Enter the 2nd number 70\n"
     ]
    },
    {
     "name": "stdout",
     "output_type": "stream",
     "text": [
      "120\n"
     ]
    }
   ],
   "source": [
    "x1 = input('Enter the 1st number')\n",
    "a1 = int(x1)\n",
    "y1 = input('Enter the 2nd number')\n",
    "b1 = int(y1)\n",
    "z1 = a1 + b1\n",
    "print(z1)"
   ]
  },
  {
   "cell_type": "code",
   "execution_count": 166,
   "id": "f7ecc1e0-a23c-4d0b-b22d-8211f0fd9402",
   "metadata": {},
   "outputs": [
    {
     "name": "stdin",
     "output_type": "stream",
     "text": [
      "Enter the 1st number 40\n",
      "Enter the 2nd number 80\n"
     ]
    },
    {
     "data": {
      "text/plain": [
       "120"
      ]
     },
     "execution_count": 166,
     "metadata": {},
     "output_type": "execute_result"
    }
   ],
   "source": [
    "x2 = int(input('Enter the 1st number'))\n",
    "y2 = int(input('Enter the 2nd number'))\n",
    "z2 = x2 + y2\n",
    "z2"
   ]
  },
  {
   "cell_type": "code",
   "execution_count": 167,
   "id": "6d39499c-2bf4-488f-911b-4a1872281aed",
   "metadata": {},
   "outputs": [
    {
     "name": "stdin",
     "output_type": "stream",
     "text": [
      "enter a char Trupti\n"
     ]
    },
    {
     "name": "stdout",
     "output_type": "stream",
     "text": [
      "Trupti\n"
     ]
    }
   ],
   "source": [
    "ch = input('enter a char')\n",
    "print(ch)"
   ]
  },
  {
   "cell_type": "code",
   "execution_count": 168,
   "id": "e6337f26-0d58-49d0-acaf-ef386bb2bcbc",
   "metadata": {},
   "outputs": [
    {
     "name": "stdout",
     "output_type": "stream",
     "text": [
      "T\n"
     ]
    }
   ],
   "source": [
    "print(ch[0])"
   ]
  },
  {
   "cell_type": "code",
   "execution_count": 169,
   "id": "fec95235-2c2a-4f5b-9727-0c27772c4231",
   "metadata": {},
   "outputs": [
    {
     "name": "stdout",
     "output_type": "stream",
     "text": [
      "p\n"
     ]
    }
   ],
   "source": [
    "print(ch[3])"
   ]
  },
  {
   "cell_type": "code",
   "execution_count": 170,
   "id": "23469dfd-52c0-4f9e-9847-8ff0ef39e796",
   "metadata": {},
   "outputs": [
    {
     "name": "stdin",
     "output_type": "stream",
     "text": [
      "enter a char Trupti\n"
     ]
    },
    {
     "name": "stdout",
     "output_type": "stream",
     "text": [
      "T\n"
     ]
    }
   ],
   "source": [
    "ch = input('enter a char')[0]\n",
    "print(ch)"
   ]
  },
  {
   "cell_type": "code",
   "execution_count": 171,
   "id": "e7813df3-9831-4fa6-9715-bf2cbdab6cc4",
   "metadata": {},
   "outputs": [
    {
     "name": "stdin",
     "output_type": "stream",
     "text": [
      "enter a char Trupti\n"
     ]
    },
    {
     "name": "stdout",
     "output_type": "stream",
     "text": [
      "ru\n"
     ]
    }
   ],
   "source": [
    "ch = input('enter a char')[1:3]\n",
    "print(ch)"
   ]
  },
  {
   "cell_type": "code",
   "execution_count": 173,
   "id": "eee567c1-34db-4ffb-8931-4aa251e2456f",
   "metadata": {},
   "outputs": [
    {
     "name": "stdin",
     "output_type": "stream",
     "text": [
      "enter a char Trupti is a data science student \n"
     ]
    },
    {
     "name": "stdout",
     "output_type": "stream",
     "text": [
      "Trupti is a data science student \n"
     ]
    }
   ],
   "source": [
    "ch = input('enter a char')\n",
    "print(ch)\n"
   ]
  },
  {
   "cell_type": "markdown",
   "id": "f7a17c71-6d85-4089-a27b-4d2a44624b97",
   "metadata": {},
   "source": [
    "# input() with eval "
   ]
  },
  {
   "cell_type": "code",
   "execution_count": 174,
   "id": "6f388ed4-e780-4763-98e9-706704f7d8ff",
   "metadata": {},
   "outputs": [
    {
     "name": "stdin",
     "output_type": "stream",
     "text": [
      "enter a char 5+3\n"
     ]
    },
    {
     "name": "stdout",
     "output_type": "stream",
     "text": [
      "5+3\n"
     ]
    }
   ],
   "source": [
    "ch = input('enter a char')\n",
    "print(ch)                         # output is same as input command , for that we use the eval command \n"
   ]
  },
  {
   "cell_type": "code",
   "execution_count": 175,
   "id": "115b7f80-d780-41c6-895d-b5e7562b3f8d",
   "metadata": {},
   "outputs": [
    {
     "name": "stdin",
     "output_type": "stream",
     "text": [
      "enter an expr 2+6\n"
     ]
    },
    {
     "name": "stdout",
     "output_type": "stream",
     "text": [
      "8\n"
     ]
    }
   ],
   "source": [
    "result = eval(input('enter an expr'))\n",
    "print(result)"
   ]
  },
  {
   "cell_type": "code",
   "execution_count": 176,
   "id": "d2428eb6-cae4-4ab5-9c35-e7bc16912707",
   "metadata": {},
   "outputs": [
    {
     "name": "stdin",
     "output_type": "stream",
     "text": [
      "enter an expr 500+956\n"
     ]
    },
    {
     "name": "stdout",
     "output_type": "stream",
     "text": [
      "1456\n"
     ]
    }
   ],
   "source": [
    "result = eval(input('enter an expr'))\n",
    "print(result)\n"
   ]
  },
  {
   "cell_type": "code",
   "execution_count": null,
   "id": "cfaf8c02-2955-4622-8066-facf20cef35f",
   "metadata": {},
   "outputs": [],
   "source": []
  },
  {
   "cell_type": "code",
   "execution_count": null,
   "id": "01848754-a014-4f24-a3b2-3b45db54834c",
   "metadata": {},
   "outputs": [],
   "source": []
  },
  {
   "cell_type": "code",
   "execution_count": null,
   "id": "51ccaae3-9aad-46c3-9c02-69d41f829864",
   "metadata": {},
   "outputs": [],
   "source": []
  },
  {
   "cell_type": "code",
   "execution_count": null,
   "id": "115718e4-fabf-4bdc-ab7d-4ad6ae06cf18",
   "metadata": {},
   "outputs": [],
   "source": []
  },
  {
   "cell_type": "code",
   "execution_count": null,
   "id": "eec72368-f682-4519-9fa5-150aa834916a",
   "metadata": {},
   "outputs": [],
   "source": []
  },
  {
   "cell_type": "code",
   "execution_count": null,
   "id": "0325da71-6704-4e01-b711-1b9a3c6d3540",
   "metadata": {},
   "outputs": [],
   "source": []
  },
  {
   "cell_type": "code",
   "execution_count": null,
   "id": "237e1b4e-e151-432d-a930-5c54ede980ce",
   "metadata": {},
   "outputs": [],
   "source": []
  },
  {
   "cell_type": "code",
   "execution_count": null,
   "id": "5409ffd3-d6fa-4a17-96ce-2441385dc023",
   "metadata": {},
   "outputs": [],
   "source": []
  },
  {
   "cell_type": "code",
   "execution_count": null,
   "id": "cf0caa04-7f09-45be-ae7e-b9bebde62850",
   "metadata": {},
   "outputs": [],
   "source": []
  }
 ],
 "metadata": {
  "kernelspec": {
   "display_name": "Python 3 (ipykernel)",
   "language": "python",
   "name": "python3"
  },
  "language_info": {
   "codemirror_mode": {
    "name": "ipython",
    "version": 3
   },
   "file_extension": ".py",
   "mimetype": "text/x-python",
   "name": "python",
   "nbconvert_exporter": "python",
   "pygments_lexer": "ipython3",
   "version": "3.12.7"
  }
 },
 "nbformat": 4,
 "nbformat_minor": 5
}

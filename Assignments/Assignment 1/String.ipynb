{
 "cells": [
  {
   "cell_type": "markdown",
   "id": "e833461d-7231-44e3-9227-a4cd438e232b",
   "metadata": {},
   "source": [
    "STRING\n"
   ]
  },
  {
   "cell_type": "markdown",
   "id": "c36f8a7d-1dca-40c3-b62b-a801d50791e4",
   "metadata": {},
   "source": [
    "# single line comments \n"
   ]
  },
  {
   "cell_type": "code",
   "execution_count": 1,
   "id": "d101f391-8d53-410f-ab85-10cc2dd54a74",
   "metadata": {},
   "outputs": [
    {
     "name": "stdout",
     "output_type": "stream",
     "text": [
      "T\n"
     ]
    }
   ],
   "source": [
    "letter = 'T'\n",
    "print(letter) # string in single quote "
   ]
  },
  {
   "cell_type": "code",
   "execution_count": 2,
   "id": "645f9c51-5918-4aca-9591-103bac83f522",
   "metadata": {},
   "outputs": [
    {
     "name": "stdout",
     "output_type": "stream",
     "text": [
      "T\n"
     ]
    }
   ],
   "source": [
    "letter = \"T\"\n",
    "print(letter) # string can be in double quotes"
   ]
  },
  {
   "cell_type": "code",
   "execution_count": 3,
   "id": "af17a27b-aa36-4155-b280-ddfa596c18fa",
   "metadata": {},
   "outputs": [
    {
     "name": "stdout",
     "output_type": "stream",
     "text": [
      "1\n"
     ]
    }
   ],
   "source": [
    "print(len(letter)) # len() function is used to find the length of the string"
   ]
  },
  {
   "cell_type": "code",
   "execution_count": 4,
   "id": "1f7aab27-73e0-48f0-8eee-f3d4c50e07b4",
   "metadata": {},
   "outputs": [
    {
     "name": "stdout",
     "output_type": "stream",
     "text": [
      "KOMPALLY TRUPTI\n",
      "15\n"
     ]
    }
   ],
   "source": [
    "name = \"KOMPALLY TRUPTI\"\n",
    "print(name)\n",
    "print(len(name))"
   ]
  },
  {
   "cell_type": "code",
   "execution_count": 5,
   "id": "65f3d2e3-3b98-4eca-b7c5-56151a254642",
   "metadata": {},
   "outputs": [
    {
     "name": "stdout",
     "output_type": "stream",
     "text": [
      " My name is Trupti, and I am full stack data science with AI\n",
      "15\n",
      "<class 'str'>\n"
     ]
    }
   ],
   "source": [
    "sentence = \" My name is Trupti, and I am full stack data science with AI\"\n",
    "print(sentence)\n",
    "print(len(name)) # len() is to find the length of the string \n",
    "print(type(name)) "
   ]
  },
  {
   "cell_type": "markdown",
   "id": "f283a69a-265f-4ce8-be33-d4ffaee8b66f",
   "metadata": {},
   "source": [
    "# multiline comments or string \n"
   ]
  },
  {
   "cell_type": "code",
   "execution_count": 6,
   "id": "bbc3d8a5-7356-4332-9715-d1e495776764",
   "metadata": {},
   "outputs": [
    {
     "name": "stdout",
     "output_type": "stream",
     "text": [
      " My name is K.Trupti.\n",
      "I am studying \"Full Stack Data Science with Genetic AI\"\n",
      "FROM Naresh IT\n"
     ]
    }
   ],
   "source": [
    "multiple_string = ''' My name is K.Trupti.\n",
    "I am studying \"Full Stack Data Science with Genetic AI\"\n",
    "FROM Naresh IT'''\n",
    "print(multiple_string)           #Multiline strings are written in triple quotes  "
   ]
  },
  {
   "cell_type": "code",
   "execution_count": 7,
   "id": "3d2ccb99-f93f-4b8c-803f-6cc182444482",
   "metadata": {},
   "outputs": [
    {
     "name": "stdout",
     "output_type": "stream",
     "text": [
      "My name is K.Trupti.\n",
      "I am studying \"Full Stack Data Science with Genetic AI\"\n",
      "FROM Naresh IT\n"
     ]
    }
   ],
   "source": [
    "multiple_string = \"\"\"My name is K.Trupti.\n",
    "I am studying \"Full Stack Data Science with Genetic AI\"\n",
    "FROM Naresh IT\"\"\"\n",
    "print(multiple_string)         #Multiline strings are also written in double quotes- 3 times "
   ]
  },
  {
   "cell_type": "markdown",
   "id": "5ffda4e8-a8a7-4910-b88a-483eeb05a82b",
   "metadata": {},
   "source": [
    "\n",
    "# String Concatenation "
   ]
  },
  {
   "cell_type": "code",
   "execution_count": 9,
   "id": "12f04d03-bc32-4493-be00-2d59427ec408",
   "metadata": {},
   "outputs": [
    {
     "name": "stdout",
     "output_type": "stream",
     "text": [
      "KompallyTrupti\n"
     ]
    }
   ],
   "source": [
    "first_name = 'Kompally'\n",
    "last_name = 'Trupti'\n",
    "full_name = first_name + last_name\n",
    "print(full_name)  # printing the name without space "
   ]
  },
  {
   "cell_type": "code",
   "execution_count": 11,
   "id": "f599879b-78b9-4540-be34-3c9a68e0c9cd",
   "metadata": {},
   "outputs": [
    {
     "name": "stdout",
     "output_type": "stream",
     "text": [
      "Kompally Trupti\n",
      "8\n",
      "6\n",
      "15\n",
      "True\n"
     ]
    }
   ],
   "source": [
    "first_name = 'Kompally'\n",
    "last_name = 'Trupti'\n",
    "space = ' '                                 # applying space in between name \n",
    "full_name = first_name + space + last_name\n",
    "print(full_name) \n",
    "print(len(first_name))   # finding the length of the string using len() function\n",
    "print(len(last_name))\n",
    "print(len(full_name))\n",
    "print(len(first_name) > len(last_name))  # True , boolean function  "
   ]
  },
  {
   "cell_type": "markdown",
   "id": "b6ab20a0-22e8-4a64-893e-f066fb17cc70",
   "metadata": {},
   "source": [
    "#Accessing characters in strings by index \n"
   ]
  },
  {
   "cell_type": "code",
   "execution_count": 12,
   "id": "9413404c-ca96-4907-9f52-027491c28423",
   "metadata": {},
   "outputs": [
    {
     "name": "stdout",
     "output_type": "stream",
     "text": [
      "T\n",
      "r\n",
      "u\n"
     ]
    }
   ],
   "source": [
    "language = 'Trupti'\n",
    "first_letter = language[0]\n",
    "print(first_letter) #T \n",
    "second_letter = language[1]\n",
    "print(second_letter) # r\n",
    "third_letter = language[2]\n",
    "print(third_letter) #u         # if we start the indexing from left end we use positive indexing from 0,1,....."
   ]
  },
  {
   "cell_type": "code",
   "execution_count": 15,
   "id": "abbed6dd-ef70-464f-b771-5a733a13bc66",
   "metadata": {},
   "outputs": [
    {
     "name": "stdout",
     "output_type": "stream",
     "text": [
      "i\n",
      "t\n",
      "p\n"
     ]
    }
   ],
   "source": [
    "language = 'Trupti'\n",
    "last_letter = language[-1]\n",
    "print(last_letter) #i\n",
    "second_last = language[-2]\n",
    "print(second_last) #t\n",
    "third_last = language[-3]\n",
    "print(third_last) #p         #if we start indexing from right end we use negative indexing , from -1,-2....."
   ]
  },
  {
   "cell_type": "markdown",
   "id": "c979202d-6338-4172-887c-31347016e5dd",
   "metadata": {},
   "source": [
    "\n",
    "#SLICING "
   ]
  },
  {
   "cell_type": "code",
   "execution_count": 16,
   "id": "fec4ee45-fce3-4e04-8562-3e6dba1f5907",
   "metadata": {},
   "outputs": [
    {
     "name": "stdout",
     "output_type": "stream",
     "text": [
      "Trupti\n"
     ]
    }
   ],
   "source": [
    "language = 'Trupti'\n",
    "print(language)"
   ]
  },
  {
   "cell_type": "code",
   "execution_count": 18,
   "id": "9427dd95-aed1-48fc-8808-9311852ecf01",
   "metadata": {},
   "outputs": [
    {
     "name": "stdout",
     "output_type": "stream",
     "text": [
      "Tru\n",
      "pti\n"
     ]
    }
   ],
   "source": [
    "first_three = language[0:3] # indexing starts from 0 upto 3 , and index 3 is not included \n",
    "last_three = language[3:6] \n",
    "print(first_three)\n",
    "print(last_three)"
   ]
  },
  {
   "cell_type": "code",
   "execution_count": 20,
   "id": "2d369645-d51a-4376-9eee-c5c19ab5a5d2",
   "metadata": {},
   "outputs": [
    {
     "name": "stdout",
     "output_type": "stream",
     "text": [
      "pti\n",
      "Tru\n"
     ]
    }
   ],
   "source": [
    "first_three = language[-3:]\n",
    "print(first_three)\n",
    "last_three = language[-6:-3]\n",
    "print(last_three)"
   ]
  },
  {
   "cell_type": "code",
   "execution_count": 21,
   "id": "207b919f-a215-4330-b678-ee619f8f7626",
   "metadata": {},
   "outputs": [
    {
     "name": "stdout",
     "output_type": "stream",
     "text": [
      "pti\n"
     ]
    }
   ],
   "source": [
    "last_three = language[3:]\n",
    "print(last_three)"
   ]
  },
  {
   "cell_type": "code",
   "execution_count": 22,
   "id": "719645a0-2342-4000-b5f2-95eb53d8c8c1",
   "metadata": {},
   "outputs": [
    {
     "name": "stdout",
     "output_type": "stream",
     "text": [
      "Tru\n"
     ]
    }
   ],
   "source": [
    "last_three = language[:3]\n",
    "print(last_three)"
   ]
  },
  {
   "cell_type": "code",
   "execution_count": 25,
   "id": "c989960d-be34-46f3-9960-6d0788d34230",
   "metadata": {},
   "outputs": [
    {
     "ename": "SyntaxError",
     "evalue": "invalid syntax (2592061860.py, line 1)",
     "output_type": "error",
     "traceback": [
      "\u001b[1;36m  Cell \u001b[1;32mIn[25], line 1\u001b[1;36m\u001b[0m\n\u001b[1;33m    abc = language[0:6:4:2]\u001b[0m\n\u001b[1;37m                        ^\u001b[0m\n\u001b[1;31mSyntaxError\u001b[0m\u001b[1;31m:\u001b[0m invalid syntax\n"
     ]
    }
   ],
   "source": [
    "abc = language[0:6:4:2]\n",
    "print(abc)"
   ]
  },
  {
   "cell_type": "code",
   "execution_count": 26,
   "id": "45bfa591-58e4-4c40-a545-e7b76e7efcfa",
   "metadata": {},
   "outputs": [
    {
     "name": "stdout",
     "output_type": "stream",
     "text": [
      "Tut\n"
     ]
    }
   ],
   "source": [
    "abc = language[0:6:2]\n",
    "print(abc)              #skipping character while splitting python strings "
   ]
  },
  {
   "cell_type": "code",
   "execution_count": 27,
   "id": "924d1352-02f5-42fc-8787-a0488b21e8a6",
   "metadata": {},
   "outputs": [
    {
     "name": "stdout",
     "output_type": "stream",
     "text": [
      "I hope every one enjoying the classes.\n",
      " Do you ?\n"
     ]
    }
   ],
   "source": [
    "\n",
    "# Escape sequence \n",
    "\n",
    "print('I hope every one enjoying the classes.\\n Do you ?') # \\n is used for line break "
   ]
  },
  {
   "cell_type": "code",
   "execution_count": 31,
   "id": "6c41485e-2cbc-48c4-811f-807c67bded07",
   "metadata": {},
   "outputs": [
    {
     "name": "stdout",
     "output_type": "stream",
     "text": [
      "s.no\tsubject \tMarks\n",
      "1\t english \t20\n",
      "2\t maths   \t18\n",
      "3\t social  \t20\n",
      "4\t science \t15\n"
     ]
    }
   ],
   "source": [
    "print('s.no\\tsubject \\tMarks')\n",
    "print('1\\t english \\t20')\n",
    "print('2\\t maths   \\t18')\n",
    "print('3\\t social  \\t20')\n",
    "print('4\\t science \\t15')\n"
   ]
  },
  {
   "cell_type": "code",
   "execution_count": 32,
   "id": "da753ab9-331a-4b6e-a6b7-6f2f47751733",
   "metadata": {},
   "outputs": [
    {
     "name": "stdout",
     "output_type": "stream",
     "text": [
      "This a back slash symbol(\\)\n"
     ]
    }
   ],
   "source": [
    "# To write a black slash\n",
    "\n",
    "print('This a back slash symbol(\\\\)') \n"
   ]
  },
  {
   "cell_type": "code",
   "execution_count": 34,
   "id": "298912a5-896b-4e52-b5b2-de73a1411d6f",
   "metadata": {},
   "outputs": [
    {
     "name": "stdout",
     "output_type": "stream",
     "text": [
      "To learn any programming lang it start with learning basics language called\"c,python\"\n"
     ]
    }
   ],
   "source": [
    "# To write a black slash\n",
    "\n",
    "print('To learn any programming lang it start with learning basics language called\\\"c,python\\\"') \n"
   ]
  },
  {
   "cell_type": "code",
   "execution_count": 40,
   "id": "f2f76d83-7168-40d2-b168-a692840f3619",
   "metadata": {},
   "outputs": [
    {
     "name": "stdout",
     "output_type": "stream",
     "text": [
      "Kompally trupti\n"
     ]
    }
   ],
   "source": [
    "\n",
    "# string methods - capitalize() : it is used to convert the first character string to capital letter \n",
    "\n",
    "Name = \"kompally trupti\"\n",
    "print(name.capitalize()) "
   ]
  },
  {
   "cell_type": "code",
   "execution_count": 41,
   "id": "c50c8be8-e634-48d3-980a-6e0395ee3e8e",
   "metadata": {},
   "outputs": [
    {
     "name": "stdout",
     "output_type": "stream",
     "text": [
      "3\n",
      "1\n",
      "2\n"
     ]
    }
   ],
   "source": [
    "challenge = 'thirty days of python'\n",
    "print(challenge.count('y')) \n",
    "print(challenge.count('y',7,14)) \n",
    "print(challenge.count('th'))   # count() is used to find occurrences of substrings(letters) in string"
   ]
  },
  {
   "cell_type": "code",
   "execution_count": 43,
   "id": "adfaa4d6-0321-44db-b991-9890b164e5ea",
   "metadata": {},
   "outputs": [
    {
     "name": "stdout",
     "output_type": "stream",
     "text": [
      "3\n",
      "0\n",
      "0\n"
     ]
    }
   ],
   "source": [
    "Name = \"kompally trupti\"\n",
    "print(challenge.count('t')) \n",
    "print(challenge.count('u')) \n",
    "print(challenge.count('ti'))\n"
   ]
  },
  {
   "cell_type": "code",
   "execution_count": 50,
   "id": "da685177-bcfe-4452-b53c-802806dcb30a",
   "metadata": {},
   "outputs": [],
   "source": [
    "Name = \"kompally trupti\""
   ]
  },
  {
   "cell_type": "code",
   "execution_count": 55,
   "id": "66a9a390-98b3-4f60-96fc-a239b8686313",
   "metadata": {},
   "outputs": [
    {
     "name": "stdout",
     "output_type": "stream",
     "text": [
      "False\n",
      "True\n",
      "True\n"
     ]
    }
   ],
   "source": [
    "\n",
    "#endswith(): is used to find a string ends with specific substrings \n",
    "\n",
    "Name = \"kompally trupti\"\n",
    "print(Name.endswith('t'))\n",
    "print(Name.endswith('pti')) #True\n",
    "print(Name.endswith('ti'))  #True"
   ]
  },
  {
   "cell_type": "code",
   "execution_count": 60,
   "id": "31e72d06-134e-40b1-a12e-90a9ed0dea93",
   "metadata": {},
   "outputs": [
    {
     "name": "stdout",
     "output_type": "stream",
     "text": [
      "kompally        trupti\n"
     ]
    }
   ],
   "source": [
    "#expandtabs(): replaces tab character with spaces, default tab size is 8\n",
    "\n",
    "Name = \"kompally\\ttrupti\"\n",
    "print(Name.expandtabs())"
   ]
  },
  {
   "cell_type": "code",
   "execution_count": 61,
   "id": "d3997b3a-13eb-46dd-8112-2e3cded164d1",
   "metadata": {},
   "outputs": [
    {
     "name": "stdout",
     "output_type": "stream",
     "text": [
      "kompally trupti\n"
     ]
    }
   ],
   "source": [
    "Name = \"kompally trupti\"\n",
    "print(Name.expandtabs(10))        #default tab size is 10"
   ]
  },
  {
   "cell_type": "code",
   "execution_count": 62,
   "id": "b3a45f8b-2fa7-4ae9-8c97-ad2add904dd8",
   "metadata": {},
   "outputs": [
    {
     "name": "stdout",
     "output_type": "stream",
     "text": [
      "3\n",
      "13\n"
     ]
    }
   ],
   "source": [
    "\n",
    "#find() : returns the index of first occurrence of substring\n",
    "\n",
    "Name = \"kompally trupti\"\n",
    "print(Name.find('p'))\n",
    "print(Name.find('ti'))"
   ]
  },
  {
   "cell_type": "code",
   "execution_count": 63,
   "id": "97f2a70d-f996-4c3c-aa65-8c52bc9ed217",
   "metadata": {},
   "outputs": [
    {
     "name": "stdout",
     "output_type": "stream",
     "text": [
      "2\n",
      "4\n"
     ]
    }
   ],
   "source": [
    "Name = \"kompally trupti\"\n",
    "print(Name.find('m'))\n",
    "print(Name.find('al'))"
   ]
  },
  {
   "cell_type": "code",
   "execution_count": 64,
   "id": "9d494ae8-0868-40dd-9ce1-b851d8c4d915",
   "metadata": {},
   "outputs": [
    {
     "name": "stdout",
     "output_type": "stream",
     "text": [
      "I am kompally trupti. I am a student. I live in India .\n"
     ]
    }
   ],
   "source": [
    "# format(): formats string into nicer output \n",
    "\n",
    "first_name = 'kompally'\n",
    "last_name = 'trupti'\n",
    "job = 'student'\n",
    "country = 'India '\n",
    "sentence = 'I am {} {}. I am a {}. I live in {}.'.format(first_name, last_name, job, country)\n",
    "print(sentence)"
   ]
  },
  {
   "cell_type": "code",
   "execution_count": 66,
   "id": "48a02cbe-2a30-4dfe-8424-65741549136d",
   "metadata": {},
   "outputs": [
    {
     "name": "stdout",
     "output_type": "stream",
     "text": [
      "I am kompally trupti. I am a student. I am studying at Biet . My current 8.0\n"
     ]
    }
   ],
   "source": [
    "first_name = 'kompally'\n",
    "last_name = 'trupti'\n",
    "job  = 'student'\n",
    "at = 'Biet '\n",
    "gpa = 8.0\n",
    "sentence = 'I am {} {}. I am a {}. I am studying at {}. My current {}'.format(first_name, last_name, job, at, gpa)\n",
    "print(sentence)"
   ]
  },
  {
   "cell_type": "code",
   "execution_count": 1,
   "id": "da829fc8-ca4a-478e-b6dd-38f2a7dbf49d",
   "metadata": {},
   "outputs": [
    {
     "name": "stdout",
     "output_type": "stream",
     "text": [
      "The area of circle with 20 is 2.74\n"
     ]
    }
   ],
   "source": [
    "radius = 20\n",
    "pi = 2.74\n",
    "area = pi \n",
    "result ='The area of circle with {} is {}'.format(str(radius),str(area))\n",
    "print(result) "
   ]
  },
  {
   "cell_type": "raw",
   "id": "dbf60d4f-a7db-44a2-9403-6dafbd6edc2c",
   "metadata": {},
   "source": [
    "#index(): Returns the index of substring\n"
   ]
  },
  {
   "cell_type": "code",
   "execution_count": 2,
   "id": "a80c2671-e750-473c-871d-ebd153a47481",
   "metadata": {},
   "outputs": [
    {
     "name": "stdout",
     "output_type": "stream",
     "text": [
      "5\n",
      "0\n"
     ]
    }
   ],
   "source": [
    "challenge = 'thirty days of python'\n",
    "print(challenge.find('y'))  \n",
    "print(challenge.find('th')) "
   ]
  },
  {
   "cell_type": "code",
   "execution_count": null,
   "id": "0c731cee-2f3d-4942-90ca-69dccb360d30",
   "metadata": {},
   "outputs": [],
   "source": [
    "# isalnum(): checks alphanumeric character \n"
   ]
  },
  {
   "cell_type": "code",
   "execution_count": 3,
   "id": "0598cf1b-42ae-4994-945a-004f4131b513",
   "metadata": {},
   "outputs": [
    {
     "name": "stdout",
     "output_type": "stream",
     "text": [
      "True\n"
     ]
    }
   ],
   "source": [
    "challenge = 'ThirtyDaysPython'\n",
    "print(challenge.isalnum())"
   ]
  },
  {
   "cell_type": "code",
   "execution_count": 4,
   "id": "83403a12-96b7-409b-a1f7-418362732550",
   "metadata": {},
   "outputs": [
    {
     "name": "stdout",
     "output_type": "stream",
     "text": [
      "False\n"
     ]
    }
   ],
   "source": [
    "challenge = 'thirty days of python'  # space are not allowed in isalnum\n",
    "print(challenge.isalnum())    #isalnum() contains only alphanumeric (a-z , A-Z) & num (0-9)\n",
    "                     "
   ]
  },
  {
   "cell_type": "code",
   "execution_count": 5,
   "id": "ed3221f0-cb6a-4bd8-a02d-8a4ea658283a",
   "metadata": {},
   "outputs": [
    {
     "name": "stdout",
     "output_type": "stream",
     "text": [
      "3\n",
      "19\n"
     ]
    }
   ],
   "source": [
    "# isdecimal(): Checks Decimal Characters\n",
    "\n",
    "challenge = 'thirty days of python'\n",
    "print(challenge.find('r'))  \n",
    "print(challenge.find('on'))"
   ]
  },
  {
   "cell_type": "code",
   "execution_count": 6,
   "id": "89d2b067-e5b3-4208-a81e-cac0c8b3cb04",
   "metadata": {},
   "outputs": [
    {
     "name": "stdout",
     "output_type": "stream",
     "text": [
      "False\n"
     ]
    }
   ],
   "source": [
    "# isdigit(): it is used to check the digits \n",
    "\n",
    "Name = 'Trupti'\n",
    "print(Name.isdigit())"
   ]
  },
  {
   "cell_type": "code",
   "execution_count": 7,
   "id": "ace76370-079c-4938-a96a-b8bedbf9803c",
   "metadata": {},
   "outputs": [
    {
     "name": "stdout",
     "output_type": "stream",
     "text": [
      "True\n"
     ]
    }
   ],
   "source": [
    "Name = '30'\n",
    "print(Name.isdigit())     # it is True because the integer is included in string place "
   ]
  },
  {
   "cell_type": "code",
   "execution_count": 8,
   "id": "175495be-e74a-4345-ae73-9ec7aed935c2",
   "metadata": {},
   "outputs": [
    {
     "name": "stdout",
     "output_type": "stream",
     "text": [
      "True\n",
      "False\n"
     ]
    }
   ],
   "source": [
    "#isdecimal() : it is used to check the decimal \n",
    "\n",
    "Name = '30'\n",
    "print(Name.isdecimal())  \n",
    "\n",
    "Name1 = '30.6'\n",
    "print(Name1.isdecimal())"
   ]
  },
  {
   "cell_type": "code",
   "execution_count": 9,
   "id": "c81762ab-08f4-4f31-bff0-79ed9b09b394",
   "metadata": {},
   "outputs": [
    {
     "name": "stdout",
     "output_type": "stream",
     "text": [
      "True\n",
      "False\n",
      "True\n"
     ]
    }
   ],
   "source": [
    "\n",
    "#isidentifier() : is used to check whether the string is in correct variable \n",
    "\n",
    "Name = '30'\n",
    "print(Name.isdigit())\n",
    "challenge = '06monthstraining' # is prints False because it contains digits \n",
    "print(challenge.isidentifier())\n",
    "challenge1 = 'six_months_training'\n",
    "print(challenge1.isidentifier())"
   ]
  },
  {
   "cell_type": "code",
   "execution_count": 10,
   "id": "6df25b9d-bb63-4e33-8b3c-3a54c9308925",
   "metadata": {},
   "outputs": [
    {
     "name": "stdout",
     "output_type": "stream",
     "text": [
      "True\n",
      "False\n"
     ]
    }
   ],
   "source": [
    "\n",
    "#islower() : is used to check whether string contains lowercase letters \n",
    "\n",
    "challenge = 'six months training'\n",
    "print(challenge.islower())\n",
    "\n",
    "challenge = 'Six months training'\n",
    "print(challenge.islower())"
   ]
  },
  {
   "cell_type": "code",
   "execution_count": 13,
   "id": "4b0dfede-03a8-4367-9b82-72e520b0dbc4",
   "metadata": {},
   "outputs": [
    {
     "name": "stdout",
     "output_type": "stream",
     "text": [
      "False\n",
      "True\n"
     ]
    }
   ],
   "source": [
    "\n",
    "#isupper() : is used to check whether string contains uppercase \n",
    "\n",
    "challenge = 'SIx MONTHS TRAINING'\n",
    "print(challenge.isupper())\n",
    "\n",
    "challenge1 = 'SIX MONTHS TRAINING'\n",
    "print(challenge1.isupper())"
   ]
  },
  {
   "cell_type": "code",
   "execution_count": 14,
   "id": "58fb1e27-0119-4964-bf1c-86947bca5159",
   "metadata": {},
   "outputs": [
    {
     "name": "stdout",
     "output_type": "stream",
     "text": [
      "True\n",
      "False\n"
     ]
    }
   ],
   "source": [
    " #isnumeric() : is used to check \n",
    "\n",
    "Num = '19'\n",
    "Name = 'trupti'\n",
    "print(Num.isnumeric())\n",
    "print(Name.isnumeric())"
   ]
  },
  {
   "cell_type": "code",
   "execution_count": 17,
   "id": "4cff666a-7bb7-455a-92bb-3b9a3fda2d41",
   "metadata": {},
   "outputs": [
    {
     "ename": "AttributeError",
     "evalue": "'list' object has no attribute 'join'",
     "output_type": "error",
     "traceback": [
      "\u001b[1;31m---------------------------------------------------------------------------\u001b[0m",
      "\u001b[1;31mAttributeError\u001b[0m                            Traceback (most recent call last)",
      "Cell \u001b[1;32mIn[17], line 4\u001b[0m\n\u001b[0;32m      1\u001b[0m \u001b[38;5;66;03m# join() : it gives a concatenated string \u001b[39;00m\n\u001b[0;32m      3\u001b[0m Names \u001b[38;5;241m=\u001b[39m [\u001b[38;5;124m'\u001b[39m\u001b[38;5;124mtrupti\u001b[39m\u001b[38;5;124m'\u001b[39m,\u001b[38;5;124m'\u001b[39m\u001b[38;5;124mashu\u001b[39m\u001b[38;5;124m'\u001b[39m,\u001b[38;5;124m'\u001b[39m\u001b[38;5;124mshravani\u001b[39m\u001b[38;5;124m'\u001b[39m,\u001b[38;5;124m'\u001b[39m\u001b[38;5;124mkrithi\u001b[39m\u001b[38;5;124m'\u001b[39m]\n\u001b[1;32m----> 4\u001b[0m \u001b[38;5;28mprint\u001b[39m \u001b[38;5;241m=\u001b[39m (Names\u001b[38;5;241m.\u001b[39mjoin(Names))\n",
      "\u001b[1;31mAttributeError\u001b[0m: 'list' object has no attribute 'join'"
     ]
    }
   ],
   "source": [
    "# join() : it gives a concatenated string \n",
    "\n",
    "Names = ['trupti','ashu','shravani','krithi']\n",
    "print(Names.join(Names))"
   ]
  },
  {
   "cell_type": "code",
   "execution_count": 23,
   "id": "bb3f0467-8dac-4ac1-8f09-6f6533c4e992",
   "metadata": {},
   "outputs": [
    {
     "name": "stdout",
     "output_type": "stream",
     "text": [
      "trupti#,ashu#,shravani#,krithi\n"
     ]
    }
   ],
   "source": [
    "Names = ['trupti','ashu','shravani','krithi']\n",
    "result ='#,'.join(Names)\n",
    "print(result)"
   ]
  },
  {
   "cell_type": "code",
   "execution_count": 28,
   "id": "88ea61dd-31ed-441b-860b-a92bdb7ba337",
   "metadata": {},
   "outputs": [
    {
     "name": "stdout",
     "output_type": "stream",
     "text": [
      "ix monthst raining\n"
     ]
    }
   ],
   "source": [
    "# strip() : remove the leading and trailing characters\n",
    "\n",
    "challenge = 'six monthst raining'\n",
    "print(challenge.strip('s'))"
   ]
  },
  {
   "cell_type": "code",
   "execution_count": 29,
   "id": "93f316ab-c468-440a-8649-b7c63b19c6d9",
   "metadata": {},
   "outputs": [
    {
     "name": "stdout",
     "output_type": "stream",
     "text": [
      "six months learning\n"
     ]
    }
   ],
   "source": [
    "#replace(): it replaces the string inside\n",
    "challenge = 'six months training'\n",
    "print(challenge.replace('training','learning'))"
   ]
  },
  {
   "cell_type": "code",
   "execution_count": 30,
   "id": "de242ff4-39d9-43de-9c5d-f2b4c7b69157",
   "metadata": {},
   "outputs": [
    {
     "name": "stdout",
     "output_type": "stream",
     "text": [
      "['six', 'months', 'training']\n"
     ]
    }
   ],
   "source": [
    "#split() : is is used to slipt the string from left side \n",
    "\n",
    "challenge = 'six months training'\n",
    "print(challenge.split())"
   ]
  },
  {
   "cell_type": "code",
   "execution_count": 31,
   "id": "9c64aee1-6a75-4dd3-ac3e-330fdf761e29",
   "metadata": {},
   "outputs": [
    {
     "name": "stdout",
     "output_type": "stream",
     "text": [
      "Six Months Training\n"
     ]
    }
   ],
   "source": [
    "\n",
    "#title() : it is used to change the title \n",
    "challenge = 'six months training'\n",
    "print(challenge.title())"
   ]
  },
  {
   "cell_type": "code",
   "execution_count": 33,
   "id": "e229aea5-3d45-4c3f-9eb3-ad78753f8b95",
   "metadata": {},
   "outputs": [
    {
     "name": "stdout",
     "output_type": "stream",
     "text": [
      "SIX MONTHS TRAINING\n",
      "six months training\n"
     ]
    }
   ],
   "source": [
    "\n",
    "#swapcase():\n",
    "\n",
    "challenge = 'six months training'\n",
    "print(challenge.swapcase())\n",
    "\n",
    "challenge = 'SIX MONTHS TRAINING'\n",
    "print(challenge.swapcase())"
   ]
  },
  {
   "cell_type": "code",
   "execution_count": 36,
   "id": "239deab4-a418-438d-8eee-c57c718b93a1",
   "metadata": {},
   "outputs": [
    {
     "name": "stdout",
     "output_type": "stream",
     "text": [
      "True\n",
      "False\n"
     ]
    }
   ],
   "source": [
    "\n",
    "#startswith(): check weather the given string starts with specified string\n",
    "\n",
    "challenge = 'six months training'\n",
    "print(challenge.startswith('six'))\n",
    "challenge = '06 months training'\n",
    "print(challenge.startswith('six'))"
   ]
  },
  {
   "cell_type": "code",
   "execution_count": null,
   "id": "66f3dab8-5bb8-437e-b08b-459ff1f74c74",
   "metadata": {},
   "outputs": [],
   "source": []
  },
  {
   "cell_type": "code",
   "execution_count": null,
   "id": "3766f47e-a328-473e-b7e5-da33c656d5d2",
   "metadata": {},
   "outputs": [],
   "source": []
  },
  {
   "cell_type": "code",
   "execution_count": null,
   "id": "8edcdc94-c2bd-47ec-ac22-ee125994873e",
   "metadata": {},
   "outputs": [],
   "source": []
  },
  {
   "cell_type": "code",
   "execution_count": null,
   "id": "a81d8c3c-2edb-4fb7-b75e-22fb0f286f14",
   "metadata": {},
   "outputs": [],
   "source": []
  }
 ],
 "metadata": {
  "kernelspec": {
   "display_name": "Python 3 (ipykernel)",
   "language": "python",
   "name": "python3"
  },
  "language_info": {
   "codemirror_mode": {
    "name": "ipython",
    "version": 3
   },
   "file_extension": ".py",
   "mimetype": "text/x-python",
   "name": "python",
   "nbconvert_exporter": "python",
   "pygments_lexer": "ipython3",
   "version": "3.12.7"
  }
 },
 "nbformat": 4,
 "nbformat_minor": 5
}

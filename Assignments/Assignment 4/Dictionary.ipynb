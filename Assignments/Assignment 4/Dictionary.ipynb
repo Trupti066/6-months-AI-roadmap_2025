{
 "cells": [
  {
   "cell_type": "markdown",
   "id": "196ce66b-7942-4e89-b66f-d8c14a8a6cbc",
   "metadata": {},
   "source": [
    "# Dictionary "
   ]
  },
  {
   "cell_type": "markdown",
   "id": "4f270b2f-f48b-40ca-bec7-21d0b50510e2",
   "metadata": {},
   "source": [
    "# Create Dictionary "
   ]
  },
  {
   "cell_type": "code",
   "execution_count": 7,
   "id": "3bd5bcfa-3a8f-4a8a-823e-224aceefee7a",
   "metadata": {},
   "outputs": [
    {
     "data": {
      "text/plain": [
       "{}"
      ]
     },
     "execution_count": 7,
     "metadata": {},
     "output_type": "execute_result"
    }
   ],
   "source": [
    "mydict = dict()                  # empty dictionary\n",
    "mydict"
   ]
  },
  {
   "cell_type": "code",
   "execution_count": 8,
   "id": "1c19c3d1-8e7e-4830-805f-c378a3081534",
   "metadata": {},
   "outputs": [
    {
     "data": {
      "text/plain": [
       "{}"
      ]
     },
     "execution_count": 8,
     "metadata": {},
     "output_type": "execute_result"
    }
   ],
   "source": [
    "mydict = {}                    # empty dictionary\n",
    "mydict                         # dictionaries are written in the key_value pairs "
   ]
  },
  {
   "cell_type": "code",
   "execution_count": 9,
   "id": "8f65e273-ae6f-43b6-ada5-1e3d8fbc56d4",
   "metadata": {},
   "outputs": [
    {
     "data": {
      "text/plain": [
       "{1: 'one', 2: 'two', 3: 'three'}"
      ]
     },
     "execution_count": 9,
     "metadata": {},
     "output_type": "execute_result"
    }
   ],
   "source": [
    "mydict = {1:'one' , 2:'two' , 3:'three'}      # dictionary with integer keys\n",
    "mydict          "
   ]
  },
  {
   "cell_type": "code",
   "execution_count": 10,
   "id": "830ddd80-1651-43d1-8dd9-dfbe8f90514b",
   "metadata": {},
   "outputs": [
    {
     "data": {
      "text/plain": [
       "{'A': 'one', 'B': 'two', 'C': 'three'}"
      ]
     },
     "execution_count": 10,
     "metadata": {},
     "output_type": "execute_result"
    }
   ],
   "source": [
    "mydict = {'A':'one' , 'B':'two' , 'C':'three'}      # dictionary with character keys\n",
    "mydict"
   ]
  },
  {
   "cell_type": "code",
   "execution_count": 11,
   "id": "4e999883-f5c8-40ef-860b-a6684c9cc2d9",
   "metadata": {},
   "outputs": [
    {
     "data": {
      "text/plain": [
       "{1: 'one', 'A': 'two', 3: 'three'}"
      ]
     },
     "execution_count": 11,
     "metadata": {},
     "output_type": "execute_result"
    }
   ],
   "source": [
    "mydict = {1:'one' , 'A':'two' , 3:'three'}      # dictionary with mixed keys\n",
    "mydict"
   ]
  },
  {
   "cell_type": "code",
   "execution_count": 12,
   "id": "ff684bdc-e38b-498f-a0ac-f30d9e3f52e2",
   "metadata": {},
   "outputs": [
    {
     "data": {
      "text/plain": [
       "{1: 'one', 'A': 'two', 3: 'three'}"
      ]
     },
     "execution_count": 12,
     "metadata": {},
     "output_type": "execute_result"
    }
   ],
   "source": [
    "mydict.values()      # Return Dictionary values using values() .method \n",
    "mydict"
   ]
  },
  {
   "cell_type": "code",
   "execution_count": 14,
   "id": "3d87ae07-a725-446e-bc04-1ef7d73248fb",
   "metadata": {},
   "outputs": [
    {
     "ename": "NameError",
     "evalue": "name 'mydict_items' is not defined",
     "output_type": "error",
     "traceback": [
      "\u001b[1;31m---------------------------------------------------------------------------\u001b[0m",
      "\u001b[1;31mNameError\u001b[0m                                 Traceback (most recent call last)",
      "Cell \u001b[1;32mIn[14], line 1\u001b[0m\n\u001b[1;32m----> 1\u001b[0m mydict_items()\n",
      "\u001b[1;31mNameError\u001b[0m: name 'mydict_items' is not defined"
     ]
    }
   ],
   "source": [
    "mydict_items() # Access each key-value pair within a dic"
   ]
  },
  {
   "cell_type": "code",
   "execution_count": 15,
   "id": "e4f528c2-6125-4788-a396-985700dbd9dc",
   "metadata": {},
   "outputs": [
    {
     "data": {
      "text/plain": [
       "{1: 'one', 2: 'two', 'A': ['asif', 'john', 'Maria']}"
      ]
     },
     "execution_count": 15,
     "metadata": {},
     "output_type": "execute_result"
    }
   ],
   "source": [
    "\n",
    "mydict = {1:'one' , 2:'two' , 'A':['asif' , 'john' , 'Maria']} # dictionary with \n",
    "mydict "
   ]
  },
  {
   "cell_type": "code",
   "execution_count": 16,
   "id": "78a417dc-d8f8-412d-9335-b38d570b5dce",
   "metadata": {},
   "outputs": [
    {
     "data": {
      "text/plain": [
       "{1: 'one',\n",
       " 2: 'two',\n",
       " 'A': ['asif', 'john', 'Maria'],\n",
       " 'B': ('Bat', 'cat', 'hat')}"
      ]
     },
     "execution_count": 16,
     "metadata": {},
     "output_type": "execute_result"
    }
   ],
   "source": [
    "\n",
    "mydict = {1:'one' , 2:'two' , 'A':['asif' , 'john' , 'Maria'], 'B':('Bat' , 'cat' , 'hat')}\n",
    "mydict "
   ]
  },
  {
   "cell_type": "code",
   "execution_count": 1,
   "id": "ee9073ea-f559-42ea-85c6-d3d1439c63b8",
   "metadata": {},
   "outputs": [
    {
     "data": {
      "text/plain": [
       "{'a': None, 'c': None, 'd': None, 'b': None}"
      ]
     },
     "execution_count": 1,
     "metadata": {},
     "output_type": "execute_result"
    }
   ],
   "source": [
    "keys = {'a' , 'b' , 'c' , 'd'} \n",
    "mydict3 = dict.fromkeys(keys) # Create a dictionary from a sequence of keys \n",
    "mydict3 "
   ]
  },
  {
   "cell_type": "code",
   "execution_count": 2,
   "id": "a2c8354a-7a29-47ed-93a8-b28666cc1c82",
   "metadata": {},
   "outputs": [
    {
     "data": {
      "text/plain": [
       "{'a': [10, 20, 30], 'c': [10, 20, 30], 'd': [10, 20, 30], 'b': [10, 20, 30]}"
      ]
     },
     "execution_count": 2,
     "metadata": {},
     "output_type": "execute_result"
    }
   ],
   "source": [
    "keys = {'a' , 'b' , 'c' , 'd'} \n",
    "value = [10,20,30] \n",
    "mydict3 = dict.fromkeys(keys , value) # Create a dictionary from a sequence of \n",
    "mydict3 "
   ]
  },
  {
   "cell_type": "code",
   "execution_count": 3,
   "id": "1dc9211d-23e2-4dad-8f84-dcba3b6440d2",
   "metadata": {},
   "outputs": [
    {
     "data": {
      "text/plain": [
       "{'a': [10, 20, 30, 46],\n",
       " 'c': [10, 20, 30, 46],\n",
       " 'd': [10, 20, 30, 46],\n",
       " 'b': [10, 20, 30, 46]}"
      ]
     },
     "execution_count": 3,
     "metadata": {},
     "output_type": "execute_result"
    }
   ],
   "source": [
    "value.append(46)\n",
    "mydict3"
   ]
  },
  {
   "cell_type": "code",
   "execution_count": 4,
   "id": "88ab63a5-b93b-478e-b077-895b6f144ac0",
   "metadata": {},
   "outputs": [
    {
     "data": {
      "text/plain": [
       "{'a': [10, 20, 30, 46, 58],\n",
       " 'c': [10, 20, 30, 46, 58],\n",
       " 'd': [10, 20, 30, 46, 58],\n",
       " 'b': [10, 20, 30, 46, 58]}"
      ]
     },
     "execution_count": 4,
     "metadata": {},
     "output_type": "execute_result"
    }
   ],
   "source": [
    "value.append(58)\n",
    "mydict3"
   ]
  },
  {
   "cell_type": "markdown",
   "id": "550f3561-4bbe-40d2-ab04-686a20906018",
   "metadata": {},
   "source": [
    "# Accessing items\n"
   ]
  },
  {
   "cell_type": "code",
   "execution_count": 5,
   "id": "ffcb7d31-51bb-44cd-a7e0-69c8f7281fae",
   "metadata": {},
   "outputs": [
    {
     "data": {
      "text/plain": [
       "{1: 'Trupti', 2: 'Ashwini', 3: 'Triveni', 4: 'Shravani'}"
      ]
     },
     "execution_count": 5,
     "metadata": {},
     "output_type": "execute_result"
    }
   ],
   "source": [
    "mydict = {1:'Trupti' , 2:'Ashwini' , 3:'Triveni' , 4:'Shravani'}\n",
    "mydict "
   ]
  },
  {
   "cell_type": "code",
   "execution_count": 6,
   "id": "d30f1e40-f120-4d73-ab46-53cd5b67c58d",
   "metadata": {},
   "outputs": [
    {
     "data": {
      "text/plain": [
       "'Trupti'"
      ]
     },
     "execution_count": 6,
     "metadata": {},
     "output_type": "execute_result"
    }
   ],
   "source": [
    "mydict[1]                 # Access item using key"
   ]
  },
  {
   "cell_type": "code",
   "execution_count": 7,
   "id": "e589b5bb-b94f-46a1-8d75-af73c5978934",
   "metadata": {},
   "outputs": [
    {
     "data": {
      "text/plain": [
       "'Trupti'"
      ]
     },
     "execution_count": 7,
     "metadata": {},
     "output_type": "execute_result"
    }
   ],
   "source": [
    "mydict.get(1)                #Access item using get() method "
   ]
  },
  {
   "cell_type": "code",
   "execution_count": 8,
   "id": "10b0b6b6-0190-496f-a00e-f0b04f8b582f",
   "metadata": {},
   "outputs": [
    {
     "data": {
      "text/plain": [
       "{'Name': 'Trupti', 'ID': 225654, 'DOB': 2003, 'studying': 'Data Science'}"
      ]
     },
     "execution_count": 8,
     "metadata": {},
     "output_type": "execute_result"
    }
   ],
   "source": [
    "mydict1 = {'Name':'Trupti' , 'ID' : 225654 , 'DOB': 2003 , 'studying':'Data Science'}\n",
    "mydict1"
   ]
  },
  {
   "cell_type": "code",
   "execution_count": 9,
   "id": "9d1c042a-de49-4021-83c1-ed096ef8d003",
   "metadata": {},
   "outputs": [
    {
     "data": {
      "text/plain": [
       "'Trupti'"
      ]
     },
     "execution_count": 9,
     "metadata": {},
     "output_type": "execute_result"
    }
   ],
   "source": [
    "mydict1['Name']               #access item using key"
   ]
  },
  {
   "cell_type": "code",
   "execution_count": 10,
   "id": "6e25cf6b-825e-439f-953c-e6e274244474",
   "metadata": {},
   "outputs": [
    {
     "data": {
      "text/plain": [
       "'Data Science'"
      ]
     },
     "execution_count": 10,
     "metadata": {},
     "output_type": "execute_result"
    }
   ],
   "source": [
    "mydict1.get('studying')     # Access item using get() method    "
   ]
  },
  {
   "cell_type": "markdown",
   "id": "ca44c37b-8135-4fda-984f-b5390d70127a",
   "metadata": {},
   "source": [
    "# Add , Remove & change items "
   ]
  },
  {
   "cell_type": "code",
   "execution_count": 12,
   "id": "2c31e756-337f-41b3-8647-30d29497acdd",
   "metadata": {},
   "outputs": [
    {
     "data": {
      "text/plain": [
       "{'Name': 'Trupti', 'ID': 77, 'DOB': 2003, 'Address': 'Sangareddy'}"
      ]
     },
     "execution_count": 12,
     "metadata": {},
     "output_type": "execute_result"
    }
   ],
   "source": [
    "\n",
    "mydict1 = {'Name':'Trupti' , 'ID': 77 , 'DOB': 2003 , 'Address' : 'Sangareddy'} \n",
    "mydict1 "
   ]
  },
  {
   "cell_type": "code",
   "execution_count": 13,
   "id": "80bd6216-d8da-41e0-8f71-74f65fa0b6c5",
   "metadata": {},
   "outputs": [
    {
     "data": {
      "text/plain": [
       "{'Name': 'Trupti', 'ID': 77, 'DOB': 2002, 'Address': 'Hyderabad'}"
      ]
     },
     "execution_count": 13,
     "metadata": {},
     "output_type": "execute_result"
    }
   ],
   "source": [
    "\n",
    "mydict1['DOB'] = 2002                       # we can Change Dictionary Items \n",
    "mydict1['Address'] = 'Hyderabad' \n",
    "mydict1 "
   ]
  },
  {
   "cell_type": "code",
   "execution_count": 14,
   "id": "1a9da08f-6556-45d5-8ae2-88a57266ed9e",
   "metadata": {},
   "outputs": [
    {
     "data": {
      "text/plain": [
       "{'Name': 'Trupti', 'ID': 77, 'DOB': 2004, 'Address': 'Hyderabad'}"
      ]
     },
     "execution_count": 14,
     "metadata": {},
     "output_type": "execute_result"
    }
   ],
   "source": [
    "\n",
    "dict1 = {'DOB':2004} \n",
    "mydict1.update(dict1) \n",
    "mydict1 "
   ]
  },
  {
   "cell_type": "code",
   "execution_count": 15,
   "id": "ecb9e086-5610-4b6f-91ba-cb3a0a57da4a",
   "metadata": {},
   "outputs": [
    {
     "data": {
      "text/plain": [
       "{'Name': 'Trupti',\n",
       " 'ID': 77,\n",
       " 'DOB': 2004,\n",
       " 'Address': 'Hyderabad',\n",
       " 'studying': 'data science'}"
      ]
     },
     "execution_count": 15,
     "metadata": {},
     "output_type": "execute_result"
    }
   ],
   "source": [
    "mydict1['studying'] = 'data science'          # adding items in the dictionary \n",
    "mydict1"
   ]
  },
  {
   "cell_type": "code",
   "execution_count": 16,
   "id": "f158a451-0544-4ee3-a5d1-207c55e8d00d",
   "metadata": {},
   "outputs": [
    {
     "data": {
      "text/plain": [
       "{'Name': 'Trupti', 'ID': 77, 'DOB': 2004, 'Address': 'Hyderabad'}"
      ]
     },
     "execution_count": 16,
     "metadata": {},
     "output_type": "execute_result"
    }
   ],
   "source": [
    "mydict1.pop('studying')       # removeing items in the dict using pop method \n",
    "mydict1"
   ]
  },
  {
   "cell_type": "code",
   "execution_count": 17,
   "id": "1d1314c7-8422-4d66-8337-464c028c9ef2",
   "metadata": {},
   "outputs": [
    {
     "data": {
      "text/plain": [
       "('Address', 'Hyderabad')"
      ]
     },
     "execution_count": 17,
     "metadata": {},
     "output_type": "execute_result"
    }
   ],
   "source": [
    "mydict1.popitem()               # rendom item is removed "
   ]
  },
  {
   "cell_type": "code",
   "execution_count": 18,
   "id": "e8ef8e81-bbf7-4657-9e1a-31823c3351be",
   "metadata": {},
   "outputs": [
    {
     "data": {
      "text/plain": [
       "{'Name': 'Trupti', 'ID': 77, 'DOB': 2004}"
      ]
     },
     "execution_count": 18,
     "metadata": {},
     "output_type": "execute_result"
    }
   ],
   "source": [
    "mydict1                # remaining items in dict "
   ]
  },
  {
   "cell_type": "code",
   "execution_count": 20,
   "id": "38ed3e1c-47e8-4aad-8d8a-c153fc2cc090",
   "metadata": {},
   "outputs": [
    {
     "data": {
      "text/plain": [
       "{'Name': 'Trupti', 'DOB': 2004}"
      ]
     },
     "execution_count": 20,
     "metadata": {},
     "output_type": "execute_result"
    }
   ],
   "source": [
    "del[mydict1['ID']]          # removing item using del method \n",
    "mydict1"
   ]
  },
  {
   "cell_type": "code",
   "execution_count": 21,
   "id": "a626e2af-6b60-4b2b-b3e0-6684eebdb942",
   "metadata": {},
   "outputs": [
    {
     "data": {
      "text/plain": [
       "{}"
      ]
     },
     "execution_count": 21,
     "metadata": {},
     "output_type": "execute_result"
    }
   ],
   "source": [
    "\n",
    "mydict1.clear()                     # Delete all items of the dictionary using clear method \n",
    "mydict1 "
   ]
  },
  {
   "cell_type": "code",
   "execution_count": 22,
   "id": "cc9954cc-c3d5-48e7-94fc-8398b7bf820a",
   "metadata": {},
   "outputs": [
    {
     "ename": "NameError",
     "evalue": "name 'mydict1' is not defined",
     "output_type": "error",
     "traceback": [
      "\u001b[1;31m---------------------------------------------------------------------------\u001b[0m",
      "\u001b[1;31mNameError\u001b[0m                                 Traceback (most recent call last)",
      "Cell \u001b[1;32mIn[22], line 2\u001b[0m\n\u001b[0;32m      1\u001b[0m \u001b[38;5;28;01mdel\u001b[39;00m mydict1                         \u001b[38;5;66;03m# Delete the dictionary object \u001b[39;00m\n\u001b[1;32m----> 2\u001b[0m mydict1\n",
      "\u001b[1;31mNameError\u001b[0m: name 'mydict1' is not defined"
     ]
    }
   ],
   "source": [
    "\n",
    "del mydict1                         # Delete the dictionary object \n",
    "mydict1 "
   ]
  },
  {
   "cell_type": "markdown",
   "id": "e9e652f5-6ec1-4eae-8a4b-9cb53863ad20",
   "metadata": {},
   "source": [
    "# copy dictionary "
   ]
  },
  {
   "cell_type": "code",
   "execution_count": 23,
   "id": "7283b5b6-ba1b-4a50-b227-4ffb96788c44",
   "metadata": {},
   "outputs": [
    {
     "data": {
      "text/plain": [
       "{'Name': 'Trupti', 'ID': 77, 'DOB': 2003, 'Address': 'Sangareddy'}"
      ]
     },
     "execution_count": 23,
     "metadata": {},
     "output_type": "execute_result"
    }
   ],
   "source": [
    "mydict1 = {'Name':'Trupti' , 'ID': 77 , 'DOB': 2003 , 'Address' : 'Sangareddy'} \n",
    "mydict1 "
   ]
  },
  {
   "cell_type": "code",
   "execution_count": 25,
   "id": "23154548-5b3b-4dca-a0d8-60be34c5fdef",
   "metadata": {},
   "outputs": [],
   "source": [
    "mydict1 = mydict                  # create a new \"mydict1\""
   ]
  },
  {
   "cell_type": "code",
   "execution_count": 26,
   "id": "e9f13ad7-7720-4f86-a8fb-813efbacf6aa",
   "metadata": {},
   "outputs": [
    {
     "data": {
      "text/plain": [
       "(2111847363712, 2111847363712)"
      ]
     },
     "execution_count": 26,
     "metadata": {},
     "output_type": "execute_result"
    }
   ],
   "source": [
    "id(mydict) , id(mydict1)         # The address of both mydict & mydict1 will be the same"
   ]
  },
  {
   "cell_type": "code",
   "execution_count": 27,
   "id": "c7887950-5a0f-4653-bc57-17f93003436a",
   "metadata": {},
   "outputs": [],
   "source": [
    "mydict2 = mydict.copy()          # Create a copy of the dictionary "
   ]
  },
  {
   "cell_type": "code",
   "execution_count": 28,
   "id": "6628b891-e33a-4864-bbb7-87a5523ffae0",
   "metadata": {},
   "outputs": [
    {
     "data": {
      "text/plain": [
       "2111861602496"
      ]
     },
     "execution_count": 28,
     "metadata": {},
     "output_type": "execute_result"
    }
   ],
   "source": [
    "id(mydict2)           # The address of mydict2 will be different from mydict            "
   ]
  },
  {
   "cell_type": "code",
   "execution_count": 29,
   "id": "79bd8822-cc77-41a8-9329-bcd7bb6f7c22",
   "metadata": {},
   "outputs": [],
   "source": [
    "mydict['Address'] = 'Hyderabad'"
   ]
  },
  {
   "cell_type": "code",
   "execution_count": 30,
   "id": "df789644-0499-4a39-b166-9a0e927fcfd3",
   "metadata": {},
   "outputs": [
    {
     "data": {
      "text/plain": [
       "{1: 'Trupti',\n",
       " 2: 'Ashwini',\n",
       " 3: 'Triveni',\n",
       " 4: 'Shravani',\n",
       " 'Address': 'Hyderabad'}"
      ]
     },
     "execution_count": 30,
     "metadata": {},
     "output_type": "execute_result"
    }
   ],
   "source": [
    "mydict"
   ]
  },
  {
   "cell_type": "code",
   "execution_count": 31,
   "id": "59c8fdbf-7da7-4622-880f-585ce7532c27",
   "metadata": {},
   "outputs": [
    {
     "data": {
      "text/plain": [
       "{1: 'Trupti',\n",
       " 2: 'Ashwini',\n",
       " 3: 'Triveni',\n",
       " 4: 'Shravani',\n",
       " 'Address': 'Hyderabad'}"
      ]
     },
     "execution_count": 31,
     "metadata": {},
     "output_type": "execute_result"
    }
   ],
   "source": [
    "mydict1          # same as mydict "
   ]
  },
  {
   "cell_type": "code",
   "execution_count": 32,
   "id": "7018d9ca-ff97-4d5f-bd12-67d0107b9e92",
   "metadata": {},
   "outputs": [
    {
     "data": {
      "text/plain": [
       "{1: 'Trupti', 2: 'Ashwini', 3: 'Triveni', 4: 'Shravani'}"
      ]
     },
     "execution_count": 32,
     "metadata": {},
     "output_type": "execute_result"
    }
   ],
   "source": [
    "mydict2"
   ]
  },
  {
   "cell_type": "markdown",
   "id": "f9e19ef2-9eb4-4fe2-a65a-95061d0597ba",
   "metadata": {},
   "source": [
    "# Loop through a Dictionary "
   ]
  },
  {
   "cell_type": "code",
   "execution_count": 34,
   "id": "2fb1f20e-b45f-431f-b1fc-2d5761d02991",
   "metadata": {},
   "outputs": [
    {
     "data": {
      "text/plain": [
       "{'Name': 'Trupti',\n",
       " 'ID': 77,\n",
       " 'DOB': 2003,\n",
       " 'Address': 'Sangareddy',\n",
       " 'studying': 'Data Science'}"
      ]
     },
     "execution_count": 34,
     "metadata": {},
     "output_type": "execute_result"
    }
   ],
   "source": [
    "\n",
    "mydict1 = {'Name':'Trupti' , 'ID': 77 , 'DOB': 2003 , 'Address' : 'Sangareddy' , 'studying':'Data Science'} \n",
    "mydict1 "
   ]
  },
  {
   "cell_type": "code",
   "execution_count": 36,
   "id": "b7eb09a5-04ec-4e48-af2d-43ae5147a9cb",
   "metadata": {},
   "outputs": [
    {
     "name": "stdout",
     "output_type": "stream",
     "text": [
      "Name : Trupti\n",
      "ID : 77\n",
      "DOB : 2003\n",
      "Address : Sangareddy\n",
      "studying : Data Science\n"
     ]
    }
   ],
   "source": [
    "for i in mydict1:\n",
    "    print(i , ':' , mydict1[i])        # key value pairs"
   ]
  },
  {
   "cell_type": "code",
   "execution_count": 37,
   "id": "26e77d03-3b07-461c-9183-9f1090d0868e",
   "metadata": {},
   "outputs": [
    {
     "name": "stdout",
     "output_type": "stream",
     "text": [
      "Trupti\n",
      "77\n",
      "2003\n",
      "Sangareddy\n",
      "Data Science\n"
     ]
    }
   ],
   "source": [
    "for i in mydict1: \n",
    "    print(mydict1[i]) # Dictionary items "
   ]
  },
  {
   "cell_type": "markdown",
   "id": "70b449ab-a630-4922-a392-494bb78bffb5",
   "metadata": {},
   "source": [
    "# Dictionary Membership "
   ]
  },
  {
   "cell_type": "code",
   "execution_count": 38,
   "id": "f7fe8f2e-8215-4cd9-959b-8e9b4c8898ce",
   "metadata": {},
   "outputs": [
    {
     "data": {
      "text/plain": [
       "{'Name': 'Trupti',\n",
       " 'ID': 77,\n",
       " 'DOB': 2003,\n",
       " 'Address': 'Sangareddy',\n",
       " 'studying': 'Data Science'}"
      ]
     },
     "execution_count": 38,
     "metadata": {},
     "output_type": "execute_result"
    }
   ],
   "source": [
    "mydict1 = {'Name':'Trupti' , 'ID': 77 , 'DOB': 2003 , 'Address' : 'Sangareddy' , 'studying':'Data Science'} \n",
    "mydict1 "
   ]
  },
  {
   "cell_type": "code",
   "execution_count": 39,
   "id": "384aff09-239d-45d0-a179-9894e839f458",
   "metadata": {},
   "outputs": [
    {
     "data": {
      "text/plain": [
       "True"
      ]
     },
     "execution_count": 39,
     "metadata": {},
     "output_type": "execute_result"
    }
   ],
   "source": [
    "'Name' in mydict1  # checking if a key is in dict"
   ]
  },
  {
   "cell_type": "code",
   "execution_count": 40,
   "id": "4c3f0016-3622-4c1d-a92d-6d49c7098a31",
   "metadata": {},
   "outputs": [
    {
     "data": {
      "text/plain": [
       "False"
      ]
     },
     "execution_count": 40,
     "metadata": {},
     "output_type": "execute_result"
    }
   ],
   "source": [
    "'Trupti' in mydict1          # Membership test can be only done for keys."
   ]
  },
  {
   "cell_type": "code",
   "execution_count": 41,
   "id": "12853312-7209-4f39-b4dd-0e128678618b",
   "metadata": {},
   "outputs": [
    {
     "data": {
      "text/plain": [
       "True"
      ]
     },
     "execution_count": 41,
     "metadata": {},
     "output_type": "execute_result"
    }
   ],
   "source": [
    "'ID' in mydict1 "
   ]
  },
  {
   "cell_type": "code",
   "execution_count": 42,
   "id": "fa9dfcf9-8a94-4531-b7a0-55dafb50b3fc",
   "metadata": {},
   "outputs": [
    {
     "data": {
      "text/plain": [
       "True"
      ]
     },
     "execution_count": 42,
     "metadata": {},
     "output_type": "execute_result"
    }
   ],
   "source": [
    "\n",
    "'Address' in mydict1 "
   ]
  },
  {
   "cell_type": "markdown",
   "id": "8926e743-925a-41d9-ad28-e069898479a9",
   "metadata": {},
   "source": [
    "# All / Any "
   ]
  },
  {
   "cell_type": "code",
   "execution_count": null,
   "id": "44c42c53-4eb9-4563-af06-a3e823d9c39d",
   "metadata": {},
   "outputs": [],
   "source": []
  },
  {
   "cell_type": "code",
   "execution_count": null,
   "id": "ac225ae9-67d2-4a99-a318-430a5dd20b02",
   "metadata": {},
   "outputs": [],
   "source": []
  },
  {
   "cell_type": "code",
   "execution_count": null,
   "id": "74e67aad-fc2d-4a8c-9487-46279fbef38d",
   "metadata": {},
   "outputs": [],
   "source": []
  },
  {
   "cell_type": "code",
   "execution_count": null,
   "id": "f6852523-f85c-4661-a1f5-a49f91529940",
   "metadata": {},
   "outputs": [],
   "source": []
  },
  {
   "cell_type": "code",
   "execution_count": null,
   "id": "7b021981-be5b-49f0-b430-a4e2e6e81f69",
   "metadata": {},
   "outputs": [],
   "source": []
  },
  {
   "cell_type": "code",
   "execution_count": null,
   "id": "b6caf559-96c5-4534-a1a5-623a853b0e99",
   "metadata": {},
   "outputs": [],
   "source": []
  },
  {
   "cell_type": "code",
   "execution_count": null,
   "id": "afd0f8fb-965a-476c-81f9-816d379577f9",
   "metadata": {},
   "outputs": [],
   "source": []
  },
  {
   "cell_type": "code",
   "execution_count": null,
   "id": "c93cb45c-d1ee-4d3b-933d-31261e8e3a71",
   "metadata": {},
   "outputs": [],
   "source": []
  },
  {
   "cell_type": "code",
   "execution_count": null,
   "id": "31acb28a-b6c5-43e2-ae4b-6d57534e3a68",
   "metadata": {},
   "outputs": [],
   "source": []
  },
  {
   "cell_type": "code",
   "execution_count": null,
   "id": "2cb36a20-eb92-463a-9b76-687e02d73ec8",
   "metadata": {},
   "outputs": [],
   "source": []
  },
  {
   "cell_type": "code",
   "execution_count": null,
   "id": "352621fa-9de2-43a4-90d2-5c8bd15529b3",
   "metadata": {},
   "outputs": [],
   "source": []
  },
  {
   "cell_type": "code",
   "execution_count": null,
   "id": "9b82a875-eb2c-4ca8-8dc3-1d85140705ec",
   "metadata": {},
   "outputs": [],
   "source": []
  },
  {
   "cell_type": "code",
   "execution_count": null,
   "id": "27f65e62-9fb9-4e67-9b29-b3e968b67255",
   "metadata": {},
   "outputs": [],
   "source": []
  },
  {
   "cell_type": "code",
   "execution_count": null,
   "id": "5a642a7e-8853-4861-a494-3b774e628387",
   "metadata": {},
   "outputs": [],
   "source": []
  },
  {
   "cell_type": "code",
   "execution_count": null,
   "id": "1a0c5234-fc96-43e7-8300-338c924ca312",
   "metadata": {},
   "outputs": [],
   "source": []
  },
  {
   "cell_type": "code",
   "execution_count": null,
   "id": "909cdcc8-7204-4f54-8780-590d7b50ece2",
   "metadata": {},
   "outputs": [],
   "source": []
  },
  {
   "cell_type": "code",
   "execution_count": null,
   "id": "da667a52-ae25-477f-ac92-878f2899c9d3",
   "metadata": {},
   "outputs": [],
   "source": []
  },
  {
   "cell_type": "code",
   "execution_count": null,
   "id": "c169ed7e-a583-4c64-899d-7d84ab9ea9d9",
   "metadata": {},
   "outputs": [],
   "source": []
  },
  {
   "cell_type": "code",
   "execution_count": null,
   "id": "ef54fd68-d48f-4e4c-9b6c-c2decddae3b8",
   "metadata": {},
   "outputs": [],
   "source": []
  },
  {
   "cell_type": "code",
   "execution_count": null,
   "id": "2a19dd09-f4db-4b63-83e2-8125a5ea9c28",
   "metadata": {},
   "outputs": [],
   "source": []
  },
  {
   "cell_type": "code",
   "execution_count": null,
   "id": "cbebd9fa-7a0a-436f-9e5a-a5b711c29f25",
   "metadata": {},
   "outputs": [],
   "source": []
  },
  {
   "cell_type": "code",
   "execution_count": null,
   "id": "c6e2fdad-1a6e-41f5-b38d-cf0bdd40f94f",
   "metadata": {},
   "outputs": [],
   "source": []
  },
  {
   "cell_type": "code",
   "execution_count": null,
   "id": "d6c6b55d-6a29-42ea-afda-fc6a39dfed19",
   "metadata": {},
   "outputs": [],
   "source": []
  },
  {
   "cell_type": "code",
   "execution_count": null,
   "id": "1ecbc601-2693-4b98-99bf-d5dfcd2f4ed2",
   "metadata": {},
   "outputs": [],
   "source": []
  },
  {
   "cell_type": "code",
   "execution_count": null,
   "id": "846c35d9-5ecc-43ae-9cca-41aaffcc88d1",
   "metadata": {},
   "outputs": [],
   "source": []
  },
  {
   "cell_type": "code",
   "execution_count": null,
   "id": "45926e48-c270-4f3a-90b5-31b54b9a6380",
   "metadata": {},
   "outputs": [],
   "source": []
  },
  {
   "cell_type": "code",
   "execution_count": null,
   "id": "d7d63626-364a-4ddf-830c-fd9cb95283d0",
   "metadata": {},
   "outputs": [],
   "source": []
  },
  {
   "cell_type": "code",
   "execution_count": null,
   "id": "3800f847-eba6-427d-a1ac-1e1a34ec18f4",
   "metadata": {},
   "outputs": [],
   "source": []
  },
  {
   "cell_type": "code",
   "execution_count": null,
   "id": "172bf8d4-7a62-4abf-8926-c177ce1e264b",
   "metadata": {},
   "outputs": [],
   "source": []
  },
  {
   "cell_type": "code",
   "execution_count": null,
   "id": "71276428-b2fb-4cfc-9651-6287af58b74c",
   "metadata": {},
   "outputs": [],
   "source": []
  },
  {
   "cell_type": "code",
   "execution_count": null,
   "id": "3d93b833-5cc0-4d58-91c0-5ca12a2fa13c",
   "metadata": {},
   "outputs": [],
   "source": []
  },
  {
   "cell_type": "code",
   "execution_count": null,
   "id": "435271c5-f85d-4ae2-8175-9e1f928c4258",
   "metadata": {},
   "outputs": [],
   "source": []
  },
  {
   "cell_type": "code",
   "execution_count": null,
   "id": "8ebd0383-e26a-4353-ad68-d76435ce05a8",
   "metadata": {},
   "outputs": [],
   "source": []
  },
  {
   "cell_type": "code",
   "execution_count": null,
   "id": "ab983df0-aad5-4e9c-ab71-438d1edd2673",
   "metadata": {},
   "outputs": [],
   "source": []
  },
  {
   "cell_type": "code",
   "execution_count": null,
   "id": "f16de558-47c3-4906-9a04-06f6b151779b",
   "metadata": {},
   "outputs": [],
   "source": []
  },
  {
   "cell_type": "code",
   "execution_count": null,
   "id": "acdac8ff-4505-4939-a88f-93bba3278a91",
   "metadata": {},
   "outputs": [],
   "source": []
  },
  {
   "cell_type": "code",
   "execution_count": null,
   "id": "643ea4a8-1c43-4696-a1b3-ce4d43fc045b",
   "metadata": {},
   "outputs": [],
   "source": []
  },
  {
   "cell_type": "code",
   "execution_count": null,
   "id": "9319d676-3db8-4c7a-aad8-5dfd27e966fc",
   "metadata": {},
   "outputs": [],
   "source": []
  },
  {
   "cell_type": "code",
   "execution_count": null,
   "id": "be5b1a36-edda-4f0b-993e-2ffb0d004e79",
   "metadata": {},
   "outputs": [],
   "source": []
  },
  {
   "cell_type": "code",
   "execution_count": null,
   "id": "f0976a7e-eb5c-4585-8a23-a6009ae1b2ab",
   "metadata": {},
   "outputs": [],
   "source": []
  },
  {
   "cell_type": "code",
   "execution_count": null,
   "id": "a4ed00f5-88c4-4b0f-8c4c-c8f0ca584195",
   "metadata": {},
   "outputs": [],
   "source": []
  },
  {
   "cell_type": "code",
   "execution_count": null,
   "id": "17114d2f-71f5-4d79-99f4-4b25e18a8104",
   "metadata": {},
   "outputs": [],
   "source": []
  }
 ],
 "metadata": {
  "kernelspec": {
   "display_name": "Python 3 (ipykernel)",
   "language": "python",
   "name": "python3"
  },
  "language_info": {
   "codemirror_mode": {
    "name": "ipython",
    "version": 3
   },
   "file_extension": ".py",
   "mimetype": "text/x-python",
   "name": "python",
   "nbconvert_exporter": "python",
   "pygments_lexer": "ipython3",
   "version": "3.12.7"
  }
 },
 "nbformat": 4,
 "nbformat_minor": 5
}

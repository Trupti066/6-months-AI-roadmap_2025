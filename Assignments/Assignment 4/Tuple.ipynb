{
 "cells": [
  {
   "cell_type": "markdown",
   "id": "e97d1708-ad54-4a76-8dc6-488cd03f3a1e",
   "metadata": {},
   "source": [
    "# Tuple "
   ]
  },
  {
   "cell_type": "code",
   "execution_count": 12,
   "id": "07a0f79b-e9f9-41f8-bf2d-6475ba0ec68e",
   "metadata": {},
   "outputs": [],
   "source": [
    "t1 = ()     #tuple has empty  "
   ]
  },
  {
   "cell_type": "code",
   "execution_count": 13,
   "id": "16c7d25a-b881-41e2-a219-45d9f1c9b060",
   "metadata": {},
   "outputs": [
    {
     "data": {
      "text/plain": [
       "(20, 40, 60)"
      ]
     },
     "execution_count": 13,
     "metadata": {},
     "output_type": "execute_result"
    }
   ],
   "source": [
    "t2 = (20,40,60)   # tuple of integers num's\n",
    "t2"
   ]
  },
  {
   "cell_type": "code",
   "execution_count": 14,
   "id": "ec6500c0-2676-4061-97f7-8c3a46c9e236",
   "metadata": {},
   "outputs": [
    {
     "data": {
      "text/plain": [
       "(2.22, 20.34, 45.88)"
      ]
     },
     "execution_count": 14,
     "metadata": {},
     "output_type": "execute_result"
    }
   ],
   "source": [
    "t3 = (2.22,20.34,45.88)     # tuple of float numbers \n",
    "t3"
   ]
  },
  {
   "cell_type": "code",
   "execution_count": 15,
   "id": "060db726-a3bb-4407-8169-0b7fb57888e8",
   "metadata": {},
   "outputs": [
    {
     "data": {
      "text/plain": [
       "('Trupti', 'Ashwini', 'Shravani', 'Triveni')"
      ]
     },
     "execution_count": 15,
     "metadata": {},
     "output_type": "execute_result"
    }
   ],
   "source": [
    "t4 = ('Trupti','Ashwini','Shravani','Triveni')    # tuple of strings \n",
    "t4"
   ]
  },
  {
   "cell_type": "code",
   "execution_count": 16,
   "id": "541e8841-44b2-44df-ad25-b345ecd79ca5",
   "metadata": {},
   "outputs": [
    {
     "data": {
      "text/plain": [
       "('Trupti', 44, (50, 70), (230, 99))"
      ]
     },
     "execution_count": 16,
     "metadata": {},
     "output_type": "execute_result"
    }
   ],
   "source": [
    "t5 = ('Trupti',44,(50,70),(230,99))  # Nested tuples -  tuple inside the tuple is called as nested tuple \n",
    "t5"
   ]
  },
  {
   "cell_type": "code",
   "execution_count": 5,
   "id": "6e3e4ce2-c416-4792-b76e-041083b3aa2f",
   "metadata": {},
   "outputs": [
    {
     "data": {
      "text/plain": [
       "(60, 'Trupti', 60.44, (6+7j))"
      ]
     },
     "execution_count": 5,
     "metadata": {},
     "output_type": "execute_result"
    }
   ],
   "source": [
    "t6 = (60,'Trupti',60.44,6+7j)    # tuple of mixed data types \n",
    "t6"
   ]
  },
  {
   "cell_type": "code",
   "execution_count": 6,
   "id": "9c29ed3c-65a3-48a7-8a6b-c35169cb1cd5",
   "metadata": {},
   "outputs": [
    {
     "data": {
      "text/plain": [
       "('Trupti', (8+6j), [66, 90], 7.9, {'ashwini', 'trivani'}, (66, 9, 79))"
      ]
     },
     "execution_count": 6,
     "metadata": {},
     "output_type": "execute_result"
    }
   ],
   "source": [
    "t7 = ('Trupti',8+6j,[66,90],7.9,{'ashwini','trivani'},(66,9,79))\n",
    "t7                                        # length of list "
   ]
  },
  {
   "cell_type": "markdown",
   "id": "e849dae8-009b-4c75-ae5c-7c9293714db6",
   "metadata": {},
   "source": [
    "# Tuple Indexing "
   ]
  },
  {
   "cell_type": "code",
   "execution_count": 11,
   "id": "9f8cc6e3-0530-476a-9eb8-2a585075679b",
   "metadata": {},
   "outputs": [
    {
     "data": {
      "text/plain": [
       "60"
      ]
     },
     "execution_count": 11,
     "metadata": {},
     "output_type": "execute_result"
    }
   ],
   "source": [
    "t2[2]\n"
   ]
  },
  {
   "cell_type": "code",
   "execution_count": 14,
   "id": "5f8e0fd8-d756-4bc2-9186-0da5303680a1",
   "metadata": {},
   "outputs": [
    {
     "data": {
      "text/plain": [
       "'Triveni'"
      ]
     },
     "execution_count": 14,
     "metadata": {},
     "output_type": "execute_result"
    }
   ],
   "source": [
    "t4[3]"
   ]
  },
  {
   "cell_type": "code",
   "execution_count": 4,
   "id": "aa6131c9-c151-4387-bea3-819dac1bf313",
   "metadata": {},
   "outputs": [
    {
     "data": {
      "text/plain": [
       "(50, 70)"
      ]
     },
     "execution_count": 4,
     "metadata": {},
     "output_type": "execute_result"
    }
   ],
   "source": [
    "t5[2]"
   ]
  },
  {
   "cell_type": "code",
   "execution_count": 10,
   "id": "8bba3521-6b06-4fe2-b26f-376621a32e2a",
   "metadata": {},
   "outputs": [
    {
     "data": {
      "text/plain": [
       "{'ashwini', 'trivani'}"
      ]
     },
     "execution_count": 10,
     "metadata": {},
     "output_type": "execute_result"
    }
   ],
   "source": [
    "t7[4]"
   ]
  },
  {
   "cell_type": "code",
   "execution_count": 17,
   "id": "2e4fe173-0f70-45b8-bd20-82e9facadb39",
   "metadata": {},
   "outputs": [
    {
     "data": {
      "text/plain": [
       "40"
      ]
     },
     "execution_count": 17,
     "metadata": {},
     "output_type": "execute_result"
    }
   ],
   "source": [
    "t2[-2]"
   ]
  },
  {
   "cell_type": "code",
   "execution_count": 18,
   "id": "8fcc217e-8807-40af-837d-d07cea06f8db",
   "metadata": {},
   "outputs": [
    {
     "data": {
      "text/plain": [
       "7.9"
      ]
     },
     "execution_count": 18,
     "metadata": {},
     "output_type": "execute_result"
    }
   ],
   "source": [
    "t7[-3]"
   ]
  },
  {
   "cell_type": "code",
   "execution_count": 20,
   "id": "58cf4b0b-24ba-41ec-af75-2d987ac0d578",
   "metadata": {},
   "outputs": [
    {
     "data": {
      "text/plain": [
       "0"
      ]
     },
     "execution_count": 20,
     "metadata": {},
     "output_type": "execute_result"
    }
   ],
   "source": [
    "len(t1)"
   ]
  },
  {
   "cell_type": "code",
   "execution_count": 21,
   "id": "0dbe1e6d-ea1e-4462-a665-9842f90e21a8",
   "metadata": {},
   "outputs": [
    {
     "data": {
      "text/plain": [
       "3"
      ]
     },
     "execution_count": 21,
     "metadata": {},
     "output_type": "execute_result"
    }
   ],
   "source": [
    "len(t2)"
   ]
  },
  {
   "cell_type": "code",
   "execution_count": 22,
   "id": "5ae6f718-2250-4153-923e-4d79d40e8091",
   "metadata": {},
   "outputs": [
    {
     "data": {
      "text/plain": [
       "4"
      ]
     },
     "execution_count": 22,
     "metadata": {},
     "output_type": "execute_result"
    }
   ],
   "source": [
    "len(t4)"
   ]
  },
  {
   "cell_type": "code",
   "execution_count": 23,
   "id": "cdd5456f-80bc-4ad5-81d7-6b739c456027",
   "metadata": {},
   "outputs": [
    {
     "data": {
      "text/plain": [
       "6"
      ]
     },
     "execution_count": 23,
     "metadata": {},
     "output_type": "execute_result"
    }
   ],
   "source": [
    "len(t7)"
   ]
  },
  {
   "cell_type": "code",
   "execution_count": 24,
   "id": "b3cac643-1327-4282-90d1-cc3f40be78f3",
   "metadata": {},
   "outputs": [
    {
     "data": {
      "text/plain": [
       "1"
      ]
     },
     "execution_count": 24,
     "metadata": {},
     "output_type": "execute_result"
    }
   ],
   "source": [
    "t7.count('Trupti')"
   ]
  },
  {
   "cell_type": "code",
   "execution_count": 26,
   "id": "23fc750a-6572-46bc-9004-269a6f441e7e",
   "metadata": {},
   "outputs": [],
   "source": [
    "t8 = (22, 33, 50, 60)\n",
    "t9 = (10, 20, 30, 87)"
   ]
  },
  {
   "cell_type": "code",
   "execution_count": 27,
   "id": "e10968a3-cc7f-4409-9126-dd0b64a5d6f5",
   "metadata": {},
   "outputs": [
    {
     "data": {
      "text/plain": [
       "(22, 33, 50, 60, 22, 33, 50, 60, 22, 33, 50, 60)"
      ]
     },
     "execution_count": 27,
     "metadata": {},
     "output_type": "execute_result"
    }
   ],
   "source": [
    "t10 = t8 * 3\n",
    "t10"
   ]
  },
  {
   "cell_type": "code",
   "execution_count": 28,
   "id": "4cc16f15-536f-4357-9a9e-ae78284bac8c",
   "metadata": {},
   "outputs": [
    {
     "ename": "TypeError",
     "evalue": "can't multiply sequence by non-int of type 'tuple'",
     "output_type": "error",
     "traceback": [
      "\u001b[1;31m---------------------------------------------------------------------------\u001b[0m",
      "\u001b[1;31mTypeError\u001b[0m                                 Traceback (most recent call last)",
      "Cell \u001b[1;32mIn[28], line 1\u001b[0m\n\u001b[1;32m----> 1\u001b[0m t11 \u001b[38;5;241m=\u001b[39m t8 \u001b[38;5;241m*\u001b[39m t9 \n\u001b[0;32m      2\u001b[0m t11\n",
      "\u001b[1;31mTypeError\u001b[0m: can't multiply sequence by non-int of type 'tuple'"
     ]
    }
   ],
   "source": [
    "t11 = t8 * t9 \n",
    "t11"
   ]
  },
  {
   "cell_type": "markdown",
   "id": "b7ab25ef-5f17-4c62-9a70-c583c1564b5f",
   "metadata": {},
   "source": [
    "# Tuple Slicing "
   ]
  },
  {
   "cell_type": "code",
   "execution_count": 29,
   "id": "3b97a540-531a-4759-bcf5-aba39e5027ce",
   "metadata": {},
   "outputs": [],
   "source": [
    "mytuple = ('Trupti',8+6j,[66,90],7.9,{'ashwini','trivani'},(66,9,79))"
   ]
  },
  {
   "cell_type": "code",
   "execution_count": 30,
   "id": "0e980b5a-1a18-48ce-84fd-785827b68f88",
   "metadata": {},
   "outputs": [
    {
     "data": {
      "text/plain": [
       "([66, 90], 7.9)"
      ]
     },
     "execution_count": 30,
     "metadata": {},
     "output_type": "execute_result"
    }
   ],
   "source": [
    "mytuple[2:4]"
   ]
  },
  {
   "cell_type": "code",
   "execution_count": 31,
   "id": "d08bb6da-7e11-46b1-b82d-61ead36efc81",
   "metadata": {},
   "outputs": [
    {
     "data": {
      "text/plain": [
       "('Trupti', (8+6j), [66, 90])"
      ]
     },
     "execution_count": 31,
     "metadata": {},
     "output_type": "execute_result"
    }
   ],
   "source": [
    "mytuple[0:3]"
   ]
  },
  {
   "cell_type": "code",
   "execution_count": 32,
   "id": "48348dbe-a49c-4340-85ce-ac1092bcce58",
   "metadata": {},
   "outputs": [
    {
     "data": {
      "text/plain": [
       "('Trupti', (8+6j), [66, 90])"
      ]
     },
     "execution_count": 32,
     "metadata": {},
     "output_type": "execute_result"
    }
   ],
   "source": [
    "mytuple[:3]"
   ]
  },
  {
   "cell_type": "code",
   "execution_count": 33,
   "id": "7339dba1-a947-446e-a4c4-67535f26b40c",
   "metadata": {},
   "outputs": [
    {
     "data": {
      "text/plain": [
       "[66, 90]"
      ]
     },
     "execution_count": 33,
     "metadata": {},
     "output_type": "execute_result"
    }
   ],
   "source": [
    "mytuple[-4]"
   ]
  },
  {
   "cell_type": "code",
   "execution_count": 34,
   "id": "46acd4a7-2152-425c-8e23-f693cd178ad7",
   "metadata": {},
   "outputs": [
    {
     "data": {
      "text/plain": [
       "{'ashwini', 'trivani'}"
      ]
     },
     "execution_count": 34,
     "metadata": {},
     "output_type": "execute_result"
    }
   ],
   "source": [
    "mytuple[-2]"
   ]
  },
  {
   "cell_type": "code",
   "execution_count": 35,
   "id": "66551c14-5156-453c-a6d0-97d96ede8d96",
   "metadata": {},
   "outputs": [
    {
     "data": {
      "text/plain": [
       "('Trupti', (8+6j), [66, 90], 7.9, {'ashwini', 'trivani'}, (66, 9, 79))"
      ]
     },
     "execution_count": 35,
     "metadata": {},
     "output_type": "execute_result"
    }
   ],
   "source": [
    "mytuple[:]             # Return whole tuple"
   ]
  },
  {
   "cell_type": "markdown",
   "id": "ecb3cfa1-fe92-4fe3-b012-bd281560cf65",
   "metadata": {},
   "source": [
    "# Remove & Change Items"
   ]
  },
  {
   "cell_type": "code",
   "execution_count": 36,
   "id": "9e6cbf5b-1b1e-4660-9595-d8afb4429bda",
   "metadata": {},
   "outputs": [
    {
     "data": {
      "text/plain": [
       "('Trupti', (8+6j), [66, 90], 7.9, {'ashwini', 'trivani'}, (66, 9, 79))"
      ]
     },
     "execution_count": 36,
     "metadata": {},
     "output_type": "execute_result"
    }
   ],
   "source": [
    "mytuple"
   ]
  },
  {
   "cell_type": "code",
   "execution_count": 37,
   "id": "96753684-1435-419c-aa06-a0b503f61ae2",
   "metadata": {},
   "outputs": [
    {
     "ename": "TypeError",
     "evalue": "'tuple' object doesn't support item deletion",
     "output_type": "error",
     "traceback": [
      "\u001b[1;31m---------------------------------------------------------------------------\u001b[0m",
      "\u001b[1;31mTypeError\u001b[0m                                 Traceback (most recent call last)",
      "Cell \u001b[1;32mIn[37], line 1\u001b[0m\n\u001b[1;32m----> 1\u001b[0m \u001b[38;5;28;01mdel\u001b[39;00m mytuple[\u001b[38;5;241m1\u001b[39m]\n",
      "\u001b[1;31mTypeError\u001b[0m: 'tuple' object doesn't support item deletion"
     ]
    }
   ],
   "source": [
    "del mytuple[1]         # Tuple are immutable - which means we can't DELETE tuple items "
   ]
  },
  {
   "cell_type": "code",
   "execution_count": 39,
   "id": "f7e03209-8dc1-46ed-8cae-9c06b734ba6a",
   "metadata": {},
   "outputs": [
    {
     "ename": "TypeError",
     "evalue": "'tuple' object doesn't support item deletion",
     "output_type": "error",
     "traceback": [
      "\u001b[1;31m---------------------------------------------------------------------------\u001b[0m",
      "\u001b[1;31mTypeError\u001b[0m                                 Traceback (most recent call last)",
      "Cell \u001b[1;32mIn[39], line 1\u001b[0m\n\u001b[1;32m----> 1\u001b[0m \u001b[38;5;28;01mdel\u001b[39;00m mytuple[\u001b[38;5;241m4\u001b[39m]\n",
      "\u001b[1;31mTypeError\u001b[0m: 'tuple' object doesn't support item deletion"
     ]
    }
   ],
   "source": [
    "del mytuple[4]"
   ]
  },
  {
   "cell_type": "code",
   "execution_count": 40,
   "id": "37cf27ed-54fc-47d7-927b-833df5e3720e",
   "metadata": {},
   "outputs": [
    {
     "ename": "TypeError",
     "evalue": "'tuple' object does not support item assignment",
     "output_type": "error",
     "traceback": [
      "\u001b[1;31m---------------------------------------------------------------------------\u001b[0m",
      "\u001b[1;31mTypeError\u001b[0m                                 Traceback (most recent call last)",
      "Cell \u001b[1;32mIn[40], line 1\u001b[0m\n\u001b[1;32m----> 1\u001b[0m mytuple[\u001b[38;5;241m2\u001b[39m] \u001b[38;5;241m=\u001b[39m \u001b[38;5;241m235\u001b[39m\n",
      "\u001b[1;31mTypeError\u001b[0m: 'tuple' object does not support item assignment"
     ]
    }
   ],
   "source": [
    "mytuple[2] = 235          #Tuples are immutable - and we can't change the tuple item"
   ]
  },
  {
   "cell_type": "code",
   "execution_count": 43,
   "id": "e943ccf0-b6b5-45c1-902c-7333f9059277",
   "metadata": {},
   "outputs": [
    {
     "ename": "NameError",
     "evalue": "name 'mytuple' is not defined",
     "output_type": "error",
     "traceback": [
      "\u001b[1;31m---------------------------------------------------------------------------\u001b[0m",
      "\u001b[1;31mNameError\u001b[0m                                 Traceback (most recent call last)",
      "Cell \u001b[1;32mIn[43], line 1\u001b[0m\n\u001b[1;32m----> 1\u001b[0m \u001b[38;5;28;01mdel\u001b[39;00m mytuple\n",
      "\u001b[1;31mNameError\u001b[0m: name 'mytuple' is not defined"
     ]
    }
   ],
   "source": [
    "del mytuple              # Deleting whole tuple is possible "
   ]
  },
  {
   "cell_type": "markdown",
   "id": "036e8f1f-30e8-4095-adac-1ab8950f7fe9",
   "metadata": {},
   "source": [
    "# Loop through a tuple "
   ]
  },
  {
   "cell_type": "code",
   "execution_count": 44,
   "id": "4efa33a0-8c4f-4fe3-9795-518227675045",
   "metadata": {},
   "outputs": [],
   "source": [
    "mytuple = ('Trupti',8+6j,[66,90],7.9,{'ashwini','trivani'},(66,9,79))"
   ]
  },
  {
   "cell_type": "code",
   "execution_count": 45,
   "id": "327ae7e0-a56d-44bf-9bd9-1bf38061f4da",
   "metadata": {},
   "outputs": [
    {
     "data": {
      "text/plain": [
       "('Trupti', (8+6j), [66, 90], 7.9, {'ashwini', 'trivani'}, (66, 9, 79))"
      ]
     },
     "execution_count": 45,
     "metadata": {},
     "output_type": "execute_result"
    }
   ],
   "source": [
    "mytuple"
   ]
  },
  {
   "cell_type": "code",
   "execution_count": 46,
   "id": "ea18521e-c2fa-4253-98d4-7d83098696aa",
   "metadata": {},
   "outputs": [
    {
     "name": "stdout",
     "output_type": "stream",
     "text": [
      "Trupti\n",
      "(8+6j)\n",
      "[66, 90]\n",
      "7.9\n",
      "{'ashwini', 'trivani'}\n",
      "(66, 9, 79)\n"
     ]
    }
   ],
   "source": [
    "for i in mytuple:\n",
    "    print(i)"
   ]
  },
  {
   "cell_type": "code",
   "execution_count": 47,
   "id": "8e6bd1d1-8942-48ed-b121-cd0e931711e7",
   "metadata": {},
   "outputs": [
    {
     "name": "stdout",
     "output_type": "stream",
     "text": [
      "(0, 'Trupti')\n",
      "(1, (8+6j))\n",
      "(2, [66, 90])\n",
      "(3, 7.9)\n",
      "(4, {'ashwini', 'trivani'})\n",
      "(5, (66, 9, 79))\n"
     ]
    }
   ],
   "source": [
    "for i in enumerate(mytuple):\n",
    "    print(i)"
   ]
  },
  {
   "cell_type": "markdown",
   "id": "850b959a-92fb-427f-b408-8ea0ff8c7d77",
   "metadata": {},
   "source": [
    "# Tuple Membership "
   ]
  },
  {
   "cell_type": "code",
   "execution_count": 48,
   "id": "252efe2d-65dd-4797-9f2b-0fd4589a6de7",
   "metadata": {},
   "outputs": [
    {
     "data": {
      "text/plain": [
       "('Trupti', (8+6j), [66, 90], 7.9, {'ashwini', 'trivani'}, (66, 9, 79))"
      ]
     },
     "execution_count": 48,
     "metadata": {},
     "output_type": "execute_result"
    }
   ],
   "source": [
    "mytuple "
   ]
  },
  {
   "cell_type": "code",
   "execution_count": 49,
   "id": "680bde10-5d36-45d9-8906-c10f0d58c61b",
   "metadata": {},
   "outputs": [
    {
     "data": {
      "text/plain": [
       "True"
      ]
     },
     "execution_count": 49,
     "metadata": {},
     "output_type": "execute_result"
    }
   ],
   "source": [
    "'Trupti' in mytuple         # checking if 'Trupti' in the tuple "
   ]
  },
  {
   "cell_type": "code",
   "execution_count": 50,
   "id": "92647335-98a7-4662-a6a0-1d17cf852ae8",
   "metadata": {},
   "outputs": [
    {
     "data": {
      "text/plain": [
       "False"
      ]
     },
     "execution_count": 50,
     "metadata": {},
     "output_type": "execute_result"
    }
   ],
   "source": [
    "[99,9] in mytuple          # checking if [99,9] in the tuple"
   ]
  },
  {
   "cell_type": "code",
   "execution_count": 51,
   "id": "5bed557b-3603-4581-ba75-0cca252f58ab",
   "metadata": {},
   "outputs": [
    {
     "name": "stdout",
     "output_type": "stream",
     "text": [
      "Trupti is present in the tuple\n"
     ]
    }
   ],
   "source": [
    "if 'Trupti' in mytuple:                      # check if 'Trupti' exits in tuple by using if-else \n",
    "    print('Trupti is present in the tuple')\n",
    "else:\n",
    "    print('Trupti is not prsent in the tuple')"
   ]
  },
  {
   "cell_type": "code",
   "execution_count": 52,
   "id": "3fc24cdc-28b6-4874-83aa-6eae84c16e31",
   "metadata": {},
   "outputs": [
    {
     "name": "stdout",
     "output_type": "stream",
     "text": [
      "[44,60] is not prsent in the tuple\n"
     ]
    }
   ],
   "source": [
    "if [44,60] in mytuple:\n",
    "    print('[44,60] is present in the tuple')\n",
    "else:\n",
    "    print('[44,60] is not prsent in the tuple')"
   ]
  },
  {
   "cell_type": "markdown",
   "id": "a87f0649-7760-4f11-94c0-81d5b5af61b5",
   "metadata": {},
   "source": [
    "# Index position "
   ]
  },
  {
   "cell_type": "code",
   "execution_count": 53,
   "id": "345ba24b-98a0-422a-8337-1b9a2ffcebfb",
   "metadata": {},
   "outputs": [
    {
     "data": {
      "text/plain": [
       "('Trupti', (8+6j), [66, 90], 7.9, {'ashwini', 'trivani'}, (66, 9, 79))"
      ]
     },
     "execution_count": 53,
     "metadata": {},
     "output_type": "execute_result"
    }
   ],
   "source": [
    "mytuple"
   ]
  },
  {
   "cell_type": "code",
   "execution_count": 54,
   "id": "6f736aea-28d4-42b7-9fe5-3d0a3c8cc53c",
   "metadata": {},
   "outputs": [
    {
     "data": {
      "text/plain": [
       "0"
      ]
     },
     "execution_count": 54,
     "metadata": {},
     "output_type": "execute_result"
    }
   ],
   "source": [
    "mytuple.index('Trupti')"
   ]
  },
  {
   "cell_type": "code",
   "execution_count": 61,
   "id": "21f57bad-e355-4a0e-9f05-951bce7bf8b1",
   "metadata": {},
   "outputs": [
    {
     "name": "stdout",
     "output_type": "stream",
     "text": [
      "1\n"
     ]
    },
    {
     "ename": "ValueError",
     "evalue": "tuple.index(x): x not in tuple",
     "output_type": "error",
     "traceback": [
      "\u001b[1;31m---------------------------------------------------------------------------\u001b[0m",
      "\u001b[1;31mValueError\u001b[0m                                Traceback (most recent call last)",
      "Cell \u001b[1;32mIn[61], line 2\u001b[0m\n\u001b[0;32m      1\u001b[0m \u001b[38;5;28mprint\u001b[39m(mytuple\u001b[38;5;241m.\u001b[39mindex(\u001b[38;5;241m8\u001b[39m\u001b[38;5;241m+\u001b[39m\u001b[38;5;241m6\u001b[39mj))\n\u001b[1;32m----> 2\u001b[0m \u001b[38;5;28mprint\u001b[39m(mytuple\u001b[38;5;241m.\u001b[39mindex(\u001b[38;5;241m66\u001b[39m,\u001b[38;5;241m9\u001b[39m,\u001b[38;5;241m79\u001b[39m))\n",
      "\u001b[1;31mValueError\u001b[0m: tuple.index(x): x not in tuple"
     ]
    }
   ],
   "source": [
    "print(mytuple.index(8+6j))\n",
    "print(mytuple.index(66,9,79))"
   ]
  },
  {
   "cell_type": "markdown",
   "id": "a75f83e9-3aa5-4972-a356-e45fdabde3d7",
   "metadata": {},
   "source": [
    "# Sorting "
   ]
  },
  {
   "cell_type": "code",
   "execution_count": 67,
   "id": "27189218-140d-4360-be36-a677952941bc",
   "metadata": {},
   "outputs": [],
   "source": [
    "mytuple2 = (22,40,85,48,56,70,18)"
   ]
  },
  {
   "cell_type": "code",
   "execution_count": 69,
   "id": "cd743477-ccfc-4fc0-8fa2-198e74ee3b88",
   "metadata": {},
   "outputs": [
    {
     "data": {
      "text/plain": [
       "[18, 22, 40, 48, 56, 70, 85]"
      ]
     },
     "execution_count": 69,
     "metadata": {},
     "output_type": "execute_result"
    }
   ],
   "source": [
    "sorted(mytuple2)  # it returns the new sorted list and doesn't change the tuple "
   ]
  },
  {
   "cell_type": "code",
   "execution_count": null,
   "id": "d6450a2e-cba1-4b09-8763-7aeab3f7cab2",
   "metadata": {},
   "outputs": [],
   "source": [
    "sorted(mytuple2,reverse=True)      # sort in decending order"
   ]
  },
  {
   "cell_type": "code",
   "execution_count": null,
   "id": "683521e4-00ae-4e11-b3c8-403601f9f600",
   "metadata": {},
   "outputs": [],
   "source": []
  },
  {
   "cell_type": "code",
   "execution_count": null,
   "id": "55182453-db08-43b8-bf20-efe3800eb6df",
   "metadata": {},
   "outputs": [],
   "source": []
  }
 ],
 "metadata": {
  "kernelspec": {
   "display_name": "Python 3 (ipykernel)",
   "language": "python",
   "name": "python3"
  },
  "language_info": {
   "codemirror_mode": {
    "name": "ipython",
    "version": 3
   },
   "file_extension": ".py",
   "mimetype": "text/x-python",
   "name": "python",
   "nbconvert_exporter": "python",
   "pygments_lexer": "ipython3",
   "version": "3.12.7"
  }
 },
 "nbformat": 4,
 "nbformat_minor": 5
}

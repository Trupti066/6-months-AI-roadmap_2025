{
 "cells": [
  {
   "cell_type": "markdown",
   "id": "c14fc881-f8eb-40d4-9b28-c86609e7f7f0",
   "metadata": {},
   "source": [
    "# SETS "
   ]
  },
  {
   "cell_type": "markdown",
   "id": "94df0306-3e77-4a0c-a05a-2bb9b19a5c64",
   "metadata": {},
   "source": [
    "# set creation "
   ]
  },
  {
   "cell_type": "code",
   "execution_count": 2,
   "id": "1c64a4e0-d5fb-4929-85c9-f87042799a9c",
   "metadata": {},
   "outputs": [
    {
     "data": {
      "text/plain": [
       "{}"
      ]
     },
     "execution_count": 2,
     "metadata": {},
     "output_type": "execute_result"
    }
   ],
   "source": [
    "s = {}\n",
    "s"
   ]
  },
  {
   "cell_type": "code",
   "execution_count": 3,
   "id": "1561c84c-3c9d-4c84-8a7b-6889ab5036e3",
   "metadata": {},
   "outputs": [
    {
     "data": {
      "text/plain": [
       "dict"
      ]
     },
     "execution_count": 3,
     "metadata": {},
     "output_type": "execute_result"
    }
   ],
   "source": [
    "type(s)"
   ]
  },
  {
   "cell_type": "code",
   "execution_count": 7,
   "id": "b8837e8f-6639-441d-9c6c-335febb59977",
   "metadata": {},
   "outputs": [
    {
     "data": {
      "text/plain": [
       "set"
      ]
     },
     "execution_count": 7,
     "metadata": {},
     "output_type": "execute_result"
    }
   ],
   "source": [
    "s1 = set()\n",
    "type(s1)"
   ]
  },
  {
   "cell_type": "code",
   "execution_count": 10,
   "id": "30b7e7dc-5da1-4303-9695-ea1fd69a1636",
   "metadata": {},
   "outputs": [
    {
     "data": {
      "text/plain": [
       "{1, 2, 3, 4, 5, 6, 7}"
      ]
     },
     "execution_count": 10,
     "metadata": {},
     "output_type": "execute_result"
    }
   ],
   "source": [
    "myset = {1,2,3,4,5,6,7}       # set of numbers \n",
    "myset "
   ]
  },
  {
   "cell_type": "code",
   "execution_count": 11,
   "id": "665e8bdd-e509-4ca7-b064-1942dfebccac",
   "metadata": {},
   "outputs": [
    {
     "data": {
      "text/plain": [
       "7"
      ]
     },
     "execution_count": 11,
     "metadata": {},
     "output_type": "execute_result"
    }
   ],
   "source": [
    "len(myset)            #Length of the set "
   ]
  },
  {
   "cell_type": "code",
   "execution_count": 12,
   "id": "694b1e5e-61c2-4617-8d39-3ec9e8bc1407",
   "metadata": {},
   "outputs": [
    {
     "data": {
      "text/plain": [
       "{1, 2, 3, 4, 5}"
      ]
     },
     "execution_count": 12,
     "metadata": {},
     "output_type": "execute_result"
    }
   ],
   "source": [
    "myset = {1,1,2,2,2,3,3,4,4,5,5,5}         # Duplicatres are not allowed \n",
    "myset"
   ]
  },
  {
   "cell_type": "code",
   "execution_count": 14,
   "id": "e218cb0c-2e41-4630-9455-02625a4f13b8",
   "metadata": {},
   "outputs": [
    {
     "data": {
      "text/plain": [
       "{'Ashwini', 'Trupti', 'deepshikha', 'shravani'}"
      ]
     },
     "execution_count": 14,
     "metadata": {},
     "output_type": "execute_result"
    }
   ],
   "source": [
    "myset1 = {'Trupti','deepshikha','Ashwini','shravani'}\n",
    "myset1                                                  # set of strings"
   ]
  },
  {
   "cell_type": "code",
   "execution_count": 15,
   "id": "168be9f4-4f14-4ceb-8eec-19290226cec0",
   "metadata": {},
   "outputs": [
    {
     "data": {
      "text/plain": [
       "{2.01, 2.34, 4.55, 5.45}"
      ]
     },
     "execution_count": 15,
     "metadata": {},
     "output_type": "execute_result"
    }
   ],
   "source": [
    "myset2 = {2.34,2.01,4.55,5.45}                 #set of float numbers \n",
    "myset2"
   ]
  },
  {
   "cell_type": "code",
   "execution_count": 16,
   "id": "9791669c-a88f-4bf5-a3bd-821d27f75bc8",
   "metadata": {},
   "outputs": [
    {
     "data": {
      "text/plain": [
       "{(11, 22, 33), 19, 33.9, 'Trupti'}"
      ]
     },
     "execution_count": 16,
     "metadata": {},
     "output_type": "execute_result"
    }
   ],
   "source": [
    "myset3 = {'Trupti',19,33.90,(11,22,33)}       # Mixed datatypes\n",
    "myset3"
   ]
  },
  {
   "cell_type": "code",
   "execution_count": 17,
   "id": "73341136-9fd8-4569-b081-df06612d1255",
   "metadata": {},
   "outputs": [
    {
     "ename": "TypeError",
     "evalue": "unhashable type: 'list'",
     "output_type": "error",
     "traceback": [
      "\u001b[1;31m---------------------------------------------------------------------------\u001b[0m",
      "\u001b[1;31mTypeError\u001b[0m                                 Traceback (most recent call last)",
      "Cell \u001b[1;32mIn[17], line 1\u001b[0m\n\u001b[1;32m----> 1\u001b[0m myset3 \u001b[38;5;241m=\u001b[39m {\u001b[38;5;124m'\u001b[39m\u001b[38;5;124mTrupti\u001b[39m\u001b[38;5;124m'\u001b[39m,\u001b[38;5;241m19\u001b[39m,\u001b[38;5;241m33.90\u001b[39m,[\u001b[38;5;241m11\u001b[39m,\u001b[38;5;241m22\u001b[39m,\u001b[38;5;241m33\u001b[39m]}\n\u001b[0;32m      2\u001b[0m myset3\n",
      "\u001b[1;31mTypeError\u001b[0m: unhashable type: 'list'"
     ]
    }
   ],
   "source": [
    "myset3 = {'Trupti',19,33.90,[11,22,33]}    # set does not allow the mutable items like list\n",
    "myset3"
   ]
  },
  {
   "cell_type": "code",
   "execution_count": 18,
   "id": "7c994f5c-9b19-4d4d-ab7e-22f11129acfc",
   "metadata": {},
   "outputs": [
    {
     "name": "stdout",
     "output_type": "stream",
     "text": [
      "<class 'set'>\n"
     ]
    }
   ],
   "source": [
    "myset4 = set()      #create an emoty set \n",
    "print(type(myset4))"
   ]
  },
  {
   "cell_type": "code",
   "execution_count": 19,
   "id": "786706f8-8f8b-45cc-890d-640c97707e4e",
   "metadata": {},
   "outputs": [
    {
     "data": {
      "text/plain": [
       "{'four', 'one', 'three', 'two'}"
      ]
     },
     "execution_count": 19,
     "metadata": {},
     "output_type": "execute_result"
    }
   ],
   "source": [
    "myset1 = set(('one' , 'two' , 'three' , 'four'))\n",
    "myset1"
   ]
  },
  {
   "cell_type": "code",
   "execution_count": 20,
   "id": "b8c609df-d6ec-4c41-ab90-7d12739c207a",
   "metadata": {},
   "outputs": [
    {
     "data": {
      "text/plain": [
       "{'four', 'one', 'three', 'two'}"
      ]
     },
     "execution_count": 20,
     "metadata": {},
     "output_type": "execute_result"
    }
   ],
   "source": [
    "myset2 = myset1           \n",
    "myset2"
   ]
  },
  {
   "cell_type": "code",
   "execution_count": 21,
   "id": "98ff5053-0ca6-47a7-96ef-b66de0937a21",
   "metadata": {},
   "outputs": [
    {
     "data": {
      "text/plain": [
       "(9, 8, 0, 5, 4)"
      ]
     },
     "execution_count": 21,
     "metadata": {},
     "output_type": "execute_result"
    }
   ],
   "source": [
    "myset = 9,8,0,5,4\n",
    "myset"
   ]
  },
  {
   "cell_type": "code",
   "execution_count": 24,
   "id": "b1391d09-1300-46b4-8659-1b6255bab9a8",
   "metadata": {},
   "outputs": [
    {
     "ename": "AttributeError",
     "evalue": "'set' object has no attribute 'reverse'",
     "output_type": "error",
     "traceback": [
      "\u001b[1;31m---------------------------------------------------------------------------\u001b[0m",
      "\u001b[1;31mAttributeError\u001b[0m                            Traceback (most recent call last)",
      "Cell \u001b[1;32mIn[24], line 1\u001b[0m\n\u001b[1;32m----> 1\u001b[0m myset3 \u001b[38;5;241m=\u001b[39m myset2\u001b[38;5;241m.\u001b[39mreverse\n\u001b[0;32m      2\u001b[0m myset3\n",
      "\u001b[1;31mAttributeError\u001b[0m: 'set' object has no attribute 'reverse'"
     ]
    }
   ],
   "source": [
    "myset3 = myset2.reverse\n",
    "myset3"
   ]
  },
  {
   "cell_type": "markdown",
   "id": "b472eb14-937b-41d2-9369-924bd93d1624",
   "metadata": {},
   "source": [
    "# Loop through a set "
   ]
  },
  {
   "cell_type": "code",
   "execution_count": 25,
   "id": "a1e3a90a-e3d7-4686-86a2-be24c48c617e",
   "metadata": {},
   "outputs": [
    {
     "name": "stdout",
     "output_type": "stream",
     "text": [
      "three\n",
      "two\n",
      "eight\n",
      "five\n",
      "one\n",
      "seven\n",
      "four\n",
      "six\n"
     ]
    }
   ],
   "source": [
    "myset = {'one','two','three','four','five','six','seven','eight'}\n",
    "\n",
    "for i in myset:\n",
    "    print(i)"
   ]
  },
  {
   "cell_type": "code",
   "execution_count": 26,
   "id": "c72f7b24-4bea-494f-8bc7-4ba471c31a5a",
   "metadata": {},
   "outputs": [
    {
     "name": "stdout",
     "output_type": "stream",
     "text": [
      "(0, 'three')\n",
      "(1, 'two')\n",
      "(2, 'eight')\n",
      "(3, 'five')\n",
      "(4, 'one')\n",
      "(5, 'seven')\n",
      "(6, 'four')\n",
      "(7, 'six')\n"
     ]
    }
   ],
   "source": [
    "for i in enumerate(myset):\n",
    "    print(i)"
   ]
  },
  {
   "cell_type": "markdown",
   "id": "51a13c97-db89-44fd-88f2-8d31db3d6542",
   "metadata": {},
   "source": [
    "# Set Membership "
   ]
  },
  {
   "cell_type": "code",
   "execution_count": 27,
   "id": "0bf9c58c-aaba-4a55-8389-3525d5c995e4",
   "metadata": {},
   "outputs": [
    {
     "data": {
      "text/plain": [
       "{'eight', 'five', 'four', 'one', 'seven', 'six', 'three', 'two'}"
      ]
     },
     "execution_count": 27,
     "metadata": {},
     "output_type": "execute_result"
    }
   ],
   "source": [
    "myset"
   ]
  },
  {
   "cell_type": "code",
   "execution_count": 29,
   "id": "aa7495b1-4827-4d5a-96d8-3b6cb1d9d147",
   "metadata": {},
   "outputs": [
    {
     "data": {
      "text/plain": [
       "True"
      ]
     },
     "execution_count": 29,
     "metadata": {},
     "output_type": "execute_result"
    }
   ],
   "source": [
    "'one' in myset                              # check if 'one' exits in the set "
   ]
  },
  {
   "cell_type": "code",
   "execution_count": 30,
   "id": "d0d77d79-6431-451d-84c2-cfeb757d7722",
   "metadata": {},
   "outputs": [
    {
     "data": {
      "text/plain": [
       "False"
      ]
     },
     "execution_count": 30,
     "metadata": {},
     "output_type": "execute_result"
    }
   ],
   "source": [
    "'ten' in myset                             # check if 'ten' exuts in the set"
   ]
  },
  {
   "cell_type": "code",
   "execution_count": 31,
   "id": "4d12c563-168f-4450-abff-389e2c4aa29c",
   "metadata": {},
   "outputs": [
    {
     "name": "stdout",
     "output_type": "stream",
     "text": [
      "three is present in the set\n"
     ]
    }
   ],
   "source": [
    "if 'three' in myset:\n",
    "    print('three is present in the set')\n",
    "else:\n",
    "    print('three is not present in the set')"
   ]
  },
  {
   "cell_type": "code",
   "execution_count": 32,
   "id": "1d42cd51-11cd-426f-aa2c-87b0f5fbc095",
   "metadata": {},
   "outputs": [
    {
     "name": "stdout",
     "output_type": "stream",
     "text": [
      "seven is present in the set\n"
     ]
    }
   ],
   "source": [
    "if 'seven' in myset:                      # check if 'two' exits in the list \n",
    "    print('seven is present in the set')\n",
    "else:\n",
    "    print('seven is not prsent in the set')"
   ]
  },
  {
   "cell_type": "markdown",
   "id": "1b8b7ced-67e9-42a0-9516-72db0128bd8f",
   "metadata": {},
   "source": [
    "# Add & Remove items "
   ]
  },
  {
   "cell_type": "code",
   "execution_count": 33,
   "id": "4c0708da-39b1-4853-99cf-7de378a21773",
   "metadata": {},
   "outputs": [
    {
     "data": {
      "text/plain": [
       "{'eight', 'five', 'four', 'one', 'seven', 'six', 'three', 'two'}"
      ]
     },
     "execution_count": 33,
     "metadata": {},
     "output_type": "execute_result"
    }
   ],
   "source": [
    "myset "
   ]
  },
  {
   "cell_type": "code",
   "execution_count": 34,
   "id": "7dbaa318-9085-4ddf-a9f8-e3a87fb0ea9f",
   "metadata": {},
   "outputs": [
    {
     "data": {
      "text/plain": [
       "{'TRUPTI', 'eight', 'five', 'four', 'one', 'seven', 'six', 'three', 'two'}"
      ]
     },
     "execution_count": 34,
     "metadata": {},
     "output_type": "execute_result"
    }
   ],
   "source": [
    "myset.add('TRUPTI')         # sts allows the element to add() using add method \n",
    "myset "
   ]
  },
  {
   "cell_type": "code",
   "execution_count": 35,
   "id": "099e5946-ddda-45d6-a12c-5c2d61a78ff6",
   "metadata": {},
   "outputs": [
    {
     "data": {
      "text/plain": [
       "{'ASHWINI',\n",
       " 'SHRAVANI',\n",
       " 'TRUPTI',\n",
       " 'TWELVE',\n",
       " 'eight',\n",
       " 'five',\n",
       " 'four',\n",
       " 'one',\n",
       " 'seven',\n",
       " 'six',\n",
       " 'three',\n",
       " 'two'}"
      ]
     },
     "execution_count": 35,
     "metadata": {},
     "output_type": "execute_result"
    }
   ],
   "source": [
    "myset.update(['ASHWINI' , 'SHRAVANI' , 'TWELVE'])   # to add multiple elements - update() method is used \n",
    "myset"
   ]
  },
  {
   "cell_type": "code",
   "execution_count": 36,
   "id": "396632ba-45ba-4519-8394-cef180f4e5b8",
   "metadata": {},
   "outputs": [
    {
     "data": {
      "text/plain": [
       "{'ASHWINI',\n",
       " 'SHRAVANI',\n",
       " 'TRUPTI',\n",
       " 'eight',\n",
       " 'five',\n",
       " 'four',\n",
       " 'one',\n",
       " 'seven',\n",
       " 'six',\n",
       " 'three',\n",
       " 'two'}"
      ]
     },
     "execution_count": 36,
     "metadata": {},
     "output_type": "execute_result"
    }
   ],
   "source": [
    "myset.remove('TWELVE')         # remove() is used to remove the element from the set\n",
    "myset"
   ]
  },
  {
   "cell_type": "code",
   "execution_count": 37,
   "id": "f60e6122-16bd-4416-852d-9166c664fa62",
   "metadata": {},
   "outputs": [
    {
     "data": {
      "text/plain": [
       "{'ASHWINI',\n",
       " 'SHRAVANI',\n",
       " 'eight',\n",
       " 'five',\n",
       " 'four',\n",
       " 'one',\n",
       " 'seven',\n",
       " 'six',\n",
       " 'three',\n",
       " 'two'}"
      ]
     },
     "execution_count": 37,
     "metadata": {},
     "output_type": "execute_result"
    }
   ],
   "source": [
    "myset.discard('TRUPTI')      # to remove the element from set - discard() method is also used \n",
    "myset"
   ]
  },
  {
   "cell_type": "code",
   "execution_count": 38,
   "id": "600ef663-c615-4d6e-b6f6-a85238c6595d",
   "metadata": {},
   "outputs": [
    {
     "data": {
      "text/plain": [
       "set()"
      ]
     },
     "execution_count": 38,
     "metadata": {},
     "output_type": "execute_result"
    }
   ],
   "source": [
    "myset.clear()      # delete the all items in the set \n",
    "myset"
   ]
  },
  {
   "cell_type": "code",
   "execution_count": 39,
   "id": "4bd316a1-059b-41e8-9ecc-9d6b4407e50b",
   "metadata": {},
   "outputs": [
    {
     "ename": "NameError",
     "evalue": "name 'myset' is not defined",
     "output_type": "error",
     "traceback": [
      "\u001b[1;31m---------------------------------------------------------------------------\u001b[0m",
      "\u001b[1;31mNameError\u001b[0m                                 Traceback (most recent call last)",
      "Cell \u001b[1;32mIn[39], line 2\u001b[0m\n\u001b[0;32m      1\u001b[0m \u001b[38;5;28;01mdel\u001b[39;00m myset        \u001b[38;5;66;03m# delete the set object \u001b[39;00m\n\u001b[1;32m----> 2\u001b[0m myset\n",
      "\u001b[1;31mNameError\u001b[0m: name 'myset' is not defined"
     ]
    }
   ],
   "source": [
    "del myset        # delete the set object \n",
    "myset"
   ]
  },
  {
   "cell_type": "markdown",
   "id": "92845bc4-4d57-40e2-a178-fbcf10d92c20",
   "metadata": {},
   "source": [
    "# copy set "
   ]
  },
  {
   "cell_type": "code",
   "execution_count": 41,
   "id": "b7b76ebd-a0c2-4003-8c4f-cfd5907eacda",
   "metadata": {},
   "outputs": [
    {
     "data": {
      "text/plain": [
       "{'Trupti', 'eight', 'five', 'four', 'one', 'seven', 'six', 'three', 'two'}"
      ]
     },
     "execution_count": 41,
     "metadata": {},
     "output_type": "execute_result"
    }
   ],
   "source": [
    "myset = {'Trupti','one','two','three','four','five','six','seven','eight'}\n",
    "myset"
   ]
  },
  {
   "cell_type": "code",
   "execution_count": 42,
   "id": "947a80a2-2508-41f3-bc64-98410785fb69",
   "metadata": {},
   "outputs": [
    {
     "data": {
      "text/plain": [
       "{'Trupti', 'eight', 'five', 'four', 'one', 'seven', 'six', 'three', 'two'}"
      ]
     },
     "execution_count": 42,
     "metadata": {},
     "output_type": "execute_result"
    }
   ],
   "source": [
    "myset1 = myset              # create a new reference set \"myset1\" \n",
    "myset1"
   ]
  },
  {
   "cell_type": "code",
   "execution_count": 43,
   "id": "3e7b9a26-2dac-453a-9dab-2411f9ed8515",
   "metadata": {},
   "outputs": [
    {
     "data": {
      "text/plain": [
       "(2339020240960, 2339020240960)"
      ]
     },
     "execution_count": 43,
     "metadata": {},
     "output_type": "execute_result"
    }
   ],
   "source": [
    "id(myset) , id(myset1)           # find the addresses of the two sets , which is same for both"
   ]
  },
  {
   "cell_type": "code",
   "execution_count": 44,
   "id": "8d455b4d-7f20-4c6a-b3db-df53f0f2009a",
   "metadata": {},
   "outputs": [
    {
     "data": {
      "text/plain": [
       "{'Trupti', 'eight', 'five', 'four', 'one', 'seven', 'six', 'three', 'two'}"
      ]
     },
     "execution_count": 44,
     "metadata": {},
     "output_type": "execute_result"
    }
   ],
   "source": [
    "my_set = myset.copy()             # create a copy of the list\n",
    "my_set"
   ]
  },
  {
   "cell_type": "code",
   "execution_count": 45,
   "id": "9d34545b-7029-43f5-a09f-e5051aec1681",
   "metadata": {},
   "outputs": [
    {
     "data": {
      "text/plain": [
       "2339020233792"
      ]
     },
     "execution_count": 45,
     "metadata": {},
     "output_type": "execute_result"
    }
   ],
   "source": [
    "id(my_set)      # the address of my_set will be different from myset"
   ]
  },
  {
   "cell_type": "code",
   "execution_count": 46,
   "id": "c09a8dec-b023-4fcd-a8f1-b17b32428429",
   "metadata": {},
   "outputs": [
    {
     "data": {
      "text/plain": [
       "{'Trupti',\n",
       " 'eight',\n",
       " 'five',\n",
       " 'four',\n",
       " 'nine',\n",
       " 'one',\n",
       " 'seven',\n",
       " 'six',\n",
       " 'three',\n",
       " 'two'}"
      ]
     },
     "execution_count": 46,
     "metadata": {},
     "output_type": "execute_result"
    }
   ],
   "source": [
    "myset.add('nine')\n",
    "myset"
   ]
  },
  {
   "cell_type": "code",
   "execution_count": 47,
   "id": "fe48a5ea-88fc-4bb0-9530-fc8b2bafd566",
   "metadata": {},
   "outputs": [
    {
     "data": {
      "text/plain": [
       "{'Trupti',\n",
       " 'eight',\n",
       " 'five',\n",
       " 'four',\n",
       " 'nine',\n",
       " 'one',\n",
       " 'seven',\n",
       " 'six',\n",
       " 'three',\n",
       " 'two'}"
      ]
     },
     "execution_count": 47,
     "metadata": {},
     "output_type": "execute_result"
    }
   ],
   "source": [
    "myset1 "
   ]
  },
  {
   "cell_type": "code",
   "execution_count": 48,
   "id": "c950ec37-69e6-4305-b792-c8b87a9bd7ac",
   "metadata": {},
   "outputs": [
    {
     "data": {
      "text/plain": [
       "{'Trupti', 'eight', 'five', 'four', 'one', 'seven', 'six', 'three', 'two'}"
      ]
     },
     "execution_count": 48,
     "metadata": {},
     "output_type": "execute_result"
    }
   ],
   "source": [
    "my_set"
   ]
  },
  {
   "cell_type": "markdown",
   "id": "01ac5190-02a1-44dc-8e2a-7ba4e702666a",
   "metadata": {},
   "source": [
    "# SET OPERATIONS"
   ]
  },
  {
   "cell_type": "markdown",
   "id": "3682f9aa-8004-4cc9-b4c6-994e5f1dd87c",
   "metadata": {},
   "source": [
    "# Union "
   ]
  },
  {
   "cell_type": "code",
   "execution_count": 49,
   "id": "0e6655b3-12f9-4a35-b343-d25f11fd5808",
   "metadata": {},
   "outputs": [],
   "source": [
    "A = {1,2,3,4,5}            # \"|\" is union symbol used \n",
    "B = {4,5,6,4,8}       \n",
    "C = { 8,9,10}             # union function is used to print all elements same in both sets and duplicates are not allowed "
   ]
  },
  {
   "cell_type": "code",
   "execution_count": 50,
   "id": "daa7285d-d0c8-425d-9ef8-e5de81d74c4b",
   "metadata": {},
   "outputs": [
    {
     "data": {
      "text/plain": [
       "{1, 2, 3, 4, 5, 6, 8}"
      ]
     },
     "execution_count": 50,
     "metadata": {},
     "output_type": "execute_result"
    }
   ],
   "source": [
    "A | B                  # set does not allow duplicates so , in union duplicates are not printed "
   ]
  },
  {
   "cell_type": "code",
   "execution_count": 51,
   "id": "0d514bd0-7a7a-450b-865d-df3fd164d784",
   "metadata": {},
   "outputs": [
    {
     "data": {
      "text/plain": [
       "{1, 2, 3, 4, 5, 6, 8}"
      ]
     },
     "execution_count": 51,
     "metadata": {},
     "output_type": "execute_result"
    }
   ],
   "source": [
    "A.union(B)            # union of A and B "
   ]
  },
  {
   "cell_type": "code",
   "execution_count": 52,
   "id": "1fe6914f-9f34-4097-b0dd-35eaf7ad034f",
   "metadata": {},
   "outputs": [
    {
     "data": {
      "text/plain": [
       "{1, 2, 3, 4, 5, 6, 8}"
      ]
     },
     "execution_count": 52,
     "metadata": {},
     "output_type": "execute_result"
    }
   ],
   "source": [
    "B.union(A)           "
   ]
  },
  {
   "cell_type": "code",
   "execution_count": 53,
   "id": "f727a81d-1c29-46de-8730-c076ed39c006",
   "metadata": {},
   "outputs": [
    {
     "data": {
      "text/plain": [
       "{1, 2, 3, 4, 5, 6, 8, 9, 10}"
      ]
     },
     "execution_count": 53,
     "metadata": {},
     "output_type": "execute_result"
    }
   ],
   "source": [
    "A.union(B,C)      # print the union of A,B and C "
   ]
  },
  {
   "cell_type": "code",
   "execution_count": 54,
   "id": "f0d4e0f9-413b-48a9-a3aa-2921e562e674",
   "metadata": {},
   "outputs": [
    {
     "data": {
      "text/plain": [
       "{1, 2, 3, 4, 5, 6, 8, 9, 10}"
      ]
     },
     "execution_count": 54,
     "metadata": {},
     "output_type": "execute_result"
    }
   ],
   "source": [
    "A.update(B,C)\n",
    "A"
   ]
  },
  {
   "cell_type": "code",
   "execution_count": 55,
   "id": "5e9211dc-cb89-4a4a-9342-d5077602db64",
   "metadata": {},
   "outputs": [
    {
     "data": {
      "text/plain": [
       "{1, 2, 3, 4, 5, 6, 8, 9, 10}"
      ]
     },
     "execution_count": 55,
     "metadata": {},
     "output_type": "execute_result"
    }
   ],
   "source": [
    "A                  # set A is updated "
   ]
  },
  {
   "cell_type": "markdown",
   "id": "427949b5-3b51-4b80-8b9e-ad20d5ac1957",
   "metadata": {},
   "source": [
    "# Difference "
   ]
  },
  {
   "cell_type": "code",
   "execution_count": 56,
   "id": "b86360f7-10d8-419b-a0d0-b7499c277b0c",
   "metadata": {},
   "outputs": [],
   "source": [
    "A = {1,2,3,4,5,6}\n",
    "B = {4,5,6,7,8,9}"
   ]
  },
  {
   "cell_type": "code",
   "execution_count": 57,
   "id": "485306a2-927b-4854-9f9f-d586310ef94f",
   "metadata": {},
   "outputs": [
    {
     "data": {
      "text/plain": [
       "{1, 2, 3}"
      ]
     },
     "execution_count": 57,
     "metadata": {},
     "output_type": "execute_result"
    }
   ],
   "source": [
    "A - B        # print the elements that are only in 'A' not in 'B' - means same elements are deleted"
   ]
  },
  {
   "cell_type": "code",
   "execution_count": 58,
   "id": "50213240-495e-4a0b-a06c-4500ca5b31ca",
   "metadata": {},
   "outputs": [
    {
     "data": {
      "text/plain": [
       "{1, 2, 3}"
      ]
     },
     "execution_count": 58,
     "metadata": {},
     "output_type": "execute_result"
    }
   ],
   "source": [
    "A.difference(B)  # only set A elements are prints which are different from set B "
   ]
  },
  {
   "cell_type": "code",
   "execution_count": 59,
   "id": "6ab1ef71-07c1-47cd-9d3a-7e37cbb9b409",
   "metadata": {},
   "outputs": [
    {
     "data": {
      "text/plain": [
       "{7, 8, 9}"
      ]
     },
     "execution_count": 59,
     "metadata": {},
     "output_type": "execute_result"
    }
   ],
   "source": [
    "B - A      # print the elements that are only in 'B' not in 'A' "
   ]
  },
  {
   "cell_type": "code",
   "execution_count": 60,
   "id": "d2a3a10e-6757-4f18-afce-b6e5f2c21318",
   "metadata": {},
   "outputs": [
    {
     "data": {
      "text/plain": [
       "{7, 8, 9}"
      ]
     },
     "execution_count": 60,
     "metadata": {},
     "output_type": "execute_result"
    }
   ],
   "source": [
    "B.difference(A)"
   ]
  },
  {
   "cell_type": "code",
   "execution_count": 61,
   "id": "eb28a431-6934-4930-afde-4d937dac3aad",
   "metadata": {},
   "outputs": [
    {
     "data": {
      "text/plain": [
       "{7, 8, 9}"
      ]
     },
     "execution_count": 61,
     "metadata": {},
     "output_type": "execute_result"
    }
   ],
   "source": [
    "B.difference_update(A)\n",
    "B                             # set B is updated "
   ]
  },
  {
   "cell_type": "markdown",
   "id": "1154f39c-c808-4965-9152-c2ed586fa97e",
   "metadata": {},
   "source": [
    "# Symmetric Difference "
   ]
  },
  {
   "cell_type": "code",
   "execution_count": 62,
   "id": "9b520f92-0c56-4aae-99b8-724dfe43ebc4",
   "metadata": {},
   "outputs": [],
   "source": [
    "A = {1,2,3,4,5,6}\n",
    "B = {4,5,6,7,8,9}"
   ]
  },
  {
   "cell_type": "code",
   "execution_count": 63,
   "id": "a1bef461-1eba-446c-930e-bba93da68f6c",
   "metadata": {},
   "outputs": [
    {
     "data": {
      "text/plain": [
       "{1, 2, 3, 7, 8, 9}"
      ]
     },
     "execution_count": 63,
     "metadata": {},
     "output_type": "execute_result"
    }
   ],
   "source": [
    "A ^ B    # print the elements that are in set 'A' and Set'b' but not in  both "
   ]
  },
  {
   "cell_type": "markdown",
   "id": "371e83e7-90a3-4a2f-869f-0b494063441b",
   "metadata": {},
   "source": [
    "A.symmetric_difference_update(B)\n",
    "A"
   ]
  },
  {
   "cell_type": "markdown",
   "id": "ebf37b02-1a83-4e88-903f-7754e1e76619",
   "metadata": {},
   "source": [
    "# Subset, Superset & Disjoint "
   ]
  },
  {
   "cell_type": "code",
   "execution_count": 64,
   "id": "463248a4-b870-4f8c-8fc8-10bd548e0439",
   "metadata": {},
   "outputs": [],
   "source": [
    "A = {1,2,3,4,5,6,7,8,9}\n",
    "B = {3,6,7,9,5}\n",
    "c = {10,20,30,40}"
   ]
  },
  {
   "cell_type": "code",
   "execution_count": 65,
   "id": "9ad201c4-92da-42dc-ac70-e8dbab9504ad",
   "metadata": {},
   "outputs": [
    {
     "data": {
      "text/plain": [
       "True"
      ]
     },
     "execution_count": 65,
     "metadata": {},
     "output_type": "execute_result"
    }
   ],
   "source": [
    "B.issubset(A)   # if all elements in \"set B\" are in 'set A' , then set B is said as subset of set A "
   ]
  },
  {
   "cell_type": "code",
   "execution_count": 66,
   "id": "6d706b5a-b2d4-4dec-8a1d-571d9f05ed21",
   "metadata": {},
   "outputs": [
    {
     "data": {
      "text/plain": [
       "True"
      ]
     },
     "execution_count": 66,
     "metadata": {},
     "output_type": "execute_result"
    }
   ],
   "source": [
    "A.issuperset(B)   # A is called superset is all elements in set B are in set A "
   ]
  },
  {
   "cell_type": "code",
   "execution_count": 68,
   "id": "a439571d-c231-44fa-b282-17bdfb394c08",
   "metadata": {},
   "outputs": [
    {
     "data": {
      "text/plain": [
       "False"
      ]
     },
     "execution_count": 68,
     "metadata": {},
     "output_type": "execute_result"
    }
   ],
   "source": [
    "C.isdisjoint(A)    # if both sets does not have common elements , then that sets are disjoint sets "
   ]
  },
  {
   "cell_type": "code",
   "execution_count": 69,
   "id": "c8d27d03-10b5-4824-94a1-096643189cfa",
   "metadata": {},
   "outputs": [
    {
     "data": {
      "text/plain": [
       "False"
      ]
     },
     "execution_count": 69,
     "metadata": {},
     "output_type": "execute_result"
    }
   ],
   "source": [
    "B.isdisjoint(A)"
   ]
  },
  {
   "cell_type": "code",
   "execution_count": 70,
   "id": "cd8634bb-89a8-4f26-83c1-be1b55fde667",
   "metadata": {},
   "outputs": [
    {
     "ename": "TypeError",
     "evalue": "set.isdisjoint() takes exactly one argument (2 given)",
     "output_type": "error",
     "traceback": [
      "\u001b[1;31m---------------------------------------------------------------------------\u001b[0m",
      "\u001b[1;31mTypeError\u001b[0m                                 Traceback (most recent call last)",
      "Cell \u001b[1;32mIn[70], line 1\u001b[0m\n\u001b[1;32m----> 1\u001b[0m C\u001b[38;5;241m.\u001b[39misdisjoint(B,A)\n",
      "\u001b[1;31mTypeError\u001b[0m: set.isdisjoint() takes exactly one argument (2 given)"
     ]
    }
   ],
   "source": [
    "C.isdisjoint(B,A)               # two arguments arenot  passed "
   ]
  },
  {
   "cell_type": "markdown",
   "id": "1e702c84-2ed0-43b8-83a8-8e9c6ba56967",
   "metadata": {},
   "source": [
    "# Other Builtin functins"
   ]
  },
  {
   "cell_type": "code",
   "execution_count": 71,
   "id": "d392ed37-b680-4be6-9839-cf24ff08d87c",
   "metadata": {},
   "outputs": [
    {
     "data": {
      "text/plain": [
       "{1, 2, 3, 4, 5, 6, 7, 8, 9}"
      ]
     },
     "execution_count": 71,
     "metadata": {},
     "output_type": "execute_result"
    }
   ],
   "source": [
    "A"
   ]
  },
  {
   "cell_type": "code",
   "execution_count": 72,
   "id": "f601c4ff-5e83-411e-bb6d-55ab46bb9cf0",
   "metadata": {},
   "outputs": [
    {
     "data": {
      "text/plain": [
       "45"
      ]
     },
     "execution_count": 72,
     "metadata": {},
     "output_type": "execute_result"
    }
   ],
   "source": [
    "sum(A)                    # add the all elements in set A "
   ]
  },
  {
   "cell_type": "code",
   "execution_count": 73,
   "id": "94bad78c-89fc-4a4a-81ed-d61f9ad8a85a",
   "metadata": {},
   "outputs": [
    {
     "data": {
      "text/plain": [
       "9"
      ]
     },
     "execution_count": 73,
     "metadata": {},
     "output_type": "execute_result"
    }
   ],
   "source": [
    "max(A)                   # print the maximum value from the set A "
   ]
  },
  {
   "cell_type": "code",
   "execution_count": 74,
   "id": "af23b058-d8fa-4266-8d45-23f74a61d0d0",
   "metadata": {},
   "outputs": [
    {
     "data": {
      "text/plain": [
       "1"
      ]
     },
     "execution_count": 74,
     "metadata": {},
     "output_type": "execute_result"
    }
   ],
   "source": [
    "min(A)                  # print the minimam value from the set A "
   ]
  },
  {
   "cell_type": "code",
   "execution_count": 76,
   "id": "6f0abcab-20d2-41b8-bfda-f78876313216",
   "metadata": {},
   "outputs": [
    {
     "data": {
      "text/plain": [
       "9"
      ]
     },
     "execution_count": 76,
     "metadata": {},
     "output_type": "execute_result"
    }
   ],
   "source": [
    "len(A)                  # print the length of the set "
   ]
  },
  {
   "cell_type": "code",
   "execution_count": 77,
   "id": "9e741460-f6f9-4c3e-ab4c-5bb0dcd47eea",
   "metadata": {},
   "outputs": [
    {
     "data": {
      "text/plain": [
       "[(0, 1), (1, 2), (2, 3), (3, 4), (4, 5), (5, 6), (6, 7), (7, 8), (8, 9)]"
      ]
     },
     "execution_count": 77,
     "metadata": {},
     "output_type": "execute_result"
    }
   ],
   "source": [
    "list(enumerate(A)) "
   ]
  },
  {
   "cell_type": "markdown",
   "id": "93900998-b63b-4594-b0c0-121e2f81a8f4",
   "metadata": {},
   "source": [
    "# Sorting  "
   ]
  },
  {
   "cell_type": "code",
   "execution_count": 79,
   "id": "dcee9106-ef5a-4217-b2bf-8a01774b454d",
   "metadata": {},
   "outputs": [
    {
     "data": {
      "text/plain": [
       "[1, 2, 3, 4, 5, 6, 7, 8, 9]"
      ]
     },
     "execution_count": 79,
     "metadata": {},
     "output_type": "execute_result"
    }
   ],
   "source": [
    "D = sorted(A)\n",
    "D"
   ]
  },
  {
   "cell_type": "code",
   "execution_count": 80,
   "id": "bf6663e2-6d64-4187-9d1b-3b77907ae007",
   "metadata": {},
   "outputs": [
    {
     "data": {
      "text/plain": [
       "[9, 8, 7, 6, 5, 4, 3, 2, 1]"
      ]
     },
     "execution_count": 80,
     "metadata": {},
     "output_type": "execute_result"
    }
   ],
   "source": [
    "D = sorted(A,reverse=True)\n",
    "D"
   ]
  },
  {
   "cell_type": "code",
   "execution_count": 81,
   "id": "556b7dfc-e91c-4bde-931d-bf71180e01ee",
   "metadata": {},
   "outputs": [
    {
     "data": {
      "text/plain": [
       "[1, 2, 3, 4, 5, 6, 7, 8, 9]"
      ]
     },
     "execution_count": 81,
     "metadata": {},
     "output_type": "execute_result"
    }
   ],
   "source": [
    "D = sorted(A,reverse=False)\n",
    "D"
   ]
  },
  {
   "cell_type": "code",
   "execution_count": 82,
   "id": "a3482c17-69f7-48df-b8dd-b6d2d0a5fdf0",
   "metadata": {},
   "outputs": [
    {
     "data": {
      "text/plain": [
       "[1, 2, 3, 4, 5, 6, 7, 8, 9]"
      ]
     },
     "execution_count": 82,
     "metadata": {},
     "output_type": "execute_result"
    }
   ],
   "source": [
    "sorted(D)"
   ]
  },
  {
   "cell_type": "code",
   "execution_count": null,
   "id": "2db40fc5-283d-4e74-9209-16232a53c90e",
   "metadata": {},
   "outputs": [],
   "source": []
  },
  {
   "cell_type": "code",
   "execution_count": null,
   "id": "df908b05-6c08-40e2-a9c3-4efce2a47611",
   "metadata": {},
   "outputs": [],
   "source": []
  },
  {
   "cell_type": "code",
   "execution_count": null,
   "id": "02d85284-2fee-45c4-9e0b-7dc20c9b18b3",
   "metadata": {},
   "outputs": [],
   "source": []
  },
  {
   "cell_type": "code",
   "execution_count": null,
   "id": "ede756e7-d515-4851-aa1b-4061b92cf8ff",
   "metadata": {},
   "outputs": [],
   "source": []
  },
  {
   "cell_type": "code",
   "execution_count": null,
   "id": "e3d11400-edec-4f61-917e-33074de318b9",
   "metadata": {},
   "outputs": [],
   "source": []
  },
  {
   "cell_type": "code",
   "execution_count": null,
   "id": "8e8bb357-9129-4012-b4b8-6b2d5972a765",
   "metadata": {},
   "outputs": [],
   "source": []
  },
  {
   "cell_type": "code",
   "execution_count": null,
   "id": "48e19e8c-6bf2-4754-b96e-9af950b2e8e9",
   "metadata": {},
   "outputs": [],
   "source": []
  }
 ],
 "metadata": {
  "kernelspec": {
   "display_name": "Python 3 (ipykernel)",
   "language": "python",
   "name": "python3"
  },
  "language_info": {
   "codemirror_mode": {
    "name": "ipython",
    "version": 3
   },
   "file_extension": ".py",
   "mimetype": "text/x-python",
   "name": "python",
   "nbconvert_exporter": "python",
   "pygments_lexer": "ipython3",
   "version": "3.12.7"
  }
 },
 "nbformat": 4,
 "nbformat_minor": 5
}

{
 "cells": [
  {
   "cell_type": "markdown",
   "id": "8f1dd262-7912-4929-a154-bdb11f95287e",
   "metadata": {},
   "source": [
    "# 21. Find the largest of three numbers "
   ]
  },
  {
   "cell_type": "code",
   "execution_count": 1,
   "id": "e0c86e80-bc72-4d60-ac97-ad83a50c5664",
   "metadata": {},
   "outputs": [
    {
     "name": "stdin",
     "output_type": "stream",
     "text": [
      "Enter first number:  3\n",
      "Enter second number:  5\n",
      "Enter third number:  2\n"
     ]
    },
    {
     "name": "stdout",
     "output_type": "stream",
     "text": [
      "Largest: 5\n"
     ]
    }
   ],
   "source": [
    "a = int(input(\"Enter first number: \"))   \n",
    "b = int(input(\"Enter second number: \"))   \n",
    "c = int(input(\"Enter third number: \"))   \n",
    "if a >= b and a >= c:   \n",
    "    print(\"Largest:\", a)   \n",
    "elif b >= a and b >= c:   \n",
    "    print(\"Largest:\", b)   \n",
    "else:   \n",
    "    print(\"Largest:\", c)   "
   ]
  },
  {
   "cell_type": "markdown",
   "id": "567bd9b2-9b20-46a2-9a2f-e21dac541e77",
   "metadata": {},
   "source": [
    "# 22. Determine if a number is a prime number "
   ]
  },
  {
   "cell_type": "code",
   "execution_count": 2,
   "id": "fe2946be-13dc-4c93-a100-48dfc1f83b9f",
   "metadata": {},
   "outputs": [
    {
     "name": "stdin",
     "output_type": "stream",
     "text": [
      "Enter a number:  69\n"
     ]
    },
    {
     "name": "stdout",
     "output_type": "stream",
     "text": [
      "Not a prime number\n"
     ]
    }
   ],
   "source": [
    "num = int(input(\"Enter a number: \"))   \n",
    "if num > 1:   \n",
    "    for i in range(2, int(num**0.5) + 1):   \n",
    "        if num % i == 0:   \n",
    "            print(\"Not a prime number\")   \n",
    "            break   \n",
    "    else:   \n",
    "        print(\"Prime number\")   \n",
    "else:   \n",
    "    print(\"Not a prime number\")  "
   ]
  },
  {
   "cell_type": "code",
   "execution_count": 3,
   "id": "6ec9b0b2-91dd-4a33-ac8c-22f4af347bd3",
   "metadata": {},
   "outputs": [
    {
     "name": "stdin",
     "output_type": "stream",
     "text": [
      "Enter a number:  2\n"
     ]
    },
    {
     "name": "stdout",
     "output_type": "stream",
     "text": [
      "Prime number\n"
     ]
    }
   ],
   "source": [
    "num = int(input(\"Enter a number: \"))   \n",
    "if num > 1:   \n",
    "    for i in range(2, int(num**0.5) + 1):   \n",
    "        if num % i == 0:   \n",
    "            print(\"Not a prime number\")   \n",
    "            break   \n",
    "    else:   \n",
    "        print(\"Prime number\")   \n",
    "else:   \n",
    "    print(\"Not a prime number\")  "
   ]
  },
  {
   "cell_type": "markdown",
   "id": "32215bad-d6de-41f7-b503-852879eab310",
   "metadata": {},
   "source": [
    "# 23. Check if a person is eligible for a driving license "
   ]
  },
  {
   "cell_type": "code",
   "execution_count": 4,
   "id": "3be4d10a-832b-41e7-be6a-5fc5afc8bf34",
   "metadata": {},
   "outputs": [
    {
     "name": "stdin",
     "output_type": "stream",
     "text": [
      "Enter age:  22\n",
      "Did you pass the driving test? (yes/no):  yes\n"
     ]
    },
    {
     "name": "stdout",
     "output_type": "stream",
     "text": [
      "Eligible for a driving license\n"
     ]
    }
   ],
   "source": [
    "age = int(input(\"Enter age: \"))   \n",
    "passed_test = input(\"Did you pass the driving test? (yes/no): \").lower()   \n",
    "if age >= 18 and passed_test == \"yes\":   \n",
    "    print(\"Eligible for a driving license\")   \n",
    "else:   \n",
    "    print(\"Not eligible\") "
   ]
  },
  {
   "cell_type": "code",
   "execution_count": 5,
   "id": "bde99e9e-d3bf-40d5-8bb8-9a0aaa4d06f7",
   "metadata": {},
   "outputs": [
    {
     "name": "stdin",
     "output_type": "stream",
     "text": [
      "Enter age:  22\n",
      "Did you pass the driving test? (yes/no):  no\n"
     ]
    },
    {
     "name": "stdout",
     "output_type": "stream",
     "text": [
      "Not eligible\n"
     ]
    }
   ],
   "source": [
    "age = int(input(\"Enter age: \"))   \n",
    "passed_test = input(\"Did you pass the driving test? (yes/no): \").lower()   \n",
    "if age >= 18 and passed_test == \"yes\":   \n",
    "    print(\"Eligible for a driving license\")   \n",
    "else:   \n",
    "    print(\"Not eligible\") "
   ]
  },
  {
   "cell_type": "markdown",
   "id": "7385db4d-7b5c-4cc2-bacf-b6dda8c5db9e",
   "metadata": {},
   "source": [
    "# 24. Determine if a triangle is equilateral, isosceles, or scalene "
   ]
  },
  {
   "cell_type": "code",
   "execution_count": 6,
   "id": "cc25b597-7d1e-4de8-b78d-f6d799b03f9a",
   "metadata": {},
   "outputs": [
    {
     "name": "stdin",
     "output_type": "stream",
     "text": [
      "Enter first side:  55\n",
      "Enter second side:  55\n",
      "Enter third side:  55\n"
     ]
    },
    {
     "name": "stdout",
     "output_type": "stream",
     "text": [
      "Equilateral Triangle\n"
     ]
    }
   ],
   "source": [
    "a = int(input(\"Enter first side: \"))   \n",
    "b = int(input(\"Enter second side: \"))   \n",
    "c = int(input(\"Enter third side: \"))   \n",
    "if a == b == c:   \n",
    "    print(\"Equilateral Triangle\")   \n",
    "elif a == b or b == c or a == c:   \n",
    "    print(\"Isosceles Triangle\")   \n",
    "else:   \n",
    "    print(\"Scalene Triangle\")   "
   ]
  },
  {
   "cell_type": "code",
   "execution_count": 7,
   "id": "e9110fc0-227f-4deb-98e1-f791d6c49355",
   "metadata": {},
   "outputs": [
    {
     "name": "stdin",
     "output_type": "stream",
     "text": [
      "Enter first side:  40\n",
      "Enter second side:  22\n",
      "Enter third side:  60\n"
     ]
    },
    {
     "name": "stdout",
     "output_type": "stream",
     "text": [
      "Scalene Triangle\n"
     ]
    }
   ],
   "source": [
    "a = int(input(\"Enter first side: \"))   \n",
    "b = int(input(\"Enter second side: \"))   \n",
    "c = int(input(\"Enter third side: \"))   \n",
    "if a == b == c:   \n",
    "    print(\"Equilateral Triangle\")   \n",
    "elif a == b or b == c or a == c:   \n",
    "    print(\"Isosceles Triangle\")   \n",
    "else:   \n",
    "    print(\"Scalene Triangle\")   "
   ]
  },
  {
   "cell_type": "markdown",
   "id": "13f96918-b516-409e-a991-28b0465980da",
   "metadata": {},
   "source": [
    "# 25. Determine if a student passes or fails "
   ]
  },
  {
   "cell_type": "code",
   "execution_count": 9,
   "id": "347f8d3a-8262-47a8-89be-40606bcf9c46",
   "metadata": {},
   "outputs": [
    {
     "name": "stdin",
     "output_type": "stream",
     "text": [
      "Enter marks:  75\n"
     ]
    },
    {
     "name": "stdout",
     "output_type": "stream",
     "text": [
      "Fail\n"
     ]
    }
   ],
   "source": [
    "marks = int(input(\"Enter marks: \"))   \n",
    "if marks >= 100:   \n",
    "    print(\"Pass\")   \n",
    "else:   \n",
    "    print(\"Fail\")   "
   ]
  },
  {
   "cell_type": "code",
   "execution_count": 10,
   "id": "13613a89-2d0a-4980-a097-f045e411be70",
   "metadata": {},
   "outputs": [
    {
     "name": "stdin",
     "output_type": "stream",
     "text": [
      "Enter marks:  110\n"
     ]
    },
    {
     "name": "stdout",
     "output_type": "stream",
     "text": [
      "Pass\n"
     ]
    }
   ],
   "source": [
    "marks = int(input(\"Enter marks: \"))   \n",
    "if marks >= 40:   \n",
    "    print(\"Pass\")   \n",
    "else:   \n",
    "    print(\"Fail\")   "
   ]
  },
  {
   "cell_type": "markdown",
   "id": "6a35db67-fd0b-477c-a6de-48be00a5b698",
   "metadata": {},
   "source": [
    "# 26. Check if a number is a palindrome "
   ]
  },
  {
   "cell_type": "code",
   "execution_count": 11,
   "id": "aa164b64-a14a-4f41-ac1a-f68bc48d52f2",
   "metadata": {},
   "outputs": [
    {
     "name": "stdin",
     "output_type": "stream",
     "text": [
      "Enter a number:  555\n"
     ]
    },
    {
     "name": "stdout",
     "output_type": "stream",
     "text": [
      "Palindrome\n"
     ]
    }
   ],
   "source": [
    "num = input(\"Enter a number: \")   \n",
    "if num == num[::-1]:   \n",
    "    print(\"Palindrome\")   \n",
    "else:   \n",
    "    print(\"Not a Palindrome\")  "
   ]
  },
  {
   "cell_type": "code",
   "execution_count": 12,
   "id": "61dc0ecf-f596-4bf0-a088-986a8b3245f4",
   "metadata": {},
   "outputs": [
    {
     "name": "stdin",
     "output_type": "stream",
     "text": [
      "Enter a number:  45\n"
     ]
    },
    {
     "name": "stdout",
     "output_type": "stream",
     "text": [
      "Not a Palindrome\n"
     ]
    }
   ],
   "source": [
    "num = input(\"Enter a number: \")   \n",
    "if num == num[::-1]:   \n",
    "    print(\"Palindrome\")   \n",
    "else:   \n",
    "    print(\"Not a Palindrome\")  "
   ]
  },
  {
   "cell_type": "markdown",
   "id": "02e35561-3445-4bc4-b61c-53ce5cb17648",
   "metadata": {},
   "source": [
    "# 27. Calculate electricity bill "
   ]
  },
  {
   "cell_type": "code",
   "execution_count": 13,
   "id": "4841540b-6542-4bc9-9408-a8ad60a3a218",
   "metadata": {},
   "outputs": [
    {
     "name": "stdin",
     "output_type": "stream",
     "text": [
      "Enter electricity units consumed:  500\n"
     ]
    },
    {
     "name": "stdout",
     "output_type": "stream",
     "text": [
      "Total Bill: ₹ 5500\n"
     ]
    }
   ],
   "source": [
    "units = int(input(\"Enter electricity units consumed: \"))   \n",
    "if units <= 100:   \n",
    "    bill = units * 5   \n",
    "elif units <= 300:   \n",
    "    bill = (100 * 5) + (units - 100) * 10   \n",
    "else:   \n",
    "    bill = (100 * 5) + (200 * 10) + (units - 300) * 15   \n",
    "print(\"Total Bill: ₹\", bill) "
   ]
  },
  {
   "cell_type": "markdown",
   "id": "e7c5802f-9611-474a-bf61-1e34cfece7f7",
   "metadata": {},
   "source": [
    "# 28. Find the grade of a student "
   ]
  },
  {
   "cell_type": "code",
   "execution_count": 14,
   "id": "87a248ea-14d9-40ab-b90c-878354382604",
   "metadata": {},
   "outputs": [
    {
     "name": "stdin",
     "output_type": "stream",
     "text": [
      "Enter marks:  87\n"
     ]
    },
    {
     "name": "stdout",
     "output_type": "stream",
     "text": [
      "Grade: B\n"
     ]
    }
   ],
   "source": [
    "marks = int(input(\"Enter marks: \"))   \n",
    "if marks >= 90:   \n",
    "    print(\"Grade: A\")   \n",
    "elif marks >= 80:   \n",
    "    print(\"Grade: B\")   \n",
    "elif marks >= 70:   \n",
    "    print(\"Grade: C\")   \n",
    "elif marks >= 60:   \n",
    "    print(\"Grade: D\")   \n",
    "elif marks >= 40:   \n",
    "    print(\"Grade: E\")   \n",
    "else:   \n",
    "    print(\"Grade: F (Fail)\")   "
   ]
  },
  {
   "cell_type": "code",
   "execution_count": 15,
   "id": "86afe6c6-206e-4a55-92d4-30197b64e414",
   "metadata": {},
   "outputs": [
    {
     "name": "stdin",
     "output_type": "stream",
     "text": [
      "Enter marks:  35\n"
     ]
    },
    {
     "name": "stdout",
     "output_type": "stream",
     "text": [
      "Grade: F (Fail)\n"
     ]
    }
   ],
   "source": [
    "marks = int(input(\"Enter marks: \"))   \n",
    "if marks >= 90:   \n",
    "    print(\"Grade: A\")   \n",
    "elif marks >= 80:   \n",
    "    print(\"Grade: B\")   \n",
    "elif marks >= 70:   \n",
    "    print(\"Grade: C\")   \n",
    "elif marks >= 60:   \n",
    "    print(\"Grade: D\")   \n",
    "elif marks >= 40:   \n",
    "    print(\"Grade: E\")   \n",
    "else:   \n",
    "    print(\"Grade: F (Fail)\")   "
   ]
  },
  {
   "cell_type": "markdown",
   "id": "8c2311a7-ba44-4e9f-acdc-022b8a681b91",
   "metadata": {},
   "source": [
    "# 29. Determine if a given date is valid "
   ]
  },
  {
   "cell_type": "code",
   "execution_count": 18,
   "id": "19c7793f-9b9b-48c1-a427-0477d27fc00a",
   "metadata": {},
   "outputs": [
    {
     "name": "stdin",
     "output_type": "stream",
     "text": [
      "Enter day:  33\n",
      "Enter month:  4\n",
      "Enter year:  2002\n"
     ]
    },
    {
     "name": "stdout",
     "output_type": "stream",
     "text": [
      "Invalid date\n"
     ]
    }
   ],
   "source": [
    "import calendar   \n",
    "day = int(input(\"Enter day: \"))   \n",
    "month = int(input(\"Enter month: \"))   \n",
    "year = int(input(\"Enter year: \"))   \n",
    "if 1 <= month <= 12 and 1 <= day <= calendar.monthrange(year, month)[1]:   \n",
    "    print(\"Valid date\")   \n",
    "else:   \n",
    "    print(\"Invalid date\")   "
   ]
  },
  {
   "cell_type": "code",
   "execution_count": 19,
   "id": "cd44d8a9-de58-4f9a-9163-36aaff970e24",
   "metadata": {},
   "outputs": [
    {
     "name": "stdin",
     "output_type": "stream",
     "text": [
      "Enter day:  18\n",
      "Enter month:  9\n",
      "Enter year:  2002\n"
     ]
    },
    {
     "name": "stdout",
     "output_type": "stream",
     "text": [
      "Valid date\n"
     ]
    }
   ],
   "source": [
    "import calendar   \n",
    "day = int(input(\"Enter day: \"))   \n",
    "month = int(input(\"Enter month: \"))   \n",
    "year = int(input(\"Enter year: \"))   \n",
    "if 1 <= month <= 12 and 1 <= day <= calendar.monthrange(year, month)[1]:   \n",
    "    print(\"Valid date\")   \n",
    "else:   \n",
    "    print(\"Invalid date\")  "
   ]
  },
  {
   "cell_type": "markdown",
   "id": "1bd53f88-4b34-412e-9fea-4b0bdba651a8",
   "metadata": {},
   "source": [
    "# 30. Check if a given time is AM or PM "
   ]
  },
  {
   "cell_type": "code",
   "execution_count": 20,
   "id": "d1eff0d1-a3a5-4b00-b466-1e2476414aaa",
   "metadata": {},
   "outputs": [
    {
     "name": "stdin",
     "output_type": "stream",
     "text": [
      "Enter hour (24-hour format):  4\n"
     ]
    },
    {
     "name": "stdout",
     "output_type": "stream",
     "text": [
      "AM\n"
     ]
    }
   ],
   "source": [
    "hour = int(input(\"Enter hour (24-hour format): \"))   \n",
    "if hour < 12:   \n",
    "    print(\"AM\")   \n",
    "else:   \n",
    "    print(\"PM\")   "
   ]
  },
  {
   "cell_type": "code",
   "execution_count": 21,
   "id": "0e0d5636-ee1d-48eb-81ad-84aad2092e21",
   "metadata": {},
   "outputs": [
    {
     "name": "stdin",
     "output_type": "stream",
     "text": [
      "Enter hour (24-hour format):  22\n"
     ]
    },
    {
     "name": "stdout",
     "output_type": "stream",
     "text": [
      "PM\n"
     ]
    }
   ],
   "source": [
    "hour = int(input(\"Enter hour (24-hour format): \"))   \n",
    "if hour < 12:   \n",
    "    print(\"AM\")   \n",
    "else:   \n",
    "    print(\"PM\")   "
   ]
  },
  {
   "cell_type": "markdown",
   "id": "26bd1c1b-582a-4e70-afb8-6ab92d1a4846",
   "metadata": {},
   "source": [
    "# 31. Check if a number is an Armstrong number "
   ]
  },
  {
   "cell_type": "code",
   "execution_count": 22,
   "id": "a4936298-6a5a-4993-8221-be6c2847a8c0",
   "metadata": {},
   "outputs": [
    {
     "name": "stdin",
     "output_type": "stream",
     "text": [
      "Enter a number:  153\n"
     ]
    },
    {
     "name": "stdout",
     "output_type": "stream",
     "text": [
      "Armstrong Number\n"
     ]
    }
   ],
   "source": [
    "num = input(\"Enter a number: \")   \n",
    "power = len(num)   \n",
    "if sum(int(digit) ** power for digit in num) == int(num):   \n",
    "    print(\"Armstrong Number\")   \n",
    "else:   \n",
    "    print(\"Not an Armstrong Number\")   "
   ]
  },
  {
   "cell_type": "code",
   "execution_count": 23,
   "id": "ccde289b-4662-4d6d-a2c6-20c7ff6858d2",
   "metadata": {},
   "outputs": [
    {
     "name": "stdin",
     "output_type": "stream",
     "text": [
      "Enter a number:  332\n"
     ]
    },
    {
     "name": "stdout",
     "output_type": "stream",
     "text": [
      "Not an Armstrong Number\n"
     ]
    }
   ],
   "source": [
    "num = input(\"Enter a number: \")   \n",
    "power = len(num)   \n",
    "if sum(int(digit) ** power for digit in num) == int(num):   \n",
    "    print(\"Armstrong Number\")   \n",
    "else:   \n",
    "    print(\"Not an Armstrong Number\")   "
   ]
  },
  {
   "cell_type": "markdown",
   "id": "2138856c-2720-4efd-a250-8b27a8a373c3",
   "metadata": {},
   "source": [
    "# 32. Determine the type of quadrilateral"
   ]
  },
  {
   "cell_type": "code",
   "execution_count": 24,
   "id": "c1f6ed99-789d-40ce-9f08-9404f9d0bdc2",
   "metadata": {},
   "outputs": [
    {
     "name": "stdin",
     "output_type": "stream",
     "text": [
      "Enter first side:  30\n",
      "Enter second side:  20\n",
      "Enter third side:  20\n",
      "Enter fourth side:  30\n"
     ]
    },
    {
     "name": "stdout",
     "output_type": "stream",
     "text": [
      "Other Quadrilateral\n"
     ]
    }
   ],
   "source": [
    "a = int(input(\"Enter first side: \"))   \n",
    "b = int(input(\"Enter second side: \"))   \n",
    "c = int(input(\"Enter third side: \"))   \n",
    "d = int(input(\"Enter fourth side: \"))   \n",
    "if a == b == c == d:   \n",
    "    print(\"Square\")   \n",
    "elif a == c and b == d:   \n",
    "    print(\"Rectangle\")   \n",
    "else:   \n",
    "    print(\"Other Quadrilateral\")   "
   ]
  },
  {
   "cell_type": "code",
   "execution_count": 25,
   "id": "13c15216-d3dd-4ddd-9378-d3a7b6490f61",
   "metadata": {},
   "outputs": [
    {
     "name": "stdin",
     "output_type": "stream",
     "text": [
      "Enter first side:  22\n",
      "Enter second side:  22\n",
      "Enter third side:  22\n",
      "Enter fourth side:  22\n"
     ]
    },
    {
     "name": "stdout",
     "output_type": "stream",
     "text": [
      "Square\n"
     ]
    }
   ],
   "source": [
    "a = int(input(\"Enter first side: \"))   \n",
    "b = int(input(\"Enter second side: \"))   \n",
    "c = int(input(\"Enter third side: \"))   \n",
    "d = int(input(\"Enter fourth side: \"))   \n",
    "if a == b == c == d:   \n",
    "    print(\"Square\")   \n",
    "elif a == c and b == d:   \n",
    "    print(\"Rectangle\")   \n",
    "else:   \n",
    "    print(\"Other Quadrilateral\")   "
   ]
  },
  {
   "cell_type": "markdown",
   "id": "c01e7627-c858-4bcd-9bd0-2ebd0c873c51",
   "metadata": {},
   "source": [
    "# 33. Implement a basic calculator "
   ]
  },
  {
   "cell_type": "code",
   "execution_count": 26,
   "id": "f0d23f3e-d611-4119-9f54-7e02789f1783",
   "metadata": {},
   "outputs": [
    {
     "name": "stdin",
     "output_type": "stream",
     "text": [
      "Enter first number:  10\n",
      "Enter second number:  20\n",
      "Enter operation (+, -, *, /):  +\n"
     ]
    },
    {
     "name": "stdout",
     "output_type": "stream",
     "text": [
      "Result: 30.0\n"
     ]
    }
   ],
   "source": [
    "a = float(input(\"Enter first number: \"))   \n",
    "b = float(input(\"Enter second number: \"))   \n",
    "op = input(\"Enter operation (+, -, *, /): \")   \n",
    "if op == \"+\":   \n",
    "    print(\"Result:\", a + b)   \n",
    "elif op == \"-\":   \n",
    "    print(\"Result:\", a - b)   \n",
    "elif op == \"*\":   \n",
    "    print(\"Result:\", a * b)   \n",
    "elif op == \"/\":   \n",
    "    print(\"Result:\", a / b)   \n",
    "else:   \n",
    "    print(\"Invalid operation\")   "
   ]
  },
  {
   "cell_type": "code",
   "execution_count": 27,
   "id": "898b9e4d-2ad2-44cc-9a5b-b2fbbbad9e54",
   "metadata": {},
   "outputs": [
    {
     "name": "stdin",
     "output_type": "stream",
     "text": [
      "Enter first number:  10\n",
      "Enter second number:  20\n",
      "Enter operation (+, -, *, /):  *\n"
     ]
    },
    {
     "name": "stdout",
     "output_type": "stream",
     "text": [
      "Result: 200.0\n"
     ]
    }
   ],
   "source": [
    "a = float(input(\"Enter first number: \"))   \n",
    "b = float(input(\"Enter second number: \"))   \n",
    "op = input(\"Enter operation (+, -, *, /): \")   \n",
    "if op == \"+\":   \n",
    "    print(\"Result:\", a + b)   \n",
    "elif op == \"-\":   \n",
    "    print(\"Result:\", a - b)   \n",
    "elif op == \"*\":   \n",
    "    print(\"Result:\", a * b)   \n",
    "elif op == \"/\":   \n",
    "    print(\"Result:\", a / b)   \n",
    "else:   \n",
    "    print(\"Invalid operation\")   "
   ]
  },
  {
   "cell_type": "markdown",
   "id": "951c4c7d-27c4-42b5-9e1e-230368564b37",
   "metadata": {},
   "source": [
    "# 34. Check if a bank account balance is sufficient for withdrawal "
   ]
  },
  {
   "cell_type": "code",
   "execution_count": 28,
   "id": "66c345b5-da6a-4255-8cd8-253888eaa180",
   "metadata": {},
   "outputs": [
    {
     "name": "stdin",
     "output_type": "stream",
     "text": [
      "Enter account balance:  1000\n",
      "Enter withdrawal amount:  200\n"
     ]
    },
    {
     "name": "stdout",
     "output_type": "stream",
     "text": [
      "Withdrawal successful\n"
     ]
    }
   ],
   "source": [
    "balance = float(input(\"Enter account balance: \"))   \n",
    "withdraw = float(input(\"Enter withdrawal amount: \"))   \n",
    "if balance >= withdraw:   \n",
    "    print(\"Withdrawal successful\")   \n",
    "else:   \n",
    "    print(\"Insufficient funds\")   "
   ]
  },
  {
   "cell_type": "code",
   "execution_count": 29,
   "id": "72fa13d1-1100-4318-8825-c9d76ca35857",
   "metadata": {},
   "outputs": [
    {
     "name": "stdin",
     "output_type": "stream",
     "text": [
      "Enter account balance:  1000\n",
      "Enter withdrawal amount:  2500\n"
     ]
    },
    {
     "name": "stdout",
     "output_type": "stream",
     "text": [
      "Insufficient funds\n"
     ]
    }
   ],
   "source": [
    "balance = float(input(\"Enter account balance: \"))   \n",
    "withdraw = float(input(\"Enter withdrawal amount: \"))   \n",
    "if balance >= withdraw:   \n",
    "    print(\"Withdrawal successful\")   \n",
    "else:   \n",
    "    print(\"Insufficient funds\")   "
   ]
  },
  {
   "cell_type": "markdown",
   "id": "ac4fbaf1-792a-4dde-ac43-f47c7b3a9df5",
   "metadata": {},
   "source": [
    "# 35. Implement a temperature converter "
   ]
  },
  {
   "cell_type": "code",
   "execution_count": 30,
   "id": "6ac4b5d6-b1a4-410a-8748-fc83ec7a21eb",
   "metadata": {},
   "outputs": [
    {
     "name": "stdin",
     "output_type": "stream",
     "text": [
      "Enter temperature:  300\n",
      "Enter unit (C/F):  f\n"
     ]
    },
    {
     "name": "stdout",
     "output_type": "stream",
     "text": [
      "Celsius: 148.88888888888889\n"
     ]
    }
   ],
   "source": [
    "temp = float(input(\"Enter temperature: \"))   \n",
    "unit = input(\"Enter unit (C/F): \").upper()   \n",
    "if unit == \"C\":   \n",
    "    print(\"Fahrenheit:\", (temp * 9/5) + 32)   \n",
    "elif unit == \"F\":   \n",
    "    print(\"Celsius:\", (temp - 32) * 5/9)   \n",
    "else:   \n",
    "    print(\"Invalid unit\")  "
   ]
  },
  {
   "cell_type": "markdown",
   "id": "17efe346-32b8-488c-ba2a-f16f4b791121",
   "metadata": {},
   "source": [
    "# 36. Check if a number lies within a range (50-100) "
   ]
  },
  {
   "cell_type": "code",
   "execution_count": 31,
   "id": "e5466966-8505-4544-b94f-ab1b681b9bdf",
   "metadata": {},
   "outputs": [
    {
     "name": "stdin",
     "output_type": "stream",
     "text": [
      "Enter a number:  66\n"
     ]
    },
    {
     "name": "stdout",
     "output_type": "stream",
     "text": [
      "Within range\n"
     ]
    }
   ],
   "source": [
    "num = int(input(\"Enter a number: \"))   \n",
    "if 50 <= num <= 100:   \n",
    "    print(\"Within range\")   \n",
    "else:   \n",
    "    print(\"Out of range\")   "
   ]
  },
  {
   "cell_type": "code",
   "execution_count": 32,
   "id": "4ad549dd-aa62-4336-aeb0-b206154ec0b5",
   "metadata": {},
   "outputs": [
    {
     "name": "stdin",
     "output_type": "stream",
     "text": [
      "Enter a number:  122\n"
     ]
    },
    {
     "name": "stdout",
     "output_type": "stream",
     "text": [
      "Out of range\n"
     ]
    }
   ],
   "source": [
    "num = int(input(\"Enter a number: \"))   \n",
    "if 50 <= num <= 100:   \n",
    "    print(\"Within range\")   \n",
    "else:   \n",
    "    print(\"Out of range\")   "
   ]
  },
  {
   "cell_type": "markdown",
   "id": "a330df14-6f1c-44f1-b30f-ef59182756d3",
   "metadata": {},
   "source": [
    "# 37. Determine if a year is a century year"
   ]
  },
  {
   "cell_type": "code",
   "execution_count": 33,
   "id": "8cdc63a3-2082-4951-b9c1-c3778d397c54",
   "metadata": {},
   "outputs": [
    {
     "name": "stdin",
     "output_type": "stream",
     "text": [
      "Enter a year:  2002\n"
     ]
    },
    {
     "name": "stdout",
     "output_type": "stream",
     "text": [
      "Not a Century Year\n"
     ]
    }
   ],
   "source": [
    "year = int(input(\"Enter a year: \"))   \n",
    "if year % 100 == 0:   \n",
    "    print(\"Century Year\")   \n",
    "else:   \n",
    "    print(\"Not a Century Year\") \n"
   ]
  },
  {
   "cell_type": "code",
   "execution_count": 34,
   "id": "c21f7604-0429-4d18-a5ab-c012f5de3fb7",
   "metadata": {},
   "outputs": [
    {
     "name": "stdin",
     "output_type": "stream",
     "text": [
      "Enter a year:  1000\n"
     ]
    },
    {
     "name": "stdout",
     "output_type": "stream",
     "text": [
      "Century Year\n"
     ]
    }
   ],
   "source": [
    "year = int(input(\"Enter a year: \"))   \n",
    "if year % 100 == 0:   \n",
    "    print(\"Century Year\")   \n",
    "else:   \n",
    "    print(\"Not a Century Year\") "
   ]
  },
  {
   "cell_type": "markdown",
   "id": "42193613-76bd-4a43-9964-fba99eb13450",
   "metadata": {},
   "source": [
    "# 38. Check if a number is a power of 2"
   ]
  },
  {
   "cell_type": "code",
   "execution_count": 35,
   "id": "3c2985da-db88-448d-99cb-03c26922a2ab",
   "metadata": {},
   "outputs": [
    {
     "name": "stdin",
     "output_type": "stream",
     "text": [
      "Enter a number:  10\n"
     ]
    },
    {
     "name": "stdout",
     "output_type": "stream",
     "text": [
      "Not a Power of 2\n"
     ]
    }
   ],
   "source": [
    "num = int(input(\"Enter a number: \"))   \n",
    "if num > 0 and (num & (num - 1)) == 0:   \n",
    "    print(\"Power of 2\")   \n",
    "else:   \n",
    "    print(\"Not a Power of 2\")   "
   ]
  },
  {
   "cell_type": "code",
   "execution_count": 36,
   "id": "1cf02a73-e1cd-490d-9339-b64982d69f25",
   "metadata": {},
   "outputs": [
    {
     "name": "stdin",
     "output_type": "stream",
     "text": [
      "Enter a number:  16\n"
     ]
    },
    {
     "name": "stdout",
     "output_type": "stream",
     "text": [
      "Power of 2\n"
     ]
    }
   ],
   "source": [
    "num = int(input(\"Enter a number: \"))   \n",
    "if num > 0 and (num & (num - 1)) == 0:   \n",
    "    print(\"Power of 2\")   \n",
    "else:   \n",
    "    print(\"Not a Power of 2\")   "
   ]
  },
  {
   "cell_type": "markdown",
   "id": "f921275f-c13e-4111-9ade-82c3453a3526",
   "metadata": {},
   "source": [
    "# 39. Determine how many days a month has  "
   ]
  },
  {
   "cell_type": "code",
   "execution_count": 37,
   "id": "b8ebe9fb-be62-433d-a915-164e357861c5",
   "metadata": {},
   "outputs": [
    {
     "name": "stdin",
     "output_type": "stream",
     "text": [
      "Enter month (1-12):  9\n",
      "Enter year:  2002\n"
     ]
    },
    {
     "name": "stdout",
     "output_type": "stream",
     "text": [
      "Days: 30\n"
     ]
    }
   ],
   "source": [
    "month = int(input(\"Enter month (1-12): \"))   \n",
    "year = int(input(\"Enter year: \"))   \n",
    "days = [31, 28 + (1 if (year % 4 == 0 and year % 100 != 0) or (year % 400 == 0) else 0), 31, \n",
    "30, 31, 30, 31, 31, 30, 31, 30, 31]   \n",
    "print(\"Days:\", days[month - 1])   "
   ]
  },
  {
   "cell_type": "markdown",
   "id": "e42ab266-244d-49b7-8581-c7e1ce3476e1",
   "metadata": {},
   "source": [
    "#   40. Validate a password"
   ]
  },
  {
   "cell_type": "code",
   "execution_count": 39,
   "id": "04162481-89d0-45e6-aa3b-721feaada44c",
   "metadata": {},
   "outputs": [
    {
     "name": "stdin",
     "output_type": "stream",
     "text": [
      "Enter password:  Trupti.111\n"
     ]
    },
    {
     "name": "stdout",
     "output_type": "stream",
     "text": [
      "Valid Password\n"
     ]
    }
   ],
   "source": [
    "import re   \n",
    "password = input(\"Enter password: \")   \n",
    "if len(password) >= 8 and re.search(r\"[A-Za-z]\", password) and re.search(r\"\\d\", password):   \n",
    "    print(\"Valid Password\")   \n",
    "else:   \n",
    "    print(\"Invalid Password\")  "
   ]
  },
  {
   "cell_type": "code",
   "execution_count": null,
   "id": "0a9601ca-2b1f-435b-8e0a-5e33d0108f77",
   "metadata": {},
   "outputs": [],
   "source": []
  },
  {
   "cell_type": "code",
   "execution_count": null,
   "id": "add7e698-275b-4cd6-8eb7-95eacf665061",
   "metadata": {},
   "outputs": [],
   "source": []
  },
  {
   "cell_type": "code",
   "execution_count": null,
   "id": "57d790c3-03e3-4fb1-a7fd-0ee5d2b15ff9",
   "metadata": {},
   "outputs": [],
   "source": []
  },
  {
   "cell_type": "code",
   "execution_count": null,
   "id": "88fb68ec-88c9-46bc-984d-fca1cb201251",
   "metadata": {},
   "outputs": [],
   "source": []
  }
 ],
 "metadata": {
  "kernelspec": {
   "display_name": "Python 3 (ipykernel)",
   "language": "python",
   "name": "python3"
  },
  "language_info": {
   "codemirror_mode": {
    "name": "ipython",
    "version": 3
   },
   "file_extension": ".py",
   "mimetype": "text/x-python",
   "name": "python",
   "nbconvert_exporter": "python",
   "pygments_lexer": "ipython3",
   "version": "3.12.7"
  }
 },
 "nbformat": 4,
 "nbformat_minor": 5
}

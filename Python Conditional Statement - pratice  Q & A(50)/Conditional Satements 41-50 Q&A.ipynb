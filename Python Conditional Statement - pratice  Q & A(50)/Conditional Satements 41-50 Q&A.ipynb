{
 "cells": [
  {
   "cell_type": "markdown",
   "id": "56668330-74d7-40db-80bf-26e344f48044",
   "metadata": {},
   "source": [
    "# 41. Implement a ticket pricing system"
   ]
  },
  {
   "cell_type": "code",
   "execution_count": 1,
   "id": "c6dde34a-b794-4f33-a172-d9110fbc6751",
   "metadata": {},
   "outputs": [
    {
     "name": "stdin",
     "output_type": "stream",
     "text": [
      "Enter age:  3\n"
     ]
    },
    {
     "name": "stdout",
     "output_type": "stream",
     "text": [
      "Ticket Price: Free\n"
     ]
    }
   ],
   "source": [
    "age = int(input(\"Enter age: \"))  \n",
    "if age < 5:   \n",
    "    print(\"Ticket Price: Free\")   \n",
    "elif age >= 60:   \n",
    "    print(\"Ticket Price: ₹50\")   \n",
    "else:   \n",
    "    print(\"Ticket Price: ₹100\")   "
   ]
  },
  {
   "cell_type": "code",
   "execution_count": 4,
   "id": "9f26745f-4e33-4d38-9193-f290a90aa573",
   "metadata": {},
   "outputs": [
    {
     "name": "stdin",
     "output_type": "stream",
     "text": [
      "Enter age:  34\n"
     ]
    },
    {
     "name": "stdout",
     "output_type": "stream",
     "text": [
      "Ticket Price: ₹100\n"
     ]
    }
   ],
   "source": [
    "age = int(input(\"Enter age: \"))  \n",
    "if age < 5:   \n",
    "    print(\"Ticket Price: Free\")   \n",
    "elif age >= 60:   \n",
    "    print(\"Ticket Price: ₹50\")   \n",
    "else:   \n",
    "    print(\"Ticket Price: ₹100\")  "
   ]
  },
  {
   "cell_type": "markdown",
   "id": "efd60c3d-76f6-4b49-b07d-f9894bc8ef95",
   "metadata": {},
   "source": [
    "# 42. Check if three numbers form a Pythagorean triplet "
   ]
  },
  {
   "cell_type": "code",
   "execution_count": 9,
   "id": "1f07bddf-c0d8-40b3-953c-8e5bc153eba9",
   "metadata": {},
   "outputs": [
    {
     "name": "stdin",
     "output_type": "stream",
     "text": [
      "Enter three numbers:  3 4 5\n"
     ]
    },
    {
     "name": "stdout",
     "output_type": "stream",
     "text": [
      "Pythagorean Triplet\n"
     ]
    }
   ],
   "source": [
    "a, b, c = sorted(map(int, input(\"Enter three numbers: \").split()))   \n",
    "if a**2 + b**2 == c**2:   \n",
    "    print(\"Pythagorean Triplet\")   \n",
    "else:   \n",
    "    print(\"Not a Pythagorean Triplet\")   "
   ]
  },
  {
   "cell_type": "code",
   "execution_count": 10,
   "id": "80a188fc-1b8f-4294-b65a-ac4452578273",
   "metadata": {},
   "outputs": [
    {
     "name": "stdin",
     "output_type": "stream",
     "text": [
      "Enter three numbers:  5 5 5\n"
     ]
    },
    {
     "name": "stdout",
     "output_type": "stream",
     "text": [
      "Not a Pythagorean Triplet\n"
     ]
    }
   ],
   "source": [
    "a, b, c = sorted(map(int, input(\"Enter three numbers: \").split()))   \n",
    "if a**2 + b**2 == c**2:   \n",
    "    print(\"Pythagorean Triplet\")   \n",
    "else:   \n",
    "    print(\"Not a Pythagorean Triplet\")   "
   ]
  },
  {
   "cell_type": "markdown",
   "id": "85e28ee7-f412-4528-8d5a-21003992b0f1",
   "metadata": {},
   "source": [
    "# 43. Convert a Roman numeral to an integer"
   ]
  },
  {
   "cell_type": "code",
   "execution_count": 12,
   "id": "a22e460e-97d8-47e5-8dee-0ccdd314be5a",
   "metadata": {},
   "outputs": [
    {
     "name": "stdin",
     "output_type": "stream",
     "text": [
      "Enter Roman numeral:  x\n"
     ]
    },
    {
     "name": "stdout",
     "output_type": "stream",
     "text": [
      "Integer: 10\n"
     ]
    }
   ],
   "source": [
    "def roman_to_int(s):   \n",
    "    roman = {'I': 1, 'V': 5, 'X': 10, 'L': 50, 'C': 100, 'D': 500, 'M': 1000}   \n",
    "    total = 0   \n",
    "    for i in range(len(s)):   \n",
    "        if i > 0 and roman[s[i]] > roman[s[i - 1]]:   \n",
    "            total += roman[s[i]] - 2 * roman[s[i - 1]]   \n",
    "        else:   \n",
    "            total += roman[s[i]]   \n",
    "    return total   \n",
    " \n",
    "num = input(\"Enter Roman numeral: \").upper()   \n",
    "print(\"Integer:\", roman_to_int(num))   "
   ]
  },
  {
   "cell_type": "code",
   "execution_count": 14,
   "id": "982485b4-d3a3-4c9a-b656-4ab0fa7f9357",
   "metadata": {},
   "outputs": [
    {
     "name": "stdin",
     "output_type": "stream",
     "text": [
      "Enter Roman numeral:  m\n"
     ]
    },
    {
     "name": "stdout",
     "output_type": "stream",
     "text": [
      "Integer: 1000\n"
     ]
    }
   ],
   "source": [
    "def roman_to_int(s):   \n",
    "    roman = {'I': 1, 'V': 5, 'X': 10, 'L': 50, 'C': 100, 'D': 500, 'M': 1000}   \n",
    "    total = 0   \n",
    "    for i in range(len(s)):   \n",
    "        if i > 0 and roman[s[i]] > roman[s[i - 1]]:   \n",
    "            total += roman[s[i]] - 2 * roman[s[i - 1]]   \n",
    "        else:   \n",
    "            total += roman[s[i]]   \n",
    "    return total   \n",
    " \n",
    "num = input(\"Enter Roman numeral: \").upper()   \n",
    "print(\"Integer:\", roman_to_int(num))   "
   ]
  },
  {
   "cell_type": "markdown",
   "id": "6718bf85-f339-4283-813b-63d894adb1de",
   "metadata": {},
   "source": [
    "# 44. Determine zodiac sign based on birth date"
   ]
  },
  {
   "cell_type": "code",
   "execution_count": 15,
   "id": "4bb4d986-ee34-403e-adc7-490a6664c9c6",
   "metadata": {},
   "outputs": [
    {
     "name": "stdin",
     "output_type": "stream",
     "text": [
      "Enter birth month (1-12):  9\n",
      "Enter birth day:  18\n"
     ]
    },
    {
     "name": "stdout",
     "output_type": "stream",
     "text": [
      "Zodiac Sign: Virgo\n"
     ]
    }
   ],
   "source": [
    "month = int(input(\"Enter birth month (1-12): \"))   \n",
    "day = int(input(\"Enter birth day: \"))   \n",
    " \n",
    "zodiac = [(\"Capricorn\", 20), (\"Aquarius\", 19), (\"Pisces\", 20), (\"Aries\", 20),   \n",
    "          (\"Taurus\", 21), (\"Gemini\", 21), (\"Cancer\", 22), (\"Leo\", 22),   \n",
    "          (\"Virgo\", 22), (\"Libra\", 23), (\"Scorpio\", 23), (\"Sagittarius\", 22), (\"Capricorn\", 31)]   \n",
    " \n",
    "sign = zodiac[month - 1][0] if day <= zodiac[month - 1][1] else zodiac[month][0]   \n",
    "print(\"Zodiac Sign:\", sign)   "
   ]
  },
  {
   "cell_type": "markdown",
   "id": "c0210a8a-6ae8-4085-95d0-05c9004982e6",
   "metadata": {},
   "source": [
    "# 45. Check if a number is a Harshad number"
   ]
  },
  {
   "cell_type": "code",
   "execution_count": 16,
   "id": "0ee11d69-35bd-4bac-85de-7033fcd577e5",
   "metadata": {},
   "outputs": [
    {
     "name": "stdin",
     "output_type": "stream",
     "text": [
      "Enter a number:  210\n"
     ]
    },
    {
     "name": "stdout",
     "output_type": "stream",
     "text": [
      "Harshad Number\n"
     ]
    }
   ],
   "source": [
    "num = int(input(\"Enter a number: \"))   \n",
    "sum_digits = sum(int(digit) for digit in str(num))   \n",
    "if num % sum_digits == 0:   \n",
    "    print(\"Harshad Number\")   \n",
    "else:   \n",
    "    print(\"Not a Harshad Number\")   "
   ]
  },
  {
   "cell_type": "code",
   "execution_count": 17,
   "id": "e1332dc8-53a0-4e12-a426-325f1e2c9894",
   "metadata": {},
   "outputs": [
    {
     "name": "stdin",
     "output_type": "stream",
     "text": [
      "Enter a number:  33\n"
     ]
    },
    {
     "name": "stdout",
     "output_type": "stream",
     "text": [
      "Not a Harshad Number\n"
     ]
    }
   ],
   "source": [
    "num = int(input(\"Enter a number: \"))   \n",
    "sum_digits = sum(int(digit) for digit in str(num))   \n",
    "if num % sum_digits == 0:   \n",
    "    print(\"Harshad Number\")   \n",
    "else:   \n",
    "    print(\"Not a Harshad Number\")   "
   ]
  },
  {
   "cell_type": "markdown",
   "id": "873d880b-24b0-4aea-b28d-c63330da793f",
   "metadata": {},
   "source": [
    "# 46. Validate an email format "
   ]
  },
  {
   "cell_type": "code",
   "execution_count": 18,
   "id": "69d1af06-512d-4aa8-848e-5009d728c6a4",
   "metadata": {},
   "outputs": [
    {
     "name": "stdin",
     "output_type": "stream",
     "text": [
      "Enter email:  trauptiarati\n"
     ]
    },
    {
     "name": "stdout",
     "output_type": "stream",
     "text": [
      "Invalid Email\n"
     ]
    }
   ],
   "source": [
    "import re   \n",
    "email = input(\"Enter email: \")   \n",
    "if re.match(r\"^[\\w\\.-]+@[\\w\\.-]+\\.(com|org|net|edu)$\", email):   \n",
    "     print(\"Valid Email\")   \n",
    "else:   \n",
    "    print(\"Invalid Email\")  "
   ]
  },
  {
   "cell_type": "code",
   "execution_count": 19,
   "id": "cc0fdfa5-a592-4c02-8b9b-acb7837e097d",
   "metadata": {},
   "outputs": [
    {
     "name": "stdin",
     "output_type": "stream",
     "text": [
      "Enter email:  truptiarati@gmail.com\n"
     ]
    },
    {
     "name": "stdout",
     "output_type": "stream",
     "text": [
      "Valid Email\n"
     ]
    }
   ],
   "source": [
    "import re   \n",
    "email = input(\"Enter email: \")   \n",
    "if re.match(r\"^[\\w\\.-]+@[\\w\\.-]+\\.(com|org|net|edu)$\", email):   \n",
    "     print(\"Valid Email\")   \n",
    "else:   \n",
    "    print(\"Invalid Email\")  "
   ]
  },
  {
   "cell_type": "markdown",
   "id": "a8a25f05-4c7d-4b74-96a0-8460c6136139",
   "metadata": {},
   "source": [
    "# 47. Check if a knight move in chess is valid "
   ]
  },
  {
   "cell_type": "code",
   "execution_count": 21,
   "id": "8bd3fc89-0632-4778-906a-bfdaa2ce0db0",
   "metadata": {},
   "outputs": [
    {
     "name": "stdin",
     "output_type": "stream",
     "text": [
      "Enter current position (x y):  4 6\n",
      "Enter new position (x y):  6 7\n"
     ]
    },
    {
     "name": "stdout",
     "output_type": "stream",
     "text": [
      "Valid Knight Move\n"
     ]
    }
   ],
   "source": [
    "x1, y1 = map(int, input(\"Enter current position (x y): \").split())   \n",
    "x2, y2 = map(int, input(\"Enter new position (x y): \").split())   \n",
    " \n",
    "if (abs(x1 - x2), abs(y1 - y2)) in [(2, 1), (1, 2)]:   \n",
    "    print(\"Valid Knight Move\")   \n",
    "else:   \n",
    "    print(\"Invalid Move\")   "
   ]
  },
  {
   "cell_type": "code",
   "execution_count": 22,
   "id": "9a96aeb6-354f-4a57-99bc-279a07a3c7c8",
   "metadata": {},
   "outputs": [
    {
     "name": "stdin",
     "output_type": "stream",
     "text": [
      "Enter current position (x y):  2 3\n",
      "Enter new position (x y):  3 8\n"
     ]
    },
    {
     "name": "stdout",
     "output_type": "stream",
     "text": [
      "Invalid Move\n"
     ]
    }
   ],
   "source": [
    "x1, y1 = map(int, input(\"Enter current position (x y): \").split())   \n",
    "x2, y2 = map(int, input(\"Enter new position (x y): \").split())   \n",
    " \n",
    "if (abs(x1 - x2), abs(y1 - y2)) in [(2, 1), (1, 2)]:   \n",
    "    print(\"Valid Knight Move\")   \n",
    "else:   \n",
    "    print(\"Invalid Move\")   "
   ]
  },
  {
   "cell_type": "markdown",
   "id": "633535a7-ef14-4b0f-a764-7cfe6d897af5",
   "metadata": {},
   "source": [
    "# 48. Implement a loan eligibility checker "
   ]
  },
  {
   "cell_type": "code",
   "execution_count": 23,
   "id": "bd0e4b8c-7555-42e4-b00f-5fbad79e7116",
   "metadata": {},
   "outputs": [
    {
     "name": "stdin",
     "output_type": "stream",
     "text": [
      "Enter monthly income:  20000\n",
      "Enter credit score:  45000\n",
      "Are you employed? (yes/no):  no\n"
     ]
    },
    {
     "name": "stdout",
     "output_type": "stream",
     "text": [
      "Loan Denied\n"
     ]
    }
   ],
   "source": [
    "income = int(input(\"Enter monthly income: \"))   \n",
    "credit_score = int(input(\"Enter credit score: \"))   \n",
    "employed = input(\"Are you employed? (yes/no): \").lower()   \n",
    " \n",
    "if income >= 25000 and credit_score >= 700 and employed == \"yes\":   \n",
    "    print(\"Loan Approved\")   \n",
    "else:   \n",
    "    print(\"Loan Denied\")   \n",
    " \n"
   ]
  },
  {
   "cell_type": "markdown",
   "id": "7215c03b-84eb-48fc-b0ee-489e88882a76",
   "metadata": {},
   "source": [
    "# 49. Implement a rock-paper-scissors game "
   ]
  },
  {
   "cell_type": "code",
   "execution_count": 31,
   "id": "40d60814-df94-48e0-a8db-90e300b212e0",
   "metadata": {},
   "outputs": [
    {
     "ename": "IndentationError",
     "evalue": "unindent does not match any outer indentation level (<string>, line 12)",
     "output_type": "error",
     "traceback": [
      "\u001b[1;36m  File \u001b[1;32m<string>:12\u001b[1;36m\u001b[0m\n\u001b[1;33m    print(\"You win!\")\u001b[0m\n\u001b[1;37m                        ^\u001b[0m\n\u001b[1;31mIndentationError\u001b[0m\u001b[1;31m:\u001b[0m unindent does not match any outer indentation level\n"
     ]
    }
   ],
   "source": [
    "import random   \n",
    "choices = [\"rock\", \"paper\", \"scissors\"]   \n",
    "user = input(\"Enter rock, paper, or scissors: \").lower()   \n",
    "computer = random.choice(choices)   \n",
    " \n",
    "print(\"Computer chose:\", computer)   \n",
    "if user == computer:   \n",
    "    print(\"It's a tie!\")   \n",
    "elif (user == \"rock\" and computer == \"scissors\") or   \n",
    "     (user == \"scissors\" and computer == \"paper\") or   \n",
    "     (user == \"paper\" and computer == \"rock\"):   \n",
    "    print(\"You win!\")   \n",
    "else:   \n",
    "    print(\"You lose!\") "
   ]
  },
  {
   "cell_type": "markdown",
   "id": "5f004faf-8c8a-4b1e-b60f-631820037bd6",
   "metadata": {},
   "source": [
    "# 50. Find the day of the week for a given date (without built-in functions) "
   ]
  },
  {
   "cell_type": "code",
   "execution_count": null,
   "id": "ab64f38b-8465-4e8a-8cf3-65285c846758",
   "metadata": {},
   "outputs": [],
   "source": [
    "def day_of_week(d, m, y):   \n",
    "    if m < 3:   \n",
    "        m += 12   \n",
    "        y -= 1   \n",
    "    k = y % 100   \n",
    "    j = y // 100   \n",
    "    day = (d + (13 * (m + 1)) // 5 + k + (k // 4) + (j // 4) - 2 * j) % 7   \n",
    "    days = [\"Saturday\", \"Sunday\", \"Monday\", \"Tuesday\", \"Wednesday\", \"Thursday\", \"Friday\"]   \n",
    "    return days[day]   \n",
    " \n",
    "day, month, year = map(int, input(\"Enter date (DD MM YYYY): \").split()) \n",
    "print(\"Day of the Week:\", day_of_week(day, month, year))   "
   ]
  },
  {
   "cell_type": "code",
   "execution_count": null,
   "id": "530c8ec3-244d-4473-949f-acb7e7035dca",
   "metadata": {},
   "outputs": [],
   "source": []
  },
  {
   "cell_type": "code",
   "execution_count": null,
   "id": "2d1c6980-7008-4b14-a786-34ca246876b8",
   "metadata": {},
   "outputs": [],
   "source": []
  },
  {
   "cell_type": "code",
   "execution_count": null,
   "id": "2d86830e-e877-4d79-bc2c-9f42fe035435",
   "metadata": {},
   "outputs": [],
   "source": []
  },
  {
   "cell_type": "code",
   "execution_count": null,
   "id": "2549cfd9-75f1-43c7-9d13-c83f0781d9f8",
   "metadata": {},
   "outputs": [],
   "source": []
  },
  {
   "cell_type": "code",
   "execution_count": null,
   "id": "5d88c1d0-4eac-4c60-964d-f1f832d50195",
   "metadata": {},
   "outputs": [],
   "source": []
  },
  {
   "cell_type": "code",
   "execution_count": null,
   "id": "ee5ef00b-a569-4b79-9517-e4d322d2b24a",
   "metadata": {},
   "outputs": [],
   "source": []
  }
 ],
 "metadata": {
  "kernelspec": {
   "display_name": "Python 3 (ipykernel)",
   "language": "python",
   "name": "python3"
  },
  "language_info": {
   "codemirror_mode": {
    "name": "ipython",
    "version": 3
   },
   "file_extension": ".py",
   "mimetype": "text/x-python",
   "name": "python",
   "nbconvert_exporter": "python",
   "pygments_lexer": "ipython3",
   "version": "3.12.7"
  }
 },
 "nbformat": 4,
 "nbformat_minor": 5
}

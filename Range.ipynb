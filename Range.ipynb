{
 "cells": [
  {
   "cell_type": "markdown",
   "id": "bdd9e829-d153-4322-b8e1-6fa306dc91d7",
   "metadata": {},
   "source": [
    "# Range "
   ]
  },
  {
   "cell_type": "code",
   "execution_count": 1,
   "id": "245a1646-7ba8-4916-b928-1b5fa3709cf9",
   "metadata": {},
   "outputs": [
    {
     "data": {
      "text/plain": [
       "range(0, 5)"
      ]
     },
     "execution_count": 1,
     "metadata": {},
     "output_type": "execute_result"
    }
   ],
   "source": [
    "range(5)                           # range starts from 0-the num indicated"
   ]
  },
  {
   "cell_type": "code",
   "execution_count": 2,
   "id": "5c1ea79c-9aee-4911-98ac-4d14b332eacc",
   "metadata": {},
   "outputs": [
    {
     "data": {
      "text/plain": [
       "[0, 1, 2, 3, 4]"
      ]
     },
     "execution_count": 2,
     "metadata": {},
     "output_type": "execute_result"
    }
   ],
   "source": [
    "list(range(0,5))                  # list() gives the total range list "
   ]
  },
  {
   "cell_type": "code",
   "execution_count": 3,
   "id": "4b123c27-4ccb-4b58-99ef-f043bc9a7366",
   "metadata": {},
   "outputs": [
    {
     "data": {
      "text/plain": [
       "range(30, 40)"
      ]
     },
     "execution_count": 3,
     "metadata": {},
     "output_type": "execute_result"
    }
   ],
   "source": [
    "range(30,40)"
   ]
  },
  {
   "cell_type": "code",
   "execution_count": 4,
   "id": "f8aa99d9-9841-4583-aef7-2c7783b994d6",
   "metadata": {},
   "outputs": [
    {
     "data": {
      "text/plain": [
       "[30, 31, 32, 33, 34, 35, 36, 37, 38, 39]"
      ]
     },
     "execution_count": 4,
     "metadata": {},
     "output_type": "execute_result"
    }
   ],
   "source": [
    "list(range(30,40))"
   ]
  },
  {
   "cell_type": "code",
   "execution_count": 5,
   "id": "0889633f-f206-4063-86da-37d74e426110",
   "metadata": {},
   "outputs": [
    {
     "data": {
      "text/plain": [
       "range(10, 20, 3)"
      ]
     },
     "execution_count": 5,
     "metadata": {},
     "output_type": "execute_result"
    }
   ],
   "source": [
    "range(10,20,3)"
   ]
  },
  {
   "cell_type": "code",
   "execution_count": 6,
   "id": "6e2dea14-f109-4c62-94d8-4d97c1b28217",
   "metadata": {},
   "outputs": [
    {
     "data": {
      "text/plain": [
       "[10, 13, 16, 19]"
      ]
     },
     "execution_count": 6,
     "metadata": {},
     "output_type": "execute_result"
    }
   ],
   "source": [
    "list(range(10,20,3))   # 3 in the list indicates the gap of displaying the list "
   ]
  },
  {
   "cell_type": "code",
   "execution_count": 7,
   "id": "7df1a08a-f498-4d33-b4ba-0a6a8f5640f0",
   "metadata": {},
   "outputs": [
    {
     "data": {
      "text/plain": [
       "[10, 15]"
      ]
     },
     "execution_count": 7,
     "metadata": {},
     "output_type": "execute_result"
    }
   ],
   "source": [
    "list(range(10,20,5))"
   ]
  },
  {
   "cell_type": "code",
   "execution_count": 8,
   "id": "a7526b72-16d3-4144-b085-7d9d2ce543fb",
   "metadata": {},
   "outputs": [
    {
     "ename": "TypeError",
     "evalue": "range expected at most 3 arguments, got 4",
     "output_type": "error",
     "traceback": [
      "\u001b[1;31m---------------------------------------------------------------------------\u001b[0m",
      "\u001b[1;31mTypeError\u001b[0m                                 Traceback (most recent call last)",
      "Cell \u001b[1;32mIn[8], line 1\u001b[0m\n\u001b[1;32m----> 1\u001b[0m \u001b[38;5;28mrange\u001b[39m(\u001b[38;5;241m0\u001b[39m,\u001b[38;5;241m30\u001b[39m,\u001b[38;5;241m40\u001b[39m,\u001b[38;5;241m5\u001b[39m)\n",
      "\u001b[1;31mTypeError\u001b[0m: range expected at most 3 arguments, got 4"
     ]
    }
   ],
   "source": [
    "range(0,30,40,5)            # in range 4 agruments are allowed to passed"
   ]
  },
  {
   "cell_type": "code",
   "execution_count": 9,
   "id": "c8438793-c8c5-42cb-ab6f-b3323c2fcfb3",
   "metadata": {},
   "outputs": [
    {
     "data": {
      "text/plain": [
       "range(0, 20, 5)"
      ]
     },
     "execution_count": 9,
     "metadata": {},
     "output_type": "execute_result"
    }
   ],
   "source": [
    "r = range(0,20,5)\n",
    "r"
   ]
  },
  {
   "cell_type": "code",
   "execution_count": 10,
   "id": "636ece88-7cbc-4d9d-b83a-7d1885550594",
   "metadata": {},
   "outputs": [
    {
     "name": "stdout",
     "output_type": "stream",
     "text": [
      "0\n",
      "5\n",
      "10\n",
      "15\n"
     ]
    }
   ],
   "source": [
    "for i in r:                         # printing the elements using loop ()\n",
    "    print(i)"
   ]
  },
  {
   "cell_type": "code",
   "execution_count": 11,
   "id": "48965e36-f125-4d79-91b9-678e6d93c1fa",
   "metadata": {},
   "outputs": [
    {
     "data": {
      "text/plain": [
       "[0, 5, 10, 15]"
      ]
     },
     "execution_count": 11,
     "metadata": {},
     "output_type": "execute_result"
    }
   ],
   "source": [
    "list(r)                          # printing the list from range "
   ]
  },
  {
   "cell_type": "markdown",
   "id": "7e4834a8-5655-4b34-b5e5-91858daf6546",
   "metadata": {},
   "source": [
    "# slicing "
   ]
  },
  {
   "cell_type": "code",
   "execution_count": 14,
   "id": "8fe64d1c-b9c3-4e4d-aec2-81020f86d60f",
   "metadata": {},
   "outputs": [],
   "source": [
    "l = ['a','b','c',1,2.3,50,True,1+3j]         # all datatypes "
   ]
  },
  {
   "cell_type": "code",
   "execution_count": 13,
   "id": "38c9a15b-0b90-485d-9603-05c7b476c91a",
   "metadata": {},
   "outputs": [
    {
     "data": {
      "text/plain": [
       "['a', 'b', 'c', 1, 2.3, 50, True, (1+3j)]"
      ]
     },
     "execution_count": 13,
     "metadata": {},
     "output_type": "execute_result"
    }
   ],
   "source": [
    "l"
   ]
  },
  {
   "cell_type": "code",
   "execution_count": 15,
   "id": "a5e973d0-46be-45a1-960d-2d13c0600f7e",
   "metadata": {},
   "outputs": [
    {
     "data": {
      "text/plain": [
       "['a', 'b', 'c', 1, 2.3, 50, True, (1+3j)]"
      ]
     },
     "execution_count": 15,
     "metadata": {},
     "output_type": "execute_result"
    }
   ],
   "source": [
    "l[:]"
   ]
  },
  {
   "cell_type": "code",
   "execution_count": 16,
   "id": "671bc57f-22d9-432b-a0f5-f1e3078a0a20",
   "metadata": {},
   "outputs": [
    {
     "data": {
      "text/plain": [
       "[1, 2.3, 50, True, (1+3j)]"
      ]
     },
     "execution_count": 16,
     "metadata": {},
     "output_type": "execute_result"
    }
   ],
   "source": [
    "l[3:]"
   ]
  },
  {
   "cell_type": "code",
   "execution_count": 17,
   "id": "868932d2-0ff7-4aa6-9016-1177d19dfbf7",
   "metadata": {},
   "outputs": [
    {
     "data": {
      "text/plain": [
       "['a', 'b', 'c', 1, 2.3, 50, True, (1+3j)]"
      ]
     },
     "execution_count": 17,
     "metadata": {},
     "output_type": "execute_result"
    }
   ],
   "source": [
    "l"
   ]
  },
  {
   "cell_type": "code",
   "execution_count": 18,
   "id": "e9929b91-3a49-449c-bdb5-150fc194e30e",
   "metadata": {},
   "outputs": [
    {
     "data": {
      "text/plain": [
       "[1, 2.3, 50, True, (1+3j)]"
      ]
     },
     "execution_count": 18,
     "metadata": {},
     "output_type": "execute_result"
    }
   ],
   "source": [
    "l[-5:]"
   ]
  },
  {
   "cell_type": "code",
   "execution_count": 19,
   "id": "df40759e-c61d-4505-a4d7-0e093acd48d0",
   "metadata": {},
   "outputs": [
    {
     "data": {
      "text/plain": [
       "['a', 'b', 'c', 1, 2.3, 50, True, (1+3j)]"
      ]
     },
     "execution_count": 19,
     "metadata": {},
     "output_type": "execute_result"
    }
   ],
   "source": [
    "l"
   ]
  },
  {
   "cell_type": "code",
   "execution_count": 20,
   "id": "04d978d6-8ba5-4471-aabd-410532403ed1",
   "metadata": {},
   "outputs": [
    {
     "data": {
      "text/plain": [
       "True"
      ]
     },
     "execution_count": 20,
     "metadata": {},
     "output_type": "execute_result"
    }
   ],
   "source": [
    "l[6]"
   ]
  },
  {
   "cell_type": "code",
   "execution_count": 21,
   "id": "15e65ef1-3bea-4f20-be16-71eeb82afa83",
   "metadata": {},
   "outputs": [
    {
     "data": {
      "text/plain": [
       "1"
      ]
     },
     "execution_count": 21,
     "metadata": {},
     "output_type": "execute_result"
    }
   ],
   "source": [
    "l[-5]"
   ]
  },
  {
   "cell_type": "code",
   "execution_count": 22,
   "id": "3dfab0e9-bd0b-44c3-870e-bd50909bf505",
   "metadata": {},
   "outputs": [
    {
     "data": {
      "text/plain": [
       "['a', 'b', 'c', 1, 2.3, 50, True, (1+3j)]"
      ]
     },
     "execution_count": 22,
     "metadata": {},
     "output_type": "execute_result"
    }
   ],
   "source": [
    "l"
   ]
  },
  {
   "cell_type": "code",
   "execution_count": 23,
   "id": "2102d7e1-d5cb-49b7-982d-59c92b7718c7",
   "metadata": {},
   "outputs": [
    {
     "data": {
      "text/plain": [
       "['c', 1, 2.3, 50, True]"
      ]
     },
     "execution_count": 23,
     "metadata": {},
     "output_type": "execute_result"
    }
   ],
   "source": [
    "l[2:7]"
   ]
  },
  {
   "cell_type": "code",
   "execution_count": 24,
   "id": "4728b6e7-4904-4792-9e40-f615128fb1ba",
   "metadata": {},
   "outputs": [
    {
     "data": {
      "text/plain": [
       "['a', 'b', 'c', 1, 2.3, 50, True, (1+3j)]"
      ]
     },
     "execution_count": 24,
     "metadata": {},
     "output_type": "execute_result"
    }
   ],
   "source": [
    "l"
   ]
  },
  {
   "cell_type": "code",
   "execution_count": 25,
   "id": "5035b896-d3fc-454d-abe2-6ce5076165e2",
   "metadata": {},
   "outputs": [
    {
     "data": {
      "text/plain": [
       "['c']"
      ]
     },
     "execution_count": 25,
     "metadata": {},
     "output_type": "execute_result"
    }
   ],
   "source": [
    "l[2:4:7]"
   ]
  },
  {
   "cell_type": "code",
   "execution_count": 26,
   "id": "68c91a20-4743-4b47-8745-dff49d4bfbc9",
   "metadata": {},
   "outputs": [
    {
     "data": {
      "text/plain": [
       "['a', 'b', 'c', 1, 2.3, 50, True, (1+3j)]"
      ]
     },
     "execution_count": 26,
     "metadata": {},
     "output_type": "execute_result"
    }
   ],
   "source": [
    "l"
   ]
  },
  {
   "cell_type": "code",
   "execution_count": 27,
   "id": "bd7f4cff-c2ef-476d-9e1c-a2317ba00bbb",
   "metadata": {},
   "outputs": [
    {
     "data": {
      "text/plain": [
       "['a']"
      ]
     },
     "execution_count": 27,
     "metadata": {},
     "output_type": "execute_result"
    }
   ],
   "source": [
    "l[0:4:6]"
   ]
  },
  {
   "cell_type": "code",
   "execution_count": 28,
   "id": "5b3e6895-6f48-4970-94fd-97e91b62bc38",
   "metadata": {},
   "outputs": [
    {
     "data": {
      "text/plain": [
       "['a', 'b', 'c', 1, 2.3, 50, True, (1+3j)]"
      ]
     },
     "execution_count": 28,
     "metadata": {},
     "output_type": "execute_result"
    }
   ],
   "source": [
    "l"
   ]
  },
  {
   "cell_type": "code",
   "execution_count": 29,
   "id": "42e94f01-364a-4833-b386-70359f9ebab2",
   "metadata": {},
   "outputs": [
    {
     "data": {
      "text/plain": [
       "[1, 2.3, 50]"
      ]
     },
     "execution_count": 29,
     "metadata": {},
     "output_type": "execute_result"
    }
   ],
   "source": [
    "l[-5:6]"
   ]
  },
  {
   "cell_type": "code",
   "execution_count": 30,
   "id": "e7de8b59-4055-40e9-9287-29deed4e7dec",
   "metadata": {},
   "outputs": [
    {
     "data": {
      "text/plain": [
       "['a', 'b', 'c', 1, 2.3, 50, True, (1+3j)]"
      ]
     },
     "execution_count": 30,
     "metadata": {},
     "output_type": "execute_result"
    }
   ],
   "source": [
    "l"
   ]
  },
  {
   "cell_type": "code",
   "execution_count": 31,
   "id": "89bfb4fc-2085-41ea-8102-3d606fa8bd59",
   "metadata": {},
   "outputs": [
    {
     "data": {
      "text/plain": [
       "[1, 2.3]"
      ]
     },
     "execution_count": 31,
     "metadata": {},
     "output_type": "execute_result"
    }
   ],
   "source": [
    "l[-5:-3]"
   ]
  },
  {
   "cell_type": "code",
   "execution_count": 32,
   "id": "1234ca24-db6e-499b-9280-1289e3bbd8cf",
   "metadata": {},
   "outputs": [
    {
     "data": {
      "text/plain": [
       "['a', 'b', 'c', 1, 2.3, 50, True, (1+3j)]"
      ]
     },
     "execution_count": 32,
     "metadata": {},
     "output_type": "execute_result"
    }
   ],
   "source": [
    "l"
   ]
  },
  {
   "cell_type": "code",
   "execution_count": 33,
   "id": "0d5e0ba4-df8d-4e63-a035-c53866a8f810",
   "metadata": {},
   "outputs": [
    {
     "data": {
      "text/plain": [
       "['maharashtra', 'karnataka', 'Mumbai', 'delhi', 'hyderabad', 'kolkata', 'pune']"
      ]
     },
     "execution_count": 33,
     "metadata": {},
     "output_type": "execute_result"
    }
   ],
   "source": [
    "s = ['maharashtra','karnataka','Mumbai','delhi','hyderabad','kolkata','pune']\n",
    "s"
   ]
  },
  {
   "cell_type": "code",
   "execution_count": 34,
   "id": "1a4ad1ca-037b-4ea0-8095-fa272e161bb5",
   "metadata": {},
   "outputs": [
    {
     "data": {
      "text/plain": [
       "7"
      ]
     },
     "execution_count": 34,
     "metadata": {},
     "output_type": "execute_result"
    }
   ],
   "source": [
    "len(s)"
   ]
  },
  {
   "cell_type": "code",
   "execution_count": 35,
   "id": "baff0f47-f826-4fd5-84c3-90d9258ce958",
   "metadata": {},
   "outputs": [
    {
     "data": {
      "text/plain": [
       "['maharashtra', 'karnataka', 'Mumbai', 'delhi', 'hyderabad', 'kolkata', 'pune']"
      ]
     },
     "execution_count": 35,
     "metadata": {},
     "output_type": "execute_result"
    }
   ],
   "source": [
    "s"
   ]
  },
  {
   "cell_type": "code",
   "execution_count": 36,
   "id": "39d795f2-c432-4150-a97a-3443f37f5dde",
   "metadata": {},
   "outputs": [
    {
     "data": {
      "text/plain": [
       "['maharashtra', 'karnataka', 'Mumbai', 'delhi', 'hyderabad', 'kolkata']"
      ]
     },
     "execution_count": 36,
     "metadata": {},
     "output_type": "execute_result"
    }
   ],
   "source": [
    "s[-7:-1]"
   ]
  },
  {
   "cell_type": "code",
   "execution_count": 37,
   "id": "7a062cd7-9c19-4222-97aa-a6e8b505b983",
   "metadata": {},
   "outputs": [
    {
     "data": {
      "text/plain": [
       "['maharashtra', 'karnataka', 'Mumbai', 'delhi', 'hyderabad', 'kolkata', 'pune']"
      ]
     },
     "execution_count": 37,
     "metadata": {},
     "output_type": "execute_result"
    }
   ],
   "source": [
    "s"
   ]
  },
  {
   "cell_type": "code",
   "execution_count": 38,
   "id": "02f1abd2-87e2-4df8-96de-3214f1b61027",
   "metadata": {},
   "outputs": [
    {
     "data": {
      "text/plain": [
       "['pune', 'kolkata', 'hyderabad', 'delhi', 'Mumbai', 'karnataka', 'maharashtra']"
      ]
     },
     "execution_count": 38,
     "metadata": {},
     "output_type": "execute_result"
    }
   ],
   "source": [
    "s[::-1]                     # print in reverse order "
   ]
  },
  {
   "cell_type": "code",
   "execution_count": 39,
   "id": "1e5114fe-774c-4952-bf15-867a01158517",
   "metadata": {},
   "outputs": [
    {
     "data": {
      "text/plain": [
       "['maharashtra', 'karnataka', 'Mumbai', 'delhi', 'hyderabad', 'kolkata', 'pune']"
      ]
     },
     "execution_count": 39,
     "metadata": {},
     "output_type": "execute_result"
    }
   ],
   "source": [
    "s"
   ]
  },
  {
   "cell_type": "code",
   "execution_count": 40,
   "id": "21ec1c10-5e9d-4521-a195-1b5258f8b8e4",
   "metadata": {},
   "outputs": [
    {
     "data": {
      "text/plain": [
       "['pune', 'hyderabad', 'Mumbai', 'maharashtra']"
      ]
     },
     "execution_count": 40,
     "metadata": {},
     "output_type": "execute_result"
    }
   ],
   "source": [
    "s[::-2]                      # print in reverse order by leaving a gap of 2 "
   ]
  },
  {
   "cell_type": "code",
   "execution_count": 41,
   "id": "684dc1a2-3d5a-4464-889e-be6a07740115",
   "metadata": {},
   "outputs": [
    {
     "data": {
      "text/plain": [
       "['maharashtra', 'karnataka', 'Mumbai', 'delhi', 'hyderabad', 'kolkata', 'pune']"
      ]
     },
     "execution_count": 41,
     "metadata": {},
     "output_type": "execute_result"
    }
   ],
   "source": [
    "s                # print the all elements "
   ]
  },
  {
   "cell_type": "code",
   "execution_count": 42,
   "id": "cbc143f8-dbae-4ad6-be71-d8bc9b1a7efb",
   "metadata": {},
   "outputs": [
    {
     "data": {
      "text/plain": [
       "['pune', 'karnataka']"
      ]
     },
     "execution_count": 42,
     "metadata": {},
     "output_type": "execute_result"
    }
   ],
   "source": [
    "s[::-5]                # print the elements by leaving 5 gap "
   ]
  },
  {
   "cell_type": "code",
   "execution_count": 43,
   "id": "d03fc581-7e35-4e6f-9c4e-be838cb054f3",
   "metadata": {},
   "outputs": [
    {
     "data": {
      "text/plain": [
       "['pune', 'delhi', 'maharashtra']"
      ]
     },
     "execution_count": 43,
     "metadata": {},
     "output_type": "execute_result"
    }
   ],
   "source": [
    "s[::-3]"
   ]
  },
  {
   "cell_type": "code",
   "execution_count": 44,
   "id": "e586538f-c272-40e5-957a-489cc0d85f1b",
   "metadata": {},
   "outputs": [
    {
     "data": {
      "text/plain": [
       "(['pune', 'hyderabad', 'Mumbai', 'maharashtra'], ['pune', 'Mumbai'])"
      ]
     },
     "execution_count": 44,
     "metadata": {},
     "output_type": "execute_result"
    }
   ],
   "source": [
    "s[::-2] , s[::-4]                        # we can pass the two agruments "
   ]
  },
  {
   "cell_type": "code",
   "execution_count": 45,
   "id": "d99a4975-7da2-4b0f-b3a7-505422ffbd75",
   "metadata": {},
   "outputs": [
    {
     "data": {
      "text/plain": [
       "(['pune', 'hyderabad', 'Mumbai', 'maharashtra'],\n",
       " ['pune', 'Mumbai'],\n",
       " ['pune', 'karnataka'])"
      ]
     },
     "execution_count": 45,
     "metadata": {},
     "output_type": "execute_result"
    }
   ],
   "source": [
    "s[::-2] , s[::-4],s[::-5]                # three agruments also allowed "
   ]
  },
  {
   "cell_type": "code",
   "execution_count": 46,
   "id": "151118cf-32b6-4162-90b6-925f0e84bb9a",
   "metadata": {},
   "outputs": [
    {
     "data": {
      "text/plain": [
       "(['pune', 'hyderabad', 'Mumbai', 'maharashtra'],\n",
       " ['pune', 'Mumbai'],\n",
       " ['pune', 'karnataka'],\n",
       " ['maharashtra',\n",
       "  'karnataka',\n",
       "  'Mumbai',\n",
       "  'delhi',\n",
       "  'hyderabad',\n",
       "  'kolkata',\n",
       "  'pune'])"
      ]
     },
     "execution_count": 46,
     "metadata": {},
     "output_type": "execute_result"
    }
   ],
   "source": [
    "s[::-2] , s[::-4],s[::-5],s[::1]"
   ]
  },
  {
   "cell_type": "code",
   "execution_count": 48,
   "id": "d8b147f6-ccf6-42c4-9bc6-cfad86ccdd58",
   "metadata": {},
   "outputs": [
    {
     "data": {
      "text/plain": [
       "(['pune', 'hyderabad', 'Mumbai', 'maharashtra'],\n",
       " ['pune', 'Mumbai'],\n",
       " ['pune', 'karnataka'],\n",
       " ['maharashtra',\n",
       "  'karnataka',\n",
       "  'Mumbai',\n",
       "  'delhi',\n",
       "  'hyderabad',\n",
       "  'kolkata',\n",
       "  'pune'],\n",
       " ['maharashtra',\n",
       "  'karnataka',\n",
       "  'Mumbai',\n",
       "  'delhi',\n",
       "  'hyderabad',\n",
       "  'kolkata',\n",
       "  'pune'],\n",
       " ['maharashtra', 'karnataka'])"
      ]
     },
     "execution_count": 48,
     "metadata": {},
     "output_type": "execute_result"
    }
   ],
   "source": [
    "s[::-2] , s[::-4],s[::-5],s[::1],s[:] ,s[:2]"
   ]
  },
  {
   "cell_type": "code",
   "execution_count": 49,
   "id": "6213f4cb-12e2-41f4-8a8b-42833ff10bf8",
   "metadata": {},
   "outputs": [
    {
     "name": "stdout",
     "output_type": "stream",
     "text": [
      "10\n",
      "20\n",
      "30\n",
      "40\n",
      "50\n",
      "60\n",
      "70\n",
      "80\n",
      "90\n"
     ]
    }
   ],
   "source": [
    "for i in range(10,100,10):                 # start=10, end=100 , step=10 \n",
    "    print(i) "
   ]
  },
  {
   "cell_type": "code",
   "execution_count": null,
   "id": "764c386a-95ff-4da6-9e25-d3f985157509",
   "metadata": {},
   "outputs": [],
   "source": []
  },
  {
   "cell_type": "code",
   "execution_count": null,
   "id": "ef611ad4-0420-4248-87ee-fa1938630584",
   "metadata": {},
   "outputs": [],
   "source": []
  }
 ],
 "metadata": {
  "kernelspec": {
   "display_name": "Python 3 (ipykernel)",
   "language": "python",
   "name": "python3"
  },
  "language_info": {
   "codemirror_mode": {
    "name": "ipython",
    "version": 3
   },
   "file_extension": ".py",
   "mimetype": "text/x-python",
   "name": "python",
   "nbconvert_exporter": "python",
   "pygments_lexer": "ipython3",
   "version": "3.12.7"
  }
 },
 "nbformat": 4,
 "nbformat_minor": 5
}
